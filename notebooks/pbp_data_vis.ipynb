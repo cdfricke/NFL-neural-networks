{
 "cells": [
  {
   "cell_type": "code",
   "id": "initial_id",
   "metadata": {
    "collapsed": true,
    "ExecuteTime": {
     "end_time": "2024-10-30T02:35:35.114479Z",
     "start_time": "2024-10-30T02:35:35.111104Z"
    }
   },
   "source": [
    "import pandas as pd\n",
    "import numpy as np\n",
    "import plotly_express as px"
   ],
   "outputs": [],
   "execution_count": 19
  },
  {
   "metadata": {
    "ExecuteTime": {
     "end_time": "2024-10-30T02:35:35.171016Z",
     "start_time": "2024-10-30T02:35:35.167410Z"
    }
   },
   "cell_type": "code",
   "source": [
    "# Let's store some metadata\n",
    "years = [year for year in range(2009,2020)]"
   ],
   "id": "9f07daaceb3cd2cb",
   "outputs": [],
   "execution_count": 20
  },
  {
   "metadata": {},
   "cell_type": "markdown",
   "source": "## Data Importing",
   "id": "8149800246676c9a"
  },
  {
   "metadata": {
    "ExecuteTime": {
     "end_time": "2024-10-30T02:35:56.595450Z",
     "start_time": "2024-10-30T02:35:35.172021Z"
    }
   },
   "cell_type": "code",
   "source": [
    "# Collect the play-by-play data from pre/reg/post season\n",
    "preseason_pbp = {}\n",
    "regseason_pbp = {}\n",
    "pstseason_pbp = {}\n",
    "\n",
    "for year in years:\n",
    "    preseason_pbp[year] = pd.read_csv(f\"../data/pbp_data/pre_season/pre_pbp_{year}.csv\", low_memory=False)\n",
    "    regseason_pbp[year] = pd.read_csv(f\"../data/pbp_data/regular_season/reg_pbp_{year}.csv\", low_memory=False)\n",
    "    pstseason_pbp[year] = pd.read_csv(f\"../data/pbp_data/post_season/post_pbp_{year}.csv\", low_memory=False)"
   ],
   "id": "79ddc6495cd2375e",
   "outputs": [],
   "execution_count": 21
  },
  {
   "metadata": {
    "ExecuteTime": {
     "end_time": "2024-10-30T02:35:57.982111Z",
     "start_time": "2024-10-30T02:35:56.596451Z"
    }
   },
   "cell_type": "code",
   "source": [
    "all_preseason = pd.concat(preseason_pbp)\n",
    "all_regseason = pd.concat(regseason_pbp)\n",
    "all_pstseason = pd.concat(pstseason_pbp)\n",
    "all_pbp = pd.concat([all_preseason, all_regseason, all_pstseason])"
   ],
   "id": "de4bb2cacceaf863",
   "outputs": [],
   "execution_count": 22
  },
  {
   "metadata": {},
   "cell_type": "markdown",
   "source": "## Data Cleaning",
   "id": "7803bcbb7de7cb3"
  },
  {
   "metadata": {
    "ExecuteTime": {
     "end_time": "2024-10-30T02:35:58.460932Z",
     "start_time": "2024-10-30T02:35:57.983112Z"
    }
   },
   "cell_type": "code",
   "source": [
    "all_pbp.reset_index(names=['season','old_index'], inplace=True)\n",
    "all_pbp"
   ],
   "id": "aa3b1841a519b40d",
   "outputs": [
    {
     "data": {
      "text/plain": [
       "        season  old_index  play_id     game_id home_team away_team posteam  \\\n",
       "0         2009          0       37  2009080950       TEN       BUF     TEN   \n",
       "1         2009          1       59  2009080950       TEN       BUF     TEN   \n",
       "2         2009          2       83  2009080950       TEN       BUF     TEN   \n",
       "3         2009          3      104  2009080950       TEN       BUF     TEN   \n",
       "4         2009          4      128  2009080950       TEN       BUF     TEN   \n",
       "...        ...        ...      ...         ...       ...       ...     ...   \n",
       "645298    2019       2074     4036  2020020200        KC        SF      KC   \n",
       "645299    2019       2075     4053  2020020200        KC        SF      KC   \n",
       "645300    2019       2076     4074  2020020200        KC        SF      KC   \n",
       "645301    2019       2077     4091  2020020200        KC        SF      KC   \n",
       "645302    2019       2078     4113  2020020200        KC        SF     NaN   \n",
       "\n",
       "       posteam_type defteam side_of_field  ...  penalty_player_name  \\\n",
       "0              home     BUF           BUF  ...                  NaN   \n",
       "1              home     BUF           TEN  ...                  NaN   \n",
       "2              home     BUF           TEN  ...                  NaN   \n",
       "3              home     BUF           TEN  ...                  NaN   \n",
       "4              home     BUF           TEN  ...                  NaN   \n",
       "...             ...     ...           ...  ...                  ...   \n",
       "645298         home      SF            KC  ...                  NaN   \n",
       "645299         home      SF            KC  ...                  NaN   \n",
       "645300         home      SF            KC  ...                  NaN   \n",
       "645301         home      SF            KC  ...                  NaN   \n",
       "645302          NaN     NaN            KC  ...                  NaN   \n",
       "\n",
       "       penalty_yards  replay_or_challenge  replay_or_challenge_result  \\\n",
       "0                NaN                    0                         NaN   \n",
       "1                NaN                    0                         NaN   \n",
       "2                NaN                    0                         NaN   \n",
       "3                NaN                    0                         NaN   \n",
       "4                NaN                    0                         NaN   \n",
       "...              ...                  ...                         ...   \n",
       "645298           NaN                    0                         NaN   \n",
       "645299           NaN                    0                         NaN   \n",
       "645300           NaN                    0                         NaN   \n",
       "645301           NaN                    0                         NaN   \n",
       "645302           NaN                    0                         NaN   \n",
       "\n",
       "        penalty_type defensive_two_point_attempt  defensive_two_point_conv  \\\n",
       "0                NaN                         0.0                       0.0   \n",
       "1                NaN                         0.0                       0.0   \n",
       "2                NaN                         0.0                       0.0   \n",
       "3                NaN                         0.0                       0.0   \n",
       "4                NaN                         0.0                       0.0   \n",
       "...              ...                         ...                       ...   \n",
       "645298           NaN                         0.0                       0.0   \n",
       "645299           NaN                         0.0                       0.0   \n",
       "645300           NaN                         0.0                       0.0   \n",
       "645301           NaN                         0.0                       0.0   \n",
       "645302           NaN                         NaN                       NaN   \n",
       "\n",
       "        defensive_extra_point_attempt  defensive_extra_point_conv  Unnamed: 0  \n",
       "0                                 0.0                         0.0         NaN  \n",
       "1                                 0.0                         0.0         NaN  \n",
       "2                                 0.0                         0.0         NaN  \n",
       "3                                 0.0                         0.0         NaN  \n",
       "4                                 0.0                         0.0         NaN  \n",
       "...                               ...                         ...         ...  \n",
       "645298                            0.0                         0.0      2075.0  \n",
       "645299                            0.0                         0.0      2076.0  \n",
       "645300                            0.0                         0.0      2077.0  \n",
       "645301                            0.0                         0.0      2078.0  \n",
       "645302                            NaN                         NaN      2079.0  \n",
       "\n",
       "[645303 rows x 259 columns]"
      ],
      "text/html": [
       "<div>\n",
       "<style scoped>\n",
       "    .dataframe tbody tr th:only-of-type {\n",
       "        vertical-align: middle;\n",
       "    }\n",
       "\n",
       "    .dataframe tbody tr th {\n",
       "        vertical-align: top;\n",
       "    }\n",
       "\n",
       "    .dataframe thead th {\n",
       "        text-align: right;\n",
       "    }\n",
       "</style>\n",
       "<table border=\"1\" class=\"dataframe\">\n",
       "  <thead>\n",
       "    <tr style=\"text-align: right;\">\n",
       "      <th></th>\n",
       "      <th>season</th>\n",
       "      <th>old_index</th>\n",
       "      <th>play_id</th>\n",
       "      <th>game_id</th>\n",
       "      <th>home_team</th>\n",
       "      <th>away_team</th>\n",
       "      <th>posteam</th>\n",
       "      <th>posteam_type</th>\n",
       "      <th>defteam</th>\n",
       "      <th>side_of_field</th>\n",
       "      <th>...</th>\n",
       "      <th>penalty_player_name</th>\n",
       "      <th>penalty_yards</th>\n",
       "      <th>replay_or_challenge</th>\n",
       "      <th>replay_or_challenge_result</th>\n",
       "      <th>penalty_type</th>\n",
       "      <th>defensive_two_point_attempt</th>\n",
       "      <th>defensive_two_point_conv</th>\n",
       "      <th>defensive_extra_point_attempt</th>\n",
       "      <th>defensive_extra_point_conv</th>\n",
       "      <th>Unnamed: 0</th>\n",
       "    </tr>\n",
       "  </thead>\n",
       "  <tbody>\n",
       "    <tr>\n",
       "      <th>0</th>\n",
       "      <td>2009</td>\n",
       "      <td>0</td>\n",
       "      <td>37</td>\n",
       "      <td>2009080950</td>\n",
       "      <td>TEN</td>\n",
       "      <td>BUF</td>\n",
       "      <td>TEN</td>\n",
       "      <td>home</td>\n",
       "      <td>BUF</td>\n",
       "      <td>BUF</td>\n",
       "      <td>...</td>\n",
       "      <td>NaN</td>\n",
       "      <td>NaN</td>\n",
       "      <td>0</td>\n",
       "      <td>NaN</td>\n",
       "      <td>NaN</td>\n",
       "      <td>0.0</td>\n",
       "      <td>0.0</td>\n",
       "      <td>0.0</td>\n",
       "      <td>0.0</td>\n",
       "      <td>NaN</td>\n",
       "    </tr>\n",
       "    <tr>\n",
       "      <th>1</th>\n",
       "      <td>2009</td>\n",
       "      <td>1</td>\n",
       "      <td>59</td>\n",
       "      <td>2009080950</td>\n",
       "      <td>TEN</td>\n",
       "      <td>BUF</td>\n",
       "      <td>TEN</td>\n",
       "      <td>home</td>\n",
       "      <td>BUF</td>\n",
       "      <td>TEN</td>\n",
       "      <td>...</td>\n",
       "      <td>NaN</td>\n",
       "      <td>NaN</td>\n",
       "      <td>0</td>\n",
       "      <td>NaN</td>\n",
       "      <td>NaN</td>\n",
       "      <td>0.0</td>\n",
       "      <td>0.0</td>\n",
       "      <td>0.0</td>\n",
       "      <td>0.0</td>\n",
       "      <td>NaN</td>\n",
       "    </tr>\n",
       "    <tr>\n",
       "      <th>2</th>\n",
       "      <td>2009</td>\n",
       "      <td>2</td>\n",
       "      <td>83</td>\n",
       "      <td>2009080950</td>\n",
       "      <td>TEN</td>\n",
       "      <td>BUF</td>\n",
       "      <td>TEN</td>\n",
       "      <td>home</td>\n",
       "      <td>BUF</td>\n",
       "      <td>TEN</td>\n",
       "      <td>...</td>\n",
       "      <td>NaN</td>\n",
       "      <td>NaN</td>\n",
       "      <td>0</td>\n",
       "      <td>NaN</td>\n",
       "      <td>NaN</td>\n",
       "      <td>0.0</td>\n",
       "      <td>0.0</td>\n",
       "      <td>0.0</td>\n",
       "      <td>0.0</td>\n",
       "      <td>NaN</td>\n",
       "    </tr>\n",
       "    <tr>\n",
       "      <th>3</th>\n",
       "      <td>2009</td>\n",
       "      <td>3</td>\n",
       "      <td>104</td>\n",
       "      <td>2009080950</td>\n",
       "      <td>TEN</td>\n",
       "      <td>BUF</td>\n",
       "      <td>TEN</td>\n",
       "      <td>home</td>\n",
       "      <td>BUF</td>\n",
       "      <td>TEN</td>\n",
       "      <td>...</td>\n",
       "      <td>NaN</td>\n",
       "      <td>NaN</td>\n",
       "      <td>0</td>\n",
       "      <td>NaN</td>\n",
       "      <td>NaN</td>\n",
       "      <td>0.0</td>\n",
       "      <td>0.0</td>\n",
       "      <td>0.0</td>\n",
       "      <td>0.0</td>\n",
       "      <td>NaN</td>\n",
       "    </tr>\n",
       "    <tr>\n",
       "      <th>4</th>\n",
       "      <td>2009</td>\n",
       "      <td>4</td>\n",
       "      <td>128</td>\n",
       "      <td>2009080950</td>\n",
       "      <td>TEN</td>\n",
       "      <td>BUF</td>\n",
       "      <td>TEN</td>\n",
       "      <td>home</td>\n",
       "      <td>BUF</td>\n",
       "      <td>TEN</td>\n",
       "      <td>...</td>\n",
       "      <td>NaN</td>\n",
       "      <td>NaN</td>\n",
       "      <td>0</td>\n",
       "      <td>NaN</td>\n",
       "      <td>NaN</td>\n",
       "      <td>0.0</td>\n",
       "      <td>0.0</td>\n",
       "      <td>0.0</td>\n",
       "      <td>0.0</td>\n",
       "      <td>NaN</td>\n",
       "    </tr>\n",
       "    <tr>\n",
       "      <th>...</th>\n",
       "      <td>...</td>\n",
       "      <td>...</td>\n",
       "      <td>...</td>\n",
       "      <td>...</td>\n",
       "      <td>...</td>\n",
       "      <td>...</td>\n",
       "      <td>...</td>\n",
       "      <td>...</td>\n",
       "      <td>...</td>\n",
       "      <td>...</td>\n",
       "      <td>...</td>\n",
       "      <td>...</td>\n",
       "      <td>...</td>\n",
       "      <td>...</td>\n",
       "      <td>...</td>\n",
       "      <td>...</td>\n",
       "      <td>...</td>\n",
       "      <td>...</td>\n",
       "      <td>...</td>\n",
       "      <td>...</td>\n",
       "      <td>...</td>\n",
       "    </tr>\n",
       "    <tr>\n",
       "      <th>645298</th>\n",
       "      <td>2019</td>\n",
       "      <td>2074</td>\n",
       "      <td>4036</td>\n",
       "      <td>2020020200</td>\n",
       "      <td>KC</td>\n",
       "      <td>SF</td>\n",
       "      <td>KC</td>\n",
       "      <td>home</td>\n",
       "      <td>SF</td>\n",
       "      <td>KC</td>\n",
       "      <td>...</td>\n",
       "      <td>NaN</td>\n",
       "      <td>NaN</td>\n",
       "      <td>0</td>\n",
       "      <td>NaN</td>\n",
       "      <td>NaN</td>\n",
       "      <td>0.0</td>\n",
       "      <td>0.0</td>\n",
       "      <td>0.0</td>\n",
       "      <td>0.0</td>\n",
       "      <td>2075.0</td>\n",
       "    </tr>\n",
       "    <tr>\n",
       "      <th>645299</th>\n",
       "      <td>2019</td>\n",
       "      <td>2075</td>\n",
       "      <td>4053</td>\n",
       "      <td>2020020200</td>\n",
       "      <td>KC</td>\n",
       "      <td>SF</td>\n",
       "      <td>KC</td>\n",
       "      <td>home</td>\n",
       "      <td>SF</td>\n",
       "      <td>KC</td>\n",
       "      <td>...</td>\n",
       "      <td>NaN</td>\n",
       "      <td>NaN</td>\n",
       "      <td>0</td>\n",
       "      <td>NaN</td>\n",
       "      <td>NaN</td>\n",
       "      <td>0.0</td>\n",
       "      <td>0.0</td>\n",
       "      <td>0.0</td>\n",
       "      <td>0.0</td>\n",
       "      <td>2076.0</td>\n",
       "    </tr>\n",
       "    <tr>\n",
       "      <th>645300</th>\n",
       "      <td>2019</td>\n",
       "      <td>2076</td>\n",
       "      <td>4074</td>\n",
       "      <td>2020020200</td>\n",
       "      <td>KC</td>\n",
       "      <td>SF</td>\n",
       "      <td>KC</td>\n",
       "      <td>home</td>\n",
       "      <td>SF</td>\n",
       "      <td>KC</td>\n",
       "      <td>...</td>\n",
       "      <td>NaN</td>\n",
       "      <td>NaN</td>\n",
       "      <td>0</td>\n",
       "      <td>NaN</td>\n",
       "      <td>NaN</td>\n",
       "      <td>0.0</td>\n",
       "      <td>0.0</td>\n",
       "      <td>0.0</td>\n",
       "      <td>0.0</td>\n",
       "      <td>2077.0</td>\n",
       "    </tr>\n",
       "    <tr>\n",
       "      <th>645301</th>\n",
       "      <td>2019</td>\n",
       "      <td>2077</td>\n",
       "      <td>4091</td>\n",
       "      <td>2020020200</td>\n",
       "      <td>KC</td>\n",
       "      <td>SF</td>\n",
       "      <td>KC</td>\n",
       "      <td>home</td>\n",
       "      <td>SF</td>\n",
       "      <td>KC</td>\n",
       "      <td>...</td>\n",
       "      <td>NaN</td>\n",
       "      <td>NaN</td>\n",
       "      <td>0</td>\n",
       "      <td>NaN</td>\n",
       "      <td>NaN</td>\n",
       "      <td>0.0</td>\n",
       "      <td>0.0</td>\n",
       "      <td>0.0</td>\n",
       "      <td>0.0</td>\n",
       "      <td>2078.0</td>\n",
       "    </tr>\n",
       "    <tr>\n",
       "      <th>645302</th>\n",
       "      <td>2019</td>\n",
       "      <td>2078</td>\n",
       "      <td>4113</td>\n",
       "      <td>2020020200</td>\n",
       "      <td>KC</td>\n",
       "      <td>SF</td>\n",
       "      <td>NaN</td>\n",
       "      <td>NaN</td>\n",
       "      <td>NaN</td>\n",
       "      <td>KC</td>\n",
       "      <td>...</td>\n",
       "      <td>NaN</td>\n",
       "      <td>NaN</td>\n",
       "      <td>0</td>\n",
       "      <td>NaN</td>\n",
       "      <td>NaN</td>\n",
       "      <td>NaN</td>\n",
       "      <td>NaN</td>\n",
       "      <td>NaN</td>\n",
       "      <td>NaN</td>\n",
       "      <td>2079.0</td>\n",
       "    </tr>\n",
       "  </tbody>\n",
       "</table>\n",
       "<p>645303 rows × 259 columns</p>\n",
       "</div>"
      ]
     },
     "execution_count": 23,
     "metadata": {},
     "output_type": "execute_result"
    }
   ],
   "execution_count": 23
  },
  {
   "metadata": {
    "ExecuteTime": {
     "end_time": "2024-10-30T02:35:59.701293Z",
     "start_time": "2024-10-30T02:35:58.462937Z"
    }
   },
   "cell_type": "code",
   "source": [
    "# drop some columns we don't need\n",
    "all_pbp.drop(['Unnamed: 0', 'old_index'], axis=1, inplace=True)"
   ],
   "id": "6089bcff74dd7a5d",
   "outputs": [],
   "execution_count": 24
  },
  {
   "metadata": {
    "ExecuteTime": {
     "end_time": "2024-10-30T02:40:08.746660Z",
     "start_time": "2024-10-30T02:39:54.733035Z"
    }
   },
   "cell_type": "code",
   "source": [
    "# drop games with teams that have only played a few games\n",
    "print(\"# Games before dropping games with odd teams:\", len(all_pbp['game_id'].unique()) )\n",
    "odd_teams = ['APR', 'NPR', 'SAN', 'CRT', 'RIC', 'NFC']\n",
    "for team in odd_teams:\n",
    "    indexToDrop = all_pbp[ (all_pbp['home_team'] == team)].index\n",
    "    all_pbp.drop(index=indexToDrop, inplace=True)\n",
    "for team in odd_teams:\n",
    "    indexToDrop = all_pbp[ (all_pbp['away_team'] == team)].index\n",
    "    all_pbp.drop(index=indexToDrop, inplace=True)\n",
    "print(\"# Games after dropping games with odd teams:\", len(all_pbp['game_id'].unique()) )"
   ],
   "id": "3eea226ad689ca63",
   "outputs": [
    {
     "name": "stdout",
     "output_type": "stream",
     "text": [
      "# Games before dropping games with odd teams: 3653\n",
      "# Games after dropping games with odd teams: 3647\n"
     ]
    }
   ],
   "execution_count": 29
  },
  {
   "metadata": {
    "ExecuteTime": {
     "end_time": "2024-10-30T03:21:28.484476Z",
     "start_time": "2024-10-30T03:21:17.848795Z"
    }
   },
   "cell_type": "code",
   "source": [
    "# Handling Missing Data\n",
    "all_pbp.dropna(subset=['yardline_100'], inplace=True)\n",
    "\n",
    "# Removing Duplicates\n",
    "all_pbp.drop_duplicates(inplace=True)"
   ],
   "id": "d2bd3bfe9c0db306",
   "outputs": [],
   "execution_count": 63
  },
  {
   "metadata": {
    "ExecuteTime": {
     "end_time": "2024-10-30T03:21:31.229110Z",
     "start_time": "2024-10-30T03:21:31.219285Z"
    }
   },
   "cell_type": "code",
   "source": [
    "print(\"Dataframe shape:\", all_pbp.shape)\n",
    "features = all_pbp.columns.tolist()\n",
    "print(\"Features:\")\n",
    "\n",
    "for feature in features:\n",
    "    print(feature)"
   ],
   "id": "cb347debfa2d8189",
   "outputs": [
    {
     "name": "stdout",
     "output_type": "stream",
     "text": [
      "Dataframe shape: (624084, 257)\n",
      "Features:\n",
      "season\n",
      "play_id\n",
      "game_id\n",
      "home_team\n",
      "away_team\n",
      "posteam\n",
      "posteam_type\n",
      "defteam\n",
      "side_of_field\n",
      "yardline_100\n",
      "game_date\n",
      "quarter_seconds_remaining\n",
      "half_seconds_remaining\n",
      "game_seconds_remaining\n",
      "game_half\n",
      "quarter_end\n",
      "drive\n",
      "sp\n",
      "qtr\n",
      "down\n",
      "goal_to_go\n",
      "time\n",
      "yrdln\n",
      "ydstogo\n",
      "ydsnet\n",
      "desc\n",
      "play_type\n",
      "yards_gained\n",
      "shotgun\n",
      "no_huddle\n",
      "qb_dropback\n",
      "qb_kneel\n",
      "qb_spike\n",
      "qb_scramble\n",
      "pass_length\n",
      "pass_location\n",
      "air_yards\n",
      "yards_after_catch\n",
      "run_location\n",
      "run_gap\n",
      "field_goal_result\n",
      "kick_distance\n",
      "extra_point_result\n",
      "two_point_conv_result\n",
      "home_timeouts_remaining\n",
      "away_timeouts_remaining\n",
      "timeout\n",
      "timeout_team\n",
      "td_team\n",
      "posteam_timeouts_remaining\n",
      "defteam_timeouts_remaining\n",
      "total_home_score\n",
      "total_away_score\n",
      "posteam_score\n",
      "defteam_score\n",
      "score_differential\n",
      "posteam_score_post\n",
      "defteam_score_post\n",
      "score_differential_post\n",
      "no_score_prob\n",
      "opp_fg_prob\n",
      "opp_safety_prob\n",
      "opp_td_prob\n",
      "fg_prob\n",
      "safety_prob\n",
      "td_prob\n",
      "extra_point_prob\n",
      "two_point_conversion_prob\n",
      "ep\n",
      "epa\n",
      "total_home_epa\n",
      "total_away_epa\n",
      "total_home_rush_epa\n",
      "total_away_rush_epa\n",
      "total_home_pass_epa\n",
      "total_away_pass_epa\n",
      "air_epa\n",
      "yac_epa\n",
      "comp_air_epa\n",
      "comp_yac_epa\n",
      "total_home_comp_air_epa\n",
      "total_away_comp_air_epa\n",
      "total_home_comp_yac_epa\n",
      "total_away_comp_yac_epa\n",
      "total_home_raw_air_epa\n",
      "total_away_raw_air_epa\n",
      "total_home_raw_yac_epa\n",
      "total_away_raw_yac_epa\n",
      "wp\n",
      "def_wp\n",
      "home_wp\n",
      "away_wp\n",
      "wpa\n",
      "home_wp_post\n",
      "away_wp_post\n",
      "total_home_rush_wpa\n",
      "total_away_rush_wpa\n",
      "total_home_pass_wpa\n",
      "total_away_pass_wpa\n",
      "air_wpa\n",
      "yac_wpa\n",
      "comp_air_wpa\n",
      "comp_yac_wpa\n",
      "total_home_comp_air_wpa\n",
      "total_away_comp_air_wpa\n",
      "total_home_comp_yac_wpa\n",
      "total_away_comp_yac_wpa\n",
      "total_home_raw_air_wpa\n",
      "total_away_raw_air_wpa\n",
      "total_home_raw_yac_wpa\n",
      "total_away_raw_yac_wpa\n",
      "punt_blocked\n",
      "first_down_rush\n",
      "first_down_pass\n",
      "first_down_penalty\n",
      "third_down_converted\n",
      "third_down_failed\n",
      "fourth_down_converted\n",
      "fourth_down_failed\n",
      "incomplete_pass\n",
      "touchback\n",
      "interception\n",
      "punt_inside_twenty\n",
      "punt_in_endzone\n",
      "punt_out_of_bounds\n",
      "punt_downed\n",
      "punt_fair_catch\n",
      "kickoff_inside_twenty\n",
      "kickoff_in_endzone\n",
      "kickoff_out_of_bounds\n",
      "kickoff_downed\n",
      "kickoff_fair_catch\n",
      "fumble_forced\n",
      "fumble_not_forced\n",
      "fumble_out_of_bounds\n",
      "solo_tackle\n",
      "safety\n",
      "penalty\n",
      "tackled_for_loss\n",
      "fumble_lost\n",
      "own_kickoff_recovery\n",
      "own_kickoff_recovery_td\n",
      "qb_hit\n",
      "rush_attempt\n",
      "pass_attempt\n",
      "sack\n",
      "touchdown\n",
      "pass_touchdown\n",
      "rush_touchdown\n",
      "return_touchdown\n",
      "extra_point_attempt\n",
      "two_point_attempt\n",
      "field_goal_attempt\n",
      "kickoff_attempt\n",
      "punt_attempt\n",
      "fumble\n",
      "complete_pass\n",
      "assist_tackle\n",
      "lateral_reception\n",
      "lateral_rush\n",
      "lateral_return\n",
      "lateral_recovery\n",
      "passer_player_id\n",
      "passer_player_name\n",
      "receiver_player_id\n",
      "receiver_player_name\n",
      "rusher_player_id\n",
      "rusher_player_name\n",
      "lateral_receiver_player_id\n",
      "lateral_receiver_player_name\n",
      "lateral_rusher_player_id\n",
      "lateral_rusher_player_name\n",
      "lateral_sack_player_id\n",
      "lateral_sack_player_name\n",
      "interception_player_id\n",
      "interception_player_name\n",
      "lateral_interception_player_id\n",
      "lateral_interception_player_name\n",
      "punt_returner_player_id\n",
      "punt_returner_player_name\n",
      "lateral_punt_returner_player_id\n",
      "lateral_punt_returner_player_name\n",
      "kickoff_returner_player_name\n",
      "kickoff_returner_player_id\n",
      "lateral_kickoff_returner_player_id\n",
      "lateral_kickoff_returner_player_name\n",
      "punter_player_id\n",
      "punter_player_name\n",
      "kicker_player_name\n",
      "kicker_player_id\n",
      "own_kickoff_recovery_player_id\n",
      "own_kickoff_recovery_player_name\n",
      "blocked_player_id\n",
      "blocked_player_name\n",
      "tackle_for_loss_1_player_id\n",
      "tackle_for_loss_1_player_name\n",
      "tackle_for_loss_2_player_id\n",
      "tackle_for_loss_2_player_name\n",
      "qb_hit_1_player_id\n",
      "qb_hit_1_player_name\n",
      "qb_hit_2_player_id\n",
      "qb_hit_2_player_name\n",
      "forced_fumble_player_1_team\n",
      "forced_fumble_player_1_player_id\n",
      "forced_fumble_player_1_player_name\n",
      "forced_fumble_player_2_team\n",
      "forced_fumble_player_2_player_id\n",
      "forced_fumble_player_2_player_name\n",
      "solo_tackle_1_team\n",
      "solo_tackle_2_team\n",
      "solo_tackle_1_player_id\n",
      "solo_tackle_2_player_id\n",
      "solo_tackle_1_player_name\n",
      "solo_tackle_2_player_name\n",
      "assist_tackle_1_player_id\n",
      "assist_tackle_1_player_name\n",
      "assist_tackle_1_team\n",
      "assist_tackle_2_player_id\n",
      "assist_tackle_2_player_name\n",
      "assist_tackle_2_team\n",
      "assist_tackle_3_player_id\n",
      "assist_tackle_3_player_name\n",
      "assist_tackle_3_team\n",
      "assist_tackle_4_player_id\n",
      "assist_tackle_4_player_name\n",
      "assist_tackle_4_team\n",
      "pass_defense_1_player_id\n",
      "pass_defense_1_player_name\n",
      "pass_defense_2_player_id\n",
      "pass_defense_2_player_name\n",
      "fumbled_1_team\n",
      "fumbled_1_player_id\n",
      "fumbled_1_player_name\n",
      "fumbled_2_player_id\n",
      "fumbled_2_player_name\n",
      "fumbled_2_team\n",
      "fumble_recovery_1_team\n",
      "fumble_recovery_1_yards\n",
      "fumble_recovery_1_player_id\n",
      "fumble_recovery_1_player_name\n",
      "fumble_recovery_2_team\n",
      "fumble_recovery_2_yards\n",
      "fumble_recovery_2_player_id\n",
      "fumble_recovery_2_player_name\n",
      "return_team\n",
      "return_yards\n",
      "penalty_team\n",
      "penalty_player_id\n",
      "penalty_player_name\n",
      "penalty_yards\n",
      "replay_or_challenge\n",
      "replay_or_challenge_result\n",
      "penalty_type\n",
      "defensive_two_point_attempt\n",
      "defensive_two_point_conv\n",
      "defensive_extra_point_attempt\n",
      "defensive_extra_point_conv\n"
     ]
    }
   ],
   "execution_count": 64
  },
  {
   "metadata": {},
   "cell_type": "markdown",
   "source": "## Data Exploration",
   "id": "2db444728803b4c1"
  },
  {
   "metadata": {
    "ExecuteTime": {
     "end_time": "2024-10-30T03:15:20.859981Z",
     "start_time": "2024-10-30T03:15:16.360137Z"
    }
   },
   "cell_type": "code",
   "source": "all_pbp.describe()",
   "id": "158f42da01f3542c",
   "outputs": [
    {
     "data": {
      "text/plain": [
       "              season        play_id       game_id   yardline_100  \\\n",
       "count  643501.000000  643501.000000  6.435010e+05  624084.000000   \n",
       "mean     2014.016650    2142.256999  2.014169e+09      49.990025   \n",
       "std         3.156491    1240.382850  3.152193e+06      24.976083   \n",
       "min      2009.000000      35.000000  2.009081e+09       1.000000   \n",
       "25%      2011.000000    1075.000000  2.011121e+09      31.000000   \n",
       "50%      2014.000000    2127.000000  2.014103e+09      52.000000   \n",
       "75%      2017.000000    3182.000000  2.017092e+09      71.000000   \n",
       "max      2019.000000    5921.000000  2.020020e+09      99.000000   \n",
       "\n",
       "       quarter_seconds_remaining  half_seconds_remaining  \\\n",
       "count              643302.000000           643302.000000   \n",
       "mean                  413.534844              811.371940   \n",
       "std                   279.369008              555.022738   \n",
       "min                     0.000000                0.000000   \n",
       "25%                   151.000000              286.000000   \n",
       "50%                   396.000000              799.000000   \n",
       "75%                   656.000000             1289.000000   \n",
       "max                   900.000000             1800.000000   \n",
       "\n",
       "       game_seconds_remaining    quarter_end          drive             sp  \\\n",
       "count           643302.000000  643501.000000  643501.000000  643501.000000   \n",
       "mean              1706.282262       0.017888      12.223423       0.070452   \n",
       "std               1051.971632       0.132545       7.092778       0.255908   \n",
       "min                  0.000000       0.000000       1.000000       0.000000   \n",
       "25%                797.000000       0.000000       6.000000       0.000000   \n",
       "50%               1800.000000       0.000000      12.000000       0.000000   \n",
       "75%               2588.000000       0.000000      18.000000       0.000000   \n",
       "max               3600.000000       1.000000      38.000000       1.000000   \n",
       "\n",
       "       ...  lateral_sack_player_name  fumble_recovery_1_yards  \\\n",
       "count  ...                       0.0              8826.000000   \n",
       "mean   ...                       NaN                 2.212780   \n",
       "std    ...                       NaN                 8.941436   \n",
       "min    ...                       NaN               -34.000000   \n",
       "25%    ...                       NaN                 0.000000   \n",
       "50%    ...                       NaN                 0.000000   \n",
       "75%    ...                       NaN                 0.000000   \n",
       "max    ...                       NaN               106.000000   \n",
       "\n",
       "       fumble_recovery_2_yards   return_yards  penalty_yards  \\\n",
       "count                70.000000  643480.000000   48246.000000   \n",
       "mean                  4.100000       1.047902       8.516374   \n",
       "std                  12.784898       5.476557       5.324839   \n",
       "min                 -16.000000     -18.000000       0.000000   \n",
       "25%                   0.000000       0.000000       5.000000   \n",
       "50%                   0.000000       0.000000       5.000000   \n",
       "75%                   2.750000       0.000000      10.000000   \n",
       "max                  77.000000     109.000000      66.000000   \n",
       "\n",
       "       replay_or_challenge  defensive_two_point_attempt  \\\n",
       "count        643501.000000                624362.000000   \n",
       "mean              0.008207                     0.000064   \n",
       "std               0.090218                     0.008004   \n",
       "min               0.000000                     0.000000   \n",
       "25%               0.000000                     0.000000   \n",
       "50%               0.000000                     0.000000   \n",
       "75%               0.000000                     0.000000   \n",
       "max               1.000000                     1.000000   \n",
       "\n",
       "       defensive_two_point_conv  defensive_extra_point_attempt  \\\n",
       "count             624362.000000                       624362.0   \n",
       "mean                   0.000016                            0.0   \n",
       "std                    0.004002                            0.0   \n",
       "min                    0.000000                            0.0   \n",
       "25%                    0.000000                            0.0   \n",
       "50%                    0.000000                            0.0   \n",
       "75%                    0.000000                            0.0   \n",
       "max                    1.000000                            0.0   \n",
       "\n",
       "       defensive_extra_point_conv  \n",
       "count                    624362.0  \n",
       "mean                          0.0  \n",
       "std                           0.0  \n",
       "min                           0.0  \n",
       "25%                           0.0  \n",
       "50%                           0.0  \n",
       "75%                           0.0  \n",
       "max                           0.0  \n",
       "\n",
       "[8 rows x 152 columns]"
      ],
      "text/html": [
       "<div>\n",
       "<style scoped>\n",
       "    .dataframe tbody tr th:only-of-type {\n",
       "        vertical-align: middle;\n",
       "    }\n",
       "\n",
       "    .dataframe tbody tr th {\n",
       "        vertical-align: top;\n",
       "    }\n",
       "\n",
       "    .dataframe thead th {\n",
       "        text-align: right;\n",
       "    }\n",
       "</style>\n",
       "<table border=\"1\" class=\"dataframe\">\n",
       "  <thead>\n",
       "    <tr style=\"text-align: right;\">\n",
       "      <th></th>\n",
       "      <th>season</th>\n",
       "      <th>play_id</th>\n",
       "      <th>game_id</th>\n",
       "      <th>yardline_100</th>\n",
       "      <th>quarter_seconds_remaining</th>\n",
       "      <th>half_seconds_remaining</th>\n",
       "      <th>game_seconds_remaining</th>\n",
       "      <th>quarter_end</th>\n",
       "      <th>drive</th>\n",
       "      <th>sp</th>\n",
       "      <th>...</th>\n",
       "      <th>lateral_sack_player_name</th>\n",
       "      <th>fumble_recovery_1_yards</th>\n",
       "      <th>fumble_recovery_2_yards</th>\n",
       "      <th>return_yards</th>\n",
       "      <th>penalty_yards</th>\n",
       "      <th>replay_or_challenge</th>\n",
       "      <th>defensive_two_point_attempt</th>\n",
       "      <th>defensive_two_point_conv</th>\n",
       "      <th>defensive_extra_point_attempt</th>\n",
       "      <th>defensive_extra_point_conv</th>\n",
       "    </tr>\n",
       "  </thead>\n",
       "  <tbody>\n",
       "    <tr>\n",
       "      <th>count</th>\n",
       "      <td>643501.000000</td>\n",
       "      <td>643501.000000</td>\n",
       "      <td>6.435010e+05</td>\n",
       "      <td>624084.000000</td>\n",
       "      <td>643302.000000</td>\n",
       "      <td>643302.000000</td>\n",
       "      <td>643302.000000</td>\n",
       "      <td>643501.000000</td>\n",
       "      <td>643501.000000</td>\n",
       "      <td>643501.000000</td>\n",
       "      <td>...</td>\n",
       "      <td>0.0</td>\n",
       "      <td>8826.000000</td>\n",
       "      <td>70.000000</td>\n",
       "      <td>643480.000000</td>\n",
       "      <td>48246.000000</td>\n",
       "      <td>643501.000000</td>\n",
       "      <td>624362.000000</td>\n",
       "      <td>624362.000000</td>\n",
       "      <td>624362.0</td>\n",
       "      <td>624362.0</td>\n",
       "    </tr>\n",
       "    <tr>\n",
       "      <th>mean</th>\n",
       "      <td>2014.016650</td>\n",
       "      <td>2142.256999</td>\n",
       "      <td>2.014169e+09</td>\n",
       "      <td>49.990025</td>\n",
       "      <td>413.534844</td>\n",
       "      <td>811.371940</td>\n",
       "      <td>1706.282262</td>\n",
       "      <td>0.017888</td>\n",
       "      <td>12.223423</td>\n",
       "      <td>0.070452</td>\n",
       "      <td>...</td>\n",
       "      <td>NaN</td>\n",
       "      <td>2.212780</td>\n",
       "      <td>4.100000</td>\n",
       "      <td>1.047902</td>\n",
       "      <td>8.516374</td>\n",
       "      <td>0.008207</td>\n",
       "      <td>0.000064</td>\n",
       "      <td>0.000016</td>\n",
       "      <td>0.0</td>\n",
       "      <td>0.0</td>\n",
       "    </tr>\n",
       "    <tr>\n",
       "      <th>std</th>\n",
       "      <td>3.156491</td>\n",
       "      <td>1240.382850</td>\n",
       "      <td>3.152193e+06</td>\n",
       "      <td>24.976083</td>\n",
       "      <td>279.369008</td>\n",
       "      <td>555.022738</td>\n",
       "      <td>1051.971632</td>\n",
       "      <td>0.132545</td>\n",
       "      <td>7.092778</td>\n",
       "      <td>0.255908</td>\n",
       "      <td>...</td>\n",
       "      <td>NaN</td>\n",
       "      <td>8.941436</td>\n",
       "      <td>12.784898</td>\n",
       "      <td>5.476557</td>\n",
       "      <td>5.324839</td>\n",
       "      <td>0.090218</td>\n",
       "      <td>0.008004</td>\n",
       "      <td>0.004002</td>\n",
       "      <td>0.0</td>\n",
       "      <td>0.0</td>\n",
       "    </tr>\n",
       "    <tr>\n",
       "      <th>min</th>\n",
       "      <td>2009.000000</td>\n",
       "      <td>35.000000</td>\n",
       "      <td>2.009081e+09</td>\n",
       "      <td>1.000000</td>\n",
       "      <td>0.000000</td>\n",
       "      <td>0.000000</td>\n",
       "      <td>0.000000</td>\n",
       "      <td>0.000000</td>\n",
       "      <td>1.000000</td>\n",
       "      <td>0.000000</td>\n",
       "      <td>...</td>\n",
       "      <td>NaN</td>\n",
       "      <td>-34.000000</td>\n",
       "      <td>-16.000000</td>\n",
       "      <td>-18.000000</td>\n",
       "      <td>0.000000</td>\n",
       "      <td>0.000000</td>\n",
       "      <td>0.000000</td>\n",
       "      <td>0.000000</td>\n",
       "      <td>0.0</td>\n",
       "      <td>0.0</td>\n",
       "    </tr>\n",
       "    <tr>\n",
       "      <th>25%</th>\n",
       "      <td>2011.000000</td>\n",
       "      <td>1075.000000</td>\n",
       "      <td>2.011121e+09</td>\n",
       "      <td>31.000000</td>\n",
       "      <td>151.000000</td>\n",
       "      <td>286.000000</td>\n",
       "      <td>797.000000</td>\n",
       "      <td>0.000000</td>\n",
       "      <td>6.000000</td>\n",
       "      <td>0.000000</td>\n",
       "      <td>...</td>\n",
       "      <td>NaN</td>\n",
       "      <td>0.000000</td>\n",
       "      <td>0.000000</td>\n",
       "      <td>0.000000</td>\n",
       "      <td>5.000000</td>\n",
       "      <td>0.000000</td>\n",
       "      <td>0.000000</td>\n",
       "      <td>0.000000</td>\n",
       "      <td>0.0</td>\n",
       "      <td>0.0</td>\n",
       "    </tr>\n",
       "    <tr>\n",
       "      <th>50%</th>\n",
       "      <td>2014.000000</td>\n",
       "      <td>2127.000000</td>\n",
       "      <td>2.014103e+09</td>\n",
       "      <td>52.000000</td>\n",
       "      <td>396.000000</td>\n",
       "      <td>799.000000</td>\n",
       "      <td>1800.000000</td>\n",
       "      <td>0.000000</td>\n",
       "      <td>12.000000</td>\n",
       "      <td>0.000000</td>\n",
       "      <td>...</td>\n",
       "      <td>NaN</td>\n",
       "      <td>0.000000</td>\n",
       "      <td>0.000000</td>\n",
       "      <td>0.000000</td>\n",
       "      <td>5.000000</td>\n",
       "      <td>0.000000</td>\n",
       "      <td>0.000000</td>\n",
       "      <td>0.000000</td>\n",
       "      <td>0.0</td>\n",
       "      <td>0.0</td>\n",
       "    </tr>\n",
       "    <tr>\n",
       "      <th>75%</th>\n",
       "      <td>2017.000000</td>\n",
       "      <td>3182.000000</td>\n",
       "      <td>2.017092e+09</td>\n",
       "      <td>71.000000</td>\n",
       "      <td>656.000000</td>\n",
       "      <td>1289.000000</td>\n",
       "      <td>2588.000000</td>\n",
       "      <td>0.000000</td>\n",
       "      <td>18.000000</td>\n",
       "      <td>0.000000</td>\n",
       "      <td>...</td>\n",
       "      <td>NaN</td>\n",
       "      <td>0.000000</td>\n",
       "      <td>2.750000</td>\n",
       "      <td>0.000000</td>\n",
       "      <td>10.000000</td>\n",
       "      <td>0.000000</td>\n",
       "      <td>0.000000</td>\n",
       "      <td>0.000000</td>\n",
       "      <td>0.0</td>\n",
       "      <td>0.0</td>\n",
       "    </tr>\n",
       "    <tr>\n",
       "      <th>max</th>\n",
       "      <td>2019.000000</td>\n",
       "      <td>5921.000000</td>\n",
       "      <td>2.020020e+09</td>\n",
       "      <td>99.000000</td>\n",
       "      <td>900.000000</td>\n",
       "      <td>1800.000000</td>\n",
       "      <td>3600.000000</td>\n",
       "      <td>1.000000</td>\n",
       "      <td>38.000000</td>\n",
       "      <td>1.000000</td>\n",
       "      <td>...</td>\n",
       "      <td>NaN</td>\n",
       "      <td>106.000000</td>\n",
       "      <td>77.000000</td>\n",
       "      <td>109.000000</td>\n",
       "      <td>66.000000</td>\n",
       "      <td>1.000000</td>\n",
       "      <td>1.000000</td>\n",
       "      <td>1.000000</td>\n",
       "      <td>0.0</td>\n",
       "      <td>0.0</td>\n",
       "    </tr>\n",
       "  </tbody>\n",
       "</table>\n",
       "<p>8 rows × 152 columns</p>\n",
       "</div>"
      ]
     },
     "execution_count": 58,
     "metadata": {},
     "output_type": "execute_result"
    }
   ],
   "execution_count": 58
  },
  {
   "metadata": {
    "ExecuteTime": {
     "end_time": "2024-10-30T02:36:12.155323Z",
     "start_time": "2024-10-30T02:36:12.113613Z"
    }
   },
   "cell_type": "code",
   "source": [
    "print('Number of games recorded in PBP data:', len(all_pbp['game_id'].unique()))\n",
    "print('Teams in PBP data:', all_pbp['home_team'].unique())"
   ],
   "id": "572c662e6a070528",
   "outputs": [
    {
     "name": "stdout",
     "output_type": "stream",
     "text": [
      "Number of games recorded in PBP data: 3653\n",
      "Teams in PBP data: ['TEN' 'PHI' 'BAL' 'PIT' 'OAK' 'NYJ' 'IND' 'NO' 'SF' 'DET' 'BUF' 'GB' 'KC'\n",
      " 'SD' 'MIA' 'NYG' 'NE' 'STL' 'DAL' 'MIN' 'WAS' 'CLE' 'JAC' 'HOU' 'CHI'\n",
      " 'ARI' 'SEA' 'CIN' 'TB' 'CAR' 'ATL' 'DEN' 'LA' 'LAC' 'JAX' 'AFC' 'NFC']\n"
     ]
    }
   ],
   "execution_count": 27
  },
  {
   "metadata": {},
   "cell_type": "code",
   "outputs": [],
   "execution_count": null,
   "source": "",
   "id": "d32402fb3eb88625"
  },
  {
   "metadata": {},
   "cell_type": "markdown",
   "source": "## Data Visualization",
   "id": "1fcfa5ff56bc15f3"
  },
  {
   "metadata": {
    "ExecuteTime": {
     "end_time": "2024-10-30T02:43:27.570787Z",
     "start_time": "2024-10-30T02:43:27.539896Z"
    }
   },
   "cell_type": "code",
   "source": [
    "# pick one game (the very first one)\n",
    "pbp_game1 = all_pbp[all_pbp['game_id'] == 2009080950]\n",
    "pbp_game1"
   ],
   "id": "e5e851bd4d8f1b99",
   "outputs": [
    {
     "data": {
      "text/plain": [
       "     season  play_id     game_id home_team away_team posteam posteam_type  \\\n",
       "0      2009       37  2009080950       TEN       BUF     TEN         home   \n",
       "1      2009       59  2009080950       TEN       BUF     TEN         home   \n",
       "2      2009       83  2009080950       TEN       BUF     TEN         home   \n",
       "3      2009      104  2009080950       TEN       BUF     TEN         home   \n",
       "4      2009      128  2009080950       TEN       BUF     TEN         home   \n",
       "..      ...      ...         ...       ...       ...     ...          ...   \n",
       "158    2009     3845  2009080950       TEN       BUF     TEN         home   \n",
       "159    2009     3862  2009080950       TEN       BUF     TEN         home   \n",
       "160    2009     3883  2009080950       TEN       BUF     TEN         home   \n",
       "161    2009     3904  2009080950       TEN       BUF     TEN         home   \n",
       "162    2009     3925  2009080950       TEN       BUF     TEN         home   \n",
       "\n",
       "    defteam side_of_field  yardline_100  ... penalty_player_id  \\\n",
       "0       BUF           BUF          30.0  ...               NaN   \n",
       "1       BUF           TEN          74.0  ...               NaN   \n",
       "2       BUF           TEN          64.0  ...               NaN   \n",
       "3       BUF           TEN          67.0  ...               NaN   \n",
       "4       BUF           TEN          55.0  ...               NaN   \n",
       "..      ...           ...           ...  ...               ...   \n",
       "158     BUF           TEN          64.0  ...               NaN   \n",
       "159     BUF           TEN          66.0  ...               NaN   \n",
       "160     BUF           TEN          68.0  ...               NaN   \n",
       "161     BUF           TEN          68.0  ...               NaN   \n",
       "162     BUF           TEN          66.0  ...               NaN   \n",
       "\n",
       "     penalty_player_name  penalty_yards  replay_or_challenge  \\\n",
       "0                    NaN            NaN                    0   \n",
       "1                    NaN            NaN                    0   \n",
       "2                    NaN            NaN                    0   \n",
       "3                    NaN            NaN                    0   \n",
       "4                    NaN            NaN                    0   \n",
       "..                   ...            ...                  ...   \n",
       "158                  NaN            NaN                    0   \n",
       "159                  NaN            NaN                    0   \n",
       "160                  NaN            NaN                    0   \n",
       "161                  NaN            NaN                    0   \n",
       "162                  NaN            NaN                    0   \n",
       "\n",
       "    replay_or_challenge_result  penalty_type  defensive_two_point_attempt  \\\n",
       "0                          NaN           NaN                          0.0   \n",
       "1                          NaN           NaN                          0.0   \n",
       "2                          NaN           NaN                          0.0   \n",
       "3                          NaN           NaN                          0.0   \n",
       "4                          NaN           NaN                          0.0   \n",
       "..                         ...           ...                          ...   \n",
       "158                        NaN           NaN                          0.0   \n",
       "159                        NaN           NaN                          0.0   \n",
       "160                        NaN           NaN                          0.0   \n",
       "161                        NaN           NaN                          0.0   \n",
       "162                        NaN           NaN                          0.0   \n",
       "\n",
       "     defensive_two_point_conv  defensive_extra_point_attempt  \\\n",
       "0                         0.0                            0.0   \n",
       "1                         0.0                            0.0   \n",
       "2                         0.0                            0.0   \n",
       "3                         0.0                            0.0   \n",
       "4                         0.0                            0.0   \n",
       "..                        ...                            ...   \n",
       "158                       0.0                            0.0   \n",
       "159                       0.0                            0.0   \n",
       "160                       0.0                            0.0   \n",
       "161                       0.0                            0.0   \n",
       "162                       0.0                            0.0   \n",
       "\n",
       "     defensive_extra_point_conv  \n",
       "0                           0.0  \n",
       "1                           0.0  \n",
       "2                           0.0  \n",
       "3                           0.0  \n",
       "4                           0.0  \n",
       "..                          ...  \n",
       "158                         0.0  \n",
       "159                         0.0  \n",
       "160                         0.0  \n",
       "161                         0.0  \n",
       "162                         0.0  \n",
       "\n",
       "[163 rows x 257 columns]"
      ],
      "text/html": [
       "<div>\n",
       "<style scoped>\n",
       "    .dataframe tbody tr th:only-of-type {\n",
       "        vertical-align: middle;\n",
       "    }\n",
       "\n",
       "    .dataframe tbody tr th {\n",
       "        vertical-align: top;\n",
       "    }\n",
       "\n",
       "    .dataframe thead th {\n",
       "        text-align: right;\n",
       "    }\n",
       "</style>\n",
       "<table border=\"1\" class=\"dataframe\">\n",
       "  <thead>\n",
       "    <tr style=\"text-align: right;\">\n",
       "      <th></th>\n",
       "      <th>season</th>\n",
       "      <th>play_id</th>\n",
       "      <th>game_id</th>\n",
       "      <th>home_team</th>\n",
       "      <th>away_team</th>\n",
       "      <th>posteam</th>\n",
       "      <th>posteam_type</th>\n",
       "      <th>defteam</th>\n",
       "      <th>side_of_field</th>\n",
       "      <th>yardline_100</th>\n",
       "      <th>...</th>\n",
       "      <th>penalty_player_id</th>\n",
       "      <th>penalty_player_name</th>\n",
       "      <th>penalty_yards</th>\n",
       "      <th>replay_or_challenge</th>\n",
       "      <th>replay_or_challenge_result</th>\n",
       "      <th>penalty_type</th>\n",
       "      <th>defensive_two_point_attempt</th>\n",
       "      <th>defensive_two_point_conv</th>\n",
       "      <th>defensive_extra_point_attempt</th>\n",
       "      <th>defensive_extra_point_conv</th>\n",
       "    </tr>\n",
       "  </thead>\n",
       "  <tbody>\n",
       "    <tr>\n",
       "      <th>0</th>\n",
       "      <td>2009</td>\n",
       "      <td>37</td>\n",
       "      <td>2009080950</td>\n",
       "      <td>TEN</td>\n",
       "      <td>BUF</td>\n",
       "      <td>TEN</td>\n",
       "      <td>home</td>\n",
       "      <td>BUF</td>\n",
       "      <td>BUF</td>\n",
       "      <td>30.0</td>\n",
       "      <td>...</td>\n",
       "      <td>NaN</td>\n",
       "      <td>NaN</td>\n",
       "      <td>NaN</td>\n",
       "      <td>0</td>\n",
       "      <td>NaN</td>\n",
       "      <td>NaN</td>\n",
       "      <td>0.0</td>\n",
       "      <td>0.0</td>\n",
       "      <td>0.0</td>\n",
       "      <td>0.0</td>\n",
       "    </tr>\n",
       "    <tr>\n",
       "      <th>1</th>\n",
       "      <td>2009</td>\n",
       "      <td>59</td>\n",
       "      <td>2009080950</td>\n",
       "      <td>TEN</td>\n",
       "      <td>BUF</td>\n",
       "      <td>TEN</td>\n",
       "      <td>home</td>\n",
       "      <td>BUF</td>\n",
       "      <td>TEN</td>\n",
       "      <td>74.0</td>\n",
       "      <td>...</td>\n",
       "      <td>NaN</td>\n",
       "      <td>NaN</td>\n",
       "      <td>NaN</td>\n",
       "      <td>0</td>\n",
       "      <td>NaN</td>\n",
       "      <td>NaN</td>\n",
       "      <td>0.0</td>\n",
       "      <td>0.0</td>\n",
       "      <td>0.0</td>\n",
       "      <td>0.0</td>\n",
       "    </tr>\n",
       "    <tr>\n",
       "      <th>2</th>\n",
       "      <td>2009</td>\n",
       "      <td>83</td>\n",
       "      <td>2009080950</td>\n",
       "      <td>TEN</td>\n",
       "      <td>BUF</td>\n",
       "      <td>TEN</td>\n",
       "      <td>home</td>\n",
       "      <td>BUF</td>\n",
       "      <td>TEN</td>\n",
       "      <td>64.0</td>\n",
       "      <td>...</td>\n",
       "      <td>NaN</td>\n",
       "      <td>NaN</td>\n",
       "      <td>NaN</td>\n",
       "      <td>0</td>\n",
       "      <td>NaN</td>\n",
       "      <td>NaN</td>\n",
       "      <td>0.0</td>\n",
       "      <td>0.0</td>\n",
       "      <td>0.0</td>\n",
       "      <td>0.0</td>\n",
       "    </tr>\n",
       "    <tr>\n",
       "      <th>3</th>\n",
       "      <td>2009</td>\n",
       "      <td>104</td>\n",
       "      <td>2009080950</td>\n",
       "      <td>TEN</td>\n",
       "      <td>BUF</td>\n",
       "      <td>TEN</td>\n",
       "      <td>home</td>\n",
       "      <td>BUF</td>\n",
       "      <td>TEN</td>\n",
       "      <td>67.0</td>\n",
       "      <td>...</td>\n",
       "      <td>NaN</td>\n",
       "      <td>NaN</td>\n",
       "      <td>NaN</td>\n",
       "      <td>0</td>\n",
       "      <td>NaN</td>\n",
       "      <td>NaN</td>\n",
       "      <td>0.0</td>\n",
       "      <td>0.0</td>\n",
       "      <td>0.0</td>\n",
       "      <td>0.0</td>\n",
       "    </tr>\n",
       "    <tr>\n",
       "      <th>4</th>\n",
       "      <td>2009</td>\n",
       "      <td>128</td>\n",
       "      <td>2009080950</td>\n",
       "      <td>TEN</td>\n",
       "      <td>BUF</td>\n",
       "      <td>TEN</td>\n",
       "      <td>home</td>\n",
       "      <td>BUF</td>\n",
       "      <td>TEN</td>\n",
       "      <td>55.0</td>\n",
       "      <td>...</td>\n",
       "      <td>NaN</td>\n",
       "      <td>NaN</td>\n",
       "      <td>NaN</td>\n",
       "      <td>0</td>\n",
       "      <td>NaN</td>\n",
       "      <td>NaN</td>\n",
       "      <td>0.0</td>\n",
       "      <td>0.0</td>\n",
       "      <td>0.0</td>\n",
       "      <td>0.0</td>\n",
       "    </tr>\n",
       "    <tr>\n",
       "      <th>...</th>\n",
       "      <td>...</td>\n",
       "      <td>...</td>\n",
       "      <td>...</td>\n",
       "      <td>...</td>\n",
       "      <td>...</td>\n",
       "      <td>...</td>\n",
       "      <td>...</td>\n",
       "      <td>...</td>\n",
       "      <td>...</td>\n",
       "      <td>...</td>\n",
       "      <td>...</td>\n",
       "      <td>...</td>\n",
       "      <td>...</td>\n",
       "      <td>...</td>\n",
       "      <td>...</td>\n",
       "      <td>...</td>\n",
       "      <td>...</td>\n",
       "      <td>...</td>\n",
       "      <td>...</td>\n",
       "      <td>...</td>\n",
       "      <td>...</td>\n",
       "    </tr>\n",
       "    <tr>\n",
       "      <th>158</th>\n",
       "      <td>2009</td>\n",
       "      <td>3845</td>\n",
       "      <td>2009080950</td>\n",
       "      <td>TEN</td>\n",
       "      <td>BUF</td>\n",
       "      <td>TEN</td>\n",
       "      <td>home</td>\n",
       "      <td>BUF</td>\n",
       "      <td>TEN</td>\n",
       "      <td>64.0</td>\n",
       "      <td>...</td>\n",
       "      <td>NaN</td>\n",
       "      <td>NaN</td>\n",
       "      <td>NaN</td>\n",
       "      <td>0</td>\n",
       "      <td>NaN</td>\n",
       "      <td>NaN</td>\n",
       "      <td>0.0</td>\n",
       "      <td>0.0</td>\n",
       "      <td>0.0</td>\n",
       "      <td>0.0</td>\n",
       "    </tr>\n",
       "    <tr>\n",
       "      <th>159</th>\n",
       "      <td>2009</td>\n",
       "      <td>3862</td>\n",
       "      <td>2009080950</td>\n",
       "      <td>TEN</td>\n",
       "      <td>BUF</td>\n",
       "      <td>TEN</td>\n",
       "      <td>home</td>\n",
       "      <td>BUF</td>\n",
       "      <td>TEN</td>\n",
       "      <td>66.0</td>\n",
       "      <td>...</td>\n",
       "      <td>NaN</td>\n",
       "      <td>NaN</td>\n",
       "      <td>NaN</td>\n",
       "      <td>0</td>\n",
       "      <td>NaN</td>\n",
       "      <td>NaN</td>\n",
       "      <td>0.0</td>\n",
       "      <td>0.0</td>\n",
       "      <td>0.0</td>\n",
       "      <td>0.0</td>\n",
       "    </tr>\n",
       "    <tr>\n",
       "      <th>160</th>\n",
       "      <td>2009</td>\n",
       "      <td>3883</td>\n",
       "      <td>2009080950</td>\n",
       "      <td>TEN</td>\n",
       "      <td>BUF</td>\n",
       "      <td>TEN</td>\n",
       "      <td>home</td>\n",
       "      <td>BUF</td>\n",
       "      <td>TEN</td>\n",
       "      <td>68.0</td>\n",
       "      <td>...</td>\n",
       "      <td>NaN</td>\n",
       "      <td>NaN</td>\n",
       "      <td>NaN</td>\n",
       "      <td>0</td>\n",
       "      <td>NaN</td>\n",
       "      <td>NaN</td>\n",
       "      <td>0.0</td>\n",
       "      <td>0.0</td>\n",
       "      <td>0.0</td>\n",
       "      <td>0.0</td>\n",
       "    </tr>\n",
       "    <tr>\n",
       "      <th>161</th>\n",
       "      <td>2009</td>\n",
       "      <td>3904</td>\n",
       "      <td>2009080950</td>\n",
       "      <td>TEN</td>\n",
       "      <td>BUF</td>\n",
       "      <td>TEN</td>\n",
       "      <td>home</td>\n",
       "      <td>BUF</td>\n",
       "      <td>TEN</td>\n",
       "      <td>68.0</td>\n",
       "      <td>...</td>\n",
       "      <td>NaN</td>\n",
       "      <td>NaN</td>\n",
       "      <td>NaN</td>\n",
       "      <td>0</td>\n",
       "      <td>NaN</td>\n",
       "      <td>NaN</td>\n",
       "      <td>0.0</td>\n",
       "      <td>0.0</td>\n",
       "      <td>0.0</td>\n",
       "      <td>0.0</td>\n",
       "    </tr>\n",
       "    <tr>\n",
       "      <th>162</th>\n",
       "      <td>2009</td>\n",
       "      <td>3925</td>\n",
       "      <td>2009080950</td>\n",
       "      <td>TEN</td>\n",
       "      <td>BUF</td>\n",
       "      <td>TEN</td>\n",
       "      <td>home</td>\n",
       "      <td>BUF</td>\n",
       "      <td>TEN</td>\n",
       "      <td>66.0</td>\n",
       "      <td>...</td>\n",
       "      <td>NaN</td>\n",
       "      <td>NaN</td>\n",
       "      <td>NaN</td>\n",
       "      <td>0</td>\n",
       "      <td>NaN</td>\n",
       "      <td>NaN</td>\n",
       "      <td>0.0</td>\n",
       "      <td>0.0</td>\n",
       "      <td>0.0</td>\n",
       "      <td>0.0</td>\n",
       "    </tr>\n",
       "  </tbody>\n",
       "</table>\n",
       "<p>163 rows × 257 columns</p>\n",
       "</div>"
      ]
     },
     "execution_count": 30,
     "metadata": {},
     "output_type": "execute_result"
    }
   ],
   "execution_count": 30
  },
  {
   "metadata": {
    "ExecuteTime": {
     "end_time": "2024-10-30T03:19:49.064267Z",
     "start_time": "2024-10-30T03:19:49.026598Z"
    }
   },
   "cell_type": "code",
   "source": [
    "fig = px.scatter(pbp_game1, x=pbp_game1.index, y='yardline_100', color='td_prob')\n",
    "fig.show()"
   ],
   "id": "3626699f7b31402b",
   "outputs": [
    {
     "data": {
      "application/vnd.plotly.v1+json": {
       "data": [
        {
         "hovertemplate": "index=%{x}<br>yardline_100=%{y}<br>td_prob=%{marker.color}<extra></extra>",
         "legendgroup": "",
         "marker": {
          "color": [
           0.3136756165208305,
           0.3459242175472972,
           0.3959645260327987,
           0.3185627482006015,
           0.4503816567307973,
           0.4869136362201544,
           0.4267260842751376,
           0.3315876279332687,
           0.1748760442471495,
           0.0,
           0.3169328214597768,
           0.3332153771714232,
           0.3158295078801609,
           0.4259108255150265,
           0.4115622078396396,
           0.4806443314333123,
           0.4219131364290248,
           0.4073281319176017,
           0.5180486156723197,
           0.4570550565742927,
           0.3574282688099093,
           0.3080397128493091,
           0.2131841842628539,
           0.4245195266315441,
           0.3897530885408581,
           0.4673519685181574,
           0.5050996339108221,
           0.4933682982536912,
           0.527804892193419,
           0.6366806078864042,
           0.7141496131045857,
           0.0,
           0.3175264048068781,
           0.2562754961662133,
           0.2069052513863392,
           0.1962514981692016,
           0.1564206086396225,
           0.4012799374971832,
           0.3502484327678976,
           0.2960955548319963,
           0.4783574598025442,
           0.4442761766709065,
           0.5180253678490371,
           0.4641213594873209,
           0.3461661624365576,
           0.5430712488639076,
           0.4964454938236515,
           0.3884987674193122,
           0.1024062568207856,
           0.2028283437537855,
           0.1945476928374212,
           0.1679149211527516,
           0.1458237624886701,
           0.4462667204451167,
           0.4828274858472811,
           0.490215651696206,
           0.4657752941056056,
           0.5273752989342761,
           0.798432813741967,
           0.7606624895446226,
           0.632910096840657,
           0.0021198103108963,
           0.2125119811244959,
           0.1748166094422597,
           0.1416892961638283,
           0.1130989419037162,
           0.1753974468279128,
           0.1368216717705313,
           0.381389997539921,
           0.3844474914235484,
           0.3195344900879445,
           0.1405493221363904,
           0.4626352685923927,
           0.0,
           0.3470816608357162,
           0.2331517508203964,
           0.0,
           0.0908700350327218,
           0.142502424505581,
           0.2625196733133885,
           0.0,
           0.2124007225068235,
           0.0,
           0.1623863597535995,
           0.0063956373627136,
           0.3136756165208305,
           0.3353130118769111,
           0.2963528213154859,
           0.2656326812029073,
           0.2905228556378233,
           0.3426882562062583,
           0.3841537719208869,
           0.4161505706463138,
           0.2592691694273702,
           0.3801867876859484,
           0.3994145167121131,
           0.4345722995890808,
           0.4081890944448428,
           0.5028676146531927,
           0.4220766290179562,
           0.3851210569759907,
           0.3029731541078841,
           0.0,
           0.0576784367273991,
           0.319830308722522,
           0.2866137683034166,
           0.2420011326886582,
           0.2412830183651765,
           0.1908986675904819,
           0.3924678492080892,
           0.4894638694474517,
           0.4769497704087973,
           0.389966901865855,
           0.3316658968932194,
           0.2548356810295598,
           0.1883033146813222,
           0.2905001050435863,
           0.3012488511672224,
           0.2596367837324634,
           0.3661661612683027,
           0.4293871183676142,
           0.0,
           0.4239197411357403,
           0.4770839909210332,
           0.3905867904850477,
           0.3923434844214511,
           0.3066926926313958,
           0.1799972007524689,
           0.2524012888569796,
           0.2050474762412304,
           0.2909662803148146,
           0.3503379205541394,
           0.2576052656655445,
           0.2791235071580382,
           0.3224466486361839,
           0.3303083675597065,
           0.2992678530603033,
           0.4033067102831326,
           0.3700951892001244,
           0.2934824421094084,
           0.2315750956029578,
           0.2256493724755864,
           0.1425432844822073,
           0.2493083828002419,
           0.2583767141461992,
           0.221666935545612,
           0.1242883035264312,
           0.2286456685873421,
           0.2102235070454448,
           0.1554434184266692,
           0.0,
           0.1026223103766442,
           0.1512044171757593,
           0.2185991482481117,
           0.0,
           0.2591572024782085,
           0.2047493350268476,
           0.1468671318414145,
           0.0,
           0.1197016009924636,
           0.0882641171725173,
           0.0,
           0.0475960719143924
          ],
          "coloraxis": "coloraxis",
          "symbol": "circle"
         },
         "mode": "markers",
         "name": "",
         "orientation": "v",
         "showlegend": false,
         "x": [
          0,
          1,
          2,
          3,
          4,
          5,
          6,
          7,
          8,
          9,
          10,
          11,
          12,
          13,
          14,
          15,
          16,
          17,
          18,
          19,
          20,
          21,
          22,
          23,
          24,
          25,
          26,
          27,
          28,
          29,
          30,
          31,
          32,
          33,
          34,
          35,
          36,
          37,
          38,
          39,
          40,
          41,
          42,
          43,
          44,
          45,
          46,
          47,
          48,
          49,
          50,
          51,
          52,
          53,
          54,
          55,
          56,
          57,
          58,
          59,
          60,
          61,
          62,
          63,
          64,
          65,
          66,
          67,
          68,
          69,
          70,
          71,
          72,
          73,
          74,
          75,
          76,
          77,
          78,
          79,
          80,
          81,
          82,
          83,
          84,
          85,
          86,
          87,
          88,
          89,
          90,
          91,
          92,
          93,
          94,
          95,
          96,
          97,
          98,
          99,
          100,
          101,
          102,
          103,
          104,
          105,
          106,
          107,
          108,
          109,
          110,
          111,
          112,
          113,
          114,
          115,
          116,
          117,
          118,
          119,
          120,
          121,
          122,
          123,
          124,
          125,
          126,
          127,
          128,
          129,
          130,
          131,
          132,
          133,
          134,
          135,
          136,
          137,
          138,
          139,
          140,
          141,
          142,
          143,
          144,
          145,
          146,
          147,
          148,
          149,
          150,
          151,
          152,
          153,
          154,
          155,
          156,
          157,
          158,
          159,
          160,
          161,
          162
         ],
         "xaxis": "x",
         "y": [
          30.0,
          74.0,
          64.0,
          67.0,
          55.0,
          40.0,
          40.0,
          40.0,
          40.0,
          2.0,
          30.0,
          77.0,
          74.0,
          58.0,
          54.0,
          43.0,
          43.0,
          36.0,
          28.0,
          27.0,
          73.0,
          73.0,
          78.0,
          59.0,
          57.0,
          50.0,
          35.0,
          29.0,
          24.0,
          8.0,
          3.0,
          2.0,
          30.0,
          91.0,
          92.0,
          89.0,
          89.0,
          63.0,
          63.0,
          62.0,
          43.0,
          40.0,
          28.0,
          26.0,
          26.0,
          13.0,
          8.0,
          5.0,
          5.0,
          95.0,
          92.0,
          92.0,
          91.0,
          43.0,
          35.0,
          30.0,
          25.0,
          14.0,
          3.0,
          2.0,
          2.0,
          2.0,
          30.0,
          88.0,
          93.0,
          95.0,
          82.0,
          82.0,
          37.0,
          31.0,
          29.0,
          29.0,
          13.0,
          null,
          5.0,
          5.0,
          2.0,
          30.0,
          63.0,
          32.0,
          null,
          32.0,
          null,
          29.0,
          29.0,
          30.0,
          76.0,
          75.0,
          73.0,
          67.0,
          75.0,
          68.0,
          66.0,
          67.0,
          68.0,
          62.0,
          56.0,
          53.0,
          35.0,
          45.0,
          45.0,
          42.0,
          null,
          34.0,
          30.0,
          86.0,
          86.0,
          82.0,
          87.0,
          66.0,
          57.0,
          45.0,
          55.0,
          59.0,
          59.0,
          46.0,
          85.0,
          80.0,
          80.0,
          71.0,
          63.0,
          null,
          58.0,
          44.0,
          54.0,
          48.0,
          48.0,
          48.0,
          89.0,
          90.0,
          81.0,
          71.0,
          81.0,
          30.0,
          72.0,
          67.0,
          66.0,
          56.0,
          54.0,
          64.0,
          74.0,
          65.0,
          70.0,
          73.0,
          68.0,
          68.0,
          74.0,
          72.0,
          70.0,
          73.0,
          73.0,
          70.0,
          81.0,
          66.0,
          null,
          58.0,
          54.0,
          64.0,
          64.0,
          66.0,
          68.0,
          68.0,
          66.0
         ],
         "yaxis": "y",
         "type": "scatter"
        }
       ],
       "layout": {
        "template": {
         "data": {
          "histogram2dcontour": [
           {
            "type": "histogram2dcontour",
            "colorbar": {
             "outlinewidth": 0,
             "ticks": ""
            },
            "colorscale": [
             [
              0.0,
              "#0d0887"
             ],
             [
              0.1111111111111111,
              "#46039f"
             ],
             [
              0.2222222222222222,
              "#7201a8"
             ],
             [
              0.3333333333333333,
              "#9c179e"
             ],
             [
              0.4444444444444444,
              "#bd3786"
             ],
             [
              0.5555555555555556,
              "#d8576b"
             ],
             [
              0.6666666666666666,
              "#ed7953"
             ],
             [
              0.7777777777777778,
              "#fb9f3a"
             ],
             [
              0.8888888888888888,
              "#fdca26"
             ],
             [
              1.0,
              "#f0f921"
             ]
            ]
           }
          ],
          "choropleth": [
           {
            "type": "choropleth",
            "colorbar": {
             "outlinewidth": 0,
             "ticks": ""
            }
           }
          ],
          "histogram2d": [
           {
            "type": "histogram2d",
            "colorbar": {
             "outlinewidth": 0,
             "ticks": ""
            },
            "colorscale": [
             [
              0.0,
              "#0d0887"
             ],
             [
              0.1111111111111111,
              "#46039f"
             ],
             [
              0.2222222222222222,
              "#7201a8"
             ],
             [
              0.3333333333333333,
              "#9c179e"
             ],
             [
              0.4444444444444444,
              "#bd3786"
             ],
             [
              0.5555555555555556,
              "#d8576b"
             ],
             [
              0.6666666666666666,
              "#ed7953"
             ],
             [
              0.7777777777777778,
              "#fb9f3a"
             ],
             [
              0.8888888888888888,
              "#fdca26"
             ],
             [
              1.0,
              "#f0f921"
             ]
            ]
           }
          ],
          "heatmap": [
           {
            "type": "heatmap",
            "colorbar": {
             "outlinewidth": 0,
             "ticks": ""
            },
            "colorscale": [
             [
              0.0,
              "#0d0887"
             ],
             [
              0.1111111111111111,
              "#46039f"
             ],
             [
              0.2222222222222222,
              "#7201a8"
             ],
             [
              0.3333333333333333,
              "#9c179e"
             ],
             [
              0.4444444444444444,
              "#bd3786"
             ],
             [
              0.5555555555555556,
              "#d8576b"
             ],
             [
              0.6666666666666666,
              "#ed7953"
             ],
             [
              0.7777777777777778,
              "#fb9f3a"
             ],
             [
              0.8888888888888888,
              "#fdca26"
             ],
             [
              1.0,
              "#f0f921"
             ]
            ]
           }
          ],
          "heatmapgl": [
           {
            "type": "heatmapgl",
            "colorbar": {
             "outlinewidth": 0,
             "ticks": ""
            },
            "colorscale": [
             [
              0.0,
              "#0d0887"
             ],
             [
              0.1111111111111111,
              "#46039f"
             ],
             [
              0.2222222222222222,
              "#7201a8"
             ],
             [
              0.3333333333333333,
              "#9c179e"
             ],
             [
              0.4444444444444444,
              "#bd3786"
             ],
             [
              0.5555555555555556,
              "#d8576b"
             ],
             [
              0.6666666666666666,
              "#ed7953"
             ],
             [
              0.7777777777777778,
              "#fb9f3a"
             ],
             [
              0.8888888888888888,
              "#fdca26"
             ],
             [
              1.0,
              "#f0f921"
             ]
            ]
           }
          ],
          "contourcarpet": [
           {
            "type": "contourcarpet",
            "colorbar": {
             "outlinewidth": 0,
             "ticks": ""
            }
           }
          ],
          "contour": [
           {
            "type": "contour",
            "colorbar": {
             "outlinewidth": 0,
             "ticks": ""
            },
            "colorscale": [
             [
              0.0,
              "#0d0887"
             ],
             [
              0.1111111111111111,
              "#46039f"
             ],
             [
              0.2222222222222222,
              "#7201a8"
             ],
             [
              0.3333333333333333,
              "#9c179e"
             ],
             [
              0.4444444444444444,
              "#bd3786"
             ],
             [
              0.5555555555555556,
              "#d8576b"
             ],
             [
              0.6666666666666666,
              "#ed7953"
             ],
             [
              0.7777777777777778,
              "#fb9f3a"
             ],
             [
              0.8888888888888888,
              "#fdca26"
             ],
             [
              1.0,
              "#f0f921"
             ]
            ]
           }
          ],
          "surface": [
           {
            "type": "surface",
            "colorbar": {
             "outlinewidth": 0,
             "ticks": ""
            },
            "colorscale": [
             [
              0.0,
              "#0d0887"
             ],
             [
              0.1111111111111111,
              "#46039f"
             ],
             [
              0.2222222222222222,
              "#7201a8"
             ],
             [
              0.3333333333333333,
              "#9c179e"
             ],
             [
              0.4444444444444444,
              "#bd3786"
             ],
             [
              0.5555555555555556,
              "#d8576b"
             ],
             [
              0.6666666666666666,
              "#ed7953"
             ],
             [
              0.7777777777777778,
              "#fb9f3a"
             ],
             [
              0.8888888888888888,
              "#fdca26"
             ],
             [
              1.0,
              "#f0f921"
             ]
            ]
           }
          ],
          "mesh3d": [
           {
            "type": "mesh3d",
            "colorbar": {
             "outlinewidth": 0,
             "ticks": ""
            }
           }
          ],
          "scatter": [
           {
            "marker": {
             "line": {
              "color": "#283442"
             }
            },
            "type": "scatter"
           }
          ],
          "parcoords": [
           {
            "type": "parcoords",
            "line": {
             "colorbar": {
              "outlinewidth": 0,
              "ticks": ""
             }
            }
           }
          ],
          "scatterpolargl": [
           {
            "type": "scatterpolargl",
            "marker": {
             "colorbar": {
              "outlinewidth": 0,
              "ticks": ""
             }
            }
           }
          ],
          "bar": [
           {
            "error_x": {
             "color": "#f2f5fa"
            },
            "error_y": {
             "color": "#f2f5fa"
            },
            "marker": {
             "line": {
              "color": "rgb(17,17,17)",
              "width": 0.5
             },
             "pattern": {
              "fillmode": "overlay",
              "size": 10,
              "solidity": 0.2
             }
            },
            "type": "bar"
           }
          ],
          "scattergeo": [
           {
            "type": "scattergeo",
            "marker": {
             "colorbar": {
              "outlinewidth": 0,
              "ticks": ""
             }
            }
           }
          ],
          "scatterpolar": [
           {
            "type": "scatterpolar",
            "marker": {
             "colorbar": {
              "outlinewidth": 0,
              "ticks": ""
             }
            }
           }
          ],
          "histogram": [
           {
            "marker": {
             "pattern": {
              "fillmode": "overlay",
              "size": 10,
              "solidity": 0.2
             }
            },
            "type": "histogram"
           }
          ],
          "scattergl": [
           {
            "marker": {
             "line": {
              "color": "#283442"
             }
            },
            "type": "scattergl"
           }
          ],
          "scatter3d": [
           {
            "type": "scatter3d",
            "line": {
             "colorbar": {
              "outlinewidth": 0,
              "ticks": ""
             }
            },
            "marker": {
             "colorbar": {
              "outlinewidth": 0,
              "ticks": ""
             }
            }
           }
          ],
          "scattermapbox": [
           {
            "type": "scattermapbox",
            "marker": {
             "colorbar": {
              "outlinewidth": 0,
              "ticks": ""
             }
            }
           }
          ],
          "scatterternary": [
           {
            "type": "scatterternary",
            "marker": {
             "colorbar": {
              "outlinewidth": 0,
              "ticks": ""
             }
            }
           }
          ],
          "scattercarpet": [
           {
            "type": "scattercarpet",
            "marker": {
             "colorbar": {
              "outlinewidth": 0,
              "ticks": ""
             }
            }
           }
          ],
          "carpet": [
           {
            "aaxis": {
             "endlinecolor": "#A2B1C6",
             "gridcolor": "#506784",
             "linecolor": "#506784",
             "minorgridcolor": "#506784",
             "startlinecolor": "#A2B1C6"
            },
            "baxis": {
             "endlinecolor": "#A2B1C6",
             "gridcolor": "#506784",
             "linecolor": "#506784",
             "minorgridcolor": "#506784",
             "startlinecolor": "#A2B1C6"
            },
            "type": "carpet"
           }
          ],
          "table": [
           {
            "cells": {
             "fill": {
              "color": "#506784"
             },
             "line": {
              "color": "rgb(17,17,17)"
             }
            },
            "header": {
             "fill": {
              "color": "#2a3f5f"
             },
             "line": {
              "color": "rgb(17,17,17)"
             }
            },
            "type": "table"
           }
          ],
          "barpolar": [
           {
            "marker": {
             "line": {
              "color": "rgb(17,17,17)",
              "width": 0.5
             },
             "pattern": {
              "fillmode": "overlay",
              "size": 10,
              "solidity": 0.2
             }
            },
            "type": "barpolar"
           }
          ],
          "pie": [
           {
            "automargin": true,
            "type": "pie"
           }
          ]
         },
         "layout": {
          "autotypenumbers": "strict",
          "colorway": [
           "#636efa",
           "#EF553B",
           "#00cc96",
           "#ab63fa",
           "#FFA15A",
           "#19d3f3",
           "#FF6692",
           "#B6E880",
           "#FF97FF",
           "#FECB52"
          ],
          "font": {
           "color": "#f2f5fa"
          },
          "hovermode": "closest",
          "hoverlabel": {
           "align": "left"
          },
          "paper_bgcolor": "rgb(17,17,17)",
          "plot_bgcolor": "rgb(17,17,17)",
          "polar": {
           "bgcolor": "rgb(17,17,17)",
           "angularaxis": {
            "gridcolor": "#506784",
            "linecolor": "#506784",
            "ticks": ""
           },
           "radialaxis": {
            "gridcolor": "#506784",
            "linecolor": "#506784",
            "ticks": ""
           }
          },
          "ternary": {
           "bgcolor": "rgb(17,17,17)",
           "aaxis": {
            "gridcolor": "#506784",
            "linecolor": "#506784",
            "ticks": ""
           },
           "baxis": {
            "gridcolor": "#506784",
            "linecolor": "#506784",
            "ticks": ""
           },
           "caxis": {
            "gridcolor": "#506784",
            "linecolor": "#506784",
            "ticks": ""
           }
          },
          "coloraxis": {
           "colorbar": {
            "outlinewidth": 0,
            "ticks": ""
           }
          },
          "colorscale": {
           "sequential": [
            [
             0.0,
             "#0d0887"
            ],
            [
             0.1111111111111111,
             "#46039f"
            ],
            [
             0.2222222222222222,
             "#7201a8"
            ],
            [
             0.3333333333333333,
             "#9c179e"
            ],
            [
             0.4444444444444444,
             "#bd3786"
            ],
            [
             0.5555555555555556,
             "#d8576b"
            ],
            [
             0.6666666666666666,
             "#ed7953"
            ],
            [
             0.7777777777777778,
             "#fb9f3a"
            ],
            [
             0.8888888888888888,
             "#fdca26"
            ],
            [
             1.0,
             "#f0f921"
            ]
           ],
           "sequentialminus": [
            [
             0.0,
             "#0d0887"
            ],
            [
             0.1111111111111111,
             "#46039f"
            ],
            [
             0.2222222222222222,
             "#7201a8"
            ],
            [
             0.3333333333333333,
             "#9c179e"
            ],
            [
             0.4444444444444444,
             "#bd3786"
            ],
            [
             0.5555555555555556,
             "#d8576b"
            ],
            [
             0.6666666666666666,
             "#ed7953"
            ],
            [
             0.7777777777777778,
             "#fb9f3a"
            ],
            [
             0.8888888888888888,
             "#fdca26"
            ],
            [
             1.0,
             "#f0f921"
            ]
           ],
           "diverging": [
            [
             0,
             "#8e0152"
            ],
            [
             0.1,
             "#c51b7d"
            ],
            [
             0.2,
             "#de77ae"
            ],
            [
             0.3,
             "#f1b6da"
            ],
            [
             0.4,
             "#fde0ef"
            ],
            [
             0.5,
             "#f7f7f7"
            ],
            [
             0.6,
             "#e6f5d0"
            ],
            [
             0.7,
             "#b8e186"
            ],
            [
             0.8,
             "#7fbc41"
            ],
            [
             0.9,
             "#4d9221"
            ],
            [
             1,
             "#276419"
            ]
           ]
          },
          "xaxis": {
           "gridcolor": "#283442",
           "linecolor": "#506784",
           "ticks": "",
           "title": {
            "standoff": 15
           },
           "zerolinecolor": "#283442",
           "automargin": true,
           "zerolinewidth": 2
          },
          "yaxis": {
           "gridcolor": "#283442",
           "linecolor": "#506784",
           "ticks": "",
           "title": {
            "standoff": 15
           },
           "zerolinecolor": "#283442",
           "automargin": true,
           "zerolinewidth": 2
          },
          "scene": {
           "xaxis": {
            "backgroundcolor": "rgb(17,17,17)",
            "gridcolor": "#506784",
            "linecolor": "#506784",
            "showbackground": true,
            "ticks": "",
            "zerolinecolor": "#C8D4E3",
            "gridwidth": 2
           },
           "yaxis": {
            "backgroundcolor": "rgb(17,17,17)",
            "gridcolor": "#506784",
            "linecolor": "#506784",
            "showbackground": true,
            "ticks": "",
            "zerolinecolor": "#C8D4E3",
            "gridwidth": 2
           },
           "zaxis": {
            "backgroundcolor": "rgb(17,17,17)",
            "gridcolor": "#506784",
            "linecolor": "#506784",
            "showbackground": true,
            "ticks": "",
            "zerolinecolor": "#C8D4E3",
            "gridwidth": 2
           }
          },
          "shapedefaults": {
           "line": {
            "color": "#f2f5fa"
           }
          },
          "annotationdefaults": {
           "arrowcolor": "#f2f5fa",
           "arrowhead": 0,
           "arrowwidth": 1
          },
          "geo": {
           "bgcolor": "rgb(17,17,17)",
           "landcolor": "rgb(17,17,17)",
           "subunitcolor": "#506784",
           "showland": true,
           "showlakes": true,
           "lakecolor": "rgb(17,17,17)"
          },
          "title": {
           "x": 0.05
          },
          "updatemenudefaults": {
           "bgcolor": "#506784",
           "borderwidth": 0
          },
          "sliderdefaults": {
           "bgcolor": "#C8D4E3",
           "borderwidth": 1,
           "bordercolor": "rgb(17,17,17)",
           "tickwidth": 0
          },
          "mapbox": {
           "style": "dark"
          }
         }
        },
        "xaxis": {
         "anchor": "y",
         "domain": [
          0.0,
          1.0
         ],
         "title": {
          "text": "index"
         }
        },
        "yaxis": {
         "anchor": "x",
         "domain": [
          0.0,
          1.0
         ],
         "title": {
          "text": "yardline_100"
         }
        },
        "coloraxis": {
         "colorbar": {
          "title": {
           "text": "td_prob"
          }
         },
         "colorscale": [
          [
           0.0,
           "#0d0887"
          ],
          [
           0.1111111111111111,
           "#46039f"
          ],
          [
           0.2222222222222222,
           "#7201a8"
          ],
          [
           0.3333333333333333,
           "#9c179e"
          ],
          [
           0.4444444444444444,
           "#bd3786"
          ],
          [
           0.5555555555555556,
           "#d8576b"
          ],
          [
           0.6666666666666666,
           "#ed7953"
          ],
          [
           0.7777777777777778,
           "#fb9f3a"
          ],
          [
           0.8888888888888888,
           "#fdca26"
          ],
          [
           1.0,
           "#f0f921"
          ]
         ]
        },
        "legend": {
         "tracegroupgap": 0
        },
        "margin": {
         "t": 60
        }
       },
       "config": {
        "plotlyServerURL": "https://plot.ly"
       }
      },
      "text/html": [
       "<div>                            <div id=\"e25d3843-9c38-4583-aabf-93f40f40ced5\" class=\"plotly-graph-div\" style=\"height:525px; width:100%;\"></div>            <script type=\"text/javascript\">                require([\"plotly\"], function(Plotly) {                    window.PLOTLYENV=window.PLOTLYENV || {};                                    if (document.getElementById(\"e25d3843-9c38-4583-aabf-93f40f40ced5\")) {                    Plotly.newPlot(                        \"e25d3843-9c38-4583-aabf-93f40f40ced5\",                        [{\"hovertemplate\":\"index=%{x}\\u003cbr\\u003eyardline_100=%{y}\\u003cbr\\u003etd_prob=%{marker.color}\\u003cextra\\u003e\\u003c\\u002fextra\\u003e\",\"legendgroup\":\"\",\"marker\":{\"color\":[0.3136756165208305,0.3459242175472972,0.3959645260327987,0.3185627482006015,0.4503816567307973,0.4869136362201544,0.4267260842751376,0.3315876279332687,0.1748760442471495,0.0,0.3169328214597768,0.3332153771714232,0.3158295078801609,0.4259108255150265,0.4115622078396396,0.4806443314333123,0.4219131364290248,0.4073281319176017,0.5180486156723197,0.4570550565742927,0.3574282688099093,0.3080397128493091,0.2131841842628539,0.4245195266315441,0.3897530885408581,0.4673519685181574,0.5050996339108221,0.4933682982536912,0.527804892193419,0.6366806078864042,0.7141496131045857,0.0,0.3175264048068781,0.2562754961662133,0.2069052513863392,0.1962514981692016,0.1564206086396225,0.4012799374971832,0.3502484327678976,0.2960955548319963,0.4783574598025442,0.4442761766709065,0.5180253678490371,0.4641213594873209,0.3461661624365576,0.5430712488639076,0.4964454938236515,0.3884987674193122,0.1024062568207856,0.2028283437537855,0.1945476928374212,0.1679149211527516,0.1458237624886701,0.4462667204451167,0.4828274858472811,0.490215651696206,0.4657752941056056,0.5273752989342761,0.798432813741967,0.7606624895446226,0.632910096840657,0.0021198103108963,0.2125119811244959,0.1748166094422597,0.1416892961638283,0.1130989419037162,0.1753974468279128,0.1368216717705313,0.381389997539921,0.3844474914235484,0.3195344900879445,0.1405493221363904,0.4626352685923927,0.0,0.3470816608357162,0.2331517508203964,0.0,0.0908700350327218,0.142502424505581,0.2625196733133885,0.0,0.2124007225068235,0.0,0.1623863597535995,0.0063956373627136,0.3136756165208305,0.3353130118769111,0.2963528213154859,0.2656326812029073,0.2905228556378233,0.3426882562062583,0.3841537719208869,0.4161505706463138,0.2592691694273702,0.3801867876859484,0.3994145167121131,0.4345722995890808,0.4081890944448428,0.5028676146531927,0.4220766290179562,0.3851210569759907,0.3029731541078841,0.0,0.0576784367273991,0.319830308722522,0.2866137683034166,0.2420011326886582,0.2412830183651765,0.1908986675904819,0.3924678492080892,0.4894638694474517,0.4769497704087973,0.389966901865855,0.3316658968932194,0.2548356810295598,0.1883033146813222,0.2905001050435863,0.3012488511672224,0.2596367837324634,0.3661661612683027,0.4293871183676142,0.0,0.4239197411357403,0.4770839909210332,0.3905867904850477,0.3923434844214511,0.3066926926313958,0.1799972007524689,0.2524012888569796,0.2050474762412304,0.2909662803148146,0.3503379205541394,0.2576052656655445,0.2791235071580382,0.3224466486361839,0.3303083675597065,0.2992678530603033,0.4033067102831326,0.3700951892001244,0.2934824421094084,0.2315750956029578,0.2256493724755864,0.1425432844822073,0.2493083828002419,0.2583767141461992,0.221666935545612,0.1242883035264312,0.2286456685873421,0.2102235070454448,0.1554434184266692,0.0,0.1026223103766442,0.1512044171757593,0.2185991482481117,0.0,0.2591572024782085,0.2047493350268476,0.1468671318414145,0.0,0.1197016009924636,0.0882641171725173,0.0,0.0475960719143924],\"coloraxis\":\"coloraxis\",\"symbol\":\"circle\"},\"mode\":\"markers\",\"name\":\"\",\"orientation\":\"v\",\"showlegend\":false,\"x\":[0,1,2,3,4,5,6,7,8,9,10,11,12,13,14,15,16,17,18,19,20,21,22,23,24,25,26,27,28,29,30,31,32,33,34,35,36,37,38,39,40,41,42,43,44,45,46,47,48,49,50,51,52,53,54,55,56,57,58,59,60,61,62,63,64,65,66,67,68,69,70,71,72,73,74,75,76,77,78,79,80,81,82,83,84,85,86,87,88,89,90,91,92,93,94,95,96,97,98,99,100,101,102,103,104,105,106,107,108,109,110,111,112,113,114,115,116,117,118,119,120,121,122,123,124,125,126,127,128,129,130,131,132,133,134,135,136,137,138,139,140,141,142,143,144,145,146,147,148,149,150,151,152,153,154,155,156,157,158,159,160,161,162],\"xaxis\":\"x\",\"y\":[30.0,74.0,64.0,67.0,55.0,40.0,40.0,40.0,40.0,2.0,30.0,77.0,74.0,58.0,54.0,43.0,43.0,36.0,28.0,27.0,73.0,73.0,78.0,59.0,57.0,50.0,35.0,29.0,24.0,8.0,3.0,2.0,30.0,91.0,92.0,89.0,89.0,63.0,63.0,62.0,43.0,40.0,28.0,26.0,26.0,13.0,8.0,5.0,5.0,95.0,92.0,92.0,91.0,43.0,35.0,30.0,25.0,14.0,3.0,2.0,2.0,2.0,30.0,88.0,93.0,95.0,82.0,82.0,37.0,31.0,29.0,29.0,13.0,null,5.0,5.0,2.0,30.0,63.0,32.0,null,32.0,null,29.0,29.0,30.0,76.0,75.0,73.0,67.0,75.0,68.0,66.0,67.0,68.0,62.0,56.0,53.0,35.0,45.0,45.0,42.0,null,34.0,30.0,86.0,86.0,82.0,87.0,66.0,57.0,45.0,55.0,59.0,59.0,46.0,85.0,80.0,80.0,71.0,63.0,null,58.0,44.0,54.0,48.0,48.0,48.0,89.0,90.0,81.0,71.0,81.0,30.0,72.0,67.0,66.0,56.0,54.0,64.0,74.0,65.0,70.0,73.0,68.0,68.0,74.0,72.0,70.0,73.0,73.0,70.0,81.0,66.0,null,58.0,54.0,64.0,64.0,66.0,68.0,68.0,66.0],\"yaxis\":\"y\",\"type\":\"scatter\"}],                        {\"template\":{\"data\":{\"histogram2dcontour\":[{\"type\":\"histogram2dcontour\",\"colorbar\":{\"outlinewidth\":0,\"ticks\":\"\"},\"colorscale\":[[0.0,\"#0d0887\"],[0.1111111111111111,\"#46039f\"],[0.2222222222222222,\"#7201a8\"],[0.3333333333333333,\"#9c179e\"],[0.4444444444444444,\"#bd3786\"],[0.5555555555555556,\"#d8576b\"],[0.6666666666666666,\"#ed7953\"],[0.7777777777777778,\"#fb9f3a\"],[0.8888888888888888,\"#fdca26\"],[1.0,\"#f0f921\"]]}],\"choropleth\":[{\"type\":\"choropleth\",\"colorbar\":{\"outlinewidth\":0,\"ticks\":\"\"}}],\"histogram2d\":[{\"type\":\"histogram2d\",\"colorbar\":{\"outlinewidth\":0,\"ticks\":\"\"},\"colorscale\":[[0.0,\"#0d0887\"],[0.1111111111111111,\"#46039f\"],[0.2222222222222222,\"#7201a8\"],[0.3333333333333333,\"#9c179e\"],[0.4444444444444444,\"#bd3786\"],[0.5555555555555556,\"#d8576b\"],[0.6666666666666666,\"#ed7953\"],[0.7777777777777778,\"#fb9f3a\"],[0.8888888888888888,\"#fdca26\"],[1.0,\"#f0f921\"]]}],\"heatmap\":[{\"type\":\"heatmap\",\"colorbar\":{\"outlinewidth\":0,\"ticks\":\"\"},\"colorscale\":[[0.0,\"#0d0887\"],[0.1111111111111111,\"#46039f\"],[0.2222222222222222,\"#7201a8\"],[0.3333333333333333,\"#9c179e\"],[0.4444444444444444,\"#bd3786\"],[0.5555555555555556,\"#d8576b\"],[0.6666666666666666,\"#ed7953\"],[0.7777777777777778,\"#fb9f3a\"],[0.8888888888888888,\"#fdca26\"],[1.0,\"#f0f921\"]]}],\"heatmapgl\":[{\"type\":\"heatmapgl\",\"colorbar\":{\"outlinewidth\":0,\"ticks\":\"\"},\"colorscale\":[[0.0,\"#0d0887\"],[0.1111111111111111,\"#46039f\"],[0.2222222222222222,\"#7201a8\"],[0.3333333333333333,\"#9c179e\"],[0.4444444444444444,\"#bd3786\"],[0.5555555555555556,\"#d8576b\"],[0.6666666666666666,\"#ed7953\"],[0.7777777777777778,\"#fb9f3a\"],[0.8888888888888888,\"#fdca26\"],[1.0,\"#f0f921\"]]}],\"contourcarpet\":[{\"type\":\"contourcarpet\",\"colorbar\":{\"outlinewidth\":0,\"ticks\":\"\"}}],\"contour\":[{\"type\":\"contour\",\"colorbar\":{\"outlinewidth\":0,\"ticks\":\"\"},\"colorscale\":[[0.0,\"#0d0887\"],[0.1111111111111111,\"#46039f\"],[0.2222222222222222,\"#7201a8\"],[0.3333333333333333,\"#9c179e\"],[0.4444444444444444,\"#bd3786\"],[0.5555555555555556,\"#d8576b\"],[0.6666666666666666,\"#ed7953\"],[0.7777777777777778,\"#fb9f3a\"],[0.8888888888888888,\"#fdca26\"],[1.0,\"#f0f921\"]]}],\"surface\":[{\"type\":\"surface\",\"colorbar\":{\"outlinewidth\":0,\"ticks\":\"\"},\"colorscale\":[[0.0,\"#0d0887\"],[0.1111111111111111,\"#46039f\"],[0.2222222222222222,\"#7201a8\"],[0.3333333333333333,\"#9c179e\"],[0.4444444444444444,\"#bd3786\"],[0.5555555555555556,\"#d8576b\"],[0.6666666666666666,\"#ed7953\"],[0.7777777777777778,\"#fb9f3a\"],[0.8888888888888888,\"#fdca26\"],[1.0,\"#f0f921\"]]}],\"mesh3d\":[{\"type\":\"mesh3d\",\"colorbar\":{\"outlinewidth\":0,\"ticks\":\"\"}}],\"scatter\":[{\"marker\":{\"line\":{\"color\":\"#283442\"}},\"type\":\"scatter\"}],\"parcoords\":[{\"type\":\"parcoords\",\"line\":{\"colorbar\":{\"outlinewidth\":0,\"ticks\":\"\"}}}],\"scatterpolargl\":[{\"type\":\"scatterpolargl\",\"marker\":{\"colorbar\":{\"outlinewidth\":0,\"ticks\":\"\"}}}],\"bar\":[{\"error_x\":{\"color\":\"#f2f5fa\"},\"error_y\":{\"color\":\"#f2f5fa\"},\"marker\":{\"line\":{\"color\":\"rgb(17,17,17)\",\"width\":0.5},\"pattern\":{\"fillmode\":\"overlay\",\"size\":10,\"solidity\":0.2}},\"type\":\"bar\"}],\"scattergeo\":[{\"type\":\"scattergeo\",\"marker\":{\"colorbar\":{\"outlinewidth\":0,\"ticks\":\"\"}}}],\"scatterpolar\":[{\"type\":\"scatterpolar\",\"marker\":{\"colorbar\":{\"outlinewidth\":0,\"ticks\":\"\"}}}],\"histogram\":[{\"marker\":{\"pattern\":{\"fillmode\":\"overlay\",\"size\":10,\"solidity\":0.2}},\"type\":\"histogram\"}],\"scattergl\":[{\"marker\":{\"line\":{\"color\":\"#283442\"}},\"type\":\"scattergl\"}],\"scatter3d\":[{\"type\":\"scatter3d\",\"line\":{\"colorbar\":{\"outlinewidth\":0,\"ticks\":\"\"}},\"marker\":{\"colorbar\":{\"outlinewidth\":0,\"ticks\":\"\"}}}],\"scattermapbox\":[{\"type\":\"scattermapbox\",\"marker\":{\"colorbar\":{\"outlinewidth\":0,\"ticks\":\"\"}}}],\"scatterternary\":[{\"type\":\"scatterternary\",\"marker\":{\"colorbar\":{\"outlinewidth\":0,\"ticks\":\"\"}}}],\"scattercarpet\":[{\"type\":\"scattercarpet\",\"marker\":{\"colorbar\":{\"outlinewidth\":0,\"ticks\":\"\"}}}],\"carpet\":[{\"aaxis\":{\"endlinecolor\":\"#A2B1C6\",\"gridcolor\":\"#506784\",\"linecolor\":\"#506784\",\"minorgridcolor\":\"#506784\",\"startlinecolor\":\"#A2B1C6\"},\"baxis\":{\"endlinecolor\":\"#A2B1C6\",\"gridcolor\":\"#506784\",\"linecolor\":\"#506784\",\"minorgridcolor\":\"#506784\",\"startlinecolor\":\"#A2B1C6\"},\"type\":\"carpet\"}],\"table\":[{\"cells\":{\"fill\":{\"color\":\"#506784\"},\"line\":{\"color\":\"rgb(17,17,17)\"}},\"header\":{\"fill\":{\"color\":\"#2a3f5f\"},\"line\":{\"color\":\"rgb(17,17,17)\"}},\"type\":\"table\"}],\"barpolar\":[{\"marker\":{\"line\":{\"color\":\"rgb(17,17,17)\",\"width\":0.5},\"pattern\":{\"fillmode\":\"overlay\",\"size\":10,\"solidity\":0.2}},\"type\":\"barpolar\"}],\"pie\":[{\"automargin\":true,\"type\":\"pie\"}]},\"layout\":{\"autotypenumbers\":\"strict\",\"colorway\":[\"#636efa\",\"#EF553B\",\"#00cc96\",\"#ab63fa\",\"#FFA15A\",\"#19d3f3\",\"#FF6692\",\"#B6E880\",\"#FF97FF\",\"#FECB52\"],\"font\":{\"color\":\"#f2f5fa\"},\"hovermode\":\"closest\",\"hoverlabel\":{\"align\":\"left\"},\"paper_bgcolor\":\"rgb(17,17,17)\",\"plot_bgcolor\":\"rgb(17,17,17)\",\"polar\":{\"bgcolor\":\"rgb(17,17,17)\",\"angularaxis\":{\"gridcolor\":\"#506784\",\"linecolor\":\"#506784\",\"ticks\":\"\"},\"radialaxis\":{\"gridcolor\":\"#506784\",\"linecolor\":\"#506784\",\"ticks\":\"\"}},\"ternary\":{\"bgcolor\":\"rgb(17,17,17)\",\"aaxis\":{\"gridcolor\":\"#506784\",\"linecolor\":\"#506784\",\"ticks\":\"\"},\"baxis\":{\"gridcolor\":\"#506784\",\"linecolor\":\"#506784\",\"ticks\":\"\"},\"caxis\":{\"gridcolor\":\"#506784\",\"linecolor\":\"#506784\",\"ticks\":\"\"}},\"coloraxis\":{\"colorbar\":{\"outlinewidth\":0,\"ticks\":\"\"}},\"colorscale\":{\"sequential\":[[0.0,\"#0d0887\"],[0.1111111111111111,\"#46039f\"],[0.2222222222222222,\"#7201a8\"],[0.3333333333333333,\"#9c179e\"],[0.4444444444444444,\"#bd3786\"],[0.5555555555555556,\"#d8576b\"],[0.6666666666666666,\"#ed7953\"],[0.7777777777777778,\"#fb9f3a\"],[0.8888888888888888,\"#fdca26\"],[1.0,\"#f0f921\"]],\"sequentialminus\":[[0.0,\"#0d0887\"],[0.1111111111111111,\"#46039f\"],[0.2222222222222222,\"#7201a8\"],[0.3333333333333333,\"#9c179e\"],[0.4444444444444444,\"#bd3786\"],[0.5555555555555556,\"#d8576b\"],[0.6666666666666666,\"#ed7953\"],[0.7777777777777778,\"#fb9f3a\"],[0.8888888888888888,\"#fdca26\"],[1.0,\"#f0f921\"]],\"diverging\":[[0,\"#8e0152\"],[0.1,\"#c51b7d\"],[0.2,\"#de77ae\"],[0.3,\"#f1b6da\"],[0.4,\"#fde0ef\"],[0.5,\"#f7f7f7\"],[0.6,\"#e6f5d0\"],[0.7,\"#b8e186\"],[0.8,\"#7fbc41\"],[0.9,\"#4d9221\"],[1,\"#276419\"]]},\"xaxis\":{\"gridcolor\":\"#283442\",\"linecolor\":\"#506784\",\"ticks\":\"\",\"title\":{\"standoff\":15},\"zerolinecolor\":\"#283442\",\"automargin\":true,\"zerolinewidth\":2},\"yaxis\":{\"gridcolor\":\"#283442\",\"linecolor\":\"#506784\",\"ticks\":\"\",\"title\":{\"standoff\":15},\"zerolinecolor\":\"#283442\",\"automargin\":true,\"zerolinewidth\":2},\"scene\":{\"xaxis\":{\"backgroundcolor\":\"rgb(17,17,17)\",\"gridcolor\":\"#506784\",\"linecolor\":\"#506784\",\"showbackground\":true,\"ticks\":\"\",\"zerolinecolor\":\"#C8D4E3\",\"gridwidth\":2},\"yaxis\":{\"backgroundcolor\":\"rgb(17,17,17)\",\"gridcolor\":\"#506784\",\"linecolor\":\"#506784\",\"showbackground\":true,\"ticks\":\"\",\"zerolinecolor\":\"#C8D4E3\",\"gridwidth\":2},\"zaxis\":{\"backgroundcolor\":\"rgb(17,17,17)\",\"gridcolor\":\"#506784\",\"linecolor\":\"#506784\",\"showbackground\":true,\"ticks\":\"\",\"zerolinecolor\":\"#C8D4E3\",\"gridwidth\":2}},\"shapedefaults\":{\"line\":{\"color\":\"#f2f5fa\"}},\"annotationdefaults\":{\"arrowcolor\":\"#f2f5fa\",\"arrowhead\":0,\"arrowwidth\":1},\"geo\":{\"bgcolor\":\"rgb(17,17,17)\",\"landcolor\":\"rgb(17,17,17)\",\"subunitcolor\":\"#506784\",\"showland\":true,\"showlakes\":true,\"lakecolor\":\"rgb(17,17,17)\"},\"title\":{\"x\":0.05},\"updatemenudefaults\":{\"bgcolor\":\"#506784\",\"borderwidth\":0},\"sliderdefaults\":{\"bgcolor\":\"#C8D4E3\",\"borderwidth\":1,\"bordercolor\":\"rgb(17,17,17)\",\"tickwidth\":0},\"mapbox\":{\"style\":\"dark\"}}},\"xaxis\":{\"anchor\":\"y\",\"domain\":[0.0,1.0],\"title\":{\"text\":\"index\"}},\"yaxis\":{\"anchor\":\"x\",\"domain\":[0.0,1.0],\"title\":{\"text\":\"yardline_100\"}},\"coloraxis\":{\"colorbar\":{\"title\":{\"text\":\"td_prob\"}},\"colorscale\":[[0.0,\"#0d0887\"],[0.1111111111111111,\"#46039f\"],[0.2222222222222222,\"#7201a8\"],[0.3333333333333333,\"#9c179e\"],[0.4444444444444444,\"#bd3786\"],[0.5555555555555556,\"#d8576b\"],[0.6666666666666666,\"#ed7953\"],[0.7777777777777778,\"#fb9f3a\"],[0.8888888888888888,\"#fdca26\"],[1.0,\"#f0f921\"]]},\"legend\":{\"tracegroupgap\":0},\"margin\":{\"t\":60}},                        {\"responsive\": true}                    ).then(function(){\n",
       "                            \n",
       "var gd = document.getElementById('e25d3843-9c38-4583-aabf-93f40f40ced5');\n",
       "var x = new MutationObserver(function (mutations, observer) {{\n",
       "        var display = window.getComputedStyle(gd).display;\n",
       "        if (!display || display === 'none') {{\n",
       "            console.log([gd, 'removed!']);\n",
       "            Plotly.purge(gd);\n",
       "            observer.disconnect();\n",
       "        }}\n",
       "}});\n",
       "\n",
       "// Listen for the removal of the full notebook cells\n",
       "var notebookContainer = gd.closest('#notebook-container');\n",
       "if (notebookContainer) {{\n",
       "    x.observe(notebookContainer, {childList: true});\n",
       "}}\n",
       "\n",
       "// Listen for the clearing of the current output cell\n",
       "var outputEl = gd.closest('.output');\n",
       "if (outputEl) {{\n",
       "    x.observe(outputEl, {childList: true});\n",
       "}}\n",
       "\n",
       "                        })                };                });            </script>        </div>"
      ]
     },
     "metadata": {},
     "output_type": "display_data"
    }
   ],
   "execution_count": 62
  },
  {
   "metadata": {
    "ExecuteTime": {
     "end_time": "2024-10-30T03:00:45.293909Z",
     "start_time": "2024-10-30T03:00:45.273255Z"
    }
   },
   "cell_type": "code",
   "source": [
    "print(\"Plays of Interest:\")\n",
    "idx = 0\n",
    "for row in pbp_game1.itertuples():\n",
    "    if row.sp==1:\n",
    "        if row.posteam_type == \"home\":\n",
    "            team = row.home_team\n",
    "        else:\n",
    "            team = row.away_team\n",
    "        print(f\"Index: {idx}\\n\\tPoss. Team: {team} Desc: {row.desc}\")\n",
    "    idx += 1"
   ],
   "id": "2c5a12c4be25a823",
   "outputs": [
    {
     "name": "stdout",
     "output_type": "stream",
     "text": [
      "Plays of Interest:\n",
      "Index: 8\n",
      "\tPoss. Team: TEN Desc: (15:00) (Punt formation) A.Trapasso left end for 40 yards, TOUCHDOWN.\n",
      "Index: 9\n",
      "\tPoss. Team: TEN Desc: R.Bironas extra point is GOOD, Center-K.Amato, Holder-A.Trapasso.\n",
      "Index: 30\n",
      "\tPoss. Team: TEN Desc: (6:55) L.White left guard for 3 yards, TOUCHDOWN.\n",
      "Index: 31\n",
      "\tPoss. Team: TEN Desc: R.Bironas extra point is GOOD, Center-K.Amato, Holder-A.Trapasso.\n",
      "Index: 61\n",
      "\tPoss. Team: BUF Desc: (8:21) (Field Goal formation) R.Lindell 20 yard field goal is GOOD, Center-R.Neill, Holder-B.Moorman.\n",
      "Index: 75\n",
      "\tPoss. Team: TEN Desc: (1:12) V.Young pass short right to P.Williams for 5 yards, TOUCHDOWN.\n",
      "Index: 76\n",
      "\tPoss. Team: TEN Desc: R.Bironas extra point is GOOD, Center-K.Amato, Holder-A.Trapasso.\n",
      "Index: 84\n",
      "\tPoss. Team: BUF Desc: (:10) (Field Goal formation) R.Lindell 47 yard field goal is GOOD, Center-R.Neill, Holder-B.Moorman.\n",
      "Index: 103\n",
      "\tPoss. Team: BUF Desc: (7:17) R.Lindell 52 yard field goal is GOOD, Center-G.Sanborn, Holder-B.Moorman.\n",
      "Index: 132\n",
      "\tPoss. Team: TEN Desc: (12:21) A.Mortensen pass short left intended for C.Stevens INTERCEPTED by R.Corner at TEN 26. R.Corner for 26 yards, TOUCHDOWN.\n",
      "Index: 162\n",
      "\tPoss. Team: TEN Desc: (:08) (Punt formation) A.Trapasso up the middle ran ob in End Zone for -34 yards, SAFETY.\n"
     ]
    }
   ],
   "execution_count": 52
  },
  {
   "metadata": {},
   "cell_type": "code",
   "outputs": [],
   "execution_count": null,
   "source": "",
   "id": "66eaf6b5a2aa12a5"
  }
 ],
 "metadata": {
  "kernelspec": {
   "display_name": "Python 3",
   "language": "python",
   "name": "python3"
  },
  "language_info": {
   "codemirror_mode": {
    "name": "ipython",
    "version": 2
   },
   "file_extension": ".py",
   "mimetype": "text/x-python",
   "name": "python",
   "nbconvert_exporter": "python",
   "pygments_lexer": "ipython2",
   "version": "2.7.6"
  }
 },
 "nbformat": 4,
 "nbformat_minor": 5
}
