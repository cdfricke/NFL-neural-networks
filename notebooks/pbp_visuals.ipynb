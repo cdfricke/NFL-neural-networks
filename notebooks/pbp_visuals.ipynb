{
 "cells": [
  {
   "cell_type": "code",
   "id": "initial_id",
   "metadata": {
    "collapsed": true,
    "ExecuteTime": {
     "end_time": "2024-11-02T01:19:45.643555Z",
     "start_time": "2024-11-02T01:19:45.103460Z"
    }
   },
   "source": [
    "import numpy as np\n",
    "import pandas as pd\n",
    "import plotly.express as px"
   ],
   "outputs": [],
   "execution_count": 1
  },
  {
   "metadata": {
    "ExecuteTime": {
     "end_time": "2024-11-02T01:19:45.648469Z",
     "start_time": "2024-11-02T01:19:45.644831Z"
    }
   },
   "cell_type": "code",
   "source": "years = [x for x in range(2009,2020)]",
   "id": "894cdbae15fa7f00",
   "outputs": [],
   "execution_count": 2
  },
  {
   "metadata": {
    "ExecuteTime": {
     "end_time": "2024-11-02T01:20:04.703779Z",
     "start_time": "2024-11-02T01:19:45.649861Z"
    }
   },
   "cell_type": "code",
   "source": [
    "preseason_dfs = {}\n",
    "regseason_dfs = {}\n",
    "pstseason_dfs = {}\n",
    "for year in years:\n",
    "    preseason_dfs[year] = pd.read_csv(f\"../cleaned_data/pbp_data/pre_season/pre_pbp_{year}.csv\", low_memory=False)\n",
    "    regseason_dfs[year] = pd.read_csv(f\"../cleaned_data/pbp_data/regular_season/reg_pbp_{year}.csv\", low_memory=False)\n",
    "    pstseason_dfs[year] = pd.read_csv(f\"../cleaned_data/pbp_data/post_season/post_pbp_{year}.csv\", low_memory=False)\n",
    "\n",
    "all_pre_pbp = pd.concat(preseason_dfs)\n",
    "all_reg_pbp = pd.concat(regseason_dfs)\n",
    "all_pst_pbp = pd.concat(pstseason_dfs)\n",
    "\n",
    "df = pd.concat([all_pre_pbp, all_reg_pbp, all_pst_pbp])\n",
    "\n",
    "print(df.shape)"
   ],
   "id": "cba707bbb546828f",
   "outputs": [
    {
     "name": "stdout",
     "output_type": "stream",
     "text": [
      "(614497, 257)\n"
     ]
    }
   ],
   "execution_count": 3
  },
  {
   "metadata": {
    "ExecuteTime": {
     "end_time": "2024-11-02T01:20:05.761818Z",
     "start_time": "2024-11-02T01:20:04.706080Z"
    }
   },
   "cell_type": "code",
   "source": "df = df.drop(columns=['Unnamed: 0'])",
   "id": "1d62b8b808932233",
   "outputs": [],
   "execution_count": 4
  },
  {
   "metadata": {},
   "cell_type": "markdown",
   "source": "## Data Exploration",
   "id": "ee0052f5952c2ab0"
  },
  {
   "metadata": {
    "ExecuteTime": {
     "end_time": "2024-11-02T01:20:06.173575Z",
     "start_time": "2024-11-02T01:20:05.762910Z"
    }
   },
   "cell_type": "code",
   "source": "df",
   "id": "550ed2aae7f61c29",
   "outputs": [
    {
     "data": {
      "text/plain": [
       "           season  play_id     game_id home_team away_team posteam  \\\n",
       "2009 0       2009       59  2009080950       TEN       BUF     TEN   \n",
       "     1       2009       83  2009080950       TEN       BUF     TEN   \n",
       "     2       2009      104  2009080950       TEN       BUF     TEN   \n",
       "     3       2009      128  2009080950       TEN       BUF     TEN   \n",
       "     4       2009      152  2009080950       TEN       BUF     TEN   \n",
       "...           ...      ...         ...       ...       ...     ...   \n",
       "2019 1972    2019     3998  2020020200        KC        SF      KC   \n",
       "     1973    2019     4015  2020020200        KC        SF      KC   \n",
       "     1974    2019     4036  2020020200        KC        SF      KC   \n",
       "     1975    2019     4053  2020020200        KC        SF      KC   \n",
       "     1976    2019     4074  2020020200        KC        SF      KC   \n",
       "\n",
       "          posteam_type defteam side_of_field  yardline_100  ...  \\\n",
       "2009 0            home     BUF           TEN          74.0  ...   \n",
       "     1            home     BUF           TEN          64.0  ...   \n",
       "     2            home     BUF           TEN          67.0  ...   \n",
       "     3            home     BUF           TEN          55.0  ...   \n",
       "     4            home     BUF           BUF          40.0  ...   \n",
       "...                ...     ...           ...           ...  ...   \n",
       "2019 1972         home      SF            KC          59.0  ...   \n",
       "     1973         home      SF            KC          64.0  ...   \n",
       "     1974         home      SF            KC          64.0  ...   \n",
       "     1975         home      SF            KC          67.0  ...   \n",
       "     1976         home      SF            KC          67.0  ...   \n",
       "\n",
       "          penalty_player_name  penalty_yards  replay_or_challenge  \\\n",
       "2009 0                    NaN            0.0                    0   \n",
       "     1                    NaN            0.0                    0   \n",
       "     2                    NaN            0.0                    0   \n",
       "     3                    NaN            0.0                    0   \n",
       "     4                    NaN            0.0                    0   \n",
       "...                       ...            ...                  ...   \n",
       "2019 1972                 NaN            0.0                    0   \n",
       "     1973                 NaN            0.0                    0   \n",
       "     1974                 NaN            0.0                    0   \n",
       "     1975                 NaN            0.0                    0   \n",
       "     1976                 NaN            0.0                    0   \n",
       "\n",
       "           replay_or_challenge_result penalty_type  \\\n",
       "2009 0                            NaN          NaN   \n",
       "     1                            NaN          NaN   \n",
       "     2                            NaN          NaN   \n",
       "     3                            NaN          NaN   \n",
       "     4                            NaN          NaN   \n",
       "...                               ...          ...   \n",
       "2019 1972                         NaN          NaN   \n",
       "     1973                         NaN          NaN   \n",
       "     1974                         NaN          NaN   \n",
       "     1975                         NaN          NaN   \n",
       "     1976                         NaN          NaN   \n",
       "\n",
       "           defensive_two_point_attempt  defensive_two_point_conv  \\\n",
       "2009 0                             0.0                       0.0   \n",
       "     1                             0.0                       0.0   \n",
       "     2                             0.0                       0.0   \n",
       "     3                             0.0                       0.0   \n",
       "     4                             0.0                       0.0   \n",
       "...                                ...                       ...   \n",
       "2019 1972                          0.0                       0.0   \n",
       "     1973                          0.0                       0.0   \n",
       "     1974                          0.0                       0.0   \n",
       "     1975                          0.0                       0.0   \n",
       "     1976                          0.0                       0.0   \n",
       "\n",
       "           defensive_extra_point_attempt  defensive_extra_point_conv  \\\n",
       "2009 0                               0.0                         0.0   \n",
       "     1                               0.0                         0.0   \n",
       "     2                               0.0                         0.0   \n",
       "     3                               0.0                         0.0   \n",
       "     4                               0.0                         0.0   \n",
       "...                                  ...                         ...   \n",
       "2019 1972                            0.0                         0.0   \n",
       "     1973                            0.0                         0.0   \n",
       "     1974                            0.0                         0.0   \n",
       "     1975                            0.0                         0.0   \n",
       "     1976                            0.0                         0.0   \n",
       "\n",
       "           season_type  \n",
       "2009 0             pre  \n",
       "     1             pre  \n",
       "     2             pre  \n",
       "     3             pre  \n",
       "     4             pre  \n",
       "...                ...  \n",
       "2019 1972         post  \n",
       "     1973         post  \n",
       "     1974         post  \n",
       "     1975         post  \n",
       "     1976         post  \n",
       "\n",
       "[614497 rows x 256 columns]"
      ],
      "text/html": [
       "<div>\n",
       "<style scoped>\n",
       "    .dataframe tbody tr th:only-of-type {\n",
       "        vertical-align: middle;\n",
       "    }\n",
       "\n",
       "    .dataframe tbody tr th {\n",
       "        vertical-align: top;\n",
       "    }\n",
       "\n",
       "    .dataframe thead th {\n",
       "        text-align: right;\n",
       "    }\n",
       "</style>\n",
       "<table border=\"1\" class=\"dataframe\">\n",
       "  <thead>\n",
       "    <tr style=\"text-align: right;\">\n",
       "      <th></th>\n",
       "      <th></th>\n",
       "      <th>season</th>\n",
       "      <th>play_id</th>\n",
       "      <th>game_id</th>\n",
       "      <th>home_team</th>\n",
       "      <th>away_team</th>\n",
       "      <th>posteam</th>\n",
       "      <th>posteam_type</th>\n",
       "      <th>defteam</th>\n",
       "      <th>side_of_field</th>\n",
       "      <th>yardline_100</th>\n",
       "      <th>...</th>\n",
       "      <th>penalty_player_name</th>\n",
       "      <th>penalty_yards</th>\n",
       "      <th>replay_or_challenge</th>\n",
       "      <th>replay_or_challenge_result</th>\n",
       "      <th>penalty_type</th>\n",
       "      <th>defensive_two_point_attempt</th>\n",
       "      <th>defensive_two_point_conv</th>\n",
       "      <th>defensive_extra_point_attempt</th>\n",
       "      <th>defensive_extra_point_conv</th>\n",
       "      <th>season_type</th>\n",
       "    </tr>\n",
       "  </thead>\n",
       "  <tbody>\n",
       "    <tr>\n",
       "      <th rowspan=\"5\" valign=\"top\">2009</th>\n",
       "      <th>0</th>\n",
       "      <td>2009</td>\n",
       "      <td>59</td>\n",
       "      <td>2009080950</td>\n",
       "      <td>TEN</td>\n",
       "      <td>BUF</td>\n",
       "      <td>TEN</td>\n",
       "      <td>home</td>\n",
       "      <td>BUF</td>\n",
       "      <td>TEN</td>\n",
       "      <td>74.0</td>\n",
       "      <td>...</td>\n",
       "      <td>NaN</td>\n",
       "      <td>0.0</td>\n",
       "      <td>0</td>\n",
       "      <td>NaN</td>\n",
       "      <td>NaN</td>\n",
       "      <td>0.0</td>\n",
       "      <td>0.0</td>\n",
       "      <td>0.0</td>\n",
       "      <td>0.0</td>\n",
       "      <td>pre</td>\n",
       "    </tr>\n",
       "    <tr>\n",
       "      <th>1</th>\n",
       "      <td>2009</td>\n",
       "      <td>83</td>\n",
       "      <td>2009080950</td>\n",
       "      <td>TEN</td>\n",
       "      <td>BUF</td>\n",
       "      <td>TEN</td>\n",
       "      <td>home</td>\n",
       "      <td>BUF</td>\n",
       "      <td>TEN</td>\n",
       "      <td>64.0</td>\n",
       "      <td>...</td>\n",
       "      <td>NaN</td>\n",
       "      <td>0.0</td>\n",
       "      <td>0</td>\n",
       "      <td>NaN</td>\n",
       "      <td>NaN</td>\n",
       "      <td>0.0</td>\n",
       "      <td>0.0</td>\n",
       "      <td>0.0</td>\n",
       "      <td>0.0</td>\n",
       "      <td>pre</td>\n",
       "    </tr>\n",
       "    <tr>\n",
       "      <th>2</th>\n",
       "      <td>2009</td>\n",
       "      <td>104</td>\n",
       "      <td>2009080950</td>\n",
       "      <td>TEN</td>\n",
       "      <td>BUF</td>\n",
       "      <td>TEN</td>\n",
       "      <td>home</td>\n",
       "      <td>BUF</td>\n",
       "      <td>TEN</td>\n",
       "      <td>67.0</td>\n",
       "      <td>...</td>\n",
       "      <td>NaN</td>\n",
       "      <td>0.0</td>\n",
       "      <td>0</td>\n",
       "      <td>NaN</td>\n",
       "      <td>NaN</td>\n",
       "      <td>0.0</td>\n",
       "      <td>0.0</td>\n",
       "      <td>0.0</td>\n",
       "      <td>0.0</td>\n",
       "      <td>pre</td>\n",
       "    </tr>\n",
       "    <tr>\n",
       "      <th>3</th>\n",
       "      <td>2009</td>\n",
       "      <td>128</td>\n",
       "      <td>2009080950</td>\n",
       "      <td>TEN</td>\n",
       "      <td>BUF</td>\n",
       "      <td>TEN</td>\n",
       "      <td>home</td>\n",
       "      <td>BUF</td>\n",
       "      <td>TEN</td>\n",
       "      <td>55.0</td>\n",
       "      <td>...</td>\n",
       "      <td>NaN</td>\n",
       "      <td>0.0</td>\n",
       "      <td>0</td>\n",
       "      <td>NaN</td>\n",
       "      <td>NaN</td>\n",
       "      <td>0.0</td>\n",
       "      <td>0.0</td>\n",
       "      <td>0.0</td>\n",
       "      <td>0.0</td>\n",
       "      <td>pre</td>\n",
       "    </tr>\n",
       "    <tr>\n",
       "      <th>4</th>\n",
       "      <td>2009</td>\n",
       "      <td>152</td>\n",
       "      <td>2009080950</td>\n",
       "      <td>TEN</td>\n",
       "      <td>BUF</td>\n",
       "      <td>TEN</td>\n",
       "      <td>home</td>\n",
       "      <td>BUF</td>\n",
       "      <td>BUF</td>\n",
       "      <td>40.0</td>\n",
       "      <td>...</td>\n",
       "      <td>NaN</td>\n",
       "      <td>0.0</td>\n",
       "      <td>0</td>\n",
       "      <td>NaN</td>\n",
       "      <td>NaN</td>\n",
       "      <td>0.0</td>\n",
       "      <td>0.0</td>\n",
       "      <td>0.0</td>\n",
       "      <td>0.0</td>\n",
       "      <td>pre</td>\n",
       "    </tr>\n",
       "    <tr>\n",
       "      <th>...</th>\n",
       "      <th>...</th>\n",
       "      <td>...</td>\n",
       "      <td>...</td>\n",
       "      <td>...</td>\n",
       "      <td>...</td>\n",
       "      <td>...</td>\n",
       "      <td>...</td>\n",
       "      <td>...</td>\n",
       "      <td>...</td>\n",
       "      <td>...</td>\n",
       "      <td>...</td>\n",
       "      <td>...</td>\n",
       "      <td>...</td>\n",
       "      <td>...</td>\n",
       "      <td>...</td>\n",
       "      <td>...</td>\n",
       "      <td>...</td>\n",
       "      <td>...</td>\n",
       "      <td>...</td>\n",
       "      <td>...</td>\n",
       "      <td>...</td>\n",
       "      <td>...</td>\n",
       "    </tr>\n",
       "    <tr>\n",
       "      <th rowspan=\"5\" valign=\"top\">2019</th>\n",
       "      <th>1972</th>\n",
       "      <td>2019</td>\n",
       "      <td>3998</td>\n",
       "      <td>2020020200</td>\n",
       "      <td>KC</td>\n",
       "      <td>SF</td>\n",
       "      <td>KC</td>\n",
       "      <td>home</td>\n",
       "      <td>SF</td>\n",
       "      <td>KC</td>\n",
       "      <td>59.0</td>\n",
       "      <td>...</td>\n",
       "      <td>NaN</td>\n",
       "      <td>0.0</td>\n",
       "      <td>0</td>\n",
       "      <td>NaN</td>\n",
       "      <td>NaN</td>\n",
       "      <td>0.0</td>\n",
       "      <td>0.0</td>\n",
       "      <td>0.0</td>\n",
       "      <td>0.0</td>\n",
       "      <td>post</td>\n",
       "    </tr>\n",
       "    <tr>\n",
       "      <th>1973</th>\n",
       "      <td>2019</td>\n",
       "      <td>4015</td>\n",
       "      <td>2020020200</td>\n",
       "      <td>KC</td>\n",
       "      <td>SF</td>\n",
       "      <td>KC</td>\n",
       "      <td>home</td>\n",
       "      <td>SF</td>\n",
       "      <td>KC</td>\n",
       "      <td>64.0</td>\n",
       "      <td>...</td>\n",
       "      <td>NaN</td>\n",
       "      <td>0.0</td>\n",
       "      <td>0</td>\n",
       "      <td>NaN</td>\n",
       "      <td>NaN</td>\n",
       "      <td>0.0</td>\n",
       "      <td>0.0</td>\n",
       "      <td>0.0</td>\n",
       "      <td>0.0</td>\n",
       "      <td>post</td>\n",
       "    </tr>\n",
       "    <tr>\n",
       "      <th>1974</th>\n",
       "      <td>2019</td>\n",
       "      <td>4036</td>\n",
       "      <td>2020020200</td>\n",
       "      <td>KC</td>\n",
       "      <td>SF</td>\n",
       "      <td>KC</td>\n",
       "      <td>home</td>\n",
       "      <td>SF</td>\n",
       "      <td>KC</td>\n",
       "      <td>64.0</td>\n",
       "      <td>...</td>\n",
       "      <td>NaN</td>\n",
       "      <td>0.0</td>\n",
       "      <td>0</td>\n",
       "      <td>NaN</td>\n",
       "      <td>NaN</td>\n",
       "      <td>0.0</td>\n",
       "      <td>0.0</td>\n",
       "      <td>0.0</td>\n",
       "      <td>0.0</td>\n",
       "      <td>post</td>\n",
       "    </tr>\n",
       "    <tr>\n",
       "      <th>1975</th>\n",
       "      <td>2019</td>\n",
       "      <td>4053</td>\n",
       "      <td>2020020200</td>\n",
       "      <td>KC</td>\n",
       "      <td>SF</td>\n",
       "      <td>KC</td>\n",
       "      <td>home</td>\n",
       "      <td>SF</td>\n",
       "      <td>KC</td>\n",
       "      <td>67.0</td>\n",
       "      <td>...</td>\n",
       "      <td>NaN</td>\n",
       "      <td>0.0</td>\n",
       "      <td>0</td>\n",
       "      <td>NaN</td>\n",
       "      <td>NaN</td>\n",
       "      <td>0.0</td>\n",
       "      <td>0.0</td>\n",
       "      <td>0.0</td>\n",
       "      <td>0.0</td>\n",
       "      <td>post</td>\n",
       "    </tr>\n",
       "    <tr>\n",
       "      <th>1976</th>\n",
       "      <td>2019</td>\n",
       "      <td>4074</td>\n",
       "      <td>2020020200</td>\n",
       "      <td>KC</td>\n",
       "      <td>SF</td>\n",
       "      <td>KC</td>\n",
       "      <td>home</td>\n",
       "      <td>SF</td>\n",
       "      <td>KC</td>\n",
       "      <td>67.0</td>\n",
       "      <td>...</td>\n",
       "      <td>NaN</td>\n",
       "      <td>0.0</td>\n",
       "      <td>0</td>\n",
       "      <td>NaN</td>\n",
       "      <td>NaN</td>\n",
       "      <td>0.0</td>\n",
       "      <td>0.0</td>\n",
       "      <td>0.0</td>\n",
       "      <td>0.0</td>\n",
       "      <td>post</td>\n",
       "    </tr>\n",
       "  </tbody>\n",
       "</table>\n",
       "<p>614497 rows × 256 columns</p>\n",
       "</div>"
      ]
     },
     "execution_count": 5,
     "metadata": {},
     "output_type": "execute_result"
    }
   ],
   "execution_count": 5
  },
  {
   "metadata": {
    "ExecuteTime": {
     "end_time": "2024-11-02T01:20:09.436035Z",
     "start_time": "2024-11-02T01:20:06.174606Z"
    }
   },
   "cell_type": "code",
   "source": "df.describe()",
   "id": "62b7f7f21e096bb5",
   "outputs": [
    {
     "data": {
      "text/plain": [
       "              season        play_id       game_id   yardline_100  \\\n",
       "count  614497.000000  614497.000000  6.144970e+05  614497.000000   \n",
       "mean     2014.006986    2121.765107  2.014162e+09      50.136071   \n",
       "std         3.152467    1223.330103  3.148375e+06      24.980885   \n",
       "min      2009.000000      35.000000  2.009081e+09       1.000000   \n",
       "25%      2011.000000    1070.000000  2.011121e+09      31.000000   \n",
       "50%      2014.000000    2111.000000  2.014102e+09      53.000000   \n",
       "75%      2017.000000    3147.000000  2.017092e+09      71.000000   \n",
       "max      2019.000000    5876.000000  2.020020e+09      99.000000   \n",
       "\n",
       "       quarter_seconds_remaining  half_seconds_remaining  \\\n",
       "count              614497.000000           614497.000000   \n",
       "mean                  424.721916              825.880750   \n",
       "std                   273.033367              547.358634   \n",
       "min                     0.000000                0.000000   \n",
       "25%                   174.000000              317.000000   \n",
       "50%                   412.000000              812.000000   \n",
       "75%                   661.000000             1299.000000   \n",
       "max                   900.000000             1800.000000   \n",
       "\n",
       "       game_seconds_remaining  quarter_end          drive             sp  ...  \\\n",
       "count           614497.000000     614497.0  614497.000000  614497.000000  ...   \n",
       "mean              1722.408153          0.0      12.119817       0.071548  ...   \n",
       "std               1038.467798          0.0       7.010377       0.257738  ...   \n",
       "min                  0.000000          0.0       1.000000       0.000000  ...   \n",
       "25%                821.000000          0.0       6.000000       0.000000  ...   \n",
       "50%               1800.000000          0.0      12.000000       0.000000  ...   \n",
       "75%               2591.000000          0.0      18.000000       0.000000  ...   \n",
       "max               3600.000000          0.0      38.000000       1.000000  ...   \n",
       "\n",
       "       lateral_recovery  fumble_recovery_1_yards  fumble_recovery_2_yards  \\\n",
       "count     614497.000000            614497.000000            614497.000000   \n",
       "mean           0.001941                 0.030913                 0.000474   \n",
       "std            0.044019                 1.078880                 0.139258   \n",
       "min            0.000000               -34.000000                -3.000000   \n",
       "25%            0.000000                 0.000000                 0.000000   \n",
       "50%            0.000000                 0.000000                 0.000000   \n",
       "75%            0.000000                 0.000000                 0.000000   \n",
       "max            1.000000               106.000000                77.000000   \n",
       "\n",
       "        return_yards  penalty_yards  replay_or_challenge  \\\n",
       "count  614497.000000  614497.000000        614497.000000   \n",
       "mean        1.021743       0.656052             0.008491   \n",
       "std         5.398679       2.715009             0.091757   \n",
       "min       -16.000000       0.000000             0.000000   \n",
       "25%         0.000000       0.000000             0.000000   \n",
       "50%         0.000000       0.000000             0.000000   \n",
       "75%         0.000000       0.000000             0.000000   \n",
       "max       109.000000      66.000000             1.000000   \n",
       "\n",
       "       defensive_two_point_attempt  defensive_two_point_conv  \\\n",
       "count                614497.000000             614497.000000   \n",
       "mean                      0.000063                  0.000016   \n",
       "std                       0.007966                  0.004034   \n",
       "min                       0.000000                  0.000000   \n",
       "25%                       0.000000                  0.000000   \n",
       "50%                       0.000000                  0.000000   \n",
       "75%                       0.000000                  0.000000   \n",
       "max                       1.000000                  1.000000   \n",
       "\n",
       "       defensive_extra_point_attempt  defensive_extra_point_conv  \n",
       "count                       614497.0                    614497.0  \n",
       "mean                             0.0                         0.0  \n",
       "std                              0.0                         0.0  \n",
       "min                              0.0                         0.0  \n",
       "25%                              0.0                         0.0  \n",
       "50%                              0.0                         0.0  \n",
       "75%                              0.0                         0.0  \n",
       "max                              0.0                         0.0  \n",
       "\n",
       "[8 rows x 150 columns]"
      ],
      "text/html": [
       "<div>\n",
       "<style scoped>\n",
       "    .dataframe tbody tr th:only-of-type {\n",
       "        vertical-align: middle;\n",
       "    }\n",
       "\n",
       "    .dataframe tbody tr th {\n",
       "        vertical-align: top;\n",
       "    }\n",
       "\n",
       "    .dataframe thead th {\n",
       "        text-align: right;\n",
       "    }\n",
       "</style>\n",
       "<table border=\"1\" class=\"dataframe\">\n",
       "  <thead>\n",
       "    <tr style=\"text-align: right;\">\n",
       "      <th></th>\n",
       "      <th>season</th>\n",
       "      <th>play_id</th>\n",
       "      <th>game_id</th>\n",
       "      <th>yardline_100</th>\n",
       "      <th>quarter_seconds_remaining</th>\n",
       "      <th>half_seconds_remaining</th>\n",
       "      <th>game_seconds_remaining</th>\n",
       "      <th>quarter_end</th>\n",
       "      <th>drive</th>\n",
       "      <th>sp</th>\n",
       "      <th>...</th>\n",
       "      <th>lateral_recovery</th>\n",
       "      <th>fumble_recovery_1_yards</th>\n",
       "      <th>fumble_recovery_2_yards</th>\n",
       "      <th>return_yards</th>\n",
       "      <th>penalty_yards</th>\n",
       "      <th>replay_or_challenge</th>\n",
       "      <th>defensive_two_point_attempt</th>\n",
       "      <th>defensive_two_point_conv</th>\n",
       "      <th>defensive_extra_point_attempt</th>\n",
       "      <th>defensive_extra_point_conv</th>\n",
       "    </tr>\n",
       "  </thead>\n",
       "  <tbody>\n",
       "    <tr>\n",
       "      <th>count</th>\n",
       "      <td>614497.000000</td>\n",
       "      <td>614497.000000</td>\n",
       "      <td>6.144970e+05</td>\n",
       "      <td>614497.000000</td>\n",
       "      <td>614497.000000</td>\n",
       "      <td>614497.000000</td>\n",
       "      <td>614497.000000</td>\n",
       "      <td>614497.0</td>\n",
       "      <td>614497.000000</td>\n",
       "      <td>614497.000000</td>\n",
       "      <td>...</td>\n",
       "      <td>614497.000000</td>\n",
       "      <td>614497.000000</td>\n",
       "      <td>614497.000000</td>\n",
       "      <td>614497.000000</td>\n",
       "      <td>614497.000000</td>\n",
       "      <td>614497.000000</td>\n",
       "      <td>614497.000000</td>\n",
       "      <td>614497.000000</td>\n",
       "      <td>614497.0</td>\n",
       "      <td>614497.0</td>\n",
       "    </tr>\n",
       "    <tr>\n",
       "      <th>mean</th>\n",
       "      <td>2014.006986</td>\n",
       "      <td>2121.765107</td>\n",
       "      <td>2.014162e+09</td>\n",
       "      <td>50.136071</td>\n",
       "      <td>424.721916</td>\n",
       "      <td>825.880750</td>\n",
       "      <td>1722.408153</td>\n",
       "      <td>0.0</td>\n",
       "      <td>12.119817</td>\n",
       "      <td>0.071548</td>\n",
       "      <td>...</td>\n",
       "      <td>0.001941</td>\n",
       "      <td>0.030913</td>\n",
       "      <td>0.000474</td>\n",
       "      <td>1.021743</td>\n",
       "      <td>0.656052</td>\n",
       "      <td>0.008491</td>\n",
       "      <td>0.000063</td>\n",
       "      <td>0.000016</td>\n",
       "      <td>0.0</td>\n",
       "      <td>0.0</td>\n",
       "    </tr>\n",
       "    <tr>\n",
       "      <th>std</th>\n",
       "      <td>3.152467</td>\n",
       "      <td>1223.330103</td>\n",
       "      <td>3.148375e+06</td>\n",
       "      <td>24.980885</td>\n",
       "      <td>273.033367</td>\n",
       "      <td>547.358634</td>\n",
       "      <td>1038.467798</td>\n",
       "      <td>0.0</td>\n",
       "      <td>7.010377</td>\n",
       "      <td>0.257738</td>\n",
       "      <td>...</td>\n",
       "      <td>0.044019</td>\n",
       "      <td>1.078880</td>\n",
       "      <td>0.139258</td>\n",
       "      <td>5.398679</td>\n",
       "      <td>2.715009</td>\n",
       "      <td>0.091757</td>\n",
       "      <td>0.007966</td>\n",
       "      <td>0.004034</td>\n",
       "      <td>0.0</td>\n",
       "      <td>0.0</td>\n",
       "    </tr>\n",
       "    <tr>\n",
       "      <th>min</th>\n",
       "      <td>2009.000000</td>\n",
       "      <td>35.000000</td>\n",
       "      <td>2.009081e+09</td>\n",
       "      <td>1.000000</td>\n",
       "      <td>0.000000</td>\n",
       "      <td>0.000000</td>\n",
       "      <td>0.000000</td>\n",
       "      <td>0.0</td>\n",
       "      <td>1.000000</td>\n",
       "      <td>0.000000</td>\n",
       "      <td>...</td>\n",
       "      <td>0.000000</td>\n",
       "      <td>-34.000000</td>\n",
       "      <td>-3.000000</td>\n",
       "      <td>-16.000000</td>\n",
       "      <td>0.000000</td>\n",
       "      <td>0.000000</td>\n",
       "      <td>0.000000</td>\n",
       "      <td>0.000000</td>\n",
       "      <td>0.0</td>\n",
       "      <td>0.0</td>\n",
       "    </tr>\n",
       "    <tr>\n",
       "      <th>25%</th>\n",
       "      <td>2011.000000</td>\n",
       "      <td>1070.000000</td>\n",
       "      <td>2.011121e+09</td>\n",
       "      <td>31.000000</td>\n",
       "      <td>174.000000</td>\n",
       "      <td>317.000000</td>\n",
       "      <td>821.000000</td>\n",
       "      <td>0.0</td>\n",
       "      <td>6.000000</td>\n",
       "      <td>0.000000</td>\n",
       "      <td>...</td>\n",
       "      <td>0.000000</td>\n",
       "      <td>0.000000</td>\n",
       "      <td>0.000000</td>\n",
       "      <td>0.000000</td>\n",
       "      <td>0.000000</td>\n",
       "      <td>0.000000</td>\n",
       "      <td>0.000000</td>\n",
       "      <td>0.000000</td>\n",
       "      <td>0.0</td>\n",
       "      <td>0.0</td>\n",
       "    </tr>\n",
       "    <tr>\n",
       "      <th>50%</th>\n",
       "      <td>2014.000000</td>\n",
       "      <td>2111.000000</td>\n",
       "      <td>2.014102e+09</td>\n",
       "      <td>53.000000</td>\n",
       "      <td>412.000000</td>\n",
       "      <td>812.000000</td>\n",
       "      <td>1800.000000</td>\n",
       "      <td>0.0</td>\n",
       "      <td>12.000000</td>\n",
       "      <td>0.000000</td>\n",
       "      <td>...</td>\n",
       "      <td>0.000000</td>\n",
       "      <td>0.000000</td>\n",
       "      <td>0.000000</td>\n",
       "      <td>0.000000</td>\n",
       "      <td>0.000000</td>\n",
       "      <td>0.000000</td>\n",
       "      <td>0.000000</td>\n",
       "      <td>0.000000</td>\n",
       "      <td>0.0</td>\n",
       "      <td>0.0</td>\n",
       "    </tr>\n",
       "    <tr>\n",
       "      <th>75%</th>\n",
       "      <td>2017.000000</td>\n",
       "      <td>3147.000000</td>\n",
       "      <td>2.017092e+09</td>\n",
       "      <td>71.000000</td>\n",
       "      <td>661.000000</td>\n",
       "      <td>1299.000000</td>\n",
       "      <td>2591.000000</td>\n",
       "      <td>0.0</td>\n",
       "      <td>18.000000</td>\n",
       "      <td>0.000000</td>\n",
       "      <td>...</td>\n",
       "      <td>0.000000</td>\n",
       "      <td>0.000000</td>\n",
       "      <td>0.000000</td>\n",
       "      <td>0.000000</td>\n",
       "      <td>0.000000</td>\n",
       "      <td>0.000000</td>\n",
       "      <td>0.000000</td>\n",
       "      <td>0.000000</td>\n",
       "      <td>0.0</td>\n",
       "      <td>0.0</td>\n",
       "    </tr>\n",
       "    <tr>\n",
       "      <th>max</th>\n",
       "      <td>2019.000000</td>\n",
       "      <td>5876.000000</td>\n",
       "      <td>2.020020e+09</td>\n",
       "      <td>99.000000</td>\n",
       "      <td>900.000000</td>\n",
       "      <td>1800.000000</td>\n",
       "      <td>3600.000000</td>\n",
       "      <td>0.0</td>\n",
       "      <td>38.000000</td>\n",
       "      <td>1.000000</td>\n",
       "      <td>...</td>\n",
       "      <td>1.000000</td>\n",
       "      <td>106.000000</td>\n",
       "      <td>77.000000</td>\n",
       "      <td>109.000000</td>\n",
       "      <td>66.000000</td>\n",
       "      <td>1.000000</td>\n",
       "      <td>1.000000</td>\n",
       "      <td>1.000000</td>\n",
       "      <td>0.0</td>\n",
       "      <td>0.0</td>\n",
       "    </tr>\n",
       "  </tbody>\n",
       "</table>\n",
       "<p>8 rows × 150 columns</p>\n",
       "</div>"
      ]
     },
     "execution_count": 6,
     "metadata": {},
     "output_type": "execute_result"
    }
   ],
   "execution_count": 6
  },
  {
   "metadata": {
    "ExecuteTime": {
     "end_time": "2024-11-02T01:20:09.450254Z",
     "start_time": "2024-11-02T01:20:09.437468Z"
    }
   },
   "cell_type": "code",
   "source": "print(\"Games available in data:\", len(df['game_id'].unique()))",
   "id": "37d02dcb1e220c3b",
   "outputs": [
    {
     "name": "stdout",
     "output_type": "stream",
     "text": [
      "Games available in data: 3658\n"
     ]
    }
   ],
   "execution_count": 7
  },
  {
   "metadata": {
    "ExecuteTime": {
     "end_time": "2024-11-02T01:20:09.457283Z",
     "start_time": "2024-11-02T01:20:09.451687Z"
    }
   },
   "cell_type": "code",
   "source": "from myFuncs import nanalysis",
   "id": "a1f8734ad50e1710",
   "outputs": [],
   "execution_count": 8
  },
  {
   "metadata": {
    "ExecuteTime": {
     "end_time": "2024-11-02T01:20:10.291417Z",
     "start_time": "2024-11-02T01:20:09.458698Z"
    }
   },
   "cell_type": "code",
   "source": "nan_results = nanalysis(df)",
   "id": "60b3a13fc894c6ef",
   "outputs": [
    {
     "name": "stdout",
     "output_type": "stream",
     "text": [
      "No NaNs remaining in numeric data! Well Done!\n"
     ]
    }
   ],
   "execution_count": 9
  },
  {
   "metadata": {
    "ExecuteTime": {
     "end_time": "2024-11-02T02:46:24.804325Z",
     "start_time": "2024-11-02T02:46:24.665511Z"
    }
   },
   "cell_type": "code",
   "source": [
    "count = 0\n",
    "for id in df['game_id'].unique():\n",
    "    game = df[df['game_id'] == id]\n",
    "    fig = px.scatter(game, x=range(len(game)), \n",
    "                     y='yardline_100', color='ep', title=f'Game ID: {id}',\n",
    "                     width=1200,height=400)\n",
    "    fig.show()\n",
    "    count += 1\n",
    "    if count > 2:\n",
    "        break"
   ],
   "id": "329bacb0afdfd2ee",
   "outputs": [
    {
     "data": {
      "application/vnd.plotly.v1+json": {
       "data": [
        {
         "hovertemplate": "x=%{x}<br>yardline_100=%{y}<br>ep=%{marker.color}<extra></extra>",
         "legendgroup": "",
         "marker": {
          "color": [
           0.9117914696374628,
           1.834672533219011,
           0.6982054497603549,
           2.356606321897577,
           3.5455860969179027,
           3.0136708695146384,
           2.156991666244528,
           0.83188471946465,
           0.9907954004544308,
           0.3856281323654813,
           0.6807045806909056,
           0.3902043116439824,
           2.385120456661983,
           2.2913955614654395,
           3.4127111858084844,
           2.863887421241496,
           3.0253299228808475,
           4.13208767527644,
           3.747155432560608,
           1.1424706904400144,
           0.3861104094128678,
           -1.325056548831658,
           2.365542401718648,
           1.974880307590894,
           2.820973373434568,
           3.868127867135044,
           3.960884872637881,
           4.305762211829892,
           5.3178903278111385,
           5.605036892343673,
           0.9907954004544308,
           0.5464719280930748,
           -0.5023353790812293,
           -1.3692694180389249,
           -1.791574247212052,
           -2.857277833876278,
           2.0814605638597343,
           1.40960530827641,
           0.5995127264028315,
           3.4588567274419657,
           3.2461669464472465,
           3.861324615692451,
           3.1243944567848394,
           4.619240695816372,
           4.484518395948276,
           4.073401082684739,
           2.87888504328289,
           -0.6376268401880083,
           -0.8834384197801604,
           -1.5873735127591289,
           -2.428986547818456,
           3.2512060603512727,
           3.7299804477374696,
           3.909147390695159,
           3.8814899061671633,
           4.475592322718183,
           5.970964030622833,
           5.768427199636863,
           5.150334016590502,
           2.97425273052303,
           0.4831415749207131,
           -0.0088724562694439,
           -0.4217135351281673,
           -0.981919393798828,
           -0.3631818400101592,
           -1.3490812177960083,
           2.928710356325724,
           3.081624106965725,
           2.675575871451564,
           1.3813722328928193,
           3.9388956095046574,
           3.687352816841387,
           3.1944294663465764,
           0.9907954004544308,
           0.5815085419660339,
           1.1831993161888783,
           2.5784302613118384,
           2.2289670885290565,
           1.9979172811692232,
           1.9313871585554108,
           0.3235258536112761,
           0.7176172638141103,
           0.0969702641781047,
           -0.5484103360077388,
           -0.94320021703574,
           0.851843641183242,
           1.396845665709367,
           1.4699752763084168,
           -1.2015154339468657,
           1.5396150121903562,
           1.8236645781332188,
           2.545908373637199,
           2.3049497373482795,
           3.8358442568088624,
           2.9520157363776702,
           2.445604860370389,
           1.8020737093027743,
           1.056073895927705,
           0.4629352665632709,
           -0.1286108028780055,
           -0.8995917861692899,
           -1.153956304207301,
           -1.9441613708263688,
           1.7768787467265643,
           2.944700369698703,
           3.33682293940784,
           2.299779341665797,
           1.2752925301539348,
           0.2051787935449465,
           0.3415330030559387,
           0.0593868353373101,
           0.1365125187549398,
           -0.7466602183018463,
           1.3843062633871426,
           2.182010296973597,
           2.4761031637206585,
           3.4115401256225084,
           2.414710010389552,
           2.467439703604901,
           1.5518181991920392,
           0.2074528406250662,
           -0.2199900041301725,
           -1.037467951319659,
           -0.1387752726471394,
           1.3827340062971198,
           0.1414723870013494,
           0.5773280600360007,
           1.241357695746079,
           1.322823018129667,
           0.7397062592608261,
           2.487120061372681,
           2.150587587236888,
           1.0181985029474965,
           -0.0086298141696661,
           -0.0140471706707065,
           -1.6119926523044028,
           0.9492475213046,
           1.0227800601012471,
           0.4044777008922444,
           -1.2371120107884486,
           0.9229814013455794,
           0.6617909037388586,
           -0.2063636237549322,
           -0.6994700424390515,
           -0.6994700424390515,
           0.3256862569389971,
           1.108215493540694,
           1.556786221057899,
           1.825638896078675,
           1.2579464996579808,
           0.8878053994402066,
           0.8878053994402066,
           0.4541548951141,
           0.0641133990853327
          ],
          "coloraxis": "coloraxis",
          "symbol": "circle"
         },
         "mode": "markers",
         "name": "",
         "orientation": "v",
         "showlegend": false,
         "x": [
          0,
          1,
          2,
          3,
          4,
          5,
          6,
          7,
          8,
          9,
          10,
          11,
          12,
          13,
          14,
          15,
          16,
          17,
          18,
          19,
          20,
          21,
          22,
          23,
          24,
          25,
          26,
          27,
          28,
          29,
          30,
          31,
          32,
          33,
          34,
          35,
          36,
          37,
          38,
          39,
          40,
          41,
          42,
          43,
          44,
          45,
          46,
          47,
          48,
          49,
          50,
          51,
          52,
          53,
          54,
          55,
          56,
          57,
          58,
          59,
          60,
          61,
          62,
          63,
          64,
          65,
          66,
          67,
          68,
          69,
          70,
          71,
          72,
          73,
          74,
          75,
          76,
          77,
          78,
          79,
          80,
          81,
          82,
          83,
          84,
          85,
          86,
          87,
          88,
          89,
          90,
          91,
          92,
          93,
          94,
          95,
          96,
          97,
          98,
          99,
          100,
          101,
          102,
          103,
          104,
          105,
          106,
          107,
          108,
          109,
          110,
          111,
          112,
          113,
          114,
          115,
          116,
          117,
          118,
          119,
          120,
          121,
          122,
          123,
          124,
          125,
          126,
          127,
          128,
          129,
          130,
          131,
          132,
          133,
          134,
          135,
          136,
          137,
          138,
          139,
          140,
          141,
          142,
          143,
          144,
          145,
          146,
          147,
          148,
          149,
          150,
          151,
          152,
          153
         ],
         "xaxis": "x",
         "y": [
          74.0,
          64.0,
          67.0,
          55.0,
          40.0,
          40.0,
          40.0,
          40.0,
          2.0,
          30.0,
          77.0,
          74.0,
          58.0,
          54.0,
          43.0,
          43.0,
          36.0,
          28.0,
          27.0,
          73.0,
          73.0,
          78.0,
          59.0,
          57.0,
          50.0,
          35.0,
          29.0,
          24.0,
          8.0,
          3.0,
          2.0,
          30.0,
          91.0,
          92.0,
          89.0,
          89.0,
          63.0,
          63.0,
          62.0,
          43.0,
          40.0,
          26.0,
          26.0,
          13.0,
          8.0,
          5.0,
          5.0,
          95.0,
          92.0,
          92.0,
          91.0,
          43.0,
          35.0,
          30.0,
          25.0,
          14.0,
          3.0,
          2.0,
          2.0,
          2.0,
          30.0,
          88.0,
          93.0,
          95.0,
          82.0,
          82.0,
          37.0,
          31.0,
          29.0,
          29.0,
          13.0,
          5.0,
          5.0,
          2.0,
          30.0,
          63.0,
          32.0,
          32.0,
          29.0,
          29.0,
          30.0,
          76.0,
          75.0,
          73.0,
          67.0,
          75.0,
          68.0,
          66.0,
          67.0,
          68.0,
          62.0,
          56.0,
          53.0,
          35.0,
          45.0,
          45.0,
          42.0,
          34.0,
          30.0,
          86.0,
          86.0,
          82.0,
          87.0,
          66.0,
          57.0,
          45.0,
          55.0,
          59.0,
          59.0,
          46.0,
          85.0,
          80.0,
          80.0,
          71.0,
          63.0,
          58.0,
          44.0,
          54.0,
          48.0,
          48.0,
          48.0,
          89.0,
          90.0,
          81.0,
          71.0,
          81.0,
          30.0,
          72.0,
          67.0,
          66.0,
          56.0,
          54.0,
          64.0,
          74.0,
          65.0,
          70.0,
          73.0,
          68.0,
          68.0,
          74.0,
          72.0,
          70.0,
          73.0,
          73.0,
          70.0,
          81.0,
          66.0,
          58.0,
          54.0,
          64.0,
          64.0,
          66.0,
          68.0,
          68.0
         ],
         "yaxis": "y",
         "type": "scatter"
        }
       ],
       "layout": {
        "template": {
         "data": {
          "histogram2dcontour": [
           {
            "type": "histogram2dcontour",
            "colorbar": {
             "outlinewidth": 0,
             "ticks": ""
            },
            "colorscale": [
             [
              0.0,
              "#0d0887"
             ],
             [
              0.1111111111111111,
              "#46039f"
             ],
             [
              0.2222222222222222,
              "#7201a8"
             ],
             [
              0.3333333333333333,
              "#9c179e"
             ],
             [
              0.4444444444444444,
              "#bd3786"
             ],
             [
              0.5555555555555556,
              "#d8576b"
             ],
             [
              0.6666666666666666,
              "#ed7953"
             ],
             [
              0.7777777777777778,
              "#fb9f3a"
             ],
             [
              0.8888888888888888,
              "#fdca26"
             ],
             [
              1.0,
              "#f0f921"
             ]
            ]
           }
          ],
          "choropleth": [
           {
            "type": "choropleth",
            "colorbar": {
             "outlinewidth": 0,
             "ticks": ""
            }
           }
          ],
          "histogram2d": [
           {
            "type": "histogram2d",
            "colorbar": {
             "outlinewidth": 0,
             "ticks": ""
            },
            "colorscale": [
             [
              0.0,
              "#0d0887"
             ],
             [
              0.1111111111111111,
              "#46039f"
             ],
             [
              0.2222222222222222,
              "#7201a8"
             ],
             [
              0.3333333333333333,
              "#9c179e"
             ],
             [
              0.4444444444444444,
              "#bd3786"
             ],
             [
              0.5555555555555556,
              "#d8576b"
             ],
             [
              0.6666666666666666,
              "#ed7953"
             ],
             [
              0.7777777777777778,
              "#fb9f3a"
             ],
             [
              0.8888888888888888,
              "#fdca26"
             ],
             [
              1.0,
              "#f0f921"
             ]
            ]
           }
          ],
          "heatmap": [
           {
            "type": "heatmap",
            "colorbar": {
             "outlinewidth": 0,
             "ticks": ""
            },
            "colorscale": [
             [
              0.0,
              "#0d0887"
             ],
             [
              0.1111111111111111,
              "#46039f"
             ],
             [
              0.2222222222222222,
              "#7201a8"
             ],
             [
              0.3333333333333333,
              "#9c179e"
             ],
             [
              0.4444444444444444,
              "#bd3786"
             ],
             [
              0.5555555555555556,
              "#d8576b"
             ],
             [
              0.6666666666666666,
              "#ed7953"
             ],
             [
              0.7777777777777778,
              "#fb9f3a"
             ],
             [
              0.8888888888888888,
              "#fdca26"
             ],
             [
              1.0,
              "#f0f921"
             ]
            ]
           }
          ],
          "heatmapgl": [
           {
            "type": "heatmapgl",
            "colorbar": {
             "outlinewidth": 0,
             "ticks": ""
            },
            "colorscale": [
             [
              0.0,
              "#0d0887"
             ],
             [
              0.1111111111111111,
              "#46039f"
             ],
             [
              0.2222222222222222,
              "#7201a8"
             ],
             [
              0.3333333333333333,
              "#9c179e"
             ],
             [
              0.4444444444444444,
              "#bd3786"
             ],
             [
              0.5555555555555556,
              "#d8576b"
             ],
             [
              0.6666666666666666,
              "#ed7953"
             ],
             [
              0.7777777777777778,
              "#fb9f3a"
             ],
             [
              0.8888888888888888,
              "#fdca26"
             ],
             [
              1.0,
              "#f0f921"
             ]
            ]
           }
          ],
          "contourcarpet": [
           {
            "type": "contourcarpet",
            "colorbar": {
             "outlinewidth": 0,
             "ticks": ""
            }
           }
          ],
          "contour": [
           {
            "type": "contour",
            "colorbar": {
             "outlinewidth": 0,
             "ticks": ""
            },
            "colorscale": [
             [
              0.0,
              "#0d0887"
             ],
             [
              0.1111111111111111,
              "#46039f"
             ],
             [
              0.2222222222222222,
              "#7201a8"
             ],
             [
              0.3333333333333333,
              "#9c179e"
             ],
             [
              0.4444444444444444,
              "#bd3786"
             ],
             [
              0.5555555555555556,
              "#d8576b"
             ],
             [
              0.6666666666666666,
              "#ed7953"
             ],
             [
              0.7777777777777778,
              "#fb9f3a"
             ],
             [
              0.8888888888888888,
              "#fdca26"
             ],
             [
              1.0,
              "#f0f921"
             ]
            ]
           }
          ],
          "surface": [
           {
            "type": "surface",
            "colorbar": {
             "outlinewidth": 0,
             "ticks": ""
            },
            "colorscale": [
             [
              0.0,
              "#0d0887"
             ],
             [
              0.1111111111111111,
              "#46039f"
             ],
             [
              0.2222222222222222,
              "#7201a8"
             ],
             [
              0.3333333333333333,
              "#9c179e"
             ],
             [
              0.4444444444444444,
              "#bd3786"
             ],
             [
              0.5555555555555556,
              "#d8576b"
             ],
             [
              0.6666666666666666,
              "#ed7953"
             ],
             [
              0.7777777777777778,
              "#fb9f3a"
             ],
             [
              0.8888888888888888,
              "#fdca26"
             ],
             [
              1.0,
              "#f0f921"
             ]
            ]
           }
          ],
          "mesh3d": [
           {
            "type": "mesh3d",
            "colorbar": {
             "outlinewidth": 0,
             "ticks": ""
            }
           }
          ],
          "scatter": [
           {
            "marker": {
             "line": {
              "color": "#283442"
             }
            },
            "type": "scatter"
           }
          ],
          "parcoords": [
           {
            "type": "parcoords",
            "line": {
             "colorbar": {
              "outlinewidth": 0,
              "ticks": ""
             }
            }
           }
          ],
          "scatterpolargl": [
           {
            "type": "scatterpolargl",
            "marker": {
             "colorbar": {
              "outlinewidth": 0,
              "ticks": ""
             }
            }
           }
          ],
          "bar": [
           {
            "error_x": {
             "color": "#f2f5fa"
            },
            "error_y": {
             "color": "#f2f5fa"
            },
            "marker": {
             "line": {
              "color": "rgb(17,17,17)",
              "width": 0.5
             },
             "pattern": {
              "fillmode": "overlay",
              "size": 10,
              "solidity": 0.2
             }
            },
            "type": "bar"
           }
          ],
          "scattergeo": [
           {
            "type": "scattergeo",
            "marker": {
             "colorbar": {
              "outlinewidth": 0,
              "ticks": ""
             }
            }
           }
          ],
          "scatterpolar": [
           {
            "type": "scatterpolar",
            "marker": {
             "colorbar": {
              "outlinewidth": 0,
              "ticks": ""
             }
            }
           }
          ],
          "histogram": [
           {
            "marker": {
             "pattern": {
              "fillmode": "overlay",
              "size": 10,
              "solidity": 0.2
             }
            },
            "type": "histogram"
           }
          ],
          "scattergl": [
           {
            "marker": {
             "line": {
              "color": "#283442"
             }
            },
            "type": "scattergl"
           }
          ],
          "scatter3d": [
           {
            "type": "scatter3d",
            "line": {
             "colorbar": {
              "outlinewidth": 0,
              "ticks": ""
             }
            },
            "marker": {
             "colorbar": {
              "outlinewidth": 0,
              "ticks": ""
             }
            }
           }
          ],
          "scattermapbox": [
           {
            "type": "scattermapbox",
            "marker": {
             "colorbar": {
              "outlinewidth": 0,
              "ticks": ""
             }
            }
           }
          ],
          "scatterternary": [
           {
            "type": "scatterternary",
            "marker": {
             "colorbar": {
              "outlinewidth": 0,
              "ticks": ""
             }
            }
           }
          ],
          "scattercarpet": [
           {
            "type": "scattercarpet",
            "marker": {
             "colorbar": {
              "outlinewidth": 0,
              "ticks": ""
             }
            }
           }
          ],
          "carpet": [
           {
            "aaxis": {
             "endlinecolor": "#A2B1C6",
             "gridcolor": "#506784",
             "linecolor": "#506784",
             "minorgridcolor": "#506784",
             "startlinecolor": "#A2B1C6"
            },
            "baxis": {
             "endlinecolor": "#A2B1C6",
             "gridcolor": "#506784",
             "linecolor": "#506784",
             "minorgridcolor": "#506784",
             "startlinecolor": "#A2B1C6"
            },
            "type": "carpet"
           }
          ],
          "table": [
           {
            "cells": {
             "fill": {
              "color": "#506784"
             },
             "line": {
              "color": "rgb(17,17,17)"
             }
            },
            "header": {
             "fill": {
              "color": "#2a3f5f"
             },
             "line": {
              "color": "rgb(17,17,17)"
             }
            },
            "type": "table"
           }
          ],
          "barpolar": [
           {
            "marker": {
             "line": {
              "color": "rgb(17,17,17)",
              "width": 0.5
             },
             "pattern": {
              "fillmode": "overlay",
              "size": 10,
              "solidity": 0.2
             }
            },
            "type": "barpolar"
           }
          ],
          "pie": [
           {
            "automargin": true,
            "type": "pie"
           }
          ]
         },
         "layout": {
          "autotypenumbers": "strict",
          "colorway": [
           "#636efa",
           "#EF553B",
           "#00cc96",
           "#ab63fa",
           "#FFA15A",
           "#19d3f3",
           "#FF6692",
           "#B6E880",
           "#FF97FF",
           "#FECB52"
          ],
          "font": {
           "color": "#f2f5fa"
          },
          "hovermode": "closest",
          "hoverlabel": {
           "align": "left"
          },
          "paper_bgcolor": "rgb(17,17,17)",
          "plot_bgcolor": "rgb(17,17,17)",
          "polar": {
           "bgcolor": "rgb(17,17,17)",
           "angularaxis": {
            "gridcolor": "#506784",
            "linecolor": "#506784",
            "ticks": ""
           },
           "radialaxis": {
            "gridcolor": "#506784",
            "linecolor": "#506784",
            "ticks": ""
           }
          },
          "ternary": {
           "bgcolor": "rgb(17,17,17)",
           "aaxis": {
            "gridcolor": "#506784",
            "linecolor": "#506784",
            "ticks": ""
           },
           "baxis": {
            "gridcolor": "#506784",
            "linecolor": "#506784",
            "ticks": ""
           },
           "caxis": {
            "gridcolor": "#506784",
            "linecolor": "#506784",
            "ticks": ""
           }
          },
          "coloraxis": {
           "colorbar": {
            "outlinewidth": 0,
            "ticks": ""
           }
          },
          "colorscale": {
           "sequential": [
            [
             0.0,
             "#0d0887"
            ],
            [
             0.1111111111111111,
             "#46039f"
            ],
            [
             0.2222222222222222,
             "#7201a8"
            ],
            [
             0.3333333333333333,
             "#9c179e"
            ],
            [
             0.4444444444444444,
             "#bd3786"
            ],
            [
             0.5555555555555556,
             "#d8576b"
            ],
            [
             0.6666666666666666,
             "#ed7953"
            ],
            [
             0.7777777777777778,
             "#fb9f3a"
            ],
            [
             0.8888888888888888,
             "#fdca26"
            ],
            [
             1.0,
             "#f0f921"
            ]
           ],
           "sequentialminus": [
            [
             0.0,
             "#0d0887"
            ],
            [
             0.1111111111111111,
             "#46039f"
            ],
            [
             0.2222222222222222,
             "#7201a8"
            ],
            [
             0.3333333333333333,
             "#9c179e"
            ],
            [
             0.4444444444444444,
             "#bd3786"
            ],
            [
             0.5555555555555556,
             "#d8576b"
            ],
            [
             0.6666666666666666,
             "#ed7953"
            ],
            [
             0.7777777777777778,
             "#fb9f3a"
            ],
            [
             0.8888888888888888,
             "#fdca26"
            ],
            [
             1.0,
             "#f0f921"
            ]
           ],
           "diverging": [
            [
             0,
             "#8e0152"
            ],
            [
             0.1,
             "#c51b7d"
            ],
            [
             0.2,
             "#de77ae"
            ],
            [
             0.3,
             "#f1b6da"
            ],
            [
             0.4,
             "#fde0ef"
            ],
            [
             0.5,
             "#f7f7f7"
            ],
            [
             0.6,
             "#e6f5d0"
            ],
            [
             0.7,
             "#b8e186"
            ],
            [
             0.8,
             "#7fbc41"
            ],
            [
             0.9,
             "#4d9221"
            ],
            [
             1,
             "#276419"
            ]
           ]
          },
          "xaxis": {
           "gridcolor": "#283442",
           "linecolor": "#506784",
           "ticks": "",
           "title": {
            "standoff": 15
           },
           "zerolinecolor": "#283442",
           "automargin": true,
           "zerolinewidth": 2
          },
          "yaxis": {
           "gridcolor": "#283442",
           "linecolor": "#506784",
           "ticks": "",
           "title": {
            "standoff": 15
           },
           "zerolinecolor": "#283442",
           "automargin": true,
           "zerolinewidth": 2
          },
          "scene": {
           "xaxis": {
            "backgroundcolor": "rgb(17,17,17)",
            "gridcolor": "#506784",
            "linecolor": "#506784",
            "showbackground": true,
            "ticks": "",
            "zerolinecolor": "#C8D4E3",
            "gridwidth": 2
           },
           "yaxis": {
            "backgroundcolor": "rgb(17,17,17)",
            "gridcolor": "#506784",
            "linecolor": "#506784",
            "showbackground": true,
            "ticks": "",
            "zerolinecolor": "#C8D4E3",
            "gridwidth": 2
           },
           "zaxis": {
            "backgroundcolor": "rgb(17,17,17)",
            "gridcolor": "#506784",
            "linecolor": "#506784",
            "showbackground": true,
            "ticks": "",
            "zerolinecolor": "#C8D4E3",
            "gridwidth": 2
           }
          },
          "shapedefaults": {
           "line": {
            "color": "#f2f5fa"
           }
          },
          "annotationdefaults": {
           "arrowcolor": "#f2f5fa",
           "arrowhead": 0,
           "arrowwidth": 1
          },
          "geo": {
           "bgcolor": "rgb(17,17,17)",
           "landcolor": "rgb(17,17,17)",
           "subunitcolor": "#506784",
           "showland": true,
           "showlakes": true,
           "lakecolor": "rgb(17,17,17)"
          },
          "title": {
           "x": 0.05
          },
          "updatemenudefaults": {
           "bgcolor": "#506784",
           "borderwidth": 0
          },
          "sliderdefaults": {
           "bgcolor": "#C8D4E3",
           "borderwidth": 1,
           "bordercolor": "rgb(17,17,17)",
           "tickwidth": 0
          },
          "mapbox": {
           "style": "dark"
          }
         }
        },
        "xaxis": {
         "anchor": "y",
         "domain": [
          0.0,
          1.0
         ],
         "title": {
          "text": "x"
         }
        },
        "yaxis": {
         "anchor": "x",
         "domain": [
          0.0,
          1.0
         ],
         "title": {
          "text": "yardline_100"
         }
        },
        "coloraxis": {
         "colorbar": {
          "title": {
           "text": "ep"
          }
         },
         "colorscale": [
          [
           0.0,
           "#0d0887"
          ],
          [
           0.1111111111111111,
           "#46039f"
          ],
          [
           0.2222222222222222,
           "#7201a8"
          ],
          [
           0.3333333333333333,
           "#9c179e"
          ],
          [
           0.4444444444444444,
           "#bd3786"
          ],
          [
           0.5555555555555556,
           "#d8576b"
          ],
          [
           0.6666666666666666,
           "#ed7953"
          ],
          [
           0.7777777777777778,
           "#fb9f3a"
          ],
          [
           0.8888888888888888,
           "#fdca26"
          ],
          [
           1.0,
           "#f0f921"
          ]
         ]
        },
        "legend": {
         "tracegroupgap": 0
        },
        "title": {
         "text": "Game ID: 2009080950"
        },
        "height": 400,
        "width": 1200
       },
       "config": {
        "plotlyServerURL": "https://plot.ly"
       }
      },
      "text/html": [
       "<div>                            <div id=\"36e9b835-822a-4c5d-9293-0a0b4c599f88\" class=\"plotly-graph-div\" style=\"height:400px; width:1200px;\"></div>            <script type=\"text/javascript\">                require([\"plotly\"], function(Plotly) {                    window.PLOTLYENV=window.PLOTLYENV || {};                                    if (document.getElementById(\"36e9b835-822a-4c5d-9293-0a0b4c599f88\")) {                    Plotly.newPlot(                        \"36e9b835-822a-4c5d-9293-0a0b4c599f88\",                        [{\"hovertemplate\":\"x=%{x}\\u003cbr\\u003eyardline_100=%{y}\\u003cbr\\u003eep=%{marker.color}\\u003cextra\\u003e\\u003c\\u002fextra\\u003e\",\"legendgroup\":\"\",\"marker\":{\"color\":[0.9117914696374628,1.834672533219011,0.6982054497603549,2.356606321897577,3.5455860969179027,3.0136708695146384,2.156991666244528,0.83188471946465,0.9907954004544308,0.3856281323654813,0.6807045806909056,0.3902043116439824,2.385120456661983,2.2913955614654395,3.4127111858084844,2.863887421241496,3.0253299228808475,4.13208767527644,3.747155432560608,1.1424706904400144,0.3861104094128678,-1.325056548831658,2.365542401718648,1.974880307590894,2.820973373434568,3.868127867135044,3.960884872637881,4.305762211829892,5.3178903278111385,5.605036892343673,0.9907954004544308,0.5464719280930748,-0.5023353790812293,-1.3692694180389249,-1.791574247212052,-2.857277833876278,2.0814605638597343,1.40960530827641,0.5995127264028315,3.4588567274419657,3.2461669464472465,3.861324615692451,3.1243944567848394,4.619240695816372,4.484518395948276,4.073401082684739,2.87888504328289,-0.6376268401880083,-0.8834384197801604,-1.5873735127591289,-2.428986547818456,3.2512060603512727,3.7299804477374696,3.909147390695159,3.8814899061671633,4.475592322718183,5.970964030622833,5.768427199636863,5.150334016590502,2.97425273052303,0.4831415749207131,-0.0088724562694439,-0.4217135351281673,-0.981919393798828,-0.3631818400101592,-1.3490812177960083,2.928710356325724,3.081624106965725,2.675575871451564,1.3813722328928193,3.9388956095046574,3.687352816841387,3.1944294663465764,0.9907954004544308,0.5815085419660339,1.1831993161888783,2.5784302613118384,2.2289670885290565,1.9979172811692232,1.9313871585554108,0.3235258536112761,0.7176172638141103,0.0969702641781047,-0.5484103360077388,-0.94320021703574,0.851843641183242,1.396845665709367,1.4699752763084168,-1.2015154339468657,1.5396150121903562,1.8236645781332188,2.545908373637199,2.3049497373482795,3.8358442568088624,2.9520157363776702,2.445604860370389,1.8020737093027743,1.056073895927705,0.4629352665632709,-0.1286108028780055,-0.8995917861692899,-1.153956304207301,-1.9441613708263688,1.7768787467265643,2.944700369698703,3.33682293940784,2.299779341665797,1.2752925301539348,0.2051787935449465,0.3415330030559387,0.0593868353373101,0.1365125187549398,-0.7466602183018463,1.3843062633871426,2.182010296973597,2.4761031637206585,3.4115401256225084,2.414710010389552,2.467439703604901,1.5518181991920392,0.2074528406250662,-0.2199900041301725,-1.037467951319659,-0.1387752726471394,1.3827340062971198,0.1414723870013494,0.5773280600360007,1.241357695746079,1.322823018129667,0.7397062592608261,2.487120061372681,2.150587587236888,1.0181985029474965,-0.0086298141696661,-0.0140471706707065,-1.6119926523044028,0.9492475213046,1.0227800601012471,0.4044777008922444,-1.2371120107884486,0.9229814013455794,0.6617909037388586,-0.2063636237549322,-0.6994700424390515,-0.6994700424390515,0.3256862569389971,1.108215493540694,1.556786221057899,1.825638896078675,1.2579464996579808,0.8878053994402066,0.8878053994402066,0.4541548951141,0.0641133990853327],\"coloraxis\":\"coloraxis\",\"symbol\":\"circle\"},\"mode\":\"markers\",\"name\":\"\",\"orientation\":\"v\",\"showlegend\":false,\"x\":[0,1,2,3,4,5,6,7,8,9,10,11,12,13,14,15,16,17,18,19,20,21,22,23,24,25,26,27,28,29,30,31,32,33,34,35,36,37,38,39,40,41,42,43,44,45,46,47,48,49,50,51,52,53,54,55,56,57,58,59,60,61,62,63,64,65,66,67,68,69,70,71,72,73,74,75,76,77,78,79,80,81,82,83,84,85,86,87,88,89,90,91,92,93,94,95,96,97,98,99,100,101,102,103,104,105,106,107,108,109,110,111,112,113,114,115,116,117,118,119,120,121,122,123,124,125,126,127,128,129,130,131,132,133,134,135,136,137,138,139,140,141,142,143,144,145,146,147,148,149,150,151,152,153],\"xaxis\":\"x\",\"y\":[74.0,64.0,67.0,55.0,40.0,40.0,40.0,40.0,2.0,30.0,77.0,74.0,58.0,54.0,43.0,43.0,36.0,28.0,27.0,73.0,73.0,78.0,59.0,57.0,50.0,35.0,29.0,24.0,8.0,3.0,2.0,30.0,91.0,92.0,89.0,89.0,63.0,63.0,62.0,43.0,40.0,26.0,26.0,13.0,8.0,5.0,5.0,95.0,92.0,92.0,91.0,43.0,35.0,30.0,25.0,14.0,3.0,2.0,2.0,2.0,30.0,88.0,93.0,95.0,82.0,82.0,37.0,31.0,29.0,29.0,13.0,5.0,5.0,2.0,30.0,63.0,32.0,32.0,29.0,29.0,30.0,76.0,75.0,73.0,67.0,75.0,68.0,66.0,67.0,68.0,62.0,56.0,53.0,35.0,45.0,45.0,42.0,34.0,30.0,86.0,86.0,82.0,87.0,66.0,57.0,45.0,55.0,59.0,59.0,46.0,85.0,80.0,80.0,71.0,63.0,58.0,44.0,54.0,48.0,48.0,48.0,89.0,90.0,81.0,71.0,81.0,30.0,72.0,67.0,66.0,56.0,54.0,64.0,74.0,65.0,70.0,73.0,68.0,68.0,74.0,72.0,70.0,73.0,73.0,70.0,81.0,66.0,58.0,54.0,64.0,64.0,66.0,68.0,68.0],\"yaxis\":\"y\",\"type\":\"scatter\"}],                        {\"template\":{\"data\":{\"histogram2dcontour\":[{\"type\":\"histogram2dcontour\",\"colorbar\":{\"outlinewidth\":0,\"ticks\":\"\"},\"colorscale\":[[0.0,\"#0d0887\"],[0.1111111111111111,\"#46039f\"],[0.2222222222222222,\"#7201a8\"],[0.3333333333333333,\"#9c179e\"],[0.4444444444444444,\"#bd3786\"],[0.5555555555555556,\"#d8576b\"],[0.6666666666666666,\"#ed7953\"],[0.7777777777777778,\"#fb9f3a\"],[0.8888888888888888,\"#fdca26\"],[1.0,\"#f0f921\"]]}],\"choropleth\":[{\"type\":\"choropleth\",\"colorbar\":{\"outlinewidth\":0,\"ticks\":\"\"}}],\"histogram2d\":[{\"type\":\"histogram2d\",\"colorbar\":{\"outlinewidth\":0,\"ticks\":\"\"},\"colorscale\":[[0.0,\"#0d0887\"],[0.1111111111111111,\"#46039f\"],[0.2222222222222222,\"#7201a8\"],[0.3333333333333333,\"#9c179e\"],[0.4444444444444444,\"#bd3786\"],[0.5555555555555556,\"#d8576b\"],[0.6666666666666666,\"#ed7953\"],[0.7777777777777778,\"#fb9f3a\"],[0.8888888888888888,\"#fdca26\"],[1.0,\"#f0f921\"]]}],\"heatmap\":[{\"type\":\"heatmap\",\"colorbar\":{\"outlinewidth\":0,\"ticks\":\"\"},\"colorscale\":[[0.0,\"#0d0887\"],[0.1111111111111111,\"#46039f\"],[0.2222222222222222,\"#7201a8\"],[0.3333333333333333,\"#9c179e\"],[0.4444444444444444,\"#bd3786\"],[0.5555555555555556,\"#d8576b\"],[0.6666666666666666,\"#ed7953\"],[0.7777777777777778,\"#fb9f3a\"],[0.8888888888888888,\"#fdca26\"],[1.0,\"#f0f921\"]]}],\"heatmapgl\":[{\"type\":\"heatmapgl\",\"colorbar\":{\"outlinewidth\":0,\"ticks\":\"\"},\"colorscale\":[[0.0,\"#0d0887\"],[0.1111111111111111,\"#46039f\"],[0.2222222222222222,\"#7201a8\"],[0.3333333333333333,\"#9c179e\"],[0.4444444444444444,\"#bd3786\"],[0.5555555555555556,\"#d8576b\"],[0.6666666666666666,\"#ed7953\"],[0.7777777777777778,\"#fb9f3a\"],[0.8888888888888888,\"#fdca26\"],[1.0,\"#f0f921\"]]}],\"contourcarpet\":[{\"type\":\"contourcarpet\",\"colorbar\":{\"outlinewidth\":0,\"ticks\":\"\"}}],\"contour\":[{\"type\":\"contour\",\"colorbar\":{\"outlinewidth\":0,\"ticks\":\"\"},\"colorscale\":[[0.0,\"#0d0887\"],[0.1111111111111111,\"#46039f\"],[0.2222222222222222,\"#7201a8\"],[0.3333333333333333,\"#9c179e\"],[0.4444444444444444,\"#bd3786\"],[0.5555555555555556,\"#d8576b\"],[0.6666666666666666,\"#ed7953\"],[0.7777777777777778,\"#fb9f3a\"],[0.8888888888888888,\"#fdca26\"],[1.0,\"#f0f921\"]]}],\"surface\":[{\"type\":\"surface\",\"colorbar\":{\"outlinewidth\":0,\"ticks\":\"\"},\"colorscale\":[[0.0,\"#0d0887\"],[0.1111111111111111,\"#46039f\"],[0.2222222222222222,\"#7201a8\"],[0.3333333333333333,\"#9c179e\"],[0.4444444444444444,\"#bd3786\"],[0.5555555555555556,\"#d8576b\"],[0.6666666666666666,\"#ed7953\"],[0.7777777777777778,\"#fb9f3a\"],[0.8888888888888888,\"#fdca26\"],[1.0,\"#f0f921\"]]}],\"mesh3d\":[{\"type\":\"mesh3d\",\"colorbar\":{\"outlinewidth\":0,\"ticks\":\"\"}}],\"scatter\":[{\"marker\":{\"line\":{\"color\":\"#283442\"}},\"type\":\"scatter\"}],\"parcoords\":[{\"type\":\"parcoords\",\"line\":{\"colorbar\":{\"outlinewidth\":0,\"ticks\":\"\"}}}],\"scatterpolargl\":[{\"type\":\"scatterpolargl\",\"marker\":{\"colorbar\":{\"outlinewidth\":0,\"ticks\":\"\"}}}],\"bar\":[{\"error_x\":{\"color\":\"#f2f5fa\"},\"error_y\":{\"color\":\"#f2f5fa\"},\"marker\":{\"line\":{\"color\":\"rgb(17,17,17)\",\"width\":0.5},\"pattern\":{\"fillmode\":\"overlay\",\"size\":10,\"solidity\":0.2}},\"type\":\"bar\"}],\"scattergeo\":[{\"type\":\"scattergeo\",\"marker\":{\"colorbar\":{\"outlinewidth\":0,\"ticks\":\"\"}}}],\"scatterpolar\":[{\"type\":\"scatterpolar\",\"marker\":{\"colorbar\":{\"outlinewidth\":0,\"ticks\":\"\"}}}],\"histogram\":[{\"marker\":{\"pattern\":{\"fillmode\":\"overlay\",\"size\":10,\"solidity\":0.2}},\"type\":\"histogram\"}],\"scattergl\":[{\"marker\":{\"line\":{\"color\":\"#283442\"}},\"type\":\"scattergl\"}],\"scatter3d\":[{\"type\":\"scatter3d\",\"line\":{\"colorbar\":{\"outlinewidth\":0,\"ticks\":\"\"}},\"marker\":{\"colorbar\":{\"outlinewidth\":0,\"ticks\":\"\"}}}],\"scattermapbox\":[{\"type\":\"scattermapbox\",\"marker\":{\"colorbar\":{\"outlinewidth\":0,\"ticks\":\"\"}}}],\"scatterternary\":[{\"type\":\"scatterternary\",\"marker\":{\"colorbar\":{\"outlinewidth\":0,\"ticks\":\"\"}}}],\"scattercarpet\":[{\"type\":\"scattercarpet\",\"marker\":{\"colorbar\":{\"outlinewidth\":0,\"ticks\":\"\"}}}],\"carpet\":[{\"aaxis\":{\"endlinecolor\":\"#A2B1C6\",\"gridcolor\":\"#506784\",\"linecolor\":\"#506784\",\"minorgridcolor\":\"#506784\",\"startlinecolor\":\"#A2B1C6\"},\"baxis\":{\"endlinecolor\":\"#A2B1C6\",\"gridcolor\":\"#506784\",\"linecolor\":\"#506784\",\"minorgridcolor\":\"#506784\",\"startlinecolor\":\"#A2B1C6\"},\"type\":\"carpet\"}],\"table\":[{\"cells\":{\"fill\":{\"color\":\"#506784\"},\"line\":{\"color\":\"rgb(17,17,17)\"}},\"header\":{\"fill\":{\"color\":\"#2a3f5f\"},\"line\":{\"color\":\"rgb(17,17,17)\"}},\"type\":\"table\"}],\"barpolar\":[{\"marker\":{\"line\":{\"color\":\"rgb(17,17,17)\",\"width\":0.5},\"pattern\":{\"fillmode\":\"overlay\",\"size\":10,\"solidity\":0.2}},\"type\":\"barpolar\"}],\"pie\":[{\"automargin\":true,\"type\":\"pie\"}]},\"layout\":{\"autotypenumbers\":\"strict\",\"colorway\":[\"#636efa\",\"#EF553B\",\"#00cc96\",\"#ab63fa\",\"#FFA15A\",\"#19d3f3\",\"#FF6692\",\"#B6E880\",\"#FF97FF\",\"#FECB52\"],\"font\":{\"color\":\"#f2f5fa\"},\"hovermode\":\"closest\",\"hoverlabel\":{\"align\":\"left\"},\"paper_bgcolor\":\"rgb(17,17,17)\",\"plot_bgcolor\":\"rgb(17,17,17)\",\"polar\":{\"bgcolor\":\"rgb(17,17,17)\",\"angularaxis\":{\"gridcolor\":\"#506784\",\"linecolor\":\"#506784\",\"ticks\":\"\"},\"radialaxis\":{\"gridcolor\":\"#506784\",\"linecolor\":\"#506784\",\"ticks\":\"\"}},\"ternary\":{\"bgcolor\":\"rgb(17,17,17)\",\"aaxis\":{\"gridcolor\":\"#506784\",\"linecolor\":\"#506784\",\"ticks\":\"\"},\"baxis\":{\"gridcolor\":\"#506784\",\"linecolor\":\"#506784\",\"ticks\":\"\"},\"caxis\":{\"gridcolor\":\"#506784\",\"linecolor\":\"#506784\",\"ticks\":\"\"}},\"coloraxis\":{\"colorbar\":{\"outlinewidth\":0,\"ticks\":\"\"}},\"colorscale\":{\"sequential\":[[0.0,\"#0d0887\"],[0.1111111111111111,\"#46039f\"],[0.2222222222222222,\"#7201a8\"],[0.3333333333333333,\"#9c179e\"],[0.4444444444444444,\"#bd3786\"],[0.5555555555555556,\"#d8576b\"],[0.6666666666666666,\"#ed7953\"],[0.7777777777777778,\"#fb9f3a\"],[0.8888888888888888,\"#fdca26\"],[1.0,\"#f0f921\"]],\"sequentialminus\":[[0.0,\"#0d0887\"],[0.1111111111111111,\"#46039f\"],[0.2222222222222222,\"#7201a8\"],[0.3333333333333333,\"#9c179e\"],[0.4444444444444444,\"#bd3786\"],[0.5555555555555556,\"#d8576b\"],[0.6666666666666666,\"#ed7953\"],[0.7777777777777778,\"#fb9f3a\"],[0.8888888888888888,\"#fdca26\"],[1.0,\"#f0f921\"]],\"diverging\":[[0,\"#8e0152\"],[0.1,\"#c51b7d\"],[0.2,\"#de77ae\"],[0.3,\"#f1b6da\"],[0.4,\"#fde0ef\"],[0.5,\"#f7f7f7\"],[0.6,\"#e6f5d0\"],[0.7,\"#b8e186\"],[0.8,\"#7fbc41\"],[0.9,\"#4d9221\"],[1,\"#276419\"]]},\"xaxis\":{\"gridcolor\":\"#283442\",\"linecolor\":\"#506784\",\"ticks\":\"\",\"title\":{\"standoff\":15},\"zerolinecolor\":\"#283442\",\"automargin\":true,\"zerolinewidth\":2},\"yaxis\":{\"gridcolor\":\"#283442\",\"linecolor\":\"#506784\",\"ticks\":\"\",\"title\":{\"standoff\":15},\"zerolinecolor\":\"#283442\",\"automargin\":true,\"zerolinewidth\":2},\"scene\":{\"xaxis\":{\"backgroundcolor\":\"rgb(17,17,17)\",\"gridcolor\":\"#506784\",\"linecolor\":\"#506784\",\"showbackground\":true,\"ticks\":\"\",\"zerolinecolor\":\"#C8D4E3\",\"gridwidth\":2},\"yaxis\":{\"backgroundcolor\":\"rgb(17,17,17)\",\"gridcolor\":\"#506784\",\"linecolor\":\"#506784\",\"showbackground\":true,\"ticks\":\"\",\"zerolinecolor\":\"#C8D4E3\",\"gridwidth\":2},\"zaxis\":{\"backgroundcolor\":\"rgb(17,17,17)\",\"gridcolor\":\"#506784\",\"linecolor\":\"#506784\",\"showbackground\":true,\"ticks\":\"\",\"zerolinecolor\":\"#C8D4E3\",\"gridwidth\":2}},\"shapedefaults\":{\"line\":{\"color\":\"#f2f5fa\"}},\"annotationdefaults\":{\"arrowcolor\":\"#f2f5fa\",\"arrowhead\":0,\"arrowwidth\":1},\"geo\":{\"bgcolor\":\"rgb(17,17,17)\",\"landcolor\":\"rgb(17,17,17)\",\"subunitcolor\":\"#506784\",\"showland\":true,\"showlakes\":true,\"lakecolor\":\"rgb(17,17,17)\"},\"title\":{\"x\":0.05},\"updatemenudefaults\":{\"bgcolor\":\"#506784\",\"borderwidth\":0},\"sliderdefaults\":{\"bgcolor\":\"#C8D4E3\",\"borderwidth\":1,\"bordercolor\":\"rgb(17,17,17)\",\"tickwidth\":0},\"mapbox\":{\"style\":\"dark\"}}},\"xaxis\":{\"anchor\":\"y\",\"domain\":[0.0,1.0],\"title\":{\"text\":\"x\"}},\"yaxis\":{\"anchor\":\"x\",\"domain\":[0.0,1.0],\"title\":{\"text\":\"yardline_100\"}},\"coloraxis\":{\"colorbar\":{\"title\":{\"text\":\"ep\"}},\"colorscale\":[[0.0,\"#0d0887\"],[0.1111111111111111,\"#46039f\"],[0.2222222222222222,\"#7201a8\"],[0.3333333333333333,\"#9c179e\"],[0.4444444444444444,\"#bd3786\"],[0.5555555555555556,\"#d8576b\"],[0.6666666666666666,\"#ed7953\"],[0.7777777777777778,\"#fb9f3a\"],[0.8888888888888888,\"#fdca26\"],[1.0,\"#f0f921\"]]},\"legend\":{\"tracegroupgap\":0},\"title\":{\"text\":\"Game ID: 2009080950\"},\"height\":400,\"width\":1200},                        {\"responsive\": true}                    ).then(function(){\n",
       "                            \n",
       "var gd = document.getElementById('36e9b835-822a-4c5d-9293-0a0b4c599f88');\n",
       "var x = new MutationObserver(function (mutations, observer) {{\n",
       "        var display = window.getComputedStyle(gd).display;\n",
       "        if (!display || display === 'none') {{\n",
       "            console.log([gd, 'removed!']);\n",
       "            Plotly.purge(gd);\n",
       "            observer.disconnect();\n",
       "        }}\n",
       "}});\n",
       "\n",
       "// Listen for the removal of the full notebook cells\n",
       "var notebookContainer = gd.closest('#notebook-container');\n",
       "if (notebookContainer) {{\n",
       "    x.observe(notebookContainer, {childList: true});\n",
       "}}\n",
       "\n",
       "// Listen for the clearing of the current output cell\n",
       "var outputEl = gd.closest('.output');\n",
       "if (outputEl) {{\n",
       "    x.observe(outputEl, {childList: true});\n",
       "}}\n",
       "\n",
       "                        })                };                });            </script>        </div>"
      ]
     },
     "metadata": {},
     "output_type": "display_data"
    },
    {
     "data": {
      "application/vnd.plotly.v1+json": {
       "data": [
        {
         "hovertemplate": "x=%{x}<br>yardline_100=%{y}<br>ep=%{marker.color}<extra></extra>",
         "legendgroup": "",
         "marker": {
          "color": [
           1.0117309970970372,
           -0.3483130711291067,
           -0.3134246820284214,
           0.4222090315402527,
           -1.4729043763514138,
           1.3201234623091198,
           0.5797641965862714,
           0.7353268090281364,
           -1.197825662760622,
           0.5800776618149832,
           0.2990530611287394,
           -0.6666655599011002,
           -2.214927624419936,
           0.6938699086356606,
           1.906995597546054,
           4.473824066816027,
           4.297692183543897,
           4.239585946460285,
           5.699671463325258,
           5.417870554589234,
           0.9907954004544308,
           0.4497436506654364,
           0.4497436506654364,
           -0.3255526025314479,
           0.1503733789421923,
           1.9543676879280287,
           3.0947069438677097,
           3.034106542580994,
           3.403990944854416,
           3.8345818683035007,
           4.527698843301182,
           4.105103622121324,
           3.42287955450671,
           2.3983796973803546,
           0.5395924112912294,
           1.4748024105429631,
           0.7564050626966512,
           0.6738519492099697,
           2.6272890352941665,
           -0.1886819100665171,
           0.6835002405802801,
           0.0952444857528738,
           -0.729209912004146,
           1.1257915440470776,
           2.071162295856945,
           0.6517708667473499,
           -1.1167885241302755,
           -1.2068324703194264,
           -1.6532465201059336,
           0.5852115588973001,
           0.0678799915557686,
           -0.7435604184857194,
           1.0807038129439712,
           1.3256676890392116,
           1.5864012008994552,
           2.099032867109252,
           3.114156966948082,
           3.6510777367353593,
           3.1948087374052827,
           3.189740483014168,
           2.0917808129954345,
           0.4858789567337449,
           0.8086416937093078,
           0.3141162572338758,
           1.2353973188264704,
           1.5353734470663314,
           1.0513166595293422,
           2.100517104856676,
           4.097796989184133,
           3.811913618616545,
           3.120697762754749,
           0.9907954004544308,
           0.370263010780526,
           0.8143617709599952,
           1.80249569083514,
           2.728486048753145,
           3.215112590033108,
           3.150032364208496,
           2.839427371202582,
           2.2900136613515194,
           2.0897884775263327,
           2.040181311502473,
           0.0,
           0.0,
           0.3235258536112761,
           0.3250500420756153,
           0.0391054781209345,
           1.4052812964922037,
           2.6711367943104456,
           3.676994858677973,
           4.241984797766718,
           3.792863019628367,
           3.1122663198057428,
           2.4942419679667376,
           0.4062687420164874,
           1.4618889862544904,
           1.0345290408615,
           1.1547593993133036,
           2.7273366939314,
           4.230139426954209,
           4.504299370411174,
           3.876786818521478,
           2.564666726437968,
           0.4623658165842903,
           0.2673981354477983,
           -1.3032763590257364,
           -2.208697877012577,
           -3.139495429996104,
           -2.764518889269937,
           3.346205107109299,
           3.015948085608125,
           4.497796377704276,
           5.865338016185921,
           0.9907954004544308,
           0.5123107773024658,
           1.087559901190821,
           0.9909822764235532,
           1.1507903416114185,
           -0.5296295474314161,
           3.884470549435958,
           5.566369893092023,
           5.840655934007351,
           5.683769835144721,
           0.947,
           0.5594709159296762,
           1.2126445899376106,
           2.400645098743822,
           2.3112753797335337,
           1.2746126613228457,
           2.381479700503738,
           3.854820122805476,
           3.366803044217421,
           2.99260654887835,
           1.4658307917292932,
           0.5859668128979856,
           1.5421886306956032,
           1.4424512507106613,
           2.443033364709644,
           1.950296451471732,
           3.233352971004609,
           3.823128162685195,
           4.357854188180721,
           4.186304343885017,
           3.759606749602431,
           3.071606778005076,
           2.69951446850197,
           0.4995743409404145,
           -0.2519987563257853,
           0.8037331034442977,
           0.5960152143496156,
           1.1412203975376287,
           -0.4807766022240863,
           0.8713741085996474,
           1.0081119414359228,
           1.5337385984211669,
           1.3881933663382724,
           2.762417987866369,
           2.68594278520357,
           2.760031047746544,
           2.1513211694621823,
           2.1513211694621823,
           1.0799110315079954,
           0.0,
           0.0,
           0.0,
           0.0,
           0.8139268105367297
          ],
          "coloraxis": "coloraxis",
          "symbol": "circle"
         },
         "mode": "markers",
         "name": "",
         "orientation": "v",
         "showlegend": false,
         "x": [
          0,
          1,
          2,
          3,
          4,
          5,
          6,
          7,
          8,
          9,
          10,
          11,
          12,
          13,
          14,
          15,
          16,
          17,
          18,
          19,
          20,
          21,
          22,
          23,
          24,
          25,
          26,
          27,
          28,
          29,
          30,
          31,
          32,
          33,
          34,
          35,
          36,
          37,
          38,
          39,
          40,
          41,
          42,
          43,
          44,
          45,
          46,
          47,
          48,
          49,
          50,
          51,
          52,
          53,
          54,
          55,
          56,
          57,
          58,
          59,
          60,
          61,
          62,
          63,
          64,
          65,
          66,
          67,
          68,
          69,
          70,
          71,
          72,
          73,
          74,
          75,
          76,
          77,
          78,
          79,
          80,
          81,
          82,
          83,
          84,
          85,
          86,
          87,
          88,
          89,
          90,
          91,
          92,
          93,
          94,
          95,
          96,
          97,
          98,
          99,
          100,
          101,
          102,
          103,
          104,
          105,
          106,
          107,
          108,
          109,
          110,
          111,
          112,
          113,
          114,
          115,
          116,
          117,
          118,
          119,
          120,
          121,
          122,
          123,
          124,
          125,
          126,
          127,
          128,
          129,
          130,
          131,
          132,
          133,
          134,
          135,
          136,
          137,
          138,
          139,
          140,
          141,
          142,
          143,
          144,
          145,
          146,
          147,
          148,
          149,
          150,
          151,
          152,
          153,
          154,
          155,
          156,
          157,
          158,
          159,
          160,
          161,
          162,
          163,
          164,
          165,
          166
         ],
         "xaxis": "x",
         "y": [
          73.0,
          83.0,
          77.0,
          67.0,
          67.0,
          70.0,
          70.0,
          64.0,
          64.0,
          78.0,
          75.0,
          75.0,
          75.0,
          77.0,
          64.0,
          18.0,
          14.0,
          9.0,
          5.0,
          4.0,
          2.0,
          30.0,
          80.0,
          80.0,
          73.0,
          64.0,
          55.0,
          50.0,
          43.0,
          36.0,
          17.0,
          17.0,
          16.0,
          20.0,
          30.0,
          70.0,
          70.0,
          65.0,
          56.0,
          88.0,
          83.0,
          82.0,
          82.0,
          74.0,
          63.0,
          69.0,
          76.0,
          65.0,
          70.0,
          30.0,
          86.0,
          93.0,
          74.0,
          68.0,
          65.0,
          60.0,
          44.0,
          33.0,
          33.0,
          26.0,
          25.0,
          30.0,
          75.0,
          75.0,
          66.0,
          63.0,
          63.0,
          53.0,
          12.0,
          9.0,
          9.0,
          2.0,
          30.0,
          71.0,
          55.0,
          33.0,
          24.0,
          22.0,
          22.0,
          32.0,
          27.0,
          27.0,
          66.0,
          67.0,
          30.0,
          80.0,
          77.0,
          69.0,
          54.0,
          38.0,
          25.0,
          25.0,
          24.0,
          19.0,
          30.0,
          69.0,
          67.0,
          62.0,
          54.0,
          26.0,
          18.0,
          18.0,
          18.0,
          30.0,
          82.0,
          88.0,
          88.0,
          88.0,
          83.0,
          45.0,
          43.0,
          18.0,
          4.0,
          2.0,
          30.0,
          74.0,
          70.0,
          66.0,
          65.0,
          35.0,
          6.0,
          2.0,
          1.0,
          2.0,
          30.0,
          73.0,
          59.0,
          55.0,
          56.0,
          51.0,
          35.0,
          35.0,
          31.0,
          31.0,
          30.0,
          69.0,
          65.0,
          57.0,
          56.0,
          44.0,
          32.0,
          23.0,
          21.0,
          21.0,
          20.0,
          16.0,
          30.0,
          92.0,
          75.0,
          72.0,
          66.0,
          68.0,
          71.0,
          65.0,
          58.0,
          58.0,
          34.0,
          29.0,
          25.0,
          25.0,
          25.0,
          67.0,
          67.0,
          54.0,
          54.0,
          56.0,
          56.0
         ],
         "yaxis": "y",
         "type": "scatter"
        }
       ],
       "layout": {
        "template": {
         "data": {
          "histogram2dcontour": [
           {
            "type": "histogram2dcontour",
            "colorbar": {
             "outlinewidth": 0,
             "ticks": ""
            },
            "colorscale": [
             [
              0.0,
              "#0d0887"
             ],
             [
              0.1111111111111111,
              "#46039f"
             ],
             [
              0.2222222222222222,
              "#7201a8"
             ],
             [
              0.3333333333333333,
              "#9c179e"
             ],
             [
              0.4444444444444444,
              "#bd3786"
             ],
             [
              0.5555555555555556,
              "#d8576b"
             ],
             [
              0.6666666666666666,
              "#ed7953"
             ],
             [
              0.7777777777777778,
              "#fb9f3a"
             ],
             [
              0.8888888888888888,
              "#fdca26"
             ],
             [
              1.0,
              "#f0f921"
             ]
            ]
           }
          ],
          "choropleth": [
           {
            "type": "choropleth",
            "colorbar": {
             "outlinewidth": 0,
             "ticks": ""
            }
           }
          ],
          "histogram2d": [
           {
            "type": "histogram2d",
            "colorbar": {
             "outlinewidth": 0,
             "ticks": ""
            },
            "colorscale": [
             [
              0.0,
              "#0d0887"
             ],
             [
              0.1111111111111111,
              "#46039f"
             ],
             [
              0.2222222222222222,
              "#7201a8"
             ],
             [
              0.3333333333333333,
              "#9c179e"
             ],
             [
              0.4444444444444444,
              "#bd3786"
             ],
             [
              0.5555555555555556,
              "#d8576b"
             ],
             [
              0.6666666666666666,
              "#ed7953"
             ],
             [
              0.7777777777777778,
              "#fb9f3a"
             ],
             [
              0.8888888888888888,
              "#fdca26"
             ],
             [
              1.0,
              "#f0f921"
             ]
            ]
           }
          ],
          "heatmap": [
           {
            "type": "heatmap",
            "colorbar": {
             "outlinewidth": 0,
             "ticks": ""
            },
            "colorscale": [
             [
              0.0,
              "#0d0887"
             ],
             [
              0.1111111111111111,
              "#46039f"
             ],
             [
              0.2222222222222222,
              "#7201a8"
             ],
             [
              0.3333333333333333,
              "#9c179e"
             ],
             [
              0.4444444444444444,
              "#bd3786"
             ],
             [
              0.5555555555555556,
              "#d8576b"
             ],
             [
              0.6666666666666666,
              "#ed7953"
             ],
             [
              0.7777777777777778,
              "#fb9f3a"
             ],
             [
              0.8888888888888888,
              "#fdca26"
             ],
             [
              1.0,
              "#f0f921"
             ]
            ]
           }
          ],
          "heatmapgl": [
           {
            "type": "heatmapgl",
            "colorbar": {
             "outlinewidth": 0,
             "ticks": ""
            },
            "colorscale": [
             [
              0.0,
              "#0d0887"
             ],
             [
              0.1111111111111111,
              "#46039f"
             ],
             [
              0.2222222222222222,
              "#7201a8"
             ],
             [
              0.3333333333333333,
              "#9c179e"
             ],
             [
              0.4444444444444444,
              "#bd3786"
             ],
             [
              0.5555555555555556,
              "#d8576b"
             ],
             [
              0.6666666666666666,
              "#ed7953"
             ],
             [
              0.7777777777777778,
              "#fb9f3a"
             ],
             [
              0.8888888888888888,
              "#fdca26"
             ],
             [
              1.0,
              "#f0f921"
             ]
            ]
           }
          ],
          "contourcarpet": [
           {
            "type": "contourcarpet",
            "colorbar": {
             "outlinewidth": 0,
             "ticks": ""
            }
           }
          ],
          "contour": [
           {
            "type": "contour",
            "colorbar": {
             "outlinewidth": 0,
             "ticks": ""
            },
            "colorscale": [
             [
              0.0,
              "#0d0887"
             ],
             [
              0.1111111111111111,
              "#46039f"
             ],
             [
              0.2222222222222222,
              "#7201a8"
             ],
             [
              0.3333333333333333,
              "#9c179e"
             ],
             [
              0.4444444444444444,
              "#bd3786"
             ],
             [
              0.5555555555555556,
              "#d8576b"
             ],
             [
              0.6666666666666666,
              "#ed7953"
             ],
             [
              0.7777777777777778,
              "#fb9f3a"
             ],
             [
              0.8888888888888888,
              "#fdca26"
             ],
             [
              1.0,
              "#f0f921"
             ]
            ]
           }
          ],
          "surface": [
           {
            "type": "surface",
            "colorbar": {
             "outlinewidth": 0,
             "ticks": ""
            },
            "colorscale": [
             [
              0.0,
              "#0d0887"
             ],
             [
              0.1111111111111111,
              "#46039f"
             ],
             [
              0.2222222222222222,
              "#7201a8"
             ],
             [
              0.3333333333333333,
              "#9c179e"
             ],
             [
              0.4444444444444444,
              "#bd3786"
             ],
             [
              0.5555555555555556,
              "#d8576b"
             ],
             [
              0.6666666666666666,
              "#ed7953"
             ],
             [
              0.7777777777777778,
              "#fb9f3a"
             ],
             [
              0.8888888888888888,
              "#fdca26"
             ],
             [
              1.0,
              "#f0f921"
             ]
            ]
           }
          ],
          "mesh3d": [
           {
            "type": "mesh3d",
            "colorbar": {
             "outlinewidth": 0,
             "ticks": ""
            }
           }
          ],
          "scatter": [
           {
            "marker": {
             "line": {
              "color": "#283442"
             }
            },
            "type": "scatter"
           }
          ],
          "parcoords": [
           {
            "type": "parcoords",
            "line": {
             "colorbar": {
              "outlinewidth": 0,
              "ticks": ""
             }
            }
           }
          ],
          "scatterpolargl": [
           {
            "type": "scatterpolargl",
            "marker": {
             "colorbar": {
              "outlinewidth": 0,
              "ticks": ""
             }
            }
           }
          ],
          "bar": [
           {
            "error_x": {
             "color": "#f2f5fa"
            },
            "error_y": {
             "color": "#f2f5fa"
            },
            "marker": {
             "line": {
              "color": "rgb(17,17,17)",
              "width": 0.5
             },
             "pattern": {
              "fillmode": "overlay",
              "size": 10,
              "solidity": 0.2
             }
            },
            "type": "bar"
           }
          ],
          "scattergeo": [
           {
            "type": "scattergeo",
            "marker": {
             "colorbar": {
              "outlinewidth": 0,
              "ticks": ""
             }
            }
           }
          ],
          "scatterpolar": [
           {
            "type": "scatterpolar",
            "marker": {
             "colorbar": {
              "outlinewidth": 0,
              "ticks": ""
             }
            }
           }
          ],
          "histogram": [
           {
            "marker": {
             "pattern": {
              "fillmode": "overlay",
              "size": 10,
              "solidity": 0.2
             }
            },
            "type": "histogram"
           }
          ],
          "scattergl": [
           {
            "marker": {
             "line": {
              "color": "#283442"
             }
            },
            "type": "scattergl"
           }
          ],
          "scatter3d": [
           {
            "type": "scatter3d",
            "line": {
             "colorbar": {
              "outlinewidth": 0,
              "ticks": ""
             }
            },
            "marker": {
             "colorbar": {
              "outlinewidth": 0,
              "ticks": ""
             }
            }
           }
          ],
          "scattermapbox": [
           {
            "type": "scattermapbox",
            "marker": {
             "colorbar": {
              "outlinewidth": 0,
              "ticks": ""
             }
            }
           }
          ],
          "scatterternary": [
           {
            "type": "scatterternary",
            "marker": {
             "colorbar": {
              "outlinewidth": 0,
              "ticks": ""
             }
            }
           }
          ],
          "scattercarpet": [
           {
            "type": "scattercarpet",
            "marker": {
             "colorbar": {
              "outlinewidth": 0,
              "ticks": ""
             }
            }
           }
          ],
          "carpet": [
           {
            "aaxis": {
             "endlinecolor": "#A2B1C6",
             "gridcolor": "#506784",
             "linecolor": "#506784",
             "minorgridcolor": "#506784",
             "startlinecolor": "#A2B1C6"
            },
            "baxis": {
             "endlinecolor": "#A2B1C6",
             "gridcolor": "#506784",
             "linecolor": "#506784",
             "minorgridcolor": "#506784",
             "startlinecolor": "#A2B1C6"
            },
            "type": "carpet"
           }
          ],
          "table": [
           {
            "cells": {
             "fill": {
              "color": "#506784"
             },
             "line": {
              "color": "rgb(17,17,17)"
             }
            },
            "header": {
             "fill": {
              "color": "#2a3f5f"
             },
             "line": {
              "color": "rgb(17,17,17)"
             }
            },
            "type": "table"
           }
          ],
          "barpolar": [
           {
            "marker": {
             "line": {
              "color": "rgb(17,17,17)",
              "width": 0.5
             },
             "pattern": {
              "fillmode": "overlay",
              "size": 10,
              "solidity": 0.2
             }
            },
            "type": "barpolar"
           }
          ],
          "pie": [
           {
            "automargin": true,
            "type": "pie"
           }
          ]
         },
         "layout": {
          "autotypenumbers": "strict",
          "colorway": [
           "#636efa",
           "#EF553B",
           "#00cc96",
           "#ab63fa",
           "#FFA15A",
           "#19d3f3",
           "#FF6692",
           "#B6E880",
           "#FF97FF",
           "#FECB52"
          ],
          "font": {
           "color": "#f2f5fa"
          },
          "hovermode": "closest",
          "hoverlabel": {
           "align": "left"
          },
          "paper_bgcolor": "rgb(17,17,17)",
          "plot_bgcolor": "rgb(17,17,17)",
          "polar": {
           "bgcolor": "rgb(17,17,17)",
           "angularaxis": {
            "gridcolor": "#506784",
            "linecolor": "#506784",
            "ticks": ""
           },
           "radialaxis": {
            "gridcolor": "#506784",
            "linecolor": "#506784",
            "ticks": ""
           }
          },
          "ternary": {
           "bgcolor": "rgb(17,17,17)",
           "aaxis": {
            "gridcolor": "#506784",
            "linecolor": "#506784",
            "ticks": ""
           },
           "baxis": {
            "gridcolor": "#506784",
            "linecolor": "#506784",
            "ticks": ""
           },
           "caxis": {
            "gridcolor": "#506784",
            "linecolor": "#506784",
            "ticks": ""
           }
          },
          "coloraxis": {
           "colorbar": {
            "outlinewidth": 0,
            "ticks": ""
           }
          },
          "colorscale": {
           "sequential": [
            [
             0.0,
             "#0d0887"
            ],
            [
             0.1111111111111111,
             "#46039f"
            ],
            [
             0.2222222222222222,
             "#7201a8"
            ],
            [
             0.3333333333333333,
             "#9c179e"
            ],
            [
             0.4444444444444444,
             "#bd3786"
            ],
            [
             0.5555555555555556,
             "#d8576b"
            ],
            [
             0.6666666666666666,
             "#ed7953"
            ],
            [
             0.7777777777777778,
             "#fb9f3a"
            ],
            [
             0.8888888888888888,
             "#fdca26"
            ],
            [
             1.0,
             "#f0f921"
            ]
           ],
           "sequentialminus": [
            [
             0.0,
             "#0d0887"
            ],
            [
             0.1111111111111111,
             "#46039f"
            ],
            [
             0.2222222222222222,
             "#7201a8"
            ],
            [
             0.3333333333333333,
             "#9c179e"
            ],
            [
             0.4444444444444444,
             "#bd3786"
            ],
            [
             0.5555555555555556,
             "#d8576b"
            ],
            [
             0.6666666666666666,
             "#ed7953"
            ],
            [
             0.7777777777777778,
             "#fb9f3a"
            ],
            [
             0.8888888888888888,
             "#fdca26"
            ],
            [
             1.0,
             "#f0f921"
            ]
           ],
           "diverging": [
            [
             0,
             "#8e0152"
            ],
            [
             0.1,
             "#c51b7d"
            ],
            [
             0.2,
             "#de77ae"
            ],
            [
             0.3,
             "#f1b6da"
            ],
            [
             0.4,
             "#fde0ef"
            ],
            [
             0.5,
             "#f7f7f7"
            ],
            [
             0.6,
             "#e6f5d0"
            ],
            [
             0.7,
             "#b8e186"
            ],
            [
             0.8,
             "#7fbc41"
            ],
            [
             0.9,
             "#4d9221"
            ],
            [
             1,
             "#276419"
            ]
           ]
          },
          "xaxis": {
           "gridcolor": "#283442",
           "linecolor": "#506784",
           "ticks": "",
           "title": {
            "standoff": 15
           },
           "zerolinecolor": "#283442",
           "automargin": true,
           "zerolinewidth": 2
          },
          "yaxis": {
           "gridcolor": "#283442",
           "linecolor": "#506784",
           "ticks": "",
           "title": {
            "standoff": 15
           },
           "zerolinecolor": "#283442",
           "automargin": true,
           "zerolinewidth": 2
          },
          "scene": {
           "xaxis": {
            "backgroundcolor": "rgb(17,17,17)",
            "gridcolor": "#506784",
            "linecolor": "#506784",
            "showbackground": true,
            "ticks": "",
            "zerolinecolor": "#C8D4E3",
            "gridwidth": 2
           },
           "yaxis": {
            "backgroundcolor": "rgb(17,17,17)",
            "gridcolor": "#506784",
            "linecolor": "#506784",
            "showbackground": true,
            "ticks": "",
            "zerolinecolor": "#C8D4E3",
            "gridwidth": 2
           },
           "zaxis": {
            "backgroundcolor": "rgb(17,17,17)",
            "gridcolor": "#506784",
            "linecolor": "#506784",
            "showbackground": true,
            "ticks": "",
            "zerolinecolor": "#C8D4E3",
            "gridwidth": 2
           }
          },
          "shapedefaults": {
           "line": {
            "color": "#f2f5fa"
           }
          },
          "annotationdefaults": {
           "arrowcolor": "#f2f5fa",
           "arrowhead": 0,
           "arrowwidth": 1
          },
          "geo": {
           "bgcolor": "rgb(17,17,17)",
           "landcolor": "rgb(17,17,17)",
           "subunitcolor": "#506784",
           "showland": true,
           "showlakes": true,
           "lakecolor": "rgb(17,17,17)"
          },
          "title": {
           "x": 0.05
          },
          "updatemenudefaults": {
           "bgcolor": "#506784",
           "borderwidth": 0
          },
          "sliderdefaults": {
           "bgcolor": "#C8D4E3",
           "borderwidth": 1,
           "bordercolor": "rgb(17,17,17)",
           "tickwidth": 0
          },
          "mapbox": {
           "style": "dark"
          }
         }
        },
        "xaxis": {
         "anchor": "y",
         "domain": [
          0.0,
          1.0
         ],
         "title": {
          "text": "x"
         }
        },
        "yaxis": {
         "anchor": "x",
         "domain": [
          0.0,
          1.0
         ],
         "title": {
          "text": "yardline_100"
         }
        },
        "coloraxis": {
         "colorbar": {
          "title": {
           "text": "ep"
          }
         },
         "colorscale": [
          [
           0.0,
           "#0d0887"
          ],
          [
           0.1111111111111111,
           "#46039f"
          ],
          [
           0.2222222222222222,
           "#7201a8"
          ],
          [
           0.3333333333333333,
           "#9c179e"
          ],
          [
           0.4444444444444444,
           "#bd3786"
          ],
          [
           0.5555555555555556,
           "#d8576b"
          ],
          [
           0.6666666666666666,
           "#ed7953"
          ],
          [
           0.7777777777777778,
           "#fb9f3a"
          ],
          [
           0.8888888888888888,
           "#fdca26"
          ],
          [
           1.0,
           "#f0f921"
          ]
         ]
        },
        "legend": {
         "tracegroupgap": 0
        },
        "title": {
         "text": "Game ID: 2009081351"
        },
        "height": 400,
        "width": 1200
       },
       "config": {
        "plotlyServerURL": "https://plot.ly"
       }
      },
      "text/html": [
       "<div>                            <div id=\"1d17ec6a-98ce-4f90-ba78-e256de0d216f\" class=\"plotly-graph-div\" style=\"height:400px; width:1200px;\"></div>            <script type=\"text/javascript\">                require([\"plotly\"], function(Plotly) {                    window.PLOTLYENV=window.PLOTLYENV || {};                                    if (document.getElementById(\"1d17ec6a-98ce-4f90-ba78-e256de0d216f\")) {                    Plotly.newPlot(                        \"1d17ec6a-98ce-4f90-ba78-e256de0d216f\",                        [{\"hovertemplate\":\"x=%{x}\\u003cbr\\u003eyardline_100=%{y}\\u003cbr\\u003eep=%{marker.color}\\u003cextra\\u003e\\u003c\\u002fextra\\u003e\",\"legendgroup\":\"\",\"marker\":{\"color\":[1.0117309970970372,-0.3483130711291067,-0.3134246820284214,0.4222090315402527,-1.4729043763514138,1.3201234623091198,0.5797641965862714,0.7353268090281364,-1.197825662760622,0.5800776618149832,0.2990530611287394,-0.6666655599011002,-2.214927624419936,0.6938699086356606,1.906995597546054,4.473824066816027,4.297692183543897,4.239585946460285,5.699671463325258,5.417870554589234,0.9907954004544308,0.4497436506654364,0.4497436506654364,-0.3255526025314479,0.1503733789421923,1.9543676879280287,3.0947069438677097,3.034106542580994,3.403990944854416,3.8345818683035007,4.527698843301182,4.105103622121324,3.42287955450671,2.3983796973803546,0.5395924112912294,1.4748024105429631,0.7564050626966512,0.6738519492099697,2.6272890352941665,-0.1886819100665171,0.6835002405802801,0.0952444857528738,-0.729209912004146,1.1257915440470776,2.071162295856945,0.6517708667473499,-1.1167885241302755,-1.2068324703194264,-1.6532465201059336,0.5852115588973001,0.0678799915557686,-0.7435604184857194,1.0807038129439712,1.3256676890392116,1.5864012008994552,2.099032867109252,3.114156966948082,3.6510777367353593,3.1948087374052827,3.189740483014168,2.0917808129954345,0.4858789567337449,0.8086416937093078,0.3141162572338758,1.2353973188264704,1.5353734470663314,1.0513166595293422,2.100517104856676,4.097796989184133,3.811913618616545,3.120697762754749,0.9907954004544308,0.370263010780526,0.8143617709599952,1.80249569083514,2.728486048753145,3.215112590033108,3.150032364208496,2.839427371202582,2.2900136613515194,2.0897884775263327,2.040181311502473,0.0,0.0,0.3235258536112761,0.3250500420756153,0.0391054781209345,1.4052812964922037,2.6711367943104456,3.676994858677973,4.241984797766718,3.792863019628367,3.1122663198057428,2.4942419679667376,0.4062687420164874,1.4618889862544904,1.0345290408615,1.1547593993133036,2.7273366939314,4.230139426954209,4.504299370411174,3.876786818521478,2.564666726437968,0.4623658165842903,0.2673981354477983,-1.3032763590257364,-2.208697877012577,-3.139495429996104,-2.764518889269937,3.346205107109299,3.015948085608125,4.497796377704276,5.865338016185921,0.9907954004544308,0.5123107773024658,1.087559901190821,0.9909822764235532,1.1507903416114185,-0.5296295474314161,3.884470549435958,5.566369893092023,5.840655934007351,5.683769835144721,0.947,0.5594709159296762,1.2126445899376106,2.400645098743822,2.3112753797335337,1.2746126613228457,2.381479700503738,3.854820122805476,3.366803044217421,2.99260654887835,1.4658307917292932,0.5859668128979856,1.5421886306956032,1.4424512507106613,2.443033364709644,1.950296451471732,3.233352971004609,3.823128162685195,4.357854188180721,4.186304343885017,3.759606749602431,3.071606778005076,2.69951446850197,0.4995743409404145,-0.2519987563257853,0.8037331034442977,0.5960152143496156,1.1412203975376287,-0.4807766022240863,0.8713741085996474,1.0081119414359228,1.5337385984211669,1.3881933663382724,2.762417987866369,2.68594278520357,2.760031047746544,2.1513211694621823,2.1513211694621823,1.0799110315079954,0.0,0.0,0.0,0.0,0.8139268105367297],\"coloraxis\":\"coloraxis\",\"symbol\":\"circle\"},\"mode\":\"markers\",\"name\":\"\",\"orientation\":\"v\",\"showlegend\":false,\"x\":[0,1,2,3,4,5,6,7,8,9,10,11,12,13,14,15,16,17,18,19,20,21,22,23,24,25,26,27,28,29,30,31,32,33,34,35,36,37,38,39,40,41,42,43,44,45,46,47,48,49,50,51,52,53,54,55,56,57,58,59,60,61,62,63,64,65,66,67,68,69,70,71,72,73,74,75,76,77,78,79,80,81,82,83,84,85,86,87,88,89,90,91,92,93,94,95,96,97,98,99,100,101,102,103,104,105,106,107,108,109,110,111,112,113,114,115,116,117,118,119,120,121,122,123,124,125,126,127,128,129,130,131,132,133,134,135,136,137,138,139,140,141,142,143,144,145,146,147,148,149,150,151,152,153,154,155,156,157,158,159,160,161,162,163,164,165,166],\"xaxis\":\"x\",\"y\":[73.0,83.0,77.0,67.0,67.0,70.0,70.0,64.0,64.0,78.0,75.0,75.0,75.0,77.0,64.0,18.0,14.0,9.0,5.0,4.0,2.0,30.0,80.0,80.0,73.0,64.0,55.0,50.0,43.0,36.0,17.0,17.0,16.0,20.0,30.0,70.0,70.0,65.0,56.0,88.0,83.0,82.0,82.0,74.0,63.0,69.0,76.0,65.0,70.0,30.0,86.0,93.0,74.0,68.0,65.0,60.0,44.0,33.0,33.0,26.0,25.0,30.0,75.0,75.0,66.0,63.0,63.0,53.0,12.0,9.0,9.0,2.0,30.0,71.0,55.0,33.0,24.0,22.0,22.0,32.0,27.0,27.0,66.0,67.0,30.0,80.0,77.0,69.0,54.0,38.0,25.0,25.0,24.0,19.0,30.0,69.0,67.0,62.0,54.0,26.0,18.0,18.0,18.0,30.0,82.0,88.0,88.0,88.0,83.0,45.0,43.0,18.0,4.0,2.0,30.0,74.0,70.0,66.0,65.0,35.0,6.0,2.0,1.0,2.0,30.0,73.0,59.0,55.0,56.0,51.0,35.0,35.0,31.0,31.0,30.0,69.0,65.0,57.0,56.0,44.0,32.0,23.0,21.0,21.0,20.0,16.0,30.0,92.0,75.0,72.0,66.0,68.0,71.0,65.0,58.0,58.0,34.0,29.0,25.0,25.0,25.0,67.0,67.0,54.0,54.0,56.0,56.0],\"yaxis\":\"y\",\"type\":\"scatter\"}],                        {\"template\":{\"data\":{\"histogram2dcontour\":[{\"type\":\"histogram2dcontour\",\"colorbar\":{\"outlinewidth\":0,\"ticks\":\"\"},\"colorscale\":[[0.0,\"#0d0887\"],[0.1111111111111111,\"#46039f\"],[0.2222222222222222,\"#7201a8\"],[0.3333333333333333,\"#9c179e\"],[0.4444444444444444,\"#bd3786\"],[0.5555555555555556,\"#d8576b\"],[0.6666666666666666,\"#ed7953\"],[0.7777777777777778,\"#fb9f3a\"],[0.8888888888888888,\"#fdca26\"],[1.0,\"#f0f921\"]]}],\"choropleth\":[{\"type\":\"choropleth\",\"colorbar\":{\"outlinewidth\":0,\"ticks\":\"\"}}],\"histogram2d\":[{\"type\":\"histogram2d\",\"colorbar\":{\"outlinewidth\":0,\"ticks\":\"\"},\"colorscale\":[[0.0,\"#0d0887\"],[0.1111111111111111,\"#46039f\"],[0.2222222222222222,\"#7201a8\"],[0.3333333333333333,\"#9c179e\"],[0.4444444444444444,\"#bd3786\"],[0.5555555555555556,\"#d8576b\"],[0.6666666666666666,\"#ed7953\"],[0.7777777777777778,\"#fb9f3a\"],[0.8888888888888888,\"#fdca26\"],[1.0,\"#f0f921\"]]}],\"heatmap\":[{\"type\":\"heatmap\",\"colorbar\":{\"outlinewidth\":0,\"ticks\":\"\"},\"colorscale\":[[0.0,\"#0d0887\"],[0.1111111111111111,\"#46039f\"],[0.2222222222222222,\"#7201a8\"],[0.3333333333333333,\"#9c179e\"],[0.4444444444444444,\"#bd3786\"],[0.5555555555555556,\"#d8576b\"],[0.6666666666666666,\"#ed7953\"],[0.7777777777777778,\"#fb9f3a\"],[0.8888888888888888,\"#fdca26\"],[1.0,\"#f0f921\"]]}],\"heatmapgl\":[{\"type\":\"heatmapgl\",\"colorbar\":{\"outlinewidth\":0,\"ticks\":\"\"},\"colorscale\":[[0.0,\"#0d0887\"],[0.1111111111111111,\"#46039f\"],[0.2222222222222222,\"#7201a8\"],[0.3333333333333333,\"#9c179e\"],[0.4444444444444444,\"#bd3786\"],[0.5555555555555556,\"#d8576b\"],[0.6666666666666666,\"#ed7953\"],[0.7777777777777778,\"#fb9f3a\"],[0.8888888888888888,\"#fdca26\"],[1.0,\"#f0f921\"]]}],\"contourcarpet\":[{\"type\":\"contourcarpet\",\"colorbar\":{\"outlinewidth\":0,\"ticks\":\"\"}}],\"contour\":[{\"type\":\"contour\",\"colorbar\":{\"outlinewidth\":0,\"ticks\":\"\"},\"colorscale\":[[0.0,\"#0d0887\"],[0.1111111111111111,\"#46039f\"],[0.2222222222222222,\"#7201a8\"],[0.3333333333333333,\"#9c179e\"],[0.4444444444444444,\"#bd3786\"],[0.5555555555555556,\"#d8576b\"],[0.6666666666666666,\"#ed7953\"],[0.7777777777777778,\"#fb9f3a\"],[0.8888888888888888,\"#fdca26\"],[1.0,\"#f0f921\"]]}],\"surface\":[{\"type\":\"surface\",\"colorbar\":{\"outlinewidth\":0,\"ticks\":\"\"},\"colorscale\":[[0.0,\"#0d0887\"],[0.1111111111111111,\"#46039f\"],[0.2222222222222222,\"#7201a8\"],[0.3333333333333333,\"#9c179e\"],[0.4444444444444444,\"#bd3786\"],[0.5555555555555556,\"#d8576b\"],[0.6666666666666666,\"#ed7953\"],[0.7777777777777778,\"#fb9f3a\"],[0.8888888888888888,\"#fdca26\"],[1.0,\"#f0f921\"]]}],\"mesh3d\":[{\"type\":\"mesh3d\",\"colorbar\":{\"outlinewidth\":0,\"ticks\":\"\"}}],\"scatter\":[{\"marker\":{\"line\":{\"color\":\"#283442\"}},\"type\":\"scatter\"}],\"parcoords\":[{\"type\":\"parcoords\",\"line\":{\"colorbar\":{\"outlinewidth\":0,\"ticks\":\"\"}}}],\"scatterpolargl\":[{\"type\":\"scatterpolargl\",\"marker\":{\"colorbar\":{\"outlinewidth\":0,\"ticks\":\"\"}}}],\"bar\":[{\"error_x\":{\"color\":\"#f2f5fa\"},\"error_y\":{\"color\":\"#f2f5fa\"},\"marker\":{\"line\":{\"color\":\"rgb(17,17,17)\",\"width\":0.5},\"pattern\":{\"fillmode\":\"overlay\",\"size\":10,\"solidity\":0.2}},\"type\":\"bar\"}],\"scattergeo\":[{\"type\":\"scattergeo\",\"marker\":{\"colorbar\":{\"outlinewidth\":0,\"ticks\":\"\"}}}],\"scatterpolar\":[{\"type\":\"scatterpolar\",\"marker\":{\"colorbar\":{\"outlinewidth\":0,\"ticks\":\"\"}}}],\"histogram\":[{\"marker\":{\"pattern\":{\"fillmode\":\"overlay\",\"size\":10,\"solidity\":0.2}},\"type\":\"histogram\"}],\"scattergl\":[{\"marker\":{\"line\":{\"color\":\"#283442\"}},\"type\":\"scattergl\"}],\"scatter3d\":[{\"type\":\"scatter3d\",\"line\":{\"colorbar\":{\"outlinewidth\":0,\"ticks\":\"\"}},\"marker\":{\"colorbar\":{\"outlinewidth\":0,\"ticks\":\"\"}}}],\"scattermapbox\":[{\"type\":\"scattermapbox\",\"marker\":{\"colorbar\":{\"outlinewidth\":0,\"ticks\":\"\"}}}],\"scatterternary\":[{\"type\":\"scatterternary\",\"marker\":{\"colorbar\":{\"outlinewidth\":0,\"ticks\":\"\"}}}],\"scattercarpet\":[{\"type\":\"scattercarpet\",\"marker\":{\"colorbar\":{\"outlinewidth\":0,\"ticks\":\"\"}}}],\"carpet\":[{\"aaxis\":{\"endlinecolor\":\"#A2B1C6\",\"gridcolor\":\"#506784\",\"linecolor\":\"#506784\",\"minorgridcolor\":\"#506784\",\"startlinecolor\":\"#A2B1C6\"},\"baxis\":{\"endlinecolor\":\"#A2B1C6\",\"gridcolor\":\"#506784\",\"linecolor\":\"#506784\",\"minorgridcolor\":\"#506784\",\"startlinecolor\":\"#A2B1C6\"},\"type\":\"carpet\"}],\"table\":[{\"cells\":{\"fill\":{\"color\":\"#506784\"},\"line\":{\"color\":\"rgb(17,17,17)\"}},\"header\":{\"fill\":{\"color\":\"#2a3f5f\"},\"line\":{\"color\":\"rgb(17,17,17)\"}},\"type\":\"table\"}],\"barpolar\":[{\"marker\":{\"line\":{\"color\":\"rgb(17,17,17)\",\"width\":0.5},\"pattern\":{\"fillmode\":\"overlay\",\"size\":10,\"solidity\":0.2}},\"type\":\"barpolar\"}],\"pie\":[{\"automargin\":true,\"type\":\"pie\"}]},\"layout\":{\"autotypenumbers\":\"strict\",\"colorway\":[\"#636efa\",\"#EF553B\",\"#00cc96\",\"#ab63fa\",\"#FFA15A\",\"#19d3f3\",\"#FF6692\",\"#B6E880\",\"#FF97FF\",\"#FECB52\"],\"font\":{\"color\":\"#f2f5fa\"},\"hovermode\":\"closest\",\"hoverlabel\":{\"align\":\"left\"},\"paper_bgcolor\":\"rgb(17,17,17)\",\"plot_bgcolor\":\"rgb(17,17,17)\",\"polar\":{\"bgcolor\":\"rgb(17,17,17)\",\"angularaxis\":{\"gridcolor\":\"#506784\",\"linecolor\":\"#506784\",\"ticks\":\"\"},\"radialaxis\":{\"gridcolor\":\"#506784\",\"linecolor\":\"#506784\",\"ticks\":\"\"}},\"ternary\":{\"bgcolor\":\"rgb(17,17,17)\",\"aaxis\":{\"gridcolor\":\"#506784\",\"linecolor\":\"#506784\",\"ticks\":\"\"},\"baxis\":{\"gridcolor\":\"#506784\",\"linecolor\":\"#506784\",\"ticks\":\"\"},\"caxis\":{\"gridcolor\":\"#506784\",\"linecolor\":\"#506784\",\"ticks\":\"\"}},\"coloraxis\":{\"colorbar\":{\"outlinewidth\":0,\"ticks\":\"\"}},\"colorscale\":{\"sequential\":[[0.0,\"#0d0887\"],[0.1111111111111111,\"#46039f\"],[0.2222222222222222,\"#7201a8\"],[0.3333333333333333,\"#9c179e\"],[0.4444444444444444,\"#bd3786\"],[0.5555555555555556,\"#d8576b\"],[0.6666666666666666,\"#ed7953\"],[0.7777777777777778,\"#fb9f3a\"],[0.8888888888888888,\"#fdca26\"],[1.0,\"#f0f921\"]],\"sequentialminus\":[[0.0,\"#0d0887\"],[0.1111111111111111,\"#46039f\"],[0.2222222222222222,\"#7201a8\"],[0.3333333333333333,\"#9c179e\"],[0.4444444444444444,\"#bd3786\"],[0.5555555555555556,\"#d8576b\"],[0.6666666666666666,\"#ed7953\"],[0.7777777777777778,\"#fb9f3a\"],[0.8888888888888888,\"#fdca26\"],[1.0,\"#f0f921\"]],\"diverging\":[[0,\"#8e0152\"],[0.1,\"#c51b7d\"],[0.2,\"#de77ae\"],[0.3,\"#f1b6da\"],[0.4,\"#fde0ef\"],[0.5,\"#f7f7f7\"],[0.6,\"#e6f5d0\"],[0.7,\"#b8e186\"],[0.8,\"#7fbc41\"],[0.9,\"#4d9221\"],[1,\"#276419\"]]},\"xaxis\":{\"gridcolor\":\"#283442\",\"linecolor\":\"#506784\",\"ticks\":\"\",\"title\":{\"standoff\":15},\"zerolinecolor\":\"#283442\",\"automargin\":true,\"zerolinewidth\":2},\"yaxis\":{\"gridcolor\":\"#283442\",\"linecolor\":\"#506784\",\"ticks\":\"\",\"title\":{\"standoff\":15},\"zerolinecolor\":\"#283442\",\"automargin\":true,\"zerolinewidth\":2},\"scene\":{\"xaxis\":{\"backgroundcolor\":\"rgb(17,17,17)\",\"gridcolor\":\"#506784\",\"linecolor\":\"#506784\",\"showbackground\":true,\"ticks\":\"\",\"zerolinecolor\":\"#C8D4E3\",\"gridwidth\":2},\"yaxis\":{\"backgroundcolor\":\"rgb(17,17,17)\",\"gridcolor\":\"#506784\",\"linecolor\":\"#506784\",\"showbackground\":true,\"ticks\":\"\",\"zerolinecolor\":\"#C8D4E3\",\"gridwidth\":2},\"zaxis\":{\"backgroundcolor\":\"rgb(17,17,17)\",\"gridcolor\":\"#506784\",\"linecolor\":\"#506784\",\"showbackground\":true,\"ticks\":\"\",\"zerolinecolor\":\"#C8D4E3\",\"gridwidth\":2}},\"shapedefaults\":{\"line\":{\"color\":\"#f2f5fa\"}},\"annotationdefaults\":{\"arrowcolor\":\"#f2f5fa\",\"arrowhead\":0,\"arrowwidth\":1},\"geo\":{\"bgcolor\":\"rgb(17,17,17)\",\"landcolor\":\"rgb(17,17,17)\",\"subunitcolor\":\"#506784\",\"showland\":true,\"showlakes\":true,\"lakecolor\":\"rgb(17,17,17)\"},\"title\":{\"x\":0.05},\"updatemenudefaults\":{\"bgcolor\":\"#506784\",\"borderwidth\":0},\"sliderdefaults\":{\"bgcolor\":\"#C8D4E3\",\"borderwidth\":1,\"bordercolor\":\"rgb(17,17,17)\",\"tickwidth\":0},\"mapbox\":{\"style\":\"dark\"}}},\"xaxis\":{\"anchor\":\"y\",\"domain\":[0.0,1.0],\"title\":{\"text\":\"x\"}},\"yaxis\":{\"anchor\":\"x\",\"domain\":[0.0,1.0],\"title\":{\"text\":\"yardline_100\"}},\"coloraxis\":{\"colorbar\":{\"title\":{\"text\":\"ep\"}},\"colorscale\":[[0.0,\"#0d0887\"],[0.1111111111111111,\"#46039f\"],[0.2222222222222222,\"#7201a8\"],[0.3333333333333333,\"#9c179e\"],[0.4444444444444444,\"#bd3786\"],[0.5555555555555556,\"#d8576b\"],[0.6666666666666666,\"#ed7953\"],[0.7777777777777778,\"#fb9f3a\"],[0.8888888888888888,\"#fdca26\"],[1.0,\"#f0f921\"]]},\"legend\":{\"tracegroupgap\":0},\"title\":{\"text\":\"Game ID: 2009081351\"},\"height\":400,\"width\":1200},                        {\"responsive\": true}                    ).then(function(){\n",
       "                            \n",
       "var gd = document.getElementById('1d17ec6a-98ce-4f90-ba78-e256de0d216f');\n",
       "var x = new MutationObserver(function (mutations, observer) {{\n",
       "        var display = window.getComputedStyle(gd).display;\n",
       "        if (!display || display === 'none') {{\n",
       "            console.log([gd, 'removed!']);\n",
       "            Plotly.purge(gd);\n",
       "            observer.disconnect();\n",
       "        }}\n",
       "}});\n",
       "\n",
       "// Listen for the removal of the full notebook cells\n",
       "var notebookContainer = gd.closest('#notebook-container');\n",
       "if (notebookContainer) {{\n",
       "    x.observe(notebookContainer, {childList: true});\n",
       "}}\n",
       "\n",
       "// Listen for the clearing of the current output cell\n",
       "var outputEl = gd.closest('.output');\n",
       "if (outputEl) {{\n",
       "    x.observe(outputEl, {childList: true});\n",
       "}}\n",
       "\n",
       "                        })                };                });            </script>        </div>"
      ]
     },
     "metadata": {},
     "output_type": "display_data"
    },
    {
     "data": {
      "application/vnd.plotly.v1+json": {
       "data": [
        {
         "hovertemplate": "x=%{x}<br>yardline_100=%{y}<br>ep=%{marker.color}<extra></extra>",
         "legendgroup": "",
         "marker": {
          "color": [
           -0.1722596549806141,
           1.019891138624396,
           0.2646836947621807,
           2.0350383797244564,
           1.3364582761140893,
           1.0268607355644377,
           -0.7954111173398941,
           -1.4150720244862185,
           1.3418196033535774,
           0.5933025298994359,
           0.735621404398334,
           2.7729240989534807,
           2.4118554999440662,
           4.50397798278208,
           4.196951063588204,
           3.881153570516431,
           2.895724974509718,
           5.861408215728425,
           5.606033587691875,
           4.923344218410391,
           2.9682768882208075,
           0.4789832155537175,
           0.8688445634038002,
           2.2192327091577018,
           1.5460394669782325,
           1.0580384153375617,
           -0.6890972265154429,
           -0.4597009603278963,
           0.0846195260749005,
           1.7341206923169097,
           2.232960761642401,
           1.3271891389856292,
           0.2131726521617376,
           2.980366686338881,
           2.3921311248478707,
           2.239024267776953,
           3.778126357795435,
           4.398936919092603,
           4.057238875844843,
           3.660544986382737,
           2.8796011298604545,
           2.4790853860381024,
           0.584483093896899,
           0.8539448473215794,
           0.1512060083517974,
           0.0915312564292585,
           -1.479462702317462,
           1.6265819757370588,
           0.960106464370876,
           0.0450262110066688,
           -1.38091441017066,
           0.7600922376762775,
           0.2193237439764861,
           -0.1465457745280591,
           -0.5754415368064207,
           0.8976266446723868,
           0.3022859761671133,
           3.055766655573533,
           2.53988463291244,
           1.832855325506998,
           0.5520208033770728,
           -0.0989349413188127,
           -0.609091285623997,
           0.7113444825564902,
           0.8987978085853594,
           0.1455615705424411,
           1.763085947967663,
           2.029787804438818,
           1.3879033048971328,
           2.8031359946237684,
           2.6498767661025737,
           2.222144259499254,
           1.903351610380165,
           1.0405199945400554,
           1.005115750433496,
           1.7719677687672142,
           1.4855640593471402,
           2.3172060177124654,
           2.0277090303347647,
           2.0362007360677907,
           3.074406726182292,
           2.771934331752385,
           2.32654536808876,
           0.9907954004544308,
           0.5303918303353369,
           1.1205745026579752,
           0.3235258536112761,
           -0.666824497684348,
           -1.3427522381060877,
           -1.40799378739525,
           0.843637488283113,
           -0.5112909312652094,
           0.2472393386307114,
           3.965867711305376,
           3.937353400571421,
           3.223102948121139,
           4.527008401969684,
           4.217391493386005,
           3.8301669394405247,
           3.0510963681377863,
           2.330961745176138,
           0.4205080390242319,
           1.0062899384983444,
           2.792048415909006,
           1.9303421246440835,
           1.096541580284805,
           -0.4732314468151404,
           0.7495146909819084,
           -0.0193920099142852,
           -1.0048242071762088,
           -2.389273847977292,
           2.364793651336929,
           2.816079447947159,
           3.160914854308508,
           3.0681365341818383,
           3.785354953925237,
           3.286272172239243,
           2.6932461978820394,
           1.81905755965358,
           3.097891818486642,
           0.6779181906403353,
           0.345274382796104,
           0.6452303059431355,
           1.004195961219422,
           -1.9952263004937123,
           2.843943145292671,
           1.1937673762233487,
           0.0700189135323998,
           0.177437770108626,
           0.2755716203187837,
           -0.6081938599497361,
           -1.3000638669862123,
           -2.077960728803756,
           -2.405566854483718,
           -2.850221760286291,
           3.381507198451012,
           2.851589989787418,
           2.818064521091934,
           1.2887847494364264,
           2.121776608016754,
           2.910689485726443,
           2.679788154783296,
           1.87424503984318,
           0.3606143770695056,
           -0.095029097616802,
           -0.0187333186105882,
           1.3127322086146225,
           0.6799560888625278,
           5.356127651623741,
           0.9907954004544308,
           0.5626969561829325,
           0.7974366365277255,
           -0.2603729825990826,
           -1.1866707697505312,
           -1.863554973483863,
           -2.184662854878738,
           2.853475033277084,
           2.205690264899743,
           1.2022526299344898,
           3.240682914371821,
           3.0609387782770807,
           3.577114908982646,
           3.20180535139261,
           3.9388956095046574,
           3.40733584654303,
           2.811866427553468,
           2.8782327925749254
          ],
          "coloraxis": "coloraxis",
          "symbol": "circle"
         },
         "mode": "markers",
         "name": "",
         "orientation": "v",
         "showlegend": false,
         "x": [
          0,
          1,
          2,
          3,
          4,
          5,
          6,
          7,
          8,
          9,
          10,
          11,
          12,
          13,
          14,
          15,
          16,
          17,
          18,
          19,
          20,
          21,
          22,
          23,
          24,
          25,
          26,
          27,
          28,
          29,
          30,
          31,
          32,
          33,
          34,
          35,
          36,
          37,
          38,
          39,
          40,
          41,
          42,
          43,
          44,
          45,
          46,
          47,
          48,
          49,
          50,
          51,
          52,
          53,
          54,
          55,
          56,
          57,
          58,
          59,
          60,
          61,
          62,
          63,
          64,
          65,
          66,
          67,
          68,
          69,
          70,
          71,
          72,
          73,
          74,
          75,
          76,
          77,
          78,
          79,
          80,
          81,
          82,
          83,
          84,
          85,
          86,
          87,
          88,
          89,
          90,
          91,
          92,
          93,
          94,
          95,
          96,
          97,
          98,
          99,
          100,
          101,
          102,
          103,
          104,
          105,
          106,
          107,
          108,
          109,
          110,
          111,
          112,
          113,
          114,
          115,
          116,
          117,
          118,
          119,
          120,
          121,
          122,
          123,
          124,
          125,
          126,
          127,
          128,
          129,
          130,
          131,
          132,
          133,
          134,
          135,
          136,
          137,
          138,
          139,
          140,
          141,
          142,
          143,
          144,
          145,
          146,
          147,
          148,
          149,
          150,
          151,
          152,
          153,
          154,
          155,
          156,
          157,
          158,
          159,
          160,
          161,
          162,
          163,
          164,
          165,
          166
         ],
         "xaxis": "x",
         "y": [
          85.0,
          73.0,
          73.0,
          62.0,
          62.0,
          58.0,
          58.0,
          63.0,
          70.0,
          70.0,
          64.0,
          53.0,
          51.0,
          17.0,
          15.0,
          10.0,
          8.0,
          4.0,
          3.0,
          3.0,
          3.0,
          30.0,
          76.0,
          61.0,
          61.0,
          58.0,
          58.0,
          90.0,
          83.0,
          67.0,
          60.0,
          65.0,
          66.0,
          51.0,
          51.0,
          46.0,
          37.0,
          21.0,
          26.0,
          26.0,
          26.0,
          19.0,
          30.0,
          77.0,
          77.0,
          72.0,
          72.0,
          68.0,
          68.0,
          68.0,
          68.0,
          78.0,
          77.0,
          74.0,
          69.0,
          76.0,
          81.0,
          46.0,
          46.0,
          45.0,
          45.0,
          89.0,
          89.0,
          77.0,
          71.0,
          72.0,
          59.0,
          52.0,
          57.0,
          34.0,
          30.0,
          30.0,
          35.0,
          69.0,
          65.0,
          51.0,
          51.0,
          38.0,
          38.0,
          32.0,
          19.0,
          19.0,
          19.0,
          2.0,
          30.0,
          62.0,
          30.0,
          90.0,
          95.0,
          90.0,
          75.0,
          85.0,
          74.0,
          32.0,
          27.0,
          27.0,
          16.0,
          21.0,
          21.0,
          21.0,
          21.0,
          30.0,
          74.0,
          53.0,
          55.0,
          54.0,
          54.0,
          77.0,
          77.0,
          77.0,
          77.0,
          59.0,
          52.0,
          48.0,
          44.0,
          37.0,
          37.0,
          55.0,
          57.0,
          46.0,
          47.0,
          82.0,
          76.0,
          73.0,
          77.0,
          53.0,
          62.0,
          72.0,
          62.0,
          49.0,
          93.0,
          93.0,
          93.0,
          96.0,
          92.0,
          44.0,
          44.0,
          38.0,
          38.0,
          62.0,
          51.0,
          48.0,
          48.0,
          48.0,
          88.0,
          83.0,
          71.0,
          71.0,
          7.0,
          2.0,
          30.0,
          77.0,
          87.0,
          92.0,
          92.0,
          88.0,
          47.0,
          48.0,
          50.0,
          36.0,
          32.0,
          25.0,
          23.0,
          13.0,
          9.0,
          9.0,
          9.0
         ],
         "yaxis": "y",
         "type": "scatter"
        }
       ],
       "layout": {
        "template": {
         "data": {
          "histogram2dcontour": [
           {
            "type": "histogram2dcontour",
            "colorbar": {
             "outlinewidth": 0,
             "ticks": ""
            },
            "colorscale": [
             [
              0.0,
              "#0d0887"
             ],
             [
              0.1111111111111111,
              "#46039f"
             ],
             [
              0.2222222222222222,
              "#7201a8"
             ],
             [
              0.3333333333333333,
              "#9c179e"
             ],
             [
              0.4444444444444444,
              "#bd3786"
             ],
             [
              0.5555555555555556,
              "#d8576b"
             ],
             [
              0.6666666666666666,
              "#ed7953"
             ],
             [
              0.7777777777777778,
              "#fb9f3a"
             ],
             [
              0.8888888888888888,
              "#fdca26"
             ],
             [
              1.0,
              "#f0f921"
             ]
            ]
           }
          ],
          "choropleth": [
           {
            "type": "choropleth",
            "colorbar": {
             "outlinewidth": 0,
             "ticks": ""
            }
           }
          ],
          "histogram2d": [
           {
            "type": "histogram2d",
            "colorbar": {
             "outlinewidth": 0,
             "ticks": ""
            },
            "colorscale": [
             [
              0.0,
              "#0d0887"
             ],
             [
              0.1111111111111111,
              "#46039f"
             ],
             [
              0.2222222222222222,
              "#7201a8"
             ],
             [
              0.3333333333333333,
              "#9c179e"
             ],
             [
              0.4444444444444444,
              "#bd3786"
             ],
             [
              0.5555555555555556,
              "#d8576b"
             ],
             [
              0.6666666666666666,
              "#ed7953"
             ],
             [
              0.7777777777777778,
              "#fb9f3a"
             ],
             [
              0.8888888888888888,
              "#fdca26"
             ],
             [
              1.0,
              "#f0f921"
             ]
            ]
           }
          ],
          "heatmap": [
           {
            "type": "heatmap",
            "colorbar": {
             "outlinewidth": 0,
             "ticks": ""
            },
            "colorscale": [
             [
              0.0,
              "#0d0887"
             ],
             [
              0.1111111111111111,
              "#46039f"
             ],
             [
              0.2222222222222222,
              "#7201a8"
             ],
             [
              0.3333333333333333,
              "#9c179e"
             ],
             [
              0.4444444444444444,
              "#bd3786"
             ],
             [
              0.5555555555555556,
              "#d8576b"
             ],
             [
              0.6666666666666666,
              "#ed7953"
             ],
             [
              0.7777777777777778,
              "#fb9f3a"
             ],
             [
              0.8888888888888888,
              "#fdca26"
             ],
             [
              1.0,
              "#f0f921"
             ]
            ]
           }
          ],
          "heatmapgl": [
           {
            "type": "heatmapgl",
            "colorbar": {
             "outlinewidth": 0,
             "ticks": ""
            },
            "colorscale": [
             [
              0.0,
              "#0d0887"
             ],
             [
              0.1111111111111111,
              "#46039f"
             ],
             [
              0.2222222222222222,
              "#7201a8"
             ],
             [
              0.3333333333333333,
              "#9c179e"
             ],
             [
              0.4444444444444444,
              "#bd3786"
             ],
             [
              0.5555555555555556,
              "#d8576b"
             ],
             [
              0.6666666666666666,
              "#ed7953"
             ],
             [
              0.7777777777777778,
              "#fb9f3a"
             ],
             [
              0.8888888888888888,
              "#fdca26"
             ],
             [
              1.0,
              "#f0f921"
             ]
            ]
           }
          ],
          "contourcarpet": [
           {
            "type": "contourcarpet",
            "colorbar": {
             "outlinewidth": 0,
             "ticks": ""
            }
           }
          ],
          "contour": [
           {
            "type": "contour",
            "colorbar": {
             "outlinewidth": 0,
             "ticks": ""
            },
            "colorscale": [
             [
              0.0,
              "#0d0887"
             ],
             [
              0.1111111111111111,
              "#46039f"
             ],
             [
              0.2222222222222222,
              "#7201a8"
             ],
             [
              0.3333333333333333,
              "#9c179e"
             ],
             [
              0.4444444444444444,
              "#bd3786"
             ],
             [
              0.5555555555555556,
              "#d8576b"
             ],
             [
              0.6666666666666666,
              "#ed7953"
             ],
             [
              0.7777777777777778,
              "#fb9f3a"
             ],
             [
              0.8888888888888888,
              "#fdca26"
             ],
             [
              1.0,
              "#f0f921"
             ]
            ]
           }
          ],
          "surface": [
           {
            "type": "surface",
            "colorbar": {
             "outlinewidth": 0,
             "ticks": ""
            },
            "colorscale": [
             [
              0.0,
              "#0d0887"
             ],
             [
              0.1111111111111111,
              "#46039f"
             ],
             [
              0.2222222222222222,
              "#7201a8"
             ],
             [
              0.3333333333333333,
              "#9c179e"
             ],
             [
              0.4444444444444444,
              "#bd3786"
             ],
             [
              0.5555555555555556,
              "#d8576b"
             ],
             [
              0.6666666666666666,
              "#ed7953"
             ],
             [
              0.7777777777777778,
              "#fb9f3a"
             ],
             [
              0.8888888888888888,
              "#fdca26"
             ],
             [
              1.0,
              "#f0f921"
             ]
            ]
           }
          ],
          "mesh3d": [
           {
            "type": "mesh3d",
            "colorbar": {
             "outlinewidth": 0,
             "ticks": ""
            }
           }
          ],
          "scatter": [
           {
            "marker": {
             "line": {
              "color": "#283442"
             }
            },
            "type": "scatter"
           }
          ],
          "parcoords": [
           {
            "type": "parcoords",
            "line": {
             "colorbar": {
              "outlinewidth": 0,
              "ticks": ""
             }
            }
           }
          ],
          "scatterpolargl": [
           {
            "type": "scatterpolargl",
            "marker": {
             "colorbar": {
              "outlinewidth": 0,
              "ticks": ""
             }
            }
           }
          ],
          "bar": [
           {
            "error_x": {
             "color": "#f2f5fa"
            },
            "error_y": {
             "color": "#f2f5fa"
            },
            "marker": {
             "line": {
              "color": "rgb(17,17,17)",
              "width": 0.5
             },
             "pattern": {
              "fillmode": "overlay",
              "size": 10,
              "solidity": 0.2
             }
            },
            "type": "bar"
           }
          ],
          "scattergeo": [
           {
            "type": "scattergeo",
            "marker": {
             "colorbar": {
              "outlinewidth": 0,
              "ticks": ""
             }
            }
           }
          ],
          "scatterpolar": [
           {
            "type": "scatterpolar",
            "marker": {
             "colorbar": {
              "outlinewidth": 0,
              "ticks": ""
             }
            }
           }
          ],
          "histogram": [
           {
            "marker": {
             "pattern": {
              "fillmode": "overlay",
              "size": 10,
              "solidity": 0.2
             }
            },
            "type": "histogram"
           }
          ],
          "scattergl": [
           {
            "marker": {
             "line": {
              "color": "#283442"
             }
            },
            "type": "scattergl"
           }
          ],
          "scatter3d": [
           {
            "type": "scatter3d",
            "line": {
             "colorbar": {
              "outlinewidth": 0,
              "ticks": ""
             }
            },
            "marker": {
             "colorbar": {
              "outlinewidth": 0,
              "ticks": ""
             }
            }
           }
          ],
          "scattermapbox": [
           {
            "type": "scattermapbox",
            "marker": {
             "colorbar": {
              "outlinewidth": 0,
              "ticks": ""
             }
            }
           }
          ],
          "scatterternary": [
           {
            "type": "scatterternary",
            "marker": {
             "colorbar": {
              "outlinewidth": 0,
              "ticks": ""
             }
            }
           }
          ],
          "scattercarpet": [
           {
            "type": "scattercarpet",
            "marker": {
             "colorbar": {
              "outlinewidth": 0,
              "ticks": ""
             }
            }
           }
          ],
          "carpet": [
           {
            "aaxis": {
             "endlinecolor": "#A2B1C6",
             "gridcolor": "#506784",
             "linecolor": "#506784",
             "minorgridcolor": "#506784",
             "startlinecolor": "#A2B1C6"
            },
            "baxis": {
             "endlinecolor": "#A2B1C6",
             "gridcolor": "#506784",
             "linecolor": "#506784",
             "minorgridcolor": "#506784",
             "startlinecolor": "#A2B1C6"
            },
            "type": "carpet"
           }
          ],
          "table": [
           {
            "cells": {
             "fill": {
              "color": "#506784"
             },
             "line": {
              "color": "rgb(17,17,17)"
             }
            },
            "header": {
             "fill": {
              "color": "#2a3f5f"
             },
             "line": {
              "color": "rgb(17,17,17)"
             }
            },
            "type": "table"
           }
          ],
          "barpolar": [
           {
            "marker": {
             "line": {
              "color": "rgb(17,17,17)",
              "width": 0.5
             },
             "pattern": {
              "fillmode": "overlay",
              "size": 10,
              "solidity": 0.2
             }
            },
            "type": "barpolar"
           }
          ],
          "pie": [
           {
            "automargin": true,
            "type": "pie"
           }
          ]
         },
         "layout": {
          "autotypenumbers": "strict",
          "colorway": [
           "#636efa",
           "#EF553B",
           "#00cc96",
           "#ab63fa",
           "#FFA15A",
           "#19d3f3",
           "#FF6692",
           "#B6E880",
           "#FF97FF",
           "#FECB52"
          ],
          "font": {
           "color": "#f2f5fa"
          },
          "hovermode": "closest",
          "hoverlabel": {
           "align": "left"
          },
          "paper_bgcolor": "rgb(17,17,17)",
          "plot_bgcolor": "rgb(17,17,17)",
          "polar": {
           "bgcolor": "rgb(17,17,17)",
           "angularaxis": {
            "gridcolor": "#506784",
            "linecolor": "#506784",
            "ticks": ""
           },
           "radialaxis": {
            "gridcolor": "#506784",
            "linecolor": "#506784",
            "ticks": ""
           }
          },
          "ternary": {
           "bgcolor": "rgb(17,17,17)",
           "aaxis": {
            "gridcolor": "#506784",
            "linecolor": "#506784",
            "ticks": ""
           },
           "baxis": {
            "gridcolor": "#506784",
            "linecolor": "#506784",
            "ticks": ""
           },
           "caxis": {
            "gridcolor": "#506784",
            "linecolor": "#506784",
            "ticks": ""
           }
          },
          "coloraxis": {
           "colorbar": {
            "outlinewidth": 0,
            "ticks": ""
           }
          },
          "colorscale": {
           "sequential": [
            [
             0.0,
             "#0d0887"
            ],
            [
             0.1111111111111111,
             "#46039f"
            ],
            [
             0.2222222222222222,
             "#7201a8"
            ],
            [
             0.3333333333333333,
             "#9c179e"
            ],
            [
             0.4444444444444444,
             "#bd3786"
            ],
            [
             0.5555555555555556,
             "#d8576b"
            ],
            [
             0.6666666666666666,
             "#ed7953"
            ],
            [
             0.7777777777777778,
             "#fb9f3a"
            ],
            [
             0.8888888888888888,
             "#fdca26"
            ],
            [
             1.0,
             "#f0f921"
            ]
           ],
           "sequentialminus": [
            [
             0.0,
             "#0d0887"
            ],
            [
             0.1111111111111111,
             "#46039f"
            ],
            [
             0.2222222222222222,
             "#7201a8"
            ],
            [
             0.3333333333333333,
             "#9c179e"
            ],
            [
             0.4444444444444444,
             "#bd3786"
            ],
            [
             0.5555555555555556,
             "#d8576b"
            ],
            [
             0.6666666666666666,
             "#ed7953"
            ],
            [
             0.7777777777777778,
             "#fb9f3a"
            ],
            [
             0.8888888888888888,
             "#fdca26"
            ],
            [
             1.0,
             "#f0f921"
            ]
           ],
           "diverging": [
            [
             0,
             "#8e0152"
            ],
            [
             0.1,
             "#c51b7d"
            ],
            [
             0.2,
             "#de77ae"
            ],
            [
             0.3,
             "#f1b6da"
            ],
            [
             0.4,
             "#fde0ef"
            ],
            [
             0.5,
             "#f7f7f7"
            ],
            [
             0.6,
             "#e6f5d0"
            ],
            [
             0.7,
             "#b8e186"
            ],
            [
             0.8,
             "#7fbc41"
            ],
            [
             0.9,
             "#4d9221"
            ],
            [
             1,
             "#276419"
            ]
           ]
          },
          "xaxis": {
           "gridcolor": "#283442",
           "linecolor": "#506784",
           "ticks": "",
           "title": {
            "standoff": 15
           },
           "zerolinecolor": "#283442",
           "automargin": true,
           "zerolinewidth": 2
          },
          "yaxis": {
           "gridcolor": "#283442",
           "linecolor": "#506784",
           "ticks": "",
           "title": {
            "standoff": 15
           },
           "zerolinecolor": "#283442",
           "automargin": true,
           "zerolinewidth": 2
          },
          "scene": {
           "xaxis": {
            "backgroundcolor": "rgb(17,17,17)",
            "gridcolor": "#506784",
            "linecolor": "#506784",
            "showbackground": true,
            "ticks": "",
            "zerolinecolor": "#C8D4E3",
            "gridwidth": 2
           },
           "yaxis": {
            "backgroundcolor": "rgb(17,17,17)",
            "gridcolor": "#506784",
            "linecolor": "#506784",
            "showbackground": true,
            "ticks": "",
            "zerolinecolor": "#C8D4E3",
            "gridwidth": 2
           },
           "zaxis": {
            "backgroundcolor": "rgb(17,17,17)",
            "gridcolor": "#506784",
            "linecolor": "#506784",
            "showbackground": true,
            "ticks": "",
            "zerolinecolor": "#C8D4E3",
            "gridwidth": 2
           }
          },
          "shapedefaults": {
           "line": {
            "color": "#f2f5fa"
           }
          },
          "annotationdefaults": {
           "arrowcolor": "#f2f5fa",
           "arrowhead": 0,
           "arrowwidth": 1
          },
          "geo": {
           "bgcolor": "rgb(17,17,17)",
           "landcolor": "rgb(17,17,17)",
           "subunitcolor": "#506784",
           "showland": true,
           "showlakes": true,
           "lakecolor": "rgb(17,17,17)"
          },
          "title": {
           "x": 0.05
          },
          "updatemenudefaults": {
           "bgcolor": "#506784",
           "borderwidth": 0
          },
          "sliderdefaults": {
           "bgcolor": "#C8D4E3",
           "borderwidth": 1,
           "bordercolor": "rgb(17,17,17)",
           "tickwidth": 0
          },
          "mapbox": {
           "style": "dark"
          }
         }
        },
        "xaxis": {
         "anchor": "y",
         "domain": [
          0.0,
          1.0
         ],
         "title": {
          "text": "x"
         }
        },
        "yaxis": {
         "anchor": "x",
         "domain": [
          0.0,
          1.0
         ],
         "title": {
          "text": "yardline_100"
         }
        },
        "coloraxis": {
         "colorbar": {
          "title": {
           "text": "ep"
          }
         },
         "colorscale": [
          [
           0.0,
           "#0d0887"
          ],
          [
           0.1111111111111111,
           "#46039f"
          ],
          [
           0.2222222222222222,
           "#7201a8"
          ],
          [
           0.3333333333333333,
           "#9c179e"
          ],
          [
           0.4444444444444444,
           "#bd3786"
          ],
          [
           0.5555555555555556,
           "#d8576b"
          ],
          [
           0.6666666666666666,
           "#ed7953"
          ],
          [
           0.7777777777777778,
           "#fb9f3a"
          ],
          [
           0.8888888888888888,
           "#fdca26"
          ],
          [
           1.0,
           "#f0f921"
          ]
         ]
        },
        "legend": {
         "tracegroupgap": 0
        },
        "title": {
         "text": "Game ID: 2009081352"
        },
        "height": 400,
        "width": 1200
       },
       "config": {
        "plotlyServerURL": "https://plot.ly"
       }
      },
      "text/html": [
       "<div>                            <div id=\"a72ebef3-55d0-4d46-a1c2-9ac827880132\" class=\"plotly-graph-div\" style=\"height:400px; width:1200px;\"></div>            <script type=\"text/javascript\">                require([\"plotly\"], function(Plotly) {                    window.PLOTLYENV=window.PLOTLYENV || {};                                    if (document.getElementById(\"a72ebef3-55d0-4d46-a1c2-9ac827880132\")) {                    Plotly.newPlot(                        \"a72ebef3-55d0-4d46-a1c2-9ac827880132\",                        [{\"hovertemplate\":\"x=%{x}\\u003cbr\\u003eyardline_100=%{y}\\u003cbr\\u003eep=%{marker.color}\\u003cextra\\u003e\\u003c\\u002fextra\\u003e\",\"legendgroup\":\"\",\"marker\":{\"color\":[-0.1722596549806141,1.019891138624396,0.2646836947621807,2.0350383797244564,1.3364582761140893,1.0268607355644377,-0.7954111173398941,-1.4150720244862185,1.3418196033535774,0.5933025298994359,0.735621404398334,2.7729240989534807,2.4118554999440662,4.50397798278208,4.196951063588204,3.881153570516431,2.895724974509718,5.861408215728425,5.606033587691875,4.923344218410391,2.9682768882208075,0.4789832155537175,0.8688445634038002,2.2192327091577018,1.5460394669782325,1.0580384153375617,-0.6890972265154429,-0.4597009603278963,0.0846195260749005,1.7341206923169097,2.232960761642401,1.3271891389856292,0.2131726521617376,2.980366686338881,2.3921311248478707,2.239024267776953,3.778126357795435,4.398936919092603,4.057238875844843,3.660544986382737,2.8796011298604545,2.4790853860381024,0.584483093896899,0.8539448473215794,0.1512060083517974,0.0915312564292585,-1.479462702317462,1.6265819757370588,0.960106464370876,0.0450262110066688,-1.38091441017066,0.7600922376762775,0.2193237439764861,-0.1465457745280591,-0.5754415368064207,0.8976266446723868,0.3022859761671133,3.055766655573533,2.53988463291244,1.832855325506998,0.5520208033770728,-0.0989349413188127,-0.609091285623997,0.7113444825564902,0.8987978085853594,0.1455615705424411,1.763085947967663,2.029787804438818,1.3879033048971328,2.8031359946237684,2.6498767661025737,2.222144259499254,1.903351610380165,1.0405199945400554,1.005115750433496,1.7719677687672142,1.4855640593471402,2.3172060177124654,2.0277090303347647,2.0362007360677907,3.074406726182292,2.771934331752385,2.32654536808876,0.9907954004544308,0.5303918303353369,1.1205745026579752,0.3235258536112761,-0.666824497684348,-1.3427522381060877,-1.40799378739525,0.843637488283113,-0.5112909312652094,0.2472393386307114,3.965867711305376,3.937353400571421,3.223102948121139,4.527008401969684,4.217391493386005,3.8301669394405247,3.0510963681377863,2.330961745176138,0.4205080390242319,1.0062899384983444,2.792048415909006,1.9303421246440835,1.096541580284805,-0.4732314468151404,0.7495146909819084,-0.0193920099142852,-1.0048242071762088,-2.389273847977292,2.364793651336929,2.816079447947159,3.160914854308508,3.0681365341818383,3.785354953925237,3.286272172239243,2.6932461978820394,1.81905755965358,3.097891818486642,0.6779181906403353,0.345274382796104,0.6452303059431355,1.004195961219422,-1.9952263004937123,2.843943145292671,1.1937673762233487,0.0700189135323998,0.177437770108626,0.2755716203187837,-0.6081938599497361,-1.3000638669862123,-2.077960728803756,-2.405566854483718,-2.850221760286291,3.381507198451012,2.851589989787418,2.818064521091934,1.2887847494364264,2.121776608016754,2.910689485726443,2.679788154783296,1.87424503984318,0.3606143770695056,-0.095029097616802,-0.0187333186105882,1.3127322086146225,0.6799560888625278,5.356127651623741,0.9907954004544308,0.5626969561829325,0.7974366365277255,-0.2603729825990826,-1.1866707697505312,-1.863554973483863,-2.184662854878738,2.853475033277084,2.205690264899743,1.2022526299344898,3.240682914371821,3.0609387782770807,3.577114908982646,3.20180535139261,3.9388956095046574,3.40733584654303,2.811866427553468,2.8782327925749254],\"coloraxis\":\"coloraxis\",\"symbol\":\"circle\"},\"mode\":\"markers\",\"name\":\"\",\"orientation\":\"v\",\"showlegend\":false,\"x\":[0,1,2,3,4,5,6,7,8,9,10,11,12,13,14,15,16,17,18,19,20,21,22,23,24,25,26,27,28,29,30,31,32,33,34,35,36,37,38,39,40,41,42,43,44,45,46,47,48,49,50,51,52,53,54,55,56,57,58,59,60,61,62,63,64,65,66,67,68,69,70,71,72,73,74,75,76,77,78,79,80,81,82,83,84,85,86,87,88,89,90,91,92,93,94,95,96,97,98,99,100,101,102,103,104,105,106,107,108,109,110,111,112,113,114,115,116,117,118,119,120,121,122,123,124,125,126,127,128,129,130,131,132,133,134,135,136,137,138,139,140,141,142,143,144,145,146,147,148,149,150,151,152,153,154,155,156,157,158,159,160,161,162,163,164,165,166],\"xaxis\":\"x\",\"y\":[85.0,73.0,73.0,62.0,62.0,58.0,58.0,63.0,70.0,70.0,64.0,53.0,51.0,17.0,15.0,10.0,8.0,4.0,3.0,3.0,3.0,30.0,76.0,61.0,61.0,58.0,58.0,90.0,83.0,67.0,60.0,65.0,66.0,51.0,51.0,46.0,37.0,21.0,26.0,26.0,26.0,19.0,30.0,77.0,77.0,72.0,72.0,68.0,68.0,68.0,68.0,78.0,77.0,74.0,69.0,76.0,81.0,46.0,46.0,45.0,45.0,89.0,89.0,77.0,71.0,72.0,59.0,52.0,57.0,34.0,30.0,30.0,35.0,69.0,65.0,51.0,51.0,38.0,38.0,32.0,19.0,19.0,19.0,2.0,30.0,62.0,30.0,90.0,95.0,90.0,75.0,85.0,74.0,32.0,27.0,27.0,16.0,21.0,21.0,21.0,21.0,30.0,74.0,53.0,55.0,54.0,54.0,77.0,77.0,77.0,77.0,59.0,52.0,48.0,44.0,37.0,37.0,55.0,57.0,46.0,47.0,82.0,76.0,73.0,77.0,53.0,62.0,72.0,62.0,49.0,93.0,93.0,93.0,96.0,92.0,44.0,44.0,38.0,38.0,62.0,51.0,48.0,48.0,48.0,88.0,83.0,71.0,71.0,7.0,2.0,30.0,77.0,87.0,92.0,92.0,88.0,47.0,48.0,50.0,36.0,32.0,25.0,23.0,13.0,9.0,9.0,9.0],\"yaxis\":\"y\",\"type\":\"scatter\"}],                        {\"template\":{\"data\":{\"histogram2dcontour\":[{\"type\":\"histogram2dcontour\",\"colorbar\":{\"outlinewidth\":0,\"ticks\":\"\"},\"colorscale\":[[0.0,\"#0d0887\"],[0.1111111111111111,\"#46039f\"],[0.2222222222222222,\"#7201a8\"],[0.3333333333333333,\"#9c179e\"],[0.4444444444444444,\"#bd3786\"],[0.5555555555555556,\"#d8576b\"],[0.6666666666666666,\"#ed7953\"],[0.7777777777777778,\"#fb9f3a\"],[0.8888888888888888,\"#fdca26\"],[1.0,\"#f0f921\"]]}],\"choropleth\":[{\"type\":\"choropleth\",\"colorbar\":{\"outlinewidth\":0,\"ticks\":\"\"}}],\"histogram2d\":[{\"type\":\"histogram2d\",\"colorbar\":{\"outlinewidth\":0,\"ticks\":\"\"},\"colorscale\":[[0.0,\"#0d0887\"],[0.1111111111111111,\"#46039f\"],[0.2222222222222222,\"#7201a8\"],[0.3333333333333333,\"#9c179e\"],[0.4444444444444444,\"#bd3786\"],[0.5555555555555556,\"#d8576b\"],[0.6666666666666666,\"#ed7953\"],[0.7777777777777778,\"#fb9f3a\"],[0.8888888888888888,\"#fdca26\"],[1.0,\"#f0f921\"]]}],\"heatmap\":[{\"type\":\"heatmap\",\"colorbar\":{\"outlinewidth\":0,\"ticks\":\"\"},\"colorscale\":[[0.0,\"#0d0887\"],[0.1111111111111111,\"#46039f\"],[0.2222222222222222,\"#7201a8\"],[0.3333333333333333,\"#9c179e\"],[0.4444444444444444,\"#bd3786\"],[0.5555555555555556,\"#d8576b\"],[0.6666666666666666,\"#ed7953\"],[0.7777777777777778,\"#fb9f3a\"],[0.8888888888888888,\"#fdca26\"],[1.0,\"#f0f921\"]]}],\"heatmapgl\":[{\"type\":\"heatmapgl\",\"colorbar\":{\"outlinewidth\":0,\"ticks\":\"\"},\"colorscale\":[[0.0,\"#0d0887\"],[0.1111111111111111,\"#46039f\"],[0.2222222222222222,\"#7201a8\"],[0.3333333333333333,\"#9c179e\"],[0.4444444444444444,\"#bd3786\"],[0.5555555555555556,\"#d8576b\"],[0.6666666666666666,\"#ed7953\"],[0.7777777777777778,\"#fb9f3a\"],[0.8888888888888888,\"#fdca26\"],[1.0,\"#f0f921\"]]}],\"contourcarpet\":[{\"type\":\"contourcarpet\",\"colorbar\":{\"outlinewidth\":0,\"ticks\":\"\"}}],\"contour\":[{\"type\":\"contour\",\"colorbar\":{\"outlinewidth\":0,\"ticks\":\"\"},\"colorscale\":[[0.0,\"#0d0887\"],[0.1111111111111111,\"#46039f\"],[0.2222222222222222,\"#7201a8\"],[0.3333333333333333,\"#9c179e\"],[0.4444444444444444,\"#bd3786\"],[0.5555555555555556,\"#d8576b\"],[0.6666666666666666,\"#ed7953\"],[0.7777777777777778,\"#fb9f3a\"],[0.8888888888888888,\"#fdca26\"],[1.0,\"#f0f921\"]]}],\"surface\":[{\"type\":\"surface\",\"colorbar\":{\"outlinewidth\":0,\"ticks\":\"\"},\"colorscale\":[[0.0,\"#0d0887\"],[0.1111111111111111,\"#46039f\"],[0.2222222222222222,\"#7201a8\"],[0.3333333333333333,\"#9c179e\"],[0.4444444444444444,\"#bd3786\"],[0.5555555555555556,\"#d8576b\"],[0.6666666666666666,\"#ed7953\"],[0.7777777777777778,\"#fb9f3a\"],[0.8888888888888888,\"#fdca26\"],[1.0,\"#f0f921\"]]}],\"mesh3d\":[{\"type\":\"mesh3d\",\"colorbar\":{\"outlinewidth\":0,\"ticks\":\"\"}}],\"scatter\":[{\"marker\":{\"line\":{\"color\":\"#283442\"}},\"type\":\"scatter\"}],\"parcoords\":[{\"type\":\"parcoords\",\"line\":{\"colorbar\":{\"outlinewidth\":0,\"ticks\":\"\"}}}],\"scatterpolargl\":[{\"type\":\"scatterpolargl\",\"marker\":{\"colorbar\":{\"outlinewidth\":0,\"ticks\":\"\"}}}],\"bar\":[{\"error_x\":{\"color\":\"#f2f5fa\"},\"error_y\":{\"color\":\"#f2f5fa\"},\"marker\":{\"line\":{\"color\":\"rgb(17,17,17)\",\"width\":0.5},\"pattern\":{\"fillmode\":\"overlay\",\"size\":10,\"solidity\":0.2}},\"type\":\"bar\"}],\"scattergeo\":[{\"type\":\"scattergeo\",\"marker\":{\"colorbar\":{\"outlinewidth\":0,\"ticks\":\"\"}}}],\"scatterpolar\":[{\"type\":\"scatterpolar\",\"marker\":{\"colorbar\":{\"outlinewidth\":0,\"ticks\":\"\"}}}],\"histogram\":[{\"marker\":{\"pattern\":{\"fillmode\":\"overlay\",\"size\":10,\"solidity\":0.2}},\"type\":\"histogram\"}],\"scattergl\":[{\"marker\":{\"line\":{\"color\":\"#283442\"}},\"type\":\"scattergl\"}],\"scatter3d\":[{\"type\":\"scatter3d\",\"line\":{\"colorbar\":{\"outlinewidth\":0,\"ticks\":\"\"}},\"marker\":{\"colorbar\":{\"outlinewidth\":0,\"ticks\":\"\"}}}],\"scattermapbox\":[{\"type\":\"scattermapbox\",\"marker\":{\"colorbar\":{\"outlinewidth\":0,\"ticks\":\"\"}}}],\"scatterternary\":[{\"type\":\"scatterternary\",\"marker\":{\"colorbar\":{\"outlinewidth\":0,\"ticks\":\"\"}}}],\"scattercarpet\":[{\"type\":\"scattercarpet\",\"marker\":{\"colorbar\":{\"outlinewidth\":0,\"ticks\":\"\"}}}],\"carpet\":[{\"aaxis\":{\"endlinecolor\":\"#A2B1C6\",\"gridcolor\":\"#506784\",\"linecolor\":\"#506784\",\"minorgridcolor\":\"#506784\",\"startlinecolor\":\"#A2B1C6\"},\"baxis\":{\"endlinecolor\":\"#A2B1C6\",\"gridcolor\":\"#506784\",\"linecolor\":\"#506784\",\"minorgridcolor\":\"#506784\",\"startlinecolor\":\"#A2B1C6\"},\"type\":\"carpet\"}],\"table\":[{\"cells\":{\"fill\":{\"color\":\"#506784\"},\"line\":{\"color\":\"rgb(17,17,17)\"}},\"header\":{\"fill\":{\"color\":\"#2a3f5f\"},\"line\":{\"color\":\"rgb(17,17,17)\"}},\"type\":\"table\"}],\"barpolar\":[{\"marker\":{\"line\":{\"color\":\"rgb(17,17,17)\",\"width\":0.5},\"pattern\":{\"fillmode\":\"overlay\",\"size\":10,\"solidity\":0.2}},\"type\":\"barpolar\"}],\"pie\":[{\"automargin\":true,\"type\":\"pie\"}]},\"layout\":{\"autotypenumbers\":\"strict\",\"colorway\":[\"#636efa\",\"#EF553B\",\"#00cc96\",\"#ab63fa\",\"#FFA15A\",\"#19d3f3\",\"#FF6692\",\"#B6E880\",\"#FF97FF\",\"#FECB52\"],\"font\":{\"color\":\"#f2f5fa\"},\"hovermode\":\"closest\",\"hoverlabel\":{\"align\":\"left\"},\"paper_bgcolor\":\"rgb(17,17,17)\",\"plot_bgcolor\":\"rgb(17,17,17)\",\"polar\":{\"bgcolor\":\"rgb(17,17,17)\",\"angularaxis\":{\"gridcolor\":\"#506784\",\"linecolor\":\"#506784\",\"ticks\":\"\"},\"radialaxis\":{\"gridcolor\":\"#506784\",\"linecolor\":\"#506784\",\"ticks\":\"\"}},\"ternary\":{\"bgcolor\":\"rgb(17,17,17)\",\"aaxis\":{\"gridcolor\":\"#506784\",\"linecolor\":\"#506784\",\"ticks\":\"\"},\"baxis\":{\"gridcolor\":\"#506784\",\"linecolor\":\"#506784\",\"ticks\":\"\"},\"caxis\":{\"gridcolor\":\"#506784\",\"linecolor\":\"#506784\",\"ticks\":\"\"}},\"coloraxis\":{\"colorbar\":{\"outlinewidth\":0,\"ticks\":\"\"}},\"colorscale\":{\"sequential\":[[0.0,\"#0d0887\"],[0.1111111111111111,\"#46039f\"],[0.2222222222222222,\"#7201a8\"],[0.3333333333333333,\"#9c179e\"],[0.4444444444444444,\"#bd3786\"],[0.5555555555555556,\"#d8576b\"],[0.6666666666666666,\"#ed7953\"],[0.7777777777777778,\"#fb9f3a\"],[0.8888888888888888,\"#fdca26\"],[1.0,\"#f0f921\"]],\"sequentialminus\":[[0.0,\"#0d0887\"],[0.1111111111111111,\"#46039f\"],[0.2222222222222222,\"#7201a8\"],[0.3333333333333333,\"#9c179e\"],[0.4444444444444444,\"#bd3786\"],[0.5555555555555556,\"#d8576b\"],[0.6666666666666666,\"#ed7953\"],[0.7777777777777778,\"#fb9f3a\"],[0.8888888888888888,\"#fdca26\"],[1.0,\"#f0f921\"]],\"diverging\":[[0,\"#8e0152\"],[0.1,\"#c51b7d\"],[0.2,\"#de77ae\"],[0.3,\"#f1b6da\"],[0.4,\"#fde0ef\"],[0.5,\"#f7f7f7\"],[0.6,\"#e6f5d0\"],[0.7,\"#b8e186\"],[0.8,\"#7fbc41\"],[0.9,\"#4d9221\"],[1,\"#276419\"]]},\"xaxis\":{\"gridcolor\":\"#283442\",\"linecolor\":\"#506784\",\"ticks\":\"\",\"title\":{\"standoff\":15},\"zerolinecolor\":\"#283442\",\"automargin\":true,\"zerolinewidth\":2},\"yaxis\":{\"gridcolor\":\"#283442\",\"linecolor\":\"#506784\",\"ticks\":\"\",\"title\":{\"standoff\":15},\"zerolinecolor\":\"#283442\",\"automargin\":true,\"zerolinewidth\":2},\"scene\":{\"xaxis\":{\"backgroundcolor\":\"rgb(17,17,17)\",\"gridcolor\":\"#506784\",\"linecolor\":\"#506784\",\"showbackground\":true,\"ticks\":\"\",\"zerolinecolor\":\"#C8D4E3\",\"gridwidth\":2},\"yaxis\":{\"backgroundcolor\":\"rgb(17,17,17)\",\"gridcolor\":\"#506784\",\"linecolor\":\"#506784\",\"showbackground\":true,\"ticks\":\"\",\"zerolinecolor\":\"#C8D4E3\",\"gridwidth\":2},\"zaxis\":{\"backgroundcolor\":\"rgb(17,17,17)\",\"gridcolor\":\"#506784\",\"linecolor\":\"#506784\",\"showbackground\":true,\"ticks\":\"\",\"zerolinecolor\":\"#C8D4E3\",\"gridwidth\":2}},\"shapedefaults\":{\"line\":{\"color\":\"#f2f5fa\"}},\"annotationdefaults\":{\"arrowcolor\":\"#f2f5fa\",\"arrowhead\":0,\"arrowwidth\":1},\"geo\":{\"bgcolor\":\"rgb(17,17,17)\",\"landcolor\":\"rgb(17,17,17)\",\"subunitcolor\":\"#506784\",\"showland\":true,\"showlakes\":true,\"lakecolor\":\"rgb(17,17,17)\"},\"title\":{\"x\":0.05},\"updatemenudefaults\":{\"bgcolor\":\"#506784\",\"borderwidth\":0},\"sliderdefaults\":{\"bgcolor\":\"#C8D4E3\",\"borderwidth\":1,\"bordercolor\":\"rgb(17,17,17)\",\"tickwidth\":0},\"mapbox\":{\"style\":\"dark\"}}},\"xaxis\":{\"anchor\":\"y\",\"domain\":[0.0,1.0],\"title\":{\"text\":\"x\"}},\"yaxis\":{\"anchor\":\"x\",\"domain\":[0.0,1.0],\"title\":{\"text\":\"yardline_100\"}},\"coloraxis\":{\"colorbar\":{\"title\":{\"text\":\"ep\"}},\"colorscale\":[[0.0,\"#0d0887\"],[0.1111111111111111,\"#46039f\"],[0.2222222222222222,\"#7201a8\"],[0.3333333333333333,\"#9c179e\"],[0.4444444444444444,\"#bd3786\"],[0.5555555555555556,\"#d8576b\"],[0.6666666666666666,\"#ed7953\"],[0.7777777777777778,\"#fb9f3a\"],[0.8888888888888888,\"#fdca26\"],[1.0,\"#f0f921\"]]},\"legend\":{\"tracegroupgap\":0},\"title\":{\"text\":\"Game ID: 2009081352\"},\"height\":400,\"width\":1200},                        {\"responsive\": true}                    ).then(function(){\n",
       "                            \n",
       "var gd = document.getElementById('a72ebef3-55d0-4d46-a1c2-9ac827880132');\n",
       "var x = new MutationObserver(function (mutations, observer) {{\n",
       "        var display = window.getComputedStyle(gd).display;\n",
       "        if (!display || display === 'none') {{\n",
       "            console.log([gd, 'removed!']);\n",
       "            Plotly.purge(gd);\n",
       "            observer.disconnect();\n",
       "        }}\n",
       "}});\n",
       "\n",
       "// Listen for the removal of the full notebook cells\n",
       "var notebookContainer = gd.closest('#notebook-container');\n",
       "if (notebookContainer) {{\n",
       "    x.observe(notebookContainer, {childList: true});\n",
       "}}\n",
       "\n",
       "// Listen for the clearing of the current output cell\n",
       "var outputEl = gd.closest('.output');\n",
       "if (outputEl) {{\n",
       "    x.observe(outputEl, {childList: true});\n",
       "}}\n",
       "\n",
       "                        })                };                });            </script>        </div>"
      ]
     },
     "metadata": {},
     "output_type": "display_data"
    }
   ],
   "execution_count": 52
  },
  {
   "metadata": {
    "ExecuteTime": {
     "end_time": "2024-11-02T01:22:56.866038Z",
     "start_time": "2024-11-02T01:22:55.261360Z"
    }
   },
   "cell_type": "code",
   "source": [
    "# Let's explore the numeric features\n",
    "df_numeric = df.select_dtypes(include=\"number\")\n",
    "numeric_features = df_numeric.columns.tolist()\n",
    "for feat in numeric_features:\n",
    "    print(feat)"
   ],
   "id": "ccc5f5c333702f7",
   "outputs": [
    {
     "name": "stdout",
     "output_type": "stream",
     "text": [
      "season\n",
      "play_id\n",
      "game_id\n",
      "yardline_100\n",
      "quarter_seconds_remaining\n",
      "half_seconds_remaining\n",
      "game_seconds_remaining\n",
      "quarter_end\n",
      "drive\n",
      "sp\n",
      "qtr\n",
      "down\n",
      "goal_to_go\n",
      "ydstogo\n",
      "ydsnet\n",
      "yards_gained\n",
      "shotgun\n",
      "no_huddle\n",
      "qb_dropback\n",
      "qb_kneel\n",
      "qb_spike\n",
      "qb_scramble\n",
      "air_yards\n",
      "yards_after_catch\n",
      "kick_distance\n",
      "home_timeouts_remaining\n",
      "away_timeouts_remaining\n",
      "timeout\n",
      "posteam_timeouts_remaining\n",
      "defteam_timeouts_remaining\n",
      "total_home_score\n",
      "total_away_score\n",
      "posteam_score\n",
      "defteam_score\n",
      "score_differential\n",
      "posteam_score_post\n",
      "defteam_score_post\n",
      "score_differential_post\n",
      "no_score_prob\n",
      "opp_fg_prob\n",
      "opp_safety_prob\n",
      "opp_td_prob\n",
      "fg_prob\n",
      "safety_prob\n",
      "td_prob\n",
      "extra_point_prob\n",
      "two_point_conversion_prob\n",
      "ep\n",
      "epa\n",
      "total_home_epa\n",
      "total_away_epa\n",
      "total_home_rush_epa\n",
      "total_away_rush_epa\n",
      "total_home_pass_epa\n",
      "total_away_pass_epa\n",
      "air_epa\n",
      "yac_epa\n",
      "comp_air_epa\n",
      "comp_yac_epa\n",
      "total_home_comp_air_epa\n",
      "total_away_comp_air_epa\n",
      "total_home_comp_yac_epa\n",
      "total_away_comp_yac_epa\n",
      "total_home_raw_air_epa\n",
      "total_away_raw_air_epa\n",
      "total_home_raw_yac_epa\n",
      "total_away_raw_yac_epa\n",
      "wp\n",
      "def_wp\n",
      "home_wp\n",
      "away_wp\n",
      "wpa\n",
      "home_wp_post\n",
      "away_wp_post\n",
      "total_home_rush_wpa\n",
      "total_away_rush_wpa\n",
      "total_home_pass_wpa\n",
      "total_away_pass_wpa\n",
      "air_wpa\n",
      "yac_wpa\n",
      "comp_air_wpa\n",
      "comp_yac_wpa\n",
      "total_home_comp_air_wpa\n",
      "total_away_comp_air_wpa\n",
      "total_home_comp_yac_wpa\n",
      "total_away_comp_yac_wpa\n",
      "total_home_raw_air_wpa\n",
      "total_away_raw_air_wpa\n",
      "total_home_raw_yac_wpa\n",
      "total_away_raw_yac_wpa\n",
      "punt_blocked\n",
      "first_down_rush\n",
      "first_down_pass\n",
      "first_down_penalty\n",
      "third_down_converted\n",
      "third_down_failed\n",
      "fourth_down_converted\n",
      "fourth_down_failed\n",
      "incomplete_pass\n",
      "touchback\n",
      "interception\n",
      "punt_inside_twenty\n",
      "punt_in_endzone\n",
      "punt_out_of_bounds\n",
      "punt_downed\n",
      "punt_fair_catch\n",
      "kickoff_inside_twenty\n",
      "kickoff_in_endzone\n",
      "kickoff_out_of_bounds\n",
      "kickoff_downed\n",
      "kickoff_fair_catch\n",
      "fumble_forced\n",
      "fumble_not_forced\n",
      "fumble_out_of_bounds\n",
      "solo_tackle\n",
      "safety\n",
      "penalty\n",
      "tackled_for_loss\n",
      "fumble_lost\n",
      "own_kickoff_recovery\n",
      "own_kickoff_recovery_td\n",
      "qb_hit\n",
      "rush_attempt\n",
      "pass_attempt\n",
      "sack\n",
      "touchdown\n",
      "pass_touchdown\n",
      "rush_touchdown\n",
      "return_touchdown\n",
      "extra_point_attempt\n",
      "two_point_attempt\n",
      "field_goal_attempt\n",
      "kickoff_attempt\n",
      "punt_attempt\n",
      "fumble\n",
      "complete_pass\n",
      "assist_tackle\n",
      "lateral_reception\n",
      "lateral_rush\n",
      "lateral_return\n",
      "lateral_recovery\n",
      "fumble_recovery_1_yards\n",
      "fumble_recovery_2_yards\n",
      "return_yards\n",
      "penalty_yards\n",
      "replay_or_challenge\n",
      "defensive_two_point_attempt\n",
      "defensive_two_point_conv\n",
      "defensive_extra_point_attempt\n",
      "defensive_extra_point_conv\n"
     ]
    }
   ],
   "execution_count": 13
  },
  {
   "metadata": {},
   "cell_type": "markdown",
   "source": "## Team Offense Stats",
   "id": "12d561c63ae83c86"
  },
  {
   "metadata": {
    "ExecuteTime": {
     "end_time": "2024-11-02T01:38:32.072305Z",
     "start_time": "2024-11-02T01:38:32.045841Z"
    }
   },
   "cell_type": "code",
   "source": [
    "teams = df['home_team'].unique()\n",
    "print(teams)"
   ],
   "id": "d57e79763acef613",
   "outputs": [
    {
     "name": "stdout",
     "output_type": "stream",
     "text": [
      "['TEN' 'PHI' 'BAL' 'PIT' 'OAK' 'NYJ' 'IND' 'NO' 'SF' 'DET' 'BUF' 'GB' 'KC'\n",
      " 'SD' 'MIA' 'NYG' 'NE' 'STL' 'DAL' 'MIN' 'WAS' 'CLE' 'JAC' 'HOU' 'CHI'\n",
      " 'ARI' 'SEA' 'CIN' 'TB' 'CAR' 'ATL' 'DEN' 'LA' 'LAC' 'JAX' 'AFC' 'NFC'\n",
      " 'SAN' 'CRT' 'RIC' 'NPR' 'APR']\n"
     ]
    }
   ],
   "execution_count": 17
  },
  {
   "metadata": {
    "ExecuteTime": {
     "end_time": "2024-11-02T02:11:16.237717Z",
     "start_time": "2024-11-02T02:11:13.338400Z"
    }
   },
   "cell_type": "code",
   "source": [
    "avg_yds_gained = []\n",
    "avg_epa = []\n",
    "avg_wpa = []\n",
    "for team in teams:\n",
    "    filtered_df = df[df['posteam'] == team]\n",
    "    avg_yds_gained.append(filtered_df['yards_gained'].mean())\n",
    "    avg_epa.append(filtered_df['epa'].mean())\n",
    "    avg_wpa.append(filtered_df['wpa'].mean())\n",
    "    print(team)\n",
    "    print(filtered_df['yards_gained'].describe(), \"\\n\")"
   ],
   "id": "d7ad830256a21265",
   "outputs": [
    {
     "name": "stdout",
     "output_type": "stream",
     "text": [
      "TEN\n",
      "count    18168.000000\n",
      "mean         4.005724\n",
      "std          8.144682\n",
      "min        -19.000000\n",
      "25%          0.000000\n",
      "50%          0.000000\n",
      "75%          6.000000\n",
      "max         99.000000\n",
      "Name: yards_gained, dtype: float64 \n",
      "\n",
      "PHI\n",
      "count    19919.000000\n",
      "mean         4.186054\n",
      "std          8.080012\n",
      "min        -24.000000\n",
      "25%          0.000000\n",
      "50%          0.000000\n",
      "75%          6.000000\n",
      "max         91.000000\n",
      "Name: yards_gained, dtype: float64 \n",
      "\n",
      "BAL\n",
      "count    20408.000000\n",
      "mean         3.944973\n",
      "std          7.637706\n",
      "min        -22.000000\n",
      "25%          0.000000\n",
      "50%          1.000000\n",
      "75%          6.000000\n",
      "max         95.000000\n",
      "Name: yards_gained, dtype: float64 \n",
      "\n",
      "PIT\n",
      "count    19204.000000\n",
      "mean         4.172256\n",
      "std          8.283921\n",
      "min        -19.000000\n",
      "25%          0.000000\n",
      "50%          0.000000\n",
      "75%          6.000000\n",
      "max         97.000000\n",
      "Name: yards_gained, dtype: float64 \n",
      "\n",
      "OAK\n",
      "count    18420.000000\n",
      "mean         3.905537\n",
      "std          7.914302\n",
      "min        -18.000000\n",
      "25%          0.000000\n",
      "50%          0.000000\n",
      "75%          6.000000\n",
      "max         93.000000\n",
      "Name: yards_gained, dtype: float64 \n",
      "\n",
      "NYJ\n",
      "count    18955.000000\n",
      "mean         3.694751\n",
      "std          7.445691\n",
      "min        -19.000000\n",
      "25%          0.000000\n",
      "50%          0.000000\n",
      "75%          5.000000\n",
      "max         92.000000\n",
      "Name: yards_gained, dtype: float64 \n",
      "\n",
      "IND\n",
      "count    19635.000000\n",
      "mean         3.981003\n",
      "std          7.632814\n",
      "min        -22.000000\n",
      "25%          0.000000\n",
      "50%          0.000000\n",
      "75%          6.000000\n",
      "max         87.000000\n",
      "Name: yards_gained, dtype: float64 \n",
      "\n",
      "NO\n",
      "count    20278.000000\n",
      "mean         4.529638\n",
      "std          8.148937\n",
      "min        -24.000000\n",
      "25%          0.000000\n",
      "50%          1.000000\n",
      "75%          7.000000\n",
      "max         98.000000\n",
      "Name: yards_gained, dtype: float64 \n",
      "\n",
      "SF\n",
      "count    18974.000000\n",
      "mean         3.985454\n",
      "std          8.074170\n",
      "min        -21.000000\n",
      "25%          0.000000\n",
      "50%          0.000000\n",
      "75%          6.000000\n",
      "max         90.000000\n",
      "Name: yards_gained, dtype: float64 \n",
      "\n",
      "DET\n",
      "count    18893.000000\n",
      "mean         4.077489\n",
      "std          7.881703\n",
      "min        -24.000000\n",
      "25%          0.000000\n",
      "50%          0.000000\n",
      "75%          6.000000\n",
      "max         88.000000\n",
      "Name: yards_gained, dtype: float64 \n",
      "\n",
      "BUF\n",
      "count    18723.000000\n",
      "mean         3.814239\n",
      "std          7.613584\n",
      "min        -29.000000\n",
      "25%          0.000000\n",
      "50%          0.000000\n",
      "75%          6.000000\n",
      "max         98.000000\n",
      "Name: yards_gained, dtype: float64 \n",
      "\n",
      "GB\n",
      "count    20290.000000\n",
      "mean         4.135683\n",
      "std          8.226678\n",
      "min        -18.000000\n",
      "25%          0.000000\n",
      "50%          0.000000\n",
      "75%          6.000000\n",
      "max         97.000000\n",
      "Name: yards_gained, dtype: float64 \n",
      "\n",
      "KC\n",
      "count    19301.000000\n",
      "mean         4.041397\n",
      "std          7.959125\n",
      "min        -17.000000\n",
      "25%          0.000000\n",
      "50%          0.000000\n",
      "75%          6.000000\n",
      "max         91.000000\n",
      "Name: yards_gained, dtype: float64 \n",
      "\n",
      "SD\n",
      "count    13713.000000\n",
      "mean         4.144534\n",
      "std          7.782465\n",
      "min        -17.000000\n",
      "25%          0.000000\n",
      "50%          1.000000\n",
      "75%          6.000000\n",
      "max         81.000000\n",
      "Name: yards_gained, dtype: float64 \n",
      "\n",
      "MIA\n",
      "count    18263.000000\n",
      "mean         3.817774\n",
      "std          7.696456\n",
      "min        -38.000000\n",
      "25%          0.000000\n",
      "50%          0.000000\n",
      "75%          6.000000\n",
      "max         99.000000\n",
      "Name: yards_gained, dtype: float64 \n",
      "\n",
      "NYG\n",
      "count    19019.000000\n",
      "mean         4.032336\n",
      "std          8.126928\n",
      "min        -21.000000\n",
      "25%          0.000000\n",
      "50%          0.000000\n",
      "75%          6.000000\n",
      "max         99.000000\n",
      "Name: yards_gained, dtype: float64 \n",
      "\n",
      "NE\n",
      "count    21439.000000\n",
      "mean         4.308596\n",
      "std          7.756355\n",
      "min        -20.000000\n",
      "25%          0.000000\n",
      "50%          1.000000\n",
      "75%          6.000000\n",
      "max         99.000000\n",
      "Name: yards_gained, dtype: float64 \n",
      "\n",
      "STL\n",
      "count    11627.000000\n",
      "mean         3.634557\n",
      "std          7.502074\n",
      "min        -22.000000\n",
      "25%          0.000000\n",
      "50%          0.000000\n",
      "75%          5.000000\n",
      "max         89.000000\n",
      "Name: yards_gained, dtype: float64 \n",
      "\n",
      "DAL\n",
      "count    19056.000000\n",
      "mean         4.235254\n",
      "std          7.964130\n",
      "min        -19.000000\n",
      "25%          0.000000\n",
      "50%          1.000000\n",
      "75%          6.000000\n",
      "max         91.000000\n",
      "Name: yards_gained, dtype: float64 \n",
      "\n",
      "MIN\n",
      "count    18963.000000\n",
      "mean         3.993250\n",
      "std          7.909476\n",
      "min        -24.000000\n",
      "25%          0.000000\n",
      "50%          1.000000\n",
      "75%          6.000000\n",
      "max         85.000000\n",
      "Name: yards_gained, dtype: float64 \n",
      "\n",
      "WAS\n",
      "count    18406.000000\n",
      "mean         4.052048\n",
      "std          8.071300\n",
      "min        -19.000000\n",
      "25%          0.000000\n",
      "50%          0.000000\n",
      "75%          6.000000\n",
      "max         90.000000\n",
      "Name: yards_gained, dtype: float64 \n",
      "\n",
      "CLE\n",
      "count    18060.000000\n",
      "mean         3.716334\n",
      "std          7.693034\n",
      "min        -20.000000\n",
      "25%          0.000000\n",
      "50%          0.000000\n",
      "75%          5.000000\n",
      "max         92.000000\n",
      "Name: yards_gained, dtype: float64 \n",
      "\n",
      "JAC\n",
      "count    12043.000000\n",
      "mean         3.664618\n",
      "std          7.658888\n",
      "min        -20.000000\n",
      "25%          0.000000\n",
      "50%          0.000000\n",
      "75%          5.000000\n",
      "max         90.000000\n",
      "Name: yards_gained, dtype: float64 \n",
      "\n",
      "HOU\n",
      "count    19645.000000\n",
      "mean         4.051922\n",
      "std          7.687052\n",
      "min        -27.000000\n",
      "25%          0.000000\n",
      "50%          1.000000\n",
      "75%          6.000000\n",
      "max         97.000000\n",
      "Name: yards_gained, dtype: float64 \n",
      "\n",
      "CHI\n",
      "count    18408.000000\n",
      "mean         3.850934\n",
      "std          7.664748\n",
      "min        -22.000000\n",
      "25%          0.000000\n",
      "50%          0.000000\n",
      "75%          6.000000\n",
      "max         89.000000\n",
      "Name: yards_gained, dtype: float64 \n",
      "\n",
      "ARI\n",
      "count    18874.000000\n",
      "mean         3.825633\n",
      "std          7.779457\n",
      "min        -28.000000\n",
      "25%          0.000000\n",
      "50%          0.000000\n",
      "75%          6.000000\n",
      "max         91.000000\n",
      "Name: yards_gained, dtype: float64 \n",
      "\n",
      "SEA\n",
      "count    19731.000000\n",
      "mean         4.077239\n",
      "std          7.981175\n",
      "min        -23.000000\n",
      "25%          0.000000\n",
      "50%          0.000000\n",
      "75%          6.000000\n",
      "max         87.000000\n",
      "Name: yards_gained, dtype: float64 \n",
      "\n",
      "CIN\n",
      "count    19033.000000\n",
      "mean         3.906531\n",
      "std          7.665269\n",
      "min        -21.000000\n",
      "25%          0.000000\n",
      "50%          0.000000\n",
      "75%          6.000000\n",
      "max         93.000000\n",
      "Name: yards_gained, dtype: float64 \n",
      "\n",
      "TB\n",
      "count    18442.000000\n",
      "mean         3.944529\n",
      "std          7.800542\n",
      "min        -22.000000\n",
      "25%          0.000000\n",
      "50%          0.000000\n",
      "75%          6.000000\n",
      "max         96.000000\n",
      "Name: yards_gained, dtype: float64 \n",
      "\n",
      "CAR\n",
      "count    18945.000000\n",
      "mean         3.950172\n",
      "std          7.886029\n",
      "min        -28.000000\n",
      "25%          0.000000\n",
      "50%          0.000000\n",
      "75%          6.000000\n",
      "max         91.000000\n",
      "Name: yards_gained, dtype: float64 \n",
      "\n",
      "ATL\n",
      "count    19430.000000\n",
      "mean         4.212867\n",
      "std          7.893990\n",
      "min        -26.000000\n",
      "25%          0.000000\n",
      "50%          1.000000\n",
      "75%          6.000000\n",
      "max         93.000000\n",
      "Name: yards_gained, dtype: float64 \n",
      "\n",
      "DEN\n",
      "count    19858.000000\n",
      "mean         4.016014\n",
      "std          7.673858\n",
      "min        -28.000000\n",
      "25%          0.000000\n",
      "50%          0.000000\n",
      "75%          6.000000\n",
      "max         89.000000\n",
      "Name: yards_gained, dtype: float64 \n",
      "\n",
      "LA\n",
      "count    7081.000000\n",
      "mean        4.021890\n",
      "std         7.828057\n",
      "min       -17.000000\n",
      "25%         0.000000\n",
      "50%         0.000000\n",
      "75%         6.000000\n",
      "max        94.000000\n",
      "Name: yards_gained, dtype: float64 \n",
      "\n",
      "LAC\n",
      "count    5022.000000\n",
      "mean        4.339307\n",
      "std         8.142916\n",
      "min       -20.000000\n",
      "25%         0.000000\n",
      "50%         0.000000\n",
      "75%         7.000000\n",
      "max        87.000000\n",
      "Name: yards_gained, dtype: float64 \n",
      "\n",
      "JAX\n",
      "count    6575.000000\n",
      "mean        3.902814\n",
      "std         7.616241\n",
      "min       -19.000000\n",
      "25%         0.000000\n",
      "50%         0.000000\n",
      "75%         6.000000\n",
      "max        97.000000\n",
      "Name: yards_gained, dtype: float64 \n",
      "\n",
      "AFC\n",
      "count    459.000000\n",
      "mean       5.111111\n",
      "std        9.864290\n",
      "min      -12.000000\n",
      "25%        0.000000\n",
      "50%        0.000000\n",
      "75%        7.000000\n",
      "max       74.000000\n",
      "Name: yards_gained, dtype: float64 \n",
      "\n",
      "NFC\n",
      "count    502.000000\n",
      "mean       4.912351\n",
      "std        8.885403\n",
      "min      -15.000000\n",
      "25%        0.000000\n",
      "50%        1.000000\n",
      "75%        8.000000\n",
      "max       58.000000\n",
      "Name: yards_gained, dtype: float64 \n",
      "\n",
      "SAN\n",
      "count    71.000000\n",
      "mean      3.591549\n",
      "std       8.756349\n",
      "min     -13.000000\n",
      "25%       0.000000\n",
      "50%       0.000000\n",
      "75%       5.000000\n",
      "max      39.000000\n",
      "Name: yards_gained, dtype: float64 \n",
      "\n",
      "CRT\n",
      "count    84.000000\n",
      "mean      5.404762\n",
      "std       8.355244\n",
      "min      -8.000000\n",
      "25%       0.000000\n",
      "50%       1.500000\n",
      "75%       9.000000\n",
      "max      31.000000\n",
      "Name: yards_gained, dtype: float64 \n",
      "\n",
      "RIC\n",
      "count    164.000000\n",
      "mean       4.756098\n",
      "std        8.109013\n",
      "min       -8.000000\n",
      "25%        0.000000\n",
      "50%        0.000000\n",
      "75%        8.000000\n",
      "max       40.000000\n",
      "Name: yards_gained, dtype: float64 \n",
      "\n",
      "NPR\n",
      "count    112.000000\n",
      "mean       4.732143\n",
      "std       10.545468\n",
      "min      -11.000000\n",
      "25%        0.000000\n",
      "50%        0.000000\n",
      "75%        7.250000\n",
      "max       59.000000\n",
      "Name: yards_gained, dtype: float64 \n",
      "\n",
      "APR\n",
      "count    152.000000\n",
      "mean       5.611842\n",
      "std       10.068671\n",
      "min       -7.000000\n",
      "25%        0.000000\n",
      "50%        1.000000\n",
      "75%        8.000000\n",
      "max       60.000000\n",
      "Name: yards_gained, dtype: float64 \n",
      "\n"
     ]
    }
   ],
   "execution_count": 35
  },
  {
   "metadata": {
    "ExecuteTime": {
     "end_time": "2024-11-02T02:12:31.465630Z",
     "start_time": "2024-11-02T02:12:31.401452Z"
    }
   },
   "cell_type": "code",
   "source": [
    "team_stats = pd.DataFrame({'team': teams, 'avg_yds_per_play': avg_yds_gained, 'avg_epa': avg_epa, 'avg_wpa': avg_wpa})\n",
    "fig = px.bar(team_stats, \n",
    "             x='team', y='avg_yds_per_play', title='Average Yards Gained Per Play by Team',\n",
    "             width=1200, height=400)\n",
    "fig.show()"
   ],
   "id": "1fbdf55d34cfd67f",
   "outputs": [
    {
     "data": {
      "application/vnd.plotly.v1+json": {
       "data": [
        {
         "alignmentgroup": "True",
         "hovertemplate": "team=%{x}<br>avg_yds_per_play=%{y}<extra></extra>",
         "legendgroup": "",
         "marker": {
          "color": "#636efa",
          "pattern": {
           "shape": ""
          }
         },
         "name": "",
         "offsetgroup": "",
         "orientation": "v",
         "showlegend": false,
         "textposition": "auto",
         "x": [
          "TEN",
          "PHI",
          "BAL",
          "PIT",
          "OAK",
          "NYJ",
          "IND",
          "NO",
          "SF",
          "DET",
          "BUF",
          "GB",
          "KC",
          "SD",
          "MIA",
          "NYG",
          "NE",
          "STL",
          "DAL",
          "MIN",
          "WAS",
          "CLE",
          "JAC",
          "HOU",
          "CHI",
          "ARI",
          "SEA",
          "CIN",
          "TB",
          "CAR",
          "ATL",
          "DEN",
          "LA",
          "LAC",
          "JAX",
          "AFC",
          "NFC",
          "SAN",
          "CRT",
          "RIC",
          "NPR",
          "APR"
         ],
         "xaxis": "x",
         "y": [
          4.005724350506385,
          4.186053516742809,
          3.9449725597804783,
          4.172255780045824,
          3.9055374592833876,
          3.6947507254022685,
          3.9810033104150753,
          4.52963803136404,
          3.9854537788552755,
          4.077489017096279,
          3.814239171073012,
          4.135682602267127,
          4.041396818817677,
          4.14453438343178,
          3.8177736406943,
          4.032336084967664,
          4.308596483044918,
          3.634557495484648,
          4.235253988245172,
          3.993250013183568,
          4.052048245137455,
          3.7163344407530454,
          3.664618450552188,
          4.051921608551794,
          3.850934376358105,
          3.8256331461269473,
          4.07723886270336,
          3.9065307623601115,
          3.9445287929725628,
          3.9501715492214307,
          4.2128667009778695,
          4.016013697250479,
          4.021889563620958,
          4.339307048984469,
          3.9028136882129276,
          5.111111111111111,
          4.912350597609562,
          3.591549295774648,
          5.404761904761905,
          4.7560975609756095,
          4.732142857142857,
          5.6118421052631575
         ],
         "yaxis": "y",
         "type": "bar"
        }
       ],
       "layout": {
        "template": {
         "data": {
          "histogram2dcontour": [
           {
            "type": "histogram2dcontour",
            "colorbar": {
             "outlinewidth": 0,
             "ticks": ""
            },
            "colorscale": [
             [
              0.0,
              "#0d0887"
             ],
             [
              0.1111111111111111,
              "#46039f"
             ],
             [
              0.2222222222222222,
              "#7201a8"
             ],
             [
              0.3333333333333333,
              "#9c179e"
             ],
             [
              0.4444444444444444,
              "#bd3786"
             ],
             [
              0.5555555555555556,
              "#d8576b"
             ],
             [
              0.6666666666666666,
              "#ed7953"
             ],
             [
              0.7777777777777778,
              "#fb9f3a"
             ],
             [
              0.8888888888888888,
              "#fdca26"
             ],
             [
              1.0,
              "#f0f921"
             ]
            ]
           }
          ],
          "choropleth": [
           {
            "type": "choropleth",
            "colorbar": {
             "outlinewidth": 0,
             "ticks": ""
            }
           }
          ],
          "histogram2d": [
           {
            "type": "histogram2d",
            "colorbar": {
             "outlinewidth": 0,
             "ticks": ""
            },
            "colorscale": [
             [
              0.0,
              "#0d0887"
             ],
             [
              0.1111111111111111,
              "#46039f"
             ],
             [
              0.2222222222222222,
              "#7201a8"
             ],
             [
              0.3333333333333333,
              "#9c179e"
             ],
             [
              0.4444444444444444,
              "#bd3786"
             ],
             [
              0.5555555555555556,
              "#d8576b"
             ],
             [
              0.6666666666666666,
              "#ed7953"
             ],
             [
              0.7777777777777778,
              "#fb9f3a"
             ],
             [
              0.8888888888888888,
              "#fdca26"
             ],
             [
              1.0,
              "#f0f921"
             ]
            ]
           }
          ],
          "heatmap": [
           {
            "type": "heatmap",
            "colorbar": {
             "outlinewidth": 0,
             "ticks": ""
            },
            "colorscale": [
             [
              0.0,
              "#0d0887"
             ],
             [
              0.1111111111111111,
              "#46039f"
             ],
             [
              0.2222222222222222,
              "#7201a8"
             ],
             [
              0.3333333333333333,
              "#9c179e"
             ],
             [
              0.4444444444444444,
              "#bd3786"
             ],
             [
              0.5555555555555556,
              "#d8576b"
             ],
             [
              0.6666666666666666,
              "#ed7953"
             ],
             [
              0.7777777777777778,
              "#fb9f3a"
             ],
             [
              0.8888888888888888,
              "#fdca26"
             ],
             [
              1.0,
              "#f0f921"
             ]
            ]
           }
          ],
          "heatmapgl": [
           {
            "type": "heatmapgl",
            "colorbar": {
             "outlinewidth": 0,
             "ticks": ""
            },
            "colorscale": [
             [
              0.0,
              "#0d0887"
             ],
             [
              0.1111111111111111,
              "#46039f"
             ],
             [
              0.2222222222222222,
              "#7201a8"
             ],
             [
              0.3333333333333333,
              "#9c179e"
             ],
             [
              0.4444444444444444,
              "#bd3786"
             ],
             [
              0.5555555555555556,
              "#d8576b"
             ],
             [
              0.6666666666666666,
              "#ed7953"
             ],
             [
              0.7777777777777778,
              "#fb9f3a"
             ],
             [
              0.8888888888888888,
              "#fdca26"
             ],
             [
              1.0,
              "#f0f921"
             ]
            ]
           }
          ],
          "contourcarpet": [
           {
            "type": "contourcarpet",
            "colorbar": {
             "outlinewidth": 0,
             "ticks": ""
            }
           }
          ],
          "contour": [
           {
            "type": "contour",
            "colorbar": {
             "outlinewidth": 0,
             "ticks": ""
            },
            "colorscale": [
             [
              0.0,
              "#0d0887"
             ],
             [
              0.1111111111111111,
              "#46039f"
             ],
             [
              0.2222222222222222,
              "#7201a8"
             ],
             [
              0.3333333333333333,
              "#9c179e"
             ],
             [
              0.4444444444444444,
              "#bd3786"
             ],
             [
              0.5555555555555556,
              "#d8576b"
             ],
             [
              0.6666666666666666,
              "#ed7953"
             ],
             [
              0.7777777777777778,
              "#fb9f3a"
             ],
             [
              0.8888888888888888,
              "#fdca26"
             ],
             [
              1.0,
              "#f0f921"
             ]
            ]
           }
          ],
          "surface": [
           {
            "type": "surface",
            "colorbar": {
             "outlinewidth": 0,
             "ticks": ""
            },
            "colorscale": [
             [
              0.0,
              "#0d0887"
             ],
             [
              0.1111111111111111,
              "#46039f"
             ],
             [
              0.2222222222222222,
              "#7201a8"
             ],
             [
              0.3333333333333333,
              "#9c179e"
             ],
             [
              0.4444444444444444,
              "#bd3786"
             ],
             [
              0.5555555555555556,
              "#d8576b"
             ],
             [
              0.6666666666666666,
              "#ed7953"
             ],
             [
              0.7777777777777778,
              "#fb9f3a"
             ],
             [
              0.8888888888888888,
              "#fdca26"
             ],
             [
              1.0,
              "#f0f921"
             ]
            ]
           }
          ],
          "mesh3d": [
           {
            "type": "mesh3d",
            "colorbar": {
             "outlinewidth": 0,
             "ticks": ""
            }
           }
          ],
          "scatter": [
           {
            "marker": {
             "line": {
              "color": "#283442"
             }
            },
            "type": "scatter"
           }
          ],
          "parcoords": [
           {
            "type": "parcoords",
            "line": {
             "colorbar": {
              "outlinewidth": 0,
              "ticks": ""
             }
            }
           }
          ],
          "scatterpolargl": [
           {
            "type": "scatterpolargl",
            "marker": {
             "colorbar": {
              "outlinewidth": 0,
              "ticks": ""
             }
            }
           }
          ],
          "bar": [
           {
            "error_x": {
             "color": "#f2f5fa"
            },
            "error_y": {
             "color": "#f2f5fa"
            },
            "marker": {
             "line": {
              "color": "rgb(17,17,17)",
              "width": 0.5
             },
             "pattern": {
              "fillmode": "overlay",
              "size": 10,
              "solidity": 0.2
             }
            },
            "type": "bar"
           }
          ],
          "scattergeo": [
           {
            "type": "scattergeo",
            "marker": {
             "colorbar": {
              "outlinewidth": 0,
              "ticks": ""
             }
            }
           }
          ],
          "scatterpolar": [
           {
            "type": "scatterpolar",
            "marker": {
             "colorbar": {
              "outlinewidth": 0,
              "ticks": ""
             }
            }
           }
          ],
          "histogram": [
           {
            "marker": {
             "pattern": {
              "fillmode": "overlay",
              "size": 10,
              "solidity": 0.2
             }
            },
            "type": "histogram"
           }
          ],
          "scattergl": [
           {
            "marker": {
             "line": {
              "color": "#283442"
             }
            },
            "type": "scattergl"
           }
          ],
          "scatter3d": [
           {
            "type": "scatter3d",
            "line": {
             "colorbar": {
              "outlinewidth": 0,
              "ticks": ""
             }
            },
            "marker": {
             "colorbar": {
              "outlinewidth": 0,
              "ticks": ""
             }
            }
           }
          ],
          "scattermapbox": [
           {
            "type": "scattermapbox",
            "marker": {
             "colorbar": {
              "outlinewidth": 0,
              "ticks": ""
             }
            }
           }
          ],
          "scatterternary": [
           {
            "type": "scatterternary",
            "marker": {
             "colorbar": {
              "outlinewidth": 0,
              "ticks": ""
             }
            }
           }
          ],
          "scattercarpet": [
           {
            "type": "scattercarpet",
            "marker": {
             "colorbar": {
              "outlinewidth": 0,
              "ticks": ""
             }
            }
           }
          ],
          "carpet": [
           {
            "aaxis": {
             "endlinecolor": "#A2B1C6",
             "gridcolor": "#506784",
             "linecolor": "#506784",
             "minorgridcolor": "#506784",
             "startlinecolor": "#A2B1C6"
            },
            "baxis": {
             "endlinecolor": "#A2B1C6",
             "gridcolor": "#506784",
             "linecolor": "#506784",
             "minorgridcolor": "#506784",
             "startlinecolor": "#A2B1C6"
            },
            "type": "carpet"
           }
          ],
          "table": [
           {
            "cells": {
             "fill": {
              "color": "#506784"
             },
             "line": {
              "color": "rgb(17,17,17)"
             }
            },
            "header": {
             "fill": {
              "color": "#2a3f5f"
             },
             "line": {
              "color": "rgb(17,17,17)"
             }
            },
            "type": "table"
           }
          ],
          "barpolar": [
           {
            "marker": {
             "line": {
              "color": "rgb(17,17,17)",
              "width": 0.5
             },
             "pattern": {
              "fillmode": "overlay",
              "size": 10,
              "solidity": 0.2
             }
            },
            "type": "barpolar"
           }
          ],
          "pie": [
           {
            "automargin": true,
            "type": "pie"
           }
          ]
         },
         "layout": {
          "autotypenumbers": "strict",
          "colorway": [
           "#636efa",
           "#EF553B",
           "#00cc96",
           "#ab63fa",
           "#FFA15A",
           "#19d3f3",
           "#FF6692",
           "#B6E880",
           "#FF97FF",
           "#FECB52"
          ],
          "font": {
           "color": "#f2f5fa"
          },
          "hovermode": "closest",
          "hoverlabel": {
           "align": "left"
          },
          "paper_bgcolor": "rgb(17,17,17)",
          "plot_bgcolor": "rgb(17,17,17)",
          "polar": {
           "bgcolor": "rgb(17,17,17)",
           "angularaxis": {
            "gridcolor": "#506784",
            "linecolor": "#506784",
            "ticks": ""
           },
           "radialaxis": {
            "gridcolor": "#506784",
            "linecolor": "#506784",
            "ticks": ""
           }
          },
          "ternary": {
           "bgcolor": "rgb(17,17,17)",
           "aaxis": {
            "gridcolor": "#506784",
            "linecolor": "#506784",
            "ticks": ""
           },
           "baxis": {
            "gridcolor": "#506784",
            "linecolor": "#506784",
            "ticks": ""
           },
           "caxis": {
            "gridcolor": "#506784",
            "linecolor": "#506784",
            "ticks": ""
           }
          },
          "coloraxis": {
           "colorbar": {
            "outlinewidth": 0,
            "ticks": ""
           }
          },
          "colorscale": {
           "sequential": [
            [
             0.0,
             "#0d0887"
            ],
            [
             0.1111111111111111,
             "#46039f"
            ],
            [
             0.2222222222222222,
             "#7201a8"
            ],
            [
             0.3333333333333333,
             "#9c179e"
            ],
            [
             0.4444444444444444,
             "#bd3786"
            ],
            [
             0.5555555555555556,
             "#d8576b"
            ],
            [
             0.6666666666666666,
             "#ed7953"
            ],
            [
             0.7777777777777778,
             "#fb9f3a"
            ],
            [
             0.8888888888888888,
             "#fdca26"
            ],
            [
             1.0,
             "#f0f921"
            ]
           ],
           "sequentialminus": [
            [
             0.0,
             "#0d0887"
            ],
            [
             0.1111111111111111,
             "#46039f"
            ],
            [
             0.2222222222222222,
             "#7201a8"
            ],
            [
             0.3333333333333333,
             "#9c179e"
            ],
            [
             0.4444444444444444,
             "#bd3786"
            ],
            [
             0.5555555555555556,
             "#d8576b"
            ],
            [
             0.6666666666666666,
             "#ed7953"
            ],
            [
             0.7777777777777778,
             "#fb9f3a"
            ],
            [
             0.8888888888888888,
             "#fdca26"
            ],
            [
             1.0,
             "#f0f921"
            ]
           ],
           "diverging": [
            [
             0,
             "#8e0152"
            ],
            [
             0.1,
             "#c51b7d"
            ],
            [
             0.2,
             "#de77ae"
            ],
            [
             0.3,
             "#f1b6da"
            ],
            [
             0.4,
             "#fde0ef"
            ],
            [
             0.5,
             "#f7f7f7"
            ],
            [
             0.6,
             "#e6f5d0"
            ],
            [
             0.7,
             "#b8e186"
            ],
            [
             0.8,
             "#7fbc41"
            ],
            [
             0.9,
             "#4d9221"
            ],
            [
             1,
             "#276419"
            ]
           ]
          },
          "xaxis": {
           "gridcolor": "#283442",
           "linecolor": "#506784",
           "ticks": "",
           "title": {
            "standoff": 15
           },
           "zerolinecolor": "#283442",
           "automargin": true,
           "zerolinewidth": 2
          },
          "yaxis": {
           "gridcolor": "#283442",
           "linecolor": "#506784",
           "ticks": "",
           "title": {
            "standoff": 15
           },
           "zerolinecolor": "#283442",
           "automargin": true,
           "zerolinewidth": 2
          },
          "scene": {
           "xaxis": {
            "backgroundcolor": "rgb(17,17,17)",
            "gridcolor": "#506784",
            "linecolor": "#506784",
            "showbackground": true,
            "ticks": "",
            "zerolinecolor": "#C8D4E3",
            "gridwidth": 2
           },
           "yaxis": {
            "backgroundcolor": "rgb(17,17,17)",
            "gridcolor": "#506784",
            "linecolor": "#506784",
            "showbackground": true,
            "ticks": "",
            "zerolinecolor": "#C8D4E3",
            "gridwidth": 2
           },
           "zaxis": {
            "backgroundcolor": "rgb(17,17,17)",
            "gridcolor": "#506784",
            "linecolor": "#506784",
            "showbackground": true,
            "ticks": "",
            "zerolinecolor": "#C8D4E3",
            "gridwidth": 2
           }
          },
          "shapedefaults": {
           "line": {
            "color": "#f2f5fa"
           }
          },
          "annotationdefaults": {
           "arrowcolor": "#f2f5fa",
           "arrowhead": 0,
           "arrowwidth": 1
          },
          "geo": {
           "bgcolor": "rgb(17,17,17)",
           "landcolor": "rgb(17,17,17)",
           "subunitcolor": "#506784",
           "showland": true,
           "showlakes": true,
           "lakecolor": "rgb(17,17,17)"
          },
          "title": {
           "x": 0.05
          },
          "updatemenudefaults": {
           "bgcolor": "#506784",
           "borderwidth": 0
          },
          "sliderdefaults": {
           "bgcolor": "#C8D4E3",
           "borderwidth": 1,
           "bordercolor": "rgb(17,17,17)",
           "tickwidth": 0
          },
          "mapbox": {
           "style": "dark"
          }
         }
        },
        "xaxis": {
         "anchor": "y",
         "domain": [
          0.0,
          1.0
         ],
         "title": {
          "text": "team"
         }
        },
        "yaxis": {
         "anchor": "x",
         "domain": [
          0.0,
          1.0
         ],
         "title": {
          "text": "avg_yds_per_play"
         }
        },
        "legend": {
         "tracegroupgap": 0
        },
        "title": {
         "text": "Average Yards Gained Per Play by Team"
        },
        "barmode": "relative",
        "height": 400,
        "width": 1200
       },
       "config": {
        "plotlyServerURL": "https://plot.ly"
       }
      },
      "text/html": [
       "<div>                            <div id=\"459b7350-5668-4e51-aee3-180290cccd81\" class=\"plotly-graph-div\" style=\"height:400px; width:1200px;\"></div>            <script type=\"text/javascript\">                require([\"plotly\"], function(Plotly) {                    window.PLOTLYENV=window.PLOTLYENV || {};                                    if (document.getElementById(\"459b7350-5668-4e51-aee3-180290cccd81\")) {                    Plotly.newPlot(                        \"459b7350-5668-4e51-aee3-180290cccd81\",                        [{\"alignmentgroup\":\"True\",\"hovertemplate\":\"team=%{x}\\u003cbr\\u003eavg_yds_per_play=%{y}\\u003cextra\\u003e\\u003c\\u002fextra\\u003e\",\"legendgroup\":\"\",\"marker\":{\"color\":\"#636efa\",\"pattern\":{\"shape\":\"\"}},\"name\":\"\",\"offsetgroup\":\"\",\"orientation\":\"v\",\"showlegend\":false,\"textposition\":\"auto\",\"x\":[\"TEN\",\"PHI\",\"BAL\",\"PIT\",\"OAK\",\"NYJ\",\"IND\",\"NO\",\"SF\",\"DET\",\"BUF\",\"GB\",\"KC\",\"SD\",\"MIA\",\"NYG\",\"NE\",\"STL\",\"DAL\",\"MIN\",\"WAS\",\"CLE\",\"JAC\",\"HOU\",\"CHI\",\"ARI\",\"SEA\",\"CIN\",\"TB\",\"CAR\",\"ATL\",\"DEN\",\"LA\",\"LAC\",\"JAX\",\"AFC\",\"NFC\",\"SAN\",\"CRT\",\"RIC\",\"NPR\",\"APR\"],\"xaxis\":\"x\",\"y\":[4.005724350506385,4.186053516742809,3.9449725597804783,4.172255780045824,3.9055374592833876,3.6947507254022685,3.9810033104150753,4.52963803136404,3.9854537788552755,4.077489017096279,3.814239171073012,4.135682602267127,4.041396818817677,4.14453438343178,3.8177736406943,4.032336084967664,4.308596483044918,3.634557495484648,4.235253988245172,3.993250013183568,4.052048245137455,3.7163344407530454,3.664618450552188,4.051921608551794,3.850934376358105,3.8256331461269473,4.07723886270336,3.9065307623601115,3.9445287929725628,3.9501715492214307,4.2128667009778695,4.016013697250479,4.021889563620958,4.339307048984469,3.9028136882129276,5.111111111111111,4.912350597609562,3.591549295774648,5.404761904761905,4.7560975609756095,4.732142857142857,5.6118421052631575],\"yaxis\":\"y\",\"type\":\"bar\"}],                        {\"template\":{\"data\":{\"histogram2dcontour\":[{\"type\":\"histogram2dcontour\",\"colorbar\":{\"outlinewidth\":0,\"ticks\":\"\"},\"colorscale\":[[0.0,\"#0d0887\"],[0.1111111111111111,\"#46039f\"],[0.2222222222222222,\"#7201a8\"],[0.3333333333333333,\"#9c179e\"],[0.4444444444444444,\"#bd3786\"],[0.5555555555555556,\"#d8576b\"],[0.6666666666666666,\"#ed7953\"],[0.7777777777777778,\"#fb9f3a\"],[0.8888888888888888,\"#fdca26\"],[1.0,\"#f0f921\"]]}],\"choropleth\":[{\"type\":\"choropleth\",\"colorbar\":{\"outlinewidth\":0,\"ticks\":\"\"}}],\"histogram2d\":[{\"type\":\"histogram2d\",\"colorbar\":{\"outlinewidth\":0,\"ticks\":\"\"},\"colorscale\":[[0.0,\"#0d0887\"],[0.1111111111111111,\"#46039f\"],[0.2222222222222222,\"#7201a8\"],[0.3333333333333333,\"#9c179e\"],[0.4444444444444444,\"#bd3786\"],[0.5555555555555556,\"#d8576b\"],[0.6666666666666666,\"#ed7953\"],[0.7777777777777778,\"#fb9f3a\"],[0.8888888888888888,\"#fdca26\"],[1.0,\"#f0f921\"]]}],\"heatmap\":[{\"type\":\"heatmap\",\"colorbar\":{\"outlinewidth\":0,\"ticks\":\"\"},\"colorscale\":[[0.0,\"#0d0887\"],[0.1111111111111111,\"#46039f\"],[0.2222222222222222,\"#7201a8\"],[0.3333333333333333,\"#9c179e\"],[0.4444444444444444,\"#bd3786\"],[0.5555555555555556,\"#d8576b\"],[0.6666666666666666,\"#ed7953\"],[0.7777777777777778,\"#fb9f3a\"],[0.8888888888888888,\"#fdca26\"],[1.0,\"#f0f921\"]]}],\"heatmapgl\":[{\"type\":\"heatmapgl\",\"colorbar\":{\"outlinewidth\":0,\"ticks\":\"\"},\"colorscale\":[[0.0,\"#0d0887\"],[0.1111111111111111,\"#46039f\"],[0.2222222222222222,\"#7201a8\"],[0.3333333333333333,\"#9c179e\"],[0.4444444444444444,\"#bd3786\"],[0.5555555555555556,\"#d8576b\"],[0.6666666666666666,\"#ed7953\"],[0.7777777777777778,\"#fb9f3a\"],[0.8888888888888888,\"#fdca26\"],[1.0,\"#f0f921\"]]}],\"contourcarpet\":[{\"type\":\"contourcarpet\",\"colorbar\":{\"outlinewidth\":0,\"ticks\":\"\"}}],\"contour\":[{\"type\":\"contour\",\"colorbar\":{\"outlinewidth\":0,\"ticks\":\"\"},\"colorscale\":[[0.0,\"#0d0887\"],[0.1111111111111111,\"#46039f\"],[0.2222222222222222,\"#7201a8\"],[0.3333333333333333,\"#9c179e\"],[0.4444444444444444,\"#bd3786\"],[0.5555555555555556,\"#d8576b\"],[0.6666666666666666,\"#ed7953\"],[0.7777777777777778,\"#fb9f3a\"],[0.8888888888888888,\"#fdca26\"],[1.0,\"#f0f921\"]]}],\"surface\":[{\"type\":\"surface\",\"colorbar\":{\"outlinewidth\":0,\"ticks\":\"\"},\"colorscale\":[[0.0,\"#0d0887\"],[0.1111111111111111,\"#46039f\"],[0.2222222222222222,\"#7201a8\"],[0.3333333333333333,\"#9c179e\"],[0.4444444444444444,\"#bd3786\"],[0.5555555555555556,\"#d8576b\"],[0.6666666666666666,\"#ed7953\"],[0.7777777777777778,\"#fb9f3a\"],[0.8888888888888888,\"#fdca26\"],[1.0,\"#f0f921\"]]}],\"mesh3d\":[{\"type\":\"mesh3d\",\"colorbar\":{\"outlinewidth\":0,\"ticks\":\"\"}}],\"scatter\":[{\"marker\":{\"line\":{\"color\":\"#283442\"}},\"type\":\"scatter\"}],\"parcoords\":[{\"type\":\"parcoords\",\"line\":{\"colorbar\":{\"outlinewidth\":0,\"ticks\":\"\"}}}],\"scatterpolargl\":[{\"type\":\"scatterpolargl\",\"marker\":{\"colorbar\":{\"outlinewidth\":0,\"ticks\":\"\"}}}],\"bar\":[{\"error_x\":{\"color\":\"#f2f5fa\"},\"error_y\":{\"color\":\"#f2f5fa\"},\"marker\":{\"line\":{\"color\":\"rgb(17,17,17)\",\"width\":0.5},\"pattern\":{\"fillmode\":\"overlay\",\"size\":10,\"solidity\":0.2}},\"type\":\"bar\"}],\"scattergeo\":[{\"type\":\"scattergeo\",\"marker\":{\"colorbar\":{\"outlinewidth\":0,\"ticks\":\"\"}}}],\"scatterpolar\":[{\"type\":\"scatterpolar\",\"marker\":{\"colorbar\":{\"outlinewidth\":0,\"ticks\":\"\"}}}],\"histogram\":[{\"marker\":{\"pattern\":{\"fillmode\":\"overlay\",\"size\":10,\"solidity\":0.2}},\"type\":\"histogram\"}],\"scattergl\":[{\"marker\":{\"line\":{\"color\":\"#283442\"}},\"type\":\"scattergl\"}],\"scatter3d\":[{\"type\":\"scatter3d\",\"line\":{\"colorbar\":{\"outlinewidth\":0,\"ticks\":\"\"}},\"marker\":{\"colorbar\":{\"outlinewidth\":0,\"ticks\":\"\"}}}],\"scattermapbox\":[{\"type\":\"scattermapbox\",\"marker\":{\"colorbar\":{\"outlinewidth\":0,\"ticks\":\"\"}}}],\"scatterternary\":[{\"type\":\"scatterternary\",\"marker\":{\"colorbar\":{\"outlinewidth\":0,\"ticks\":\"\"}}}],\"scattercarpet\":[{\"type\":\"scattercarpet\",\"marker\":{\"colorbar\":{\"outlinewidth\":0,\"ticks\":\"\"}}}],\"carpet\":[{\"aaxis\":{\"endlinecolor\":\"#A2B1C6\",\"gridcolor\":\"#506784\",\"linecolor\":\"#506784\",\"minorgridcolor\":\"#506784\",\"startlinecolor\":\"#A2B1C6\"},\"baxis\":{\"endlinecolor\":\"#A2B1C6\",\"gridcolor\":\"#506784\",\"linecolor\":\"#506784\",\"minorgridcolor\":\"#506784\",\"startlinecolor\":\"#A2B1C6\"},\"type\":\"carpet\"}],\"table\":[{\"cells\":{\"fill\":{\"color\":\"#506784\"},\"line\":{\"color\":\"rgb(17,17,17)\"}},\"header\":{\"fill\":{\"color\":\"#2a3f5f\"},\"line\":{\"color\":\"rgb(17,17,17)\"}},\"type\":\"table\"}],\"barpolar\":[{\"marker\":{\"line\":{\"color\":\"rgb(17,17,17)\",\"width\":0.5},\"pattern\":{\"fillmode\":\"overlay\",\"size\":10,\"solidity\":0.2}},\"type\":\"barpolar\"}],\"pie\":[{\"automargin\":true,\"type\":\"pie\"}]},\"layout\":{\"autotypenumbers\":\"strict\",\"colorway\":[\"#636efa\",\"#EF553B\",\"#00cc96\",\"#ab63fa\",\"#FFA15A\",\"#19d3f3\",\"#FF6692\",\"#B6E880\",\"#FF97FF\",\"#FECB52\"],\"font\":{\"color\":\"#f2f5fa\"},\"hovermode\":\"closest\",\"hoverlabel\":{\"align\":\"left\"},\"paper_bgcolor\":\"rgb(17,17,17)\",\"plot_bgcolor\":\"rgb(17,17,17)\",\"polar\":{\"bgcolor\":\"rgb(17,17,17)\",\"angularaxis\":{\"gridcolor\":\"#506784\",\"linecolor\":\"#506784\",\"ticks\":\"\"},\"radialaxis\":{\"gridcolor\":\"#506784\",\"linecolor\":\"#506784\",\"ticks\":\"\"}},\"ternary\":{\"bgcolor\":\"rgb(17,17,17)\",\"aaxis\":{\"gridcolor\":\"#506784\",\"linecolor\":\"#506784\",\"ticks\":\"\"},\"baxis\":{\"gridcolor\":\"#506784\",\"linecolor\":\"#506784\",\"ticks\":\"\"},\"caxis\":{\"gridcolor\":\"#506784\",\"linecolor\":\"#506784\",\"ticks\":\"\"}},\"coloraxis\":{\"colorbar\":{\"outlinewidth\":0,\"ticks\":\"\"}},\"colorscale\":{\"sequential\":[[0.0,\"#0d0887\"],[0.1111111111111111,\"#46039f\"],[0.2222222222222222,\"#7201a8\"],[0.3333333333333333,\"#9c179e\"],[0.4444444444444444,\"#bd3786\"],[0.5555555555555556,\"#d8576b\"],[0.6666666666666666,\"#ed7953\"],[0.7777777777777778,\"#fb9f3a\"],[0.8888888888888888,\"#fdca26\"],[1.0,\"#f0f921\"]],\"sequentialminus\":[[0.0,\"#0d0887\"],[0.1111111111111111,\"#46039f\"],[0.2222222222222222,\"#7201a8\"],[0.3333333333333333,\"#9c179e\"],[0.4444444444444444,\"#bd3786\"],[0.5555555555555556,\"#d8576b\"],[0.6666666666666666,\"#ed7953\"],[0.7777777777777778,\"#fb9f3a\"],[0.8888888888888888,\"#fdca26\"],[1.0,\"#f0f921\"]],\"diverging\":[[0,\"#8e0152\"],[0.1,\"#c51b7d\"],[0.2,\"#de77ae\"],[0.3,\"#f1b6da\"],[0.4,\"#fde0ef\"],[0.5,\"#f7f7f7\"],[0.6,\"#e6f5d0\"],[0.7,\"#b8e186\"],[0.8,\"#7fbc41\"],[0.9,\"#4d9221\"],[1,\"#276419\"]]},\"xaxis\":{\"gridcolor\":\"#283442\",\"linecolor\":\"#506784\",\"ticks\":\"\",\"title\":{\"standoff\":15},\"zerolinecolor\":\"#283442\",\"automargin\":true,\"zerolinewidth\":2},\"yaxis\":{\"gridcolor\":\"#283442\",\"linecolor\":\"#506784\",\"ticks\":\"\",\"title\":{\"standoff\":15},\"zerolinecolor\":\"#283442\",\"automargin\":true,\"zerolinewidth\":2},\"scene\":{\"xaxis\":{\"backgroundcolor\":\"rgb(17,17,17)\",\"gridcolor\":\"#506784\",\"linecolor\":\"#506784\",\"showbackground\":true,\"ticks\":\"\",\"zerolinecolor\":\"#C8D4E3\",\"gridwidth\":2},\"yaxis\":{\"backgroundcolor\":\"rgb(17,17,17)\",\"gridcolor\":\"#506784\",\"linecolor\":\"#506784\",\"showbackground\":true,\"ticks\":\"\",\"zerolinecolor\":\"#C8D4E3\",\"gridwidth\":2},\"zaxis\":{\"backgroundcolor\":\"rgb(17,17,17)\",\"gridcolor\":\"#506784\",\"linecolor\":\"#506784\",\"showbackground\":true,\"ticks\":\"\",\"zerolinecolor\":\"#C8D4E3\",\"gridwidth\":2}},\"shapedefaults\":{\"line\":{\"color\":\"#f2f5fa\"}},\"annotationdefaults\":{\"arrowcolor\":\"#f2f5fa\",\"arrowhead\":0,\"arrowwidth\":1},\"geo\":{\"bgcolor\":\"rgb(17,17,17)\",\"landcolor\":\"rgb(17,17,17)\",\"subunitcolor\":\"#506784\",\"showland\":true,\"showlakes\":true,\"lakecolor\":\"rgb(17,17,17)\"},\"title\":{\"x\":0.05},\"updatemenudefaults\":{\"bgcolor\":\"#506784\",\"borderwidth\":0},\"sliderdefaults\":{\"bgcolor\":\"#C8D4E3\",\"borderwidth\":1,\"bordercolor\":\"rgb(17,17,17)\",\"tickwidth\":0},\"mapbox\":{\"style\":\"dark\"}}},\"xaxis\":{\"anchor\":\"y\",\"domain\":[0.0,1.0],\"title\":{\"text\":\"team\"}},\"yaxis\":{\"anchor\":\"x\",\"domain\":[0.0,1.0],\"title\":{\"text\":\"avg_yds_per_play\"}},\"legend\":{\"tracegroupgap\":0},\"title\":{\"text\":\"Average Yards Gained Per Play by Team\"},\"barmode\":\"relative\",\"height\":400,\"width\":1200},                        {\"responsive\": true}                    ).then(function(){\n",
       "                            \n",
       "var gd = document.getElementById('459b7350-5668-4e51-aee3-180290cccd81');\n",
       "var x = new MutationObserver(function (mutations, observer) {{\n",
       "        var display = window.getComputedStyle(gd).display;\n",
       "        if (!display || display === 'none') {{\n",
       "            console.log([gd, 'removed!']);\n",
       "            Plotly.purge(gd);\n",
       "            observer.disconnect();\n",
       "        }}\n",
       "}});\n",
       "\n",
       "// Listen for the removal of the full notebook cells\n",
       "var notebookContainer = gd.closest('#notebook-container');\n",
       "if (notebookContainer) {{\n",
       "    x.observe(notebookContainer, {childList: true});\n",
       "}}\n",
       "\n",
       "// Listen for the clearing of the current output cell\n",
       "var outputEl = gd.closest('.output');\n",
       "if (outputEl) {{\n",
       "    x.observe(outputEl, {childList: true});\n",
       "}}\n",
       "\n",
       "                        })                };                });            </script>        </div>"
      ]
     },
     "metadata": {},
     "output_type": "display_data"
    }
   ],
   "execution_count": 39
  },
  {
   "metadata": {
    "ExecuteTime": {
     "end_time": "2024-11-02T02:13:32.794213Z",
     "start_time": "2024-11-02T02:13:32.759120Z"
    }
   },
   "cell_type": "code",
   "source": [
    "fig = px.bar(team_stats, \n",
    "             x='team', y='avg_epa', title='Average EPA by Team (Offensive Plays)',\n",
    "             width=1200, height=400)\n",
    "fig.show()"
   ],
   "id": "818b00d2054bc263",
   "outputs": [
    {
     "data": {
      "application/vnd.plotly.v1+json": {
       "data": [
        {
         "alignmentgroup": "True",
         "hovertemplate": "team=%{x}<br>avg_epa=%{y}<extra></extra>",
         "legendgroup": "",
         "marker": {
          "color": "#636efa",
          "pattern": {
           "shape": ""
          }
         },
         "name": "",
         "offsetgroup": "",
         "orientation": "v",
         "showlegend": false,
         "textposition": "auto",
         "x": [
          "TEN",
          "PHI",
          "BAL",
          "PIT",
          "OAK",
          "NYJ",
          "IND",
          "NO",
          "SF",
          "DET",
          "BUF",
          "GB",
          "KC",
          "SD",
          "MIA",
          "NYG",
          "NE",
          "STL",
          "DAL",
          "MIN",
          "WAS",
          "CLE",
          "JAC",
          "HOU",
          "CHI",
          "ARI",
          "SEA",
          "CIN",
          "TB",
          "CAR",
          "ATL",
          "DEN",
          "LA",
          "LAC",
          "JAX",
          "AFC",
          "NFC",
          "SAN",
          "CRT",
          "RIC",
          "NPR",
          "APR"
         ],
         "xaxis": "x",
         "y": [
          -0.0115533460478782,
          0.008780262406690349,
          0.01938042899005012,
          0.0153048659114412,
          -0.028392734115866437,
          -0.06453255232976027,
          0.010070711343580651,
          0.09073962545898981,
          -0.0068263637017319,
          0.0016134802116028045,
          -0.04963325529239418,
          0.05269633850635173,
          0.01899952166953149,
          0.026449746600551542,
          -0.03522854164086088,
          -0.016985648677583468,
          0.08729952477230216,
          -0.06710217656980885,
          0.02482606166493879,
          0.0067766784925168905,
          -0.02191554079758451,
          -0.060610102867626664,
          -0.05966527638764603,
          8.752576025624381E-4,
          -0.035200080259941764,
          -0.047031148711236356,
          0.02679298145943644,
          -0.0185653241465117,
          -0.03792729456026881,
          -0.0128640531520853,
          0.03784217552847261,
          -0.004875546415619693,
          0.014715416784721868,
          0.016318802521235878,
          -0.021762310718351534,
          0.06416064682266183,
          0.06534665786557599,
          -0.21911495497741373,
          0.07300971587837324,
          -0.13009488762302512,
          -0.1476752157823031,
          0.0428597259770954
         ],
         "yaxis": "y",
         "type": "bar"
        }
       ],
       "layout": {
        "template": {
         "data": {
          "histogram2dcontour": [
           {
            "type": "histogram2dcontour",
            "colorbar": {
             "outlinewidth": 0,
             "ticks": ""
            },
            "colorscale": [
             [
              0.0,
              "#0d0887"
             ],
             [
              0.1111111111111111,
              "#46039f"
             ],
             [
              0.2222222222222222,
              "#7201a8"
             ],
             [
              0.3333333333333333,
              "#9c179e"
             ],
             [
              0.4444444444444444,
              "#bd3786"
             ],
             [
              0.5555555555555556,
              "#d8576b"
             ],
             [
              0.6666666666666666,
              "#ed7953"
             ],
             [
              0.7777777777777778,
              "#fb9f3a"
             ],
             [
              0.8888888888888888,
              "#fdca26"
             ],
             [
              1.0,
              "#f0f921"
             ]
            ]
           }
          ],
          "choropleth": [
           {
            "type": "choropleth",
            "colorbar": {
             "outlinewidth": 0,
             "ticks": ""
            }
           }
          ],
          "histogram2d": [
           {
            "type": "histogram2d",
            "colorbar": {
             "outlinewidth": 0,
             "ticks": ""
            },
            "colorscale": [
             [
              0.0,
              "#0d0887"
             ],
             [
              0.1111111111111111,
              "#46039f"
             ],
             [
              0.2222222222222222,
              "#7201a8"
             ],
             [
              0.3333333333333333,
              "#9c179e"
             ],
             [
              0.4444444444444444,
              "#bd3786"
             ],
             [
              0.5555555555555556,
              "#d8576b"
             ],
             [
              0.6666666666666666,
              "#ed7953"
             ],
             [
              0.7777777777777778,
              "#fb9f3a"
             ],
             [
              0.8888888888888888,
              "#fdca26"
             ],
             [
              1.0,
              "#f0f921"
             ]
            ]
           }
          ],
          "heatmap": [
           {
            "type": "heatmap",
            "colorbar": {
             "outlinewidth": 0,
             "ticks": ""
            },
            "colorscale": [
             [
              0.0,
              "#0d0887"
             ],
             [
              0.1111111111111111,
              "#46039f"
             ],
             [
              0.2222222222222222,
              "#7201a8"
             ],
             [
              0.3333333333333333,
              "#9c179e"
             ],
             [
              0.4444444444444444,
              "#bd3786"
             ],
             [
              0.5555555555555556,
              "#d8576b"
             ],
             [
              0.6666666666666666,
              "#ed7953"
             ],
             [
              0.7777777777777778,
              "#fb9f3a"
             ],
             [
              0.8888888888888888,
              "#fdca26"
             ],
             [
              1.0,
              "#f0f921"
             ]
            ]
           }
          ],
          "heatmapgl": [
           {
            "type": "heatmapgl",
            "colorbar": {
             "outlinewidth": 0,
             "ticks": ""
            },
            "colorscale": [
             [
              0.0,
              "#0d0887"
             ],
             [
              0.1111111111111111,
              "#46039f"
             ],
             [
              0.2222222222222222,
              "#7201a8"
             ],
             [
              0.3333333333333333,
              "#9c179e"
             ],
             [
              0.4444444444444444,
              "#bd3786"
             ],
             [
              0.5555555555555556,
              "#d8576b"
             ],
             [
              0.6666666666666666,
              "#ed7953"
             ],
             [
              0.7777777777777778,
              "#fb9f3a"
             ],
             [
              0.8888888888888888,
              "#fdca26"
             ],
             [
              1.0,
              "#f0f921"
             ]
            ]
           }
          ],
          "contourcarpet": [
           {
            "type": "contourcarpet",
            "colorbar": {
             "outlinewidth": 0,
             "ticks": ""
            }
           }
          ],
          "contour": [
           {
            "type": "contour",
            "colorbar": {
             "outlinewidth": 0,
             "ticks": ""
            },
            "colorscale": [
             [
              0.0,
              "#0d0887"
             ],
             [
              0.1111111111111111,
              "#46039f"
             ],
             [
              0.2222222222222222,
              "#7201a8"
             ],
             [
              0.3333333333333333,
              "#9c179e"
             ],
             [
              0.4444444444444444,
              "#bd3786"
             ],
             [
              0.5555555555555556,
              "#d8576b"
             ],
             [
              0.6666666666666666,
              "#ed7953"
             ],
             [
              0.7777777777777778,
              "#fb9f3a"
             ],
             [
              0.8888888888888888,
              "#fdca26"
             ],
             [
              1.0,
              "#f0f921"
             ]
            ]
           }
          ],
          "surface": [
           {
            "type": "surface",
            "colorbar": {
             "outlinewidth": 0,
             "ticks": ""
            },
            "colorscale": [
             [
              0.0,
              "#0d0887"
             ],
             [
              0.1111111111111111,
              "#46039f"
             ],
             [
              0.2222222222222222,
              "#7201a8"
             ],
             [
              0.3333333333333333,
              "#9c179e"
             ],
             [
              0.4444444444444444,
              "#bd3786"
             ],
             [
              0.5555555555555556,
              "#d8576b"
             ],
             [
              0.6666666666666666,
              "#ed7953"
             ],
             [
              0.7777777777777778,
              "#fb9f3a"
             ],
             [
              0.8888888888888888,
              "#fdca26"
             ],
             [
              1.0,
              "#f0f921"
             ]
            ]
           }
          ],
          "mesh3d": [
           {
            "type": "mesh3d",
            "colorbar": {
             "outlinewidth": 0,
             "ticks": ""
            }
           }
          ],
          "scatter": [
           {
            "marker": {
             "line": {
              "color": "#283442"
             }
            },
            "type": "scatter"
           }
          ],
          "parcoords": [
           {
            "type": "parcoords",
            "line": {
             "colorbar": {
              "outlinewidth": 0,
              "ticks": ""
             }
            }
           }
          ],
          "scatterpolargl": [
           {
            "type": "scatterpolargl",
            "marker": {
             "colorbar": {
              "outlinewidth": 0,
              "ticks": ""
             }
            }
           }
          ],
          "bar": [
           {
            "error_x": {
             "color": "#f2f5fa"
            },
            "error_y": {
             "color": "#f2f5fa"
            },
            "marker": {
             "line": {
              "color": "rgb(17,17,17)",
              "width": 0.5
             },
             "pattern": {
              "fillmode": "overlay",
              "size": 10,
              "solidity": 0.2
             }
            },
            "type": "bar"
           }
          ],
          "scattergeo": [
           {
            "type": "scattergeo",
            "marker": {
             "colorbar": {
              "outlinewidth": 0,
              "ticks": ""
             }
            }
           }
          ],
          "scatterpolar": [
           {
            "type": "scatterpolar",
            "marker": {
             "colorbar": {
              "outlinewidth": 0,
              "ticks": ""
             }
            }
           }
          ],
          "histogram": [
           {
            "marker": {
             "pattern": {
              "fillmode": "overlay",
              "size": 10,
              "solidity": 0.2
             }
            },
            "type": "histogram"
           }
          ],
          "scattergl": [
           {
            "marker": {
             "line": {
              "color": "#283442"
             }
            },
            "type": "scattergl"
           }
          ],
          "scatter3d": [
           {
            "type": "scatter3d",
            "line": {
             "colorbar": {
              "outlinewidth": 0,
              "ticks": ""
             }
            },
            "marker": {
             "colorbar": {
              "outlinewidth": 0,
              "ticks": ""
             }
            }
           }
          ],
          "scattermapbox": [
           {
            "type": "scattermapbox",
            "marker": {
             "colorbar": {
              "outlinewidth": 0,
              "ticks": ""
             }
            }
           }
          ],
          "scatterternary": [
           {
            "type": "scatterternary",
            "marker": {
             "colorbar": {
              "outlinewidth": 0,
              "ticks": ""
             }
            }
           }
          ],
          "scattercarpet": [
           {
            "type": "scattercarpet",
            "marker": {
             "colorbar": {
              "outlinewidth": 0,
              "ticks": ""
             }
            }
           }
          ],
          "carpet": [
           {
            "aaxis": {
             "endlinecolor": "#A2B1C6",
             "gridcolor": "#506784",
             "linecolor": "#506784",
             "minorgridcolor": "#506784",
             "startlinecolor": "#A2B1C6"
            },
            "baxis": {
             "endlinecolor": "#A2B1C6",
             "gridcolor": "#506784",
             "linecolor": "#506784",
             "minorgridcolor": "#506784",
             "startlinecolor": "#A2B1C6"
            },
            "type": "carpet"
           }
          ],
          "table": [
           {
            "cells": {
             "fill": {
              "color": "#506784"
             },
             "line": {
              "color": "rgb(17,17,17)"
             }
            },
            "header": {
             "fill": {
              "color": "#2a3f5f"
             },
             "line": {
              "color": "rgb(17,17,17)"
             }
            },
            "type": "table"
           }
          ],
          "barpolar": [
           {
            "marker": {
             "line": {
              "color": "rgb(17,17,17)",
              "width": 0.5
             },
             "pattern": {
              "fillmode": "overlay",
              "size": 10,
              "solidity": 0.2
             }
            },
            "type": "barpolar"
           }
          ],
          "pie": [
           {
            "automargin": true,
            "type": "pie"
           }
          ]
         },
         "layout": {
          "autotypenumbers": "strict",
          "colorway": [
           "#636efa",
           "#EF553B",
           "#00cc96",
           "#ab63fa",
           "#FFA15A",
           "#19d3f3",
           "#FF6692",
           "#B6E880",
           "#FF97FF",
           "#FECB52"
          ],
          "font": {
           "color": "#f2f5fa"
          },
          "hovermode": "closest",
          "hoverlabel": {
           "align": "left"
          },
          "paper_bgcolor": "rgb(17,17,17)",
          "plot_bgcolor": "rgb(17,17,17)",
          "polar": {
           "bgcolor": "rgb(17,17,17)",
           "angularaxis": {
            "gridcolor": "#506784",
            "linecolor": "#506784",
            "ticks": ""
           },
           "radialaxis": {
            "gridcolor": "#506784",
            "linecolor": "#506784",
            "ticks": ""
           }
          },
          "ternary": {
           "bgcolor": "rgb(17,17,17)",
           "aaxis": {
            "gridcolor": "#506784",
            "linecolor": "#506784",
            "ticks": ""
           },
           "baxis": {
            "gridcolor": "#506784",
            "linecolor": "#506784",
            "ticks": ""
           },
           "caxis": {
            "gridcolor": "#506784",
            "linecolor": "#506784",
            "ticks": ""
           }
          },
          "coloraxis": {
           "colorbar": {
            "outlinewidth": 0,
            "ticks": ""
           }
          },
          "colorscale": {
           "sequential": [
            [
             0.0,
             "#0d0887"
            ],
            [
             0.1111111111111111,
             "#46039f"
            ],
            [
             0.2222222222222222,
             "#7201a8"
            ],
            [
             0.3333333333333333,
             "#9c179e"
            ],
            [
             0.4444444444444444,
             "#bd3786"
            ],
            [
             0.5555555555555556,
             "#d8576b"
            ],
            [
             0.6666666666666666,
             "#ed7953"
            ],
            [
             0.7777777777777778,
             "#fb9f3a"
            ],
            [
             0.8888888888888888,
             "#fdca26"
            ],
            [
             1.0,
             "#f0f921"
            ]
           ],
           "sequentialminus": [
            [
             0.0,
             "#0d0887"
            ],
            [
             0.1111111111111111,
             "#46039f"
            ],
            [
             0.2222222222222222,
             "#7201a8"
            ],
            [
             0.3333333333333333,
             "#9c179e"
            ],
            [
             0.4444444444444444,
             "#bd3786"
            ],
            [
             0.5555555555555556,
             "#d8576b"
            ],
            [
             0.6666666666666666,
             "#ed7953"
            ],
            [
             0.7777777777777778,
             "#fb9f3a"
            ],
            [
             0.8888888888888888,
             "#fdca26"
            ],
            [
             1.0,
             "#f0f921"
            ]
           ],
           "diverging": [
            [
             0,
             "#8e0152"
            ],
            [
             0.1,
             "#c51b7d"
            ],
            [
             0.2,
             "#de77ae"
            ],
            [
             0.3,
             "#f1b6da"
            ],
            [
             0.4,
             "#fde0ef"
            ],
            [
             0.5,
             "#f7f7f7"
            ],
            [
             0.6,
             "#e6f5d0"
            ],
            [
             0.7,
             "#b8e186"
            ],
            [
             0.8,
             "#7fbc41"
            ],
            [
             0.9,
             "#4d9221"
            ],
            [
             1,
             "#276419"
            ]
           ]
          },
          "xaxis": {
           "gridcolor": "#283442",
           "linecolor": "#506784",
           "ticks": "",
           "title": {
            "standoff": 15
           },
           "zerolinecolor": "#283442",
           "automargin": true,
           "zerolinewidth": 2
          },
          "yaxis": {
           "gridcolor": "#283442",
           "linecolor": "#506784",
           "ticks": "",
           "title": {
            "standoff": 15
           },
           "zerolinecolor": "#283442",
           "automargin": true,
           "zerolinewidth": 2
          },
          "scene": {
           "xaxis": {
            "backgroundcolor": "rgb(17,17,17)",
            "gridcolor": "#506784",
            "linecolor": "#506784",
            "showbackground": true,
            "ticks": "",
            "zerolinecolor": "#C8D4E3",
            "gridwidth": 2
           },
           "yaxis": {
            "backgroundcolor": "rgb(17,17,17)",
            "gridcolor": "#506784",
            "linecolor": "#506784",
            "showbackground": true,
            "ticks": "",
            "zerolinecolor": "#C8D4E3",
            "gridwidth": 2
           },
           "zaxis": {
            "backgroundcolor": "rgb(17,17,17)",
            "gridcolor": "#506784",
            "linecolor": "#506784",
            "showbackground": true,
            "ticks": "",
            "zerolinecolor": "#C8D4E3",
            "gridwidth": 2
           }
          },
          "shapedefaults": {
           "line": {
            "color": "#f2f5fa"
           }
          },
          "annotationdefaults": {
           "arrowcolor": "#f2f5fa",
           "arrowhead": 0,
           "arrowwidth": 1
          },
          "geo": {
           "bgcolor": "rgb(17,17,17)",
           "landcolor": "rgb(17,17,17)",
           "subunitcolor": "#506784",
           "showland": true,
           "showlakes": true,
           "lakecolor": "rgb(17,17,17)"
          },
          "title": {
           "x": 0.05
          },
          "updatemenudefaults": {
           "bgcolor": "#506784",
           "borderwidth": 0
          },
          "sliderdefaults": {
           "bgcolor": "#C8D4E3",
           "borderwidth": 1,
           "bordercolor": "rgb(17,17,17)",
           "tickwidth": 0
          },
          "mapbox": {
           "style": "dark"
          }
         }
        },
        "xaxis": {
         "anchor": "y",
         "domain": [
          0.0,
          1.0
         ],
         "title": {
          "text": "team"
         }
        },
        "yaxis": {
         "anchor": "x",
         "domain": [
          0.0,
          1.0
         ],
         "title": {
          "text": "avg_epa"
         }
        },
        "legend": {
         "tracegroupgap": 0
        },
        "title": {
         "text": "Average EPA by Team (Offensive Plays)"
        },
        "barmode": "relative",
        "height": 400,
        "width": 1200
       },
       "config": {
        "plotlyServerURL": "https://plot.ly"
       }
      },
      "text/html": [
       "<div>                            <div id=\"235cc531-14b3-46fb-8c10-b9bb7d159a08\" class=\"plotly-graph-div\" style=\"height:400px; width:1200px;\"></div>            <script type=\"text/javascript\">                require([\"plotly\"], function(Plotly) {                    window.PLOTLYENV=window.PLOTLYENV || {};                                    if (document.getElementById(\"235cc531-14b3-46fb-8c10-b9bb7d159a08\")) {                    Plotly.newPlot(                        \"235cc531-14b3-46fb-8c10-b9bb7d159a08\",                        [{\"alignmentgroup\":\"True\",\"hovertemplate\":\"team=%{x}\\u003cbr\\u003eavg_epa=%{y}\\u003cextra\\u003e\\u003c\\u002fextra\\u003e\",\"legendgroup\":\"\",\"marker\":{\"color\":\"#636efa\",\"pattern\":{\"shape\":\"\"}},\"name\":\"\",\"offsetgroup\":\"\",\"orientation\":\"v\",\"showlegend\":false,\"textposition\":\"auto\",\"x\":[\"TEN\",\"PHI\",\"BAL\",\"PIT\",\"OAK\",\"NYJ\",\"IND\",\"NO\",\"SF\",\"DET\",\"BUF\",\"GB\",\"KC\",\"SD\",\"MIA\",\"NYG\",\"NE\",\"STL\",\"DAL\",\"MIN\",\"WAS\",\"CLE\",\"JAC\",\"HOU\",\"CHI\",\"ARI\",\"SEA\",\"CIN\",\"TB\",\"CAR\",\"ATL\",\"DEN\",\"LA\",\"LAC\",\"JAX\",\"AFC\",\"NFC\",\"SAN\",\"CRT\",\"RIC\",\"NPR\",\"APR\"],\"xaxis\":\"x\",\"y\":[-0.0115533460478782,0.008780262406690349,0.01938042899005012,0.0153048659114412,-0.028392734115866437,-0.06453255232976027,0.010070711343580651,0.09073962545898981,-0.0068263637017319,0.0016134802116028045,-0.04963325529239418,0.05269633850635173,0.01899952166953149,0.026449746600551542,-0.03522854164086088,-0.016985648677583468,0.08729952477230216,-0.06710217656980885,0.02482606166493879,0.0067766784925168905,-0.02191554079758451,-0.060610102867626664,-0.05966527638764603,0.0008752576025624381,-0.035200080259941764,-0.047031148711236356,0.02679298145943644,-0.0185653241465117,-0.03792729456026881,-0.0128640531520853,0.03784217552847261,-0.004875546415619693,0.014715416784721868,0.016318802521235878,-0.021762310718351534,0.06416064682266183,0.06534665786557599,-0.21911495497741373,0.07300971587837324,-0.13009488762302512,-0.1476752157823031,0.0428597259770954],\"yaxis\":\"y\",\"type\":\"bar\"}],                        {\"template\":{\"data\":{\"histogram2dcontour\":[{\"type\":\"histogram2dcontour\",\"colorbar\":{\"outlinewidth\":0,\"ticks\":\"\"},\"colorscale\":[[0.0,\"#0d0887\"],[0.1111111111111111,\"#46039f\"],[0.2222222222222222,\"#7201a8\"],[0.3333333333333333,\"#9c179e\"],[0.4444444444444444,\"#bd3786\"],[0.5555555555555556,\"#d8576b\"],[0.6666666666666666,\"#ed7953\"],[0.7777777777777778,\"#fb9f3a\"],[0.8888888888888888,\"#fdca26\"],[1.0,\"#f0f921\"]]}],\"choropleth\":[{\"type\":\"choropleth\",\"colorbar\":{\"outlinewidth\":0,\"ticks\":\"\"}}],\"histogram2d\":[{\"type\":\"histogram2d\",\"colorbar\":{\"outlinewidth\":0,\"ticks\":\"\"},\"colorscale\":[[0.0,\"#0d0887\"],[0.1111111111111111,\"#46039f\"],[0.2222222222222222,\"#7201a8\"],[0.3333333333333333,\"#9c179e\"],[0.4444444444444444,\"#bd3786\"],[0.5555555555555556,\"#d8576b\"],[0.6666666666666666,\"#ed7953\"],[0.7777777777777778,\"#fb9f3a\"],[0.8888888888888888,\"#fdca26\"],[1.0,\"#f0f921\"]]}],\"heatmap\":[{\"type\":\"heatmap\",\"colorbar\":{\"outlinewidth\":0,\"ticks\":\"\"},\"colorscale\":[[0.0,\"#0d0887\"],[0.1111111111111111,\"#46039f\"],[0.2222222222222222,\"#7201a8\"],[0.3333333333333333,\"#9c179e\"],[0.4444444444444444,\"#bd3786\"],[0.5555555555555556,\"#d8576b\"],[0.6666666666666666,\"#ed7953\"],[0.7777777777777778,\"#fb9f3a\"],[0.8888888888888888,\"#fdca26\"],[1.0,\"#f0f921\"]]}],\"heatmapgl\":[{\"type\":\"heatmapgl\",\"colorbar\":{\"outlinewidth\":0,\"ticks\":\"\"},\"colorscale\":[[0.0,\"#0d0887\"],[0.1111111111111111,\"#46039f\"],[0.2222222222222222,\"#7201a8\"],[0.3333333333333333,\"#9c179e\"],[0.4444444444444444,\"#bd3786\"],[0.5555555555555556,\"#d8576b\"],[0.6666666666666666,\"#ed7953\"],[0.7777777777777778,\"#fb9f3a\"],[0.8888888888888888,\"#fdca26\"],[1.0,\"#f0f921\"]]}],\"contourcarpet\":[{\"type\":\"contourcarpet\",\"colorbar\":{\"outlinewidth\":0,\"ticks\":\"\"}}],\"contour\":[{\"type\":\"contour\",\"colorbar\":{\"outlinewidth\":0,\"ticks\":\"\"},\"colorscale\":[[0.0,\"#0d0887\"],[0.1111111111111111,\"#46039f\"],[0.2222222222222222,\"#7201a8\"],[0.3333333333333333,\"#9c179e\"],[0.4444444444444444,\"#bd3786\"],[0.5555555555555556,\"#d8576b\"],[0.6666666666666666,\"#ed7953\"],[0.7777777777777778,\"#fb9f3a\"],[0.8888888888888888,\"#fdca26\"],[1.0,\"#f0f921\"]]}],\"surface\":[{\"type\":\"surface\",\"colorbar\":{\"outlinewidth\":0,\"ticks\":\"\"},\"colorscale\":[[0.0,\"#0d0887\"],[0.1111111111111111,\"#46039f\"],[0.2222222222222222,\"#7201a8\"],[0.3333333333333333,\"#9c179e\"],[0.4444444444444444,\"#bd3786\"],[0.5555555555555556,\"#d8576b\"],[0.6666666666666666,\"#ed7953\"],[0.7777777777777778,\"#fb9f3a\"],[0.8888888888888888,\"#fdca26\"],[1.0,\"#f0f921\"]]}],\"mesh3d\":[{\"type\":\"mesh3d\",\"colorbar\":{\"outlinewidth\":0,\"ticks\":\"\"}}],\"scatter\":[{\"marker\":{\"line\":{\"color\":\"#283442\"}},\"type\":\"scatter\"}],\"parcoords\":[{\"type\":\"parcoords\",\"line\":{\"colorbar\":{\"outlinewidth\":0,\"ticks\":\"\"}}}],\"scatterpolargl\":[{\"type\":\"scatterpolargl\",\"marker\":{\"colorbar\":{\"outlinewidth\":0,\"ticks\":\"\"}}}],\"bar\":[{\"error_x\":{\"color\":\"#f2f5fa\"},\"error_y\":{\"color\":\"#f2f5fa\"},\"marker\":{\"line\":{\"color\":\"rgb(17,17,17)\",\"width\":0.5},\"pattern\":{\"fillmode\":\"overlay\",\"size\":10,\"solidity\":0.2}},\"type\":\"bar\"}],\"scattergeo\":[{\"type\":\"scattergeo\",\"marker\":{\"colorbar\":{\"outlinewidth\":0,\"ticks\":\"\"}}}],\"scatterpolar\":[{\"type\":\"scatterpolar\",\"marker\":{\"colorbar\":{\"outlinewidth\":0,\"ticks\":\"\"}}}],\"histogram\":[{\"marker\":{\"pattern\":{\"fillmode\":\"overlay\",\"size\":10,\"solidity\":0.2}},\"type\":\"histogram\"}],\"scattergl\":[{\"marker\":{\"line\":{\"color\":\"#283442\"}},\"type\":\"scattergl\"}],\"scatter3d\":[{\"type\":\"scatter3d\",\"line\":{\"colorbar\":{\"outlinewidth\":0,\"ticks\":\"\"}},\"marker\":{\"colorbar\":{\"outlinewidth\":0,\"ticks\":\"\"}}}],\"scattermapbox\":[{\"type\":\"scattermapbox\",\"marker\":{\"colorbar\":{\"outlinewidth\":0,\"ticks\":\"\"}}}],\"scatterternary\":[{\"type\":\"scatterternary\",\"marker\":{\"colorbar\":{\"outlinewidth\":0,\"ticks\":\"\"}}}],\"scattercarpet\":[{\"type\":\"scattercarpet\",\"marker\":{\"colorbar\":{\"outlinewidth\":0,\"ticks\":\"\"}}}],\"carpet\":[{\"aaxis\":{\"endlinecolor\":\"#A2B1C6\",\"gridcolor\":\"#506784\",\"linecolor\":\"#506784\",\"minorgridcolor\":\"#506784\",\"startlinecolor\":\"#A2B1C6\"},\"baxis\":{\"endlinecolor\":\"#A2B1C6\",\"gridcolor\":\"#506784\",\"linecolor\":\"#506784\",\"minorgridcolor\":\"#506784\",\"startlinecolor\":\"#A2B1C6\"},\"type\":\"carpet\"}],\"table\":[{\"cells\":{\"fill\":{\"color\":\"#506784\"},\"line\":{\"color\":\"rgb(17,17,17)\"}},\"header\":{\"fill\":{\"color\":\"#2a3f5f\"},\"line\":{\"color\":\"rgb(17,17,17)\"}},\"type\":\"table\"}],\"barpolar\":[{\"marker\":{\"line\":{\"color\":\"rgb(17,17,17)\",\"width\":0.5},\"pattern\":{\"fillmode\":\"overlay\",\"size\":10,\"solidity\":0.2}},\"type\":\"barpolar\"}],\"pie\":[{\"automargin\":true,\"type\":\"pie\"}]},\"layout\":{\"autotypenumbers\":\"strict\",\"colorway\":[\"#636efa\",\"#EF553B\",\"#00cc96\",\"#ab63fa\",\"#FFA15A\",\"#19d3f3\",\"#FF6692\",\"#B6E880\",\"#FF97FF\",\"#FECB52\"],\"font\":{\"color\":\"#f2f5fa\"},\"hovermode\":\"closest\",\"hoverlabel\":{\"align\":\"left\"},\"paper_bgcolor\":\"rgb(17,17,17)\",\"plot_bgcolor\":\"rgb(17,17,17)\",\"polar\":{\"bgcolor\":\"rgb(17,17,17)\",\"angularaxis\":{\"gridcolor\":\"#506784\",\"linecolor\":\"#506784\",\"ticks\":\"\"},\"radialaxis\":{\"gridcolor\":\"#506784\",\"linecolor\":\"#506784\",\"ticks\":\"\"}},\"ternary\":{\"bgcolor\":\"rgb(17,17,17)\",\"aaxis\":{\"gridcolor\":\"#506784\",\"linecolor\":\"#506784\",\"ticks\":\"\"},\"baxis\":{\"gridcolor\":\"#506784\",\"linecolor\":\"#506784\",\"ticks\":\"\"},\"caxis\":{\"gridcolor\":\"#506784\",\"linecolor\":\"#506784\",\"ticks\":\"\"}},\"coloraxis\":{\"colorbar\":{\"outlinewidth\":0,\"ticks\":\"\"}},\"colorscale\":{\"sequential\":[[0.0,\"#0d0887\"],[0.1111111111111111,\"#46039f\"],[0.2222222222222222,\"#7201a8\"],[0.3333333333333333,\"#9c179e\"],[0.4444444444444444,\"#bd3786\"],[0.5555555555555556,\"#d8576b\"],[0.6666666666666666,\"#ed7953\"],[0.7777777777777778,\"#fb9f3a\"],[0.8888888888888888,\"#fdca26\"],[1.0,\"#f0f921\"]],\"sequentialminus\":[[0.0,\"#0d0887\"],[0.1111111111111111,\"#46039f\"],[0.2222222222222222,\"#7201a8\"],[0.3333333333333333,\"#9c179e\"],[0.4444444444444444,\"#bd3786\"],[0.5555555555555556,\"#d8576b\"],[0.6666666666666666,\"#ed7953\"],[0.7777777777777778,\"#fb9f3a\"],[0.8888888888888888,\"#fdca26\"],[1.0,\"#f0f921\"]],\"diverging\":[[0,\"#8e0152\"],[0.1,\"#c51b7d\"],[0.2,\"#de77ae\"],[0.3,\"#f1b6da\"],[0.4,\"#fde0ef\"],[0.5,\"#f7f7f7\"],[0.6,\"#e6f5d0\"],[0.7,\"#b8e186\"],[0.8,\"#7fbc41\"],[0.9,\"#4d9221\"],[1,\"#276419\"]]},\"xaxis\":{\"gridcolor\":\"#283442\",\"linecolor\":\"#506784\",\"ticks\":\"\",\"title\":{\"standoff\":15},\"zerolinecolor\":\"#283442\",\"automargin\":true,\"zerolinewidth\":2},\"yaxis\":{\"gridcolor\":\"#283442\",\"linecolor\":\"#506784\",\"ticks\":\"\",\"title\":{\"standoff\":15},\"zerolinecolor\":\"#283442\",\"automargin\":true,\"zerolinewidth\":2},\"scene\":{\"xaxis\":{\"backgroundcolor\":\"rgb(17,17,17)\",\"gridcolor\":\"#506784\",\"linecolor\":\"#506784\",\"showbackground\":true,\"ticks\":\"\",\"zerolinecolor\":\"#C8D4E3\",\"gridwidth\":2},\"yaxis\":{\"backgroundcolor\":\"rgb(17,17,17)\",\"gridcolor\":\"#506784\",\"linecolor\":\"#506784\",\"showbackground\":true,\"ticks\":\"\",\"zerolinecolor\":\"#C8D4E3\",\"gridwidth\":2},\"zaxis\":{\"backgroundcolor\":\"rgb(17,17,17)\",\"gridcolor\":\"#506784\",\"linecolor\":\"#506784\",\"showbackground\":true,\"ticks\":\"\",\"zerolinecolor\":\"#C8D4E3\",\"gridwidth\":2}},\"shapedefaults\":{\"line\":{\"color\":\"#f2f5fa\"}},\"annotationdefaults\":{\"arrowcolor\":\"#f2f5fa\",\"arrowhead\":0,\"arrowwidth\":1},\"geo\":{\"bgcolor\":\"rgb(17,17,17)\",\"landcolor\":\"rgb(17,17,17)\",\"subunitcolor\":\"#506784\",\"showland\":true,\"showlakes\":true,\"lakecolor\":\"rgb(17,17,17)\"},\"title\":{\"x\":0.05},\"updatemenudefaults\":{\"bgcolor\":\"#506784\",\"borderwidth\":0},\"sliderdefaults\":{\"bgcolor\":\"#C8D4E3\",\"borderwidth\":1,\"bordercolor\":\"rgb(17,17,17)\",\"tickwidth\":0},\"mapbox\":{\"style\":\"dark\"}}},\"xaxis\":{\"anchor\":\"y\",\"domain\":[0.0,1.0],\"title\":{\"text\":\"team\"}},\"yaxis\":{\"anchor\":\"x\",\"domain\":[0.0,1.0],\"title\":{\"text\":\"avg_epa\"}},\"legend\":{\"tracegroupgap\":0},\"title\":{\"text\":\"Average EPA by Team (Offensive Plays)\"},\"barmode\":\"relative\",\"height\":400,\"width\":1200},                        {\"responsive\": true}                    ).then(function(){\n",
       "                            \n",
       "var gd = document.getElementById('235cc531-14b3-46fb-8c10-b9bb7d159a08');\n",
       "var x = new MutationObserver(function (mutations, observer) {{\n",
       "        var display = window.getComputedStyle(gd).display;\n",
       "        if (!display || display === 'none') {{\n",
       "            console.log([gd, 'removed!']);\n",
       "            Plotly.purge(gd);\n",
       "            observer.disconnect();\n",
       "        }}\n",
       "}});\n",
       "\n",
       "// Listen for the removal of the full notebook cells\n",
       "var notebookContainer = gd.closest('#notebook-container');\n",
       "if (notebookContainer) {{\n",
       "    x.observe(notebookContainer, {childList: true});\n",
       "}}\n",
       "\n",
       "// Listen for the clearing of the current output cell\n",
       "var outputEl = gd.closest('.output');\n",
       "if (outputEl) {{\n",
       "    x.observe(outputEl, {childList: true});\n",
       "}}\n",
       "\n",
       "                        })                };                });            </script>        </div>"
      ]
     },
     "metadata": {},
     "output_type": "display_data"
    }
   ],
   "execution_count": 43
  },
  {
   "metadata": {
    "ExecuteTime": {
     "end_time": "2024-11-02T02:13:35.783230Z",
     "start_time": "2024-11-02T02:13:35.737294Z"
    }
   },
   "cell_type": "code",
   "source": [
    "fig = px.bar(team_stats, \n",
    "             x='team', y='avg_wpa', title='Average WPA by Team (Offensive Plays)',\n",
    "             width=1200, height=400)\n",
    "fig.show()"
   ],
   "id": "e2fd26ad8b61f565",
   "outputs": [
    {
     "data": {
      "application/vnd.plotly.v1+json": {
       "data": [
        {
         "alignmentgroup": "True",
         "hovertemplate": "team=%{x}<br>avg_wpa=%{y}<extra></extra>",
         "legendgroup": "",
         "marker": {
          "color": "#636efa",
          "pattern": {
           "shape": ""
          }
         },
         "name": "",
         "offsetgroup": "",
         "orientation": "v",
         "showlegend": false,
         "textposition": "auto",
         "x": [
          "TEN",
          "PHI",
          "BAL",
          "PIT",
          "OAK",
          "NYJ",
          "IND",
          "NO",
          "SF",
          "DET",
          "BUF",
          "GB",
          "KC",
          "SD",
          "MIA",
          "NYG",
          "NE",
          "STL",
          "DAL",
          "MIN",
          "WAS",
          "CLE",
          "JAC",
          "HOU",
          "CHI",
          "ARI",
          "SEA",
          "CIN",
          "TB",
          "CAR",
          "ATL",
          "DEN",
          "LA",
          "LAC",
          "JAX",
          "AFC",
          "NFC",
          "SAN",
          "CRT",
          "RIC",
          "NPR",
          "APR"
         ],
         "xaxis": "x",
         "y": [
          0.0014586499285794046,
          0.0019067737804509097,
          0.002326042558974105,
          0.0022675597894141184,
          0.0014968851872311114,
          6.160611234247959E-4,
          0.0020810928000757492,
          0.003705076252690432,
          0.001709825769648362,
          0.0021534012308323663,
          5.584325765270701E-4,
          0.003040121510160875,
          0.002162404199286978,
          0.0022157246078385972,
          0.001070044144086108,
          0.0013470289865351603,
          0.0037143955449453186,
          3.054784185838543E-4,
          0.0024148856545581385,
          0.002020049112389634,
          0.001348110309684361,
          2.2372636599292566E-4,
          3.9937928869917606E-4,
          0.00207446325405184,
          0.0011533916985590805,
          7.86052625266472E-4,
          0.0023662571330324094,
          0.0014843944666931197,
          9.189007741615351E-4,
          0.0016140098848800744,
          0.0025514921307693643,
          0.0016707825038764711,
          0.0018673033390727374,
          0.0012757578604844911,
          8.849671435985845E-4,
          0.005690492222997572,
          0.0017507930170702066,
          -0.008353203911402264,
          0.001468055868292722,
          -0.00121127541629682,
          -0.002294373748980335,
          0.004108823033606126
         ],
         "yaxis": "y",
         "type": "bar"
        }
       ],
       "layout": {
        "template": {
         "data": {
          "histogram2dcontour": [
           {
            "type": "histogram2dcontour",
            "colorbar": {
             "outlinewidth": 0,
             "ticks": ""
            },
            "colorscale": [
             [
              0.0,
              "#0d0887"
             ],
             [
              0.1111111111111111,
              "#46039f"
             ],
             [
              0.2222222222222222,
              "#7201a8"
             ],
             [
              0.3333333333333333,
              "#9c179e"
             ],
             [
              0.4444444444444444,
              "#bd3786"
             ],
             [
              0.5555555555555556,
              "#d8576b"
             ],
             [
              0.6666666666666666,
              "#ed7953"
             ],
             [
              0.7777777777777778,
              "#fb9f3a"
             ],
             [
              0.8888888888888888,
              "#fdca26"
             ],
             [
              1.0,
              "#f0f921"
             ]
            ]
           }
          ],
          "choropleth": [
           {
            "type": "choropleth",
            "colorbar": {
             "outlinewidth": 0,
             "ticks": ""
            }
           }
          ],
          "histogram2d": [
           {
            "type": "histogram2d",
            "colorbar": {
             "outlinewidth": 0,
             "ticks": ""
            },
            "colorscale": [
             [
              0.0,
              "#0d0887"
             ],
             [
              0.1111111111111111,
              "#46039f"
             ],
             [
              0.2222222222222222,
              "#7201a8"
             ],
             [
              0.3333333333333333,
              "#9c179e"
             ],
             [
              0.4444444444444444,
              "#bd3786"
             ],
             [
              0.5555555555555556,
              "#d8576b"
             ],
             [
              0.6666666666666666,
              "#ed7953"
             ],
             [
              0.7777777777777778,
              "#fb9f3a"
             ],
             [
              0.8888888888888888,
              "#fdca26"
             ],
             [
              1.0,
              "#f0f921"
             ]
            ]
           }
          ],
          "heatmap": [
           {
            "type": "heatmap",
            "colorbar": {
             "outlinewidth": 0,
             "ticks": ""
            },
            "colorscale": [
             [
              0.0,
              "#0d0887"
             ],
             [
              0.1111111111111111,
              "#46039f"
             ],
             [
              0.2222222222222222,
              "#7201a8"
             ],
             [
              0.3333333333333333,
              "#9c179e"
             ],
             [
              0.4444444444444444,
              "#bd3786"
             ],
             [
              0.5555555555555556,
              "#d8576b"
             ],
             [
              0.6666666666666666,
              "#ed7953"
             ],
             [
              0.7777777777777778,
              "#fb9f3a"
             ],
             [
              0.8888888888888888,
              "#fdca26"
             ],
             [
              1.0,
              "#f0f921"
             ]
            ]
           }
          ],
          "heatmapgl": [
           {
            "type": "heatmapgl",
            "colorbar": {
             "outlinewidth": 0,
             "ticks": ""
            },
            "colorscale": [
             [
              0.0,
              "#0d0887"
             ],
             [
              0.1111111111111111,
              "#46039f"
             ],
             [
              0.2222222222222222,
              "#7201a8"
             ],
             [
              0.3333333333333333,
              "#9c179e"
             ],
             [
              0.4444444444444444,
              "#bd3786"
             ],
             [
              0.5555555555555556,
              "#d8576b"
             ],
             [
              0.6666666666666666,
              "#ed7953"
             ],
             [
              0.7777777777777778,
              "#fb9f3a"
             ],
             [
              0.8888888888888888,
              "#fdca26"
             ],
             [
              1.0,
              "#f0f921"
             ]
            ]
           }
          ],
          "contourcarpet": [
           {
            "type": "contourcarpet",
            "colorbar": {
             "outlinewidth": 0,
             "ticks": ""
            }
           }
          ],
          "contour": [
           {
            "type": "contour",
            "colorbar": {
             "outlinewidth": 0,
             "ticks": ""
            },
            "colorscale": [
             [
              0.0,
              "#0d0887"
             ],
             [
              0.1111111111111111,
              "#46039f"
             ],
             [
              0.2222222222222222,
              "#7201a8"
             ],
             [
              0.3333333333333333,
              "#9c179e"
             ],
             [
              0.4444444444444444,
              "#bd3786"
             ],
             [
              0.5555555555555556,
              "#d8576b"
             ],
             [
              0.6666666666666666,
              "#ed7953"
             ],
             [
              0.7777777777777778,
              "#fb9f3a"
             ],
             [
              0.8888888888888888,
              "#fdca26"
             ],
             [
              1.0,
              "#f0f921"
             ]
            ]
           }
          ],
          "surface": [
           {
            "type": "surface",
            "colorbar": {
             "outlinewidth": 0,
             "ticks": ""
            },
            "colorscale": [
             [
              0.0,
              "#0d0887"
             ],
             [
              0.1111111111111111,
              "#46039f"
             ],
             [
              0.2222222222222222,
              "#7201a8"
             ],
             [
              0.3333333333333333,
              "#9c179e"
             ],
             [
              0.4444444444444444,
              "#bd3786"
             ],
             [
              0.5555555555555556,
              "#d8576b"
             ],
             [
              0.6666666666666666,
              "#ed7953"
             ],
             [
              0.7777777777777778,
              "#fb9f3a"
             ],
             [
              0.8888888888888888,
              "#fdca26"
             ],
             [
              1.0,
              "#f0f921"
             ]
            ]
           }
          ],
          "mesh3d": [
           {
            "type": "mesh3d",
            "colorbar": {
             "outlinewidth": 0,
             "ticks": ""
            }
           }
          ],
          "scatter": [
           {
            "marker": {
             "line": {
              "color": "#283442"
             }
            },
            "type": "scatter"
           }
          ],
          "parcoords": [
           {
            "type": "parcoords",
            "line": {
             "colorbar": {
              "outlinewidth": 0,
              "ticks": ""
             }
            }
           }
          ],
          "scatterpolargl": [
           {
            "type": "scatterpolargl",
            "marker": {
             "colorbar": {
              "outlinewidth": 0,
              "ticks": ""
             }
            }
           }
          ],
          "bar": [
           {
            "error_x": {
             "color": "#f2f5fa"
            },
            "error_y": {
             "color": "#f2f5fa"
            },
            "marker": {
             "line": {
              "color": "rgb(17,17,17)",
              "width": 0.5
             },
             "pattern": {
              "fillmode": "overlay",
              "size": 10,
              "solidity": 0.2
             }
            },
            "type": "bar"
           }
          ],
          "scattergeo": [
           {
            "type": "scattergeo",
            "marker": {
             "colorbar": {
              "outlinewidth": 0,
              "ticks": ""
             }
            }
           }
          ],
          "scatterpolar": [
           {
            "type": "scatterpolar",
            "marker": {
             "colorbar": {
              "outlinewidth": 0,
              "ticks": ""
             }
            }
           }
          ],
          "histogram": [
           {
            "marker": {
             "pattern": {
              "fillmode": "overlay",
              "size": 10,
              "solidity": 0.2
             }
            },
            "type": "histogram"
           }
          ],
          "scattergl": [
           {
            "marker": {
             "line": {
              "color": "#283442"
             }
            },
            "type": "scattergl"
           }
          ],
          "scatter3d": [
           {
            "type": "scatter3d",
            "line": {
             "colorbar": {
              "outlinewidth": 0,
              "ticks": ""
             }
            },
            "marker": {
             "colorbar": {
              "outlinewidth": 0,
              "ticks": ""
             }
            }
           }
          ],
          "scattermapbox": [
           {
            "type": "scattermapbox",
            "marker": {
             "colorbar": {
              "outlinewidth": 0,
              "ticks": ""
             }
            }
           }
          ],
          "scatterternary": [
           {
            "type": "scatterternary",
            "marker": {
             "colorbar": {
              "outlinewidth": 0,
              "ticks": ""
             }
            }
           }
          ],
          "scattercarpet": [
           {
            "type": "scattercarpet",
            "marker": {
             "colorbar": {
              "outlinewidth": 0,
              "ticks": ""
             }
            }
           }
          ],
          "carpet": [
           {
            "aaxis": {
             "endlinecolor": "#A2B1C6",
             "gridcolor": "#506784",
             "linecolor": "#506784",
             "minorgridcolor": "#506784",
             "startlinecolor": "#A2B1C6"
            },
            "baxis": {
             "endlinecolor": "#A2B1C6",
             "gridcolor": "#506784",
             "linecolor": "#506784",
             "minorgridcolor": "#506784",
             "startlinecolor": "#A2B1C6"
            },
            "type": "carpet"
           }
          ],
          "table": [
           {
            "cells": {
             "fill": {
              "color": "#506784"
             },
             "line": {
              "color": "rgb(17,17,17)"
             }
            },
            "header": {
             "fill": {
              "color": "#2a3f5f"
             },
             "line": {
              "color": "rgb(17,17,17)"
             }
            },
            "type": "table"
           }
          ],
          "barpolar": [
           {
            "marker": {
             "line": {
              "color": "rgb(17,17,17)",
              "width": 0.5
             },
             "pattern": {
              "fillmode": "overlay",
              "size": 10,
              "solidity": 0.2
             }
            },
            "type": "barpolar"
           }
          ],
          "pie": [
           {
            "automargin": true,
            "type": "pie"
           }
          ]
         },
         "layout": {
          "autotypenumbers": "strict",
          "colorway": [
           "#636efa",
           "#EF553B",
           "#00cc96",
           "#ab63fa",
           "#FFA15A",
           "#19d3f3",
           "#FF6692",
           "#B6E880",
           "#FF97FF",
           "#FECB52"
          ],
          "font": {
           "color": "#f2f5fa"
          },
          "hovermode": "closest",
          "hoverlabel": {
           "align": "left"
          },
          "paper_bgcolor": "rgb(17,17,17)",
          "plot_bgcolor": "rgb(17,17,17)",
          "polar": {
           "bgcolor": "rgb(17,17,17)",
           "angularaxis": {
            "gridcolor": "#506784",
            "linecolor": "#506784",
            "ticks": ""
           },
           "radialaxis": {
            "gridcolor": "#506784",
            "linecolor": "#506784",
            "ticks": ""
           }
          },
          "ternary": {
           "bgcolor": "rgb(17,17,17)",
           "aaxis": {
            "gridcolor": "#506784",
            "linecolor": "#506784",
            "ticks": ""
           },
           "baxis": {
            "gridcolor": "#506784",
            "linecolor": "#506784",
            "ticks": ""
           },
           "caxis": {
            "gridcolor": "#506784",
            "linecolor": "#506784",
            "ticks": ""
           }
          },
          "coloraxis": {
           "colorbar": {
            "outlinewidth": 0,
            "ticks": ""
           }
          },
          "colorscale": {
           "sequential": [
            [
             0.0,
             "#0d0887"
            ],
            [
             0.1111111111111111,
             "#46039f"
            ],
            [
             0.2222222222222222,
             "#7201a8"
            ],
            [
             0.3333333333333333,
             "#9c179e"
            ],
            [
             0.4444444444444444,
             "#bd3786"
            ],
            [
             0.5555555555555556,
             "#d8576b"
            ],
            [
             0.6666666666666666,
             "#ed7953"
            ],
            [
             0.7777777777777778,
             "#fb9f3a"
            ],
            [
             0.8888888888888888,
             "#fdca26"
            ],
            [
             1.0,
             "#f0f921"
            ]
           ],
           "sequentialminus": [
            [
             0.0,
             "#0d0887"
            ],
            [
             0.1111111111111111,
             "#46039f"
            ],
            [
             0.2222222222222222,
             "#7201a8"
            ],
            [
             0.3333333333333333,
             "#9c179e"
            ],
            [
             0.4444444444444444,
             "#bd3786"
            ],
            [
             0.5555555555555556,
             "#d8576b"
            ],
            [
             0.6666666666666666,
             "#ed7953"
            ],
            [
             0.7777777777777778,
             "#fb9f3a"
            ],
            [
             0.8888888888888888,
             "#fdca26"
            ],
            [
             1.0,
             "#f0f921"
            ]
           ],
           "diverging": [
            [
             0,
             "#8e0152"
            ],
            [
             0.1,
             "#c51b7d"
            ],
            [
             0.2,
             "#de77ae"
            ],
            [
             0.3,
             "#f1b6da"
            ],
            [
             0.4,
             "#fde0ef"
            ],
            [
             0.5,
             "#f7f7f7"
            ],
            [
             0.6,
             "#e6f5d0"
            ],
            [
             0.7,
             "#b8e186"
            ],
            [
             0.8,
             "#7fbc41"
            ],
            [
             0.9,
             "#4d9221"
            ],
            [
             1,
             "#276419"
            ]
           ]
          },
          "xaxis": {
           "gridcolor": "#283442",
           "linecolor": "#506784",
           "ticks": "",
           "title": {
            "standoff": 15
           },
           "zerolinecolor": "#283442",
           "automargin": true,
           "zerolinewidth": 2
          },
          "yaxis": {
           "gridcolor": "#283442",
           "linecolor": "#506784",
           "ticks": "",
           "title": {
            "standoff": 15
           },
           "zerolinecolor": "#283442",
           "automargin": true,
           "zerolinewidth": 2
          },
          "scene": {
           "xaxis": {
            "backgroundcolor": "rgb(17,17,17)",
            "gridcolor": "#506784",
            "linecolor": "#506784",
            "showbackground": true,
            "ticks": "",
            "zerolinecolor": "#C8D4E3",
            "gridwidth": 2
           },
           "yaxis": {
            "backgroundcolor": "rgb(17,17,17)",
            "gridcolor": "#506784",
            "linecolor": "#506784",
            "showbackground": true,
            "ticks": "",
            "zerolinecolor": "#C8D4E3",
            "gridwidth": 2
           },
           "zaxis": {
            "backgroundcolor": "rgb(17,17,17)",
            "gridcolor": "#506784",
            "linecolor": "#506784",
            "showbackground": true,
            "ticks": "",
            "zerolinecolor": "#C8D4E3",
            "gridwidth": 2
           }
          },
          "shapedefaults": {
           "line": {
            "color": "#f2f5fa"
           }
          },
          "annotationdefaults": {
           "arrowcolor": "#f2f5fa",
           "arrowhead": 0,
           "arrowwidth": 1
          },
          "geo": {
           "bgcolor": "rgb(17,17,17)",
           "landcolor": "rgb(17,17,17)",
           "subunitcolor": "#506784",
           "showland": true,
           "showlakes": true,
           "lakecolor": "rgb(17,17,17)"
          },
          "title": {
           "x": 0.05
          },
          "updatemenudefaults": {
           "bgcolor": "#506784",
           "borderwidth": 0
          },
          "sliderdefaults": {
           "bgcolor": "#C8D4E3",
           "borderwidth": 1,
           "bordercolor": "rgb(17,17,17)",
           "tickwidth": 0
          },
          "mapbox": {
           "style": "dark"
          }
         }
        },
        "xaxis": {
         "anchor": "y",
         "domain": [
          0.0,
          1.0
         ],
         "title": {
          "text": "team"
         }
        },
        "yaxis": {
         "anchor": "x",
         "domain": [
          0.0,
          1.0
         ],
         "title": {
          "text": "avg_wpa"
         }
        },
        "legend": {
         "tracegroupgap": 0
        },
        "title": {
         "text": "Average WPA by Team (Offensive Plays)"
        },
        "barmode": "relative",
        "height": 400,
        "width": 1200
       },
       "config": {
        "plotlyServerURL": "https://plot.ly"
       }
      },
      "text/html": [
       "<div>                            <div id=\"38fa709f-5c12-43e9-b453-6017af6fb297\" class=\"plotly-graph-div\" style=\"height:400px; width:1200px;\"></div>            <script type=\"text/javascript\">                require([\"plotly\"], function(Plotly) {                    window.PLOTLYENV=window.PLOTLYENV || {};                                    if (document.getElementById(\"38fa709f-5c12-43e9-b453-6017af6fb297\")) {                    Plotly.newPlot(                        \"38fa709f-5c12-43e9-b453-6017af6fb297\",                        [{\"alignmentgroup\":\"True\",\"hovertemplate\":\"team=%{x}\\u003cbr\\u003eavg_wpa=%{y}\\u003cextra\\u003e\\u003c\\u002fextra\\u003e\",\"legendgroup\":\"\",\"marker\":{\"color\":\"#636efa\",\"pattern\":{\"shape\":\"\"}},\"name\":\"\",\"offsetgroup\":\"\",\"orientation\":\"v\",\"showlegend\":false,\"textposition\":\"auto\",\"x\":[\"TEN\",\"PHI\",\"BAL\",\"PIT\",\"OAK\",\"NYJ\",\"IND\",\"NO\",\"SF\",\"DET\",\"BUF\",\"GB\",\"KC\",\"SD\",\"MIA\",\"NYG\",\"NE\",\"STL\",\"DAL\",\"MIN\",\"WAS\",\"CLE\",\"JAC\",\"HOU\",\"CHI\",\"ARI\",\"SEA\",\"CIN\",\"TB\",\"CAR\",\"ATL\",\"DEN\",\"LA\",\"LAC\",\"JAX\",\"AFC\",\"NFC\",\"SAN\",\"CRT\",\"RIC\",\"NPR\",\"APR\"],\"xaxis\":\"x\",\"y\":[0.0014586499285794046,0.0019067737804509097,0.002326042558974105,0.0022675597894141184,0.0014968851872311114,0.0006160611234247959,0.0020810928000757492,0.003705076252690432,0.001709825769648362,0.0021534012308323663,0.0005584325765270701,0.003040121510160875,0.002162404199286978,0.0022157246078385972,0.001070044144086108,0.0013470289865351603,0.0037143955449453186,0.0003054784185838543,0.0024148856545581385,0.002020049112389634,0.001348110309684361,0.00022372636599292566,0.00039937928869917606,0.00207446325405184,0.0011533916985590805,0.000786052625266472,0.0023662571330324094,0.0014843944666931197,0.0009189007741615351,0.0016140098848800744,0.0025514921307693643,0.0016707825038764711,0.0018673033390727374,0.0012757578604844911,0.0008849671435985845,0.005690492222997572,0.0017507930170702066,-0.008353203911402264,0.001468055868292722,-0.00121127541629682,-0.002294373748980335,0.004108823033606126],\"yaxis\":\"y\",\"type\":\"bar\"}],                        {\"template\":{\"data\":{\"histogram2dcontour\":[{\"type\":\"histogram2dcontour\",\"colorbar\":{\"outlinewidth\":0,\"ticks\":\"\"},\"colorscale\":[[0.0,\"#0d0887\"],[0.1111111111111111,\"#46039f\"],[0.2222222222222222,\"#7201a8\"],[0.3333333333333333,\"#9c179e\"],[0.4444444444444444,\"#bd3786\"],[0.5555555555555556,\"#d8576b\"],[0.6666666666666666,\"#ed7953\"],[0.7777777777777778,\"#fb9f3a\"],[0.8888888888888888,\"#fdca26\"],[1.0,\"#f0f921\"]]}],\"choropleth\":[{\"type\":\"choropleth\",\"colorbar\":{\"outlinewidth\":0,\"ticks\":\"\"}}],\"histogram2d\":[{\"type\":\"histogram2d\",\"colorbar\":{\"outlinewidth\":0,\"ticks\":\"\"},\"colorscale\":[[0.0,\"#0d0887\"],[0.1111111111111111,\"#46039f\"],[0.2222222222222222,\"#7201a8\"],[0.3333333333333333,\"#9c179e\"],[0.4444444444444444,\"#bd3786\"],[0.5555555555555556,\"#d8576b\"],[0.6666666666666666,\"#ed7953\"],[0.7777777777777778,\"#fb9f3a\"],[0.8888888888888888,\"#fdca26\"],[1.0,\"#f0f921\"]]}],\"heatmap\":[{\"type\":\"heatmap\",\"colorbar\":{\"outlinewidth\":0,\"ticks\":\"\"},\"colorscale\":[[0.0,\"#0d0887\"],[0.1111111111111111,\"#46039f\"],[0.2222222222222222,\"#7201a8\"],[0.3333333333333333,\"#9c179e\"],[0.4444444444444444,\"#bd3786\"],[0.5555555555555556,\"#d8576b\"],[0.6666666666666666,\"#ed7953\"],[0.7777777777777778,\"#fb9f3a\"],[0.8888888888888888,\"#fdca26\"],[1.0,\"#f0f921\"]]}],\"heatmapgl\":[{\"type\":\"heatmapgl\",\"colorbar\":{\"outlinewidth\":0,\"ticks\":\"\"},\"colorscale\":[[0.0,\"#0d0887\"],[0.1111111111111111,\"#46039f\"],[0.2222222222222222,\"#7201a8\"],[0.3333333333333333,\"#9c179e\"],[0.4444444444444444,\"#bd3786\"],[0.5555555555555556,\"#d8576b\"],[0.6666666666666666,\"#ed7953\"],[0.7777777777777778,\"#fb9f3a\"],[0.8888888888888888,\"#fdca26\"],[1.0,\"#f0f921\"]]}],\"contourcarpet\":[{\"type\":\"contourcarpet\",\"colorbar\":{\"outlinewidth\":0,\"ticks\":\"\"}}],\"contour\":[{\"type\":\"contour\",\"colorbar\":{\"outlinewidth\":0,\"ticks\":\"\"},\"colorscale\":[[0.0,\"#0d0887\"],[0.1111111111111111,\"#46039f\"],[0.2222222222222222,\"#7201a8\"],[0.3333333333333333,\"#9c179e\"],[0.4444444444444444,\"#bd3786\"],[0.5555555555555556,\"#d8576b\"],[0.6666666666666666,\"#ed7953\"],[0.7777777777777778,\"#fb9f3a\"],[0.8888888888888888,\"#fdca26\"],[1.0,\"#f0f921\"]]}],\"surface\":[{\"type\":\"surface\",\"colorbar\":{\"outlinewidth\":0,\"ticks\":\"\"},\"colorscale\":[[0.0,\"#0d0887\"],[0.1111111111111111,\"#46039f\"],[0.2222222222222222,\"#7201a8\"],[0.3333333333333333,\"#9c179e\"],[0.4444444444444444,\"#bd3786\"],[0.5555555555555556,\"#d8576b\"],[0.6666666666666666,\"#ed7953\"],[0.7777777777777778,\"#fb9f3a\"],[0.8888888888888888,\"#fdca26\"],[1.0,\"#f0f921\"]]}],\"mesh3d\":[{\"type\":\"mesh3d\",\"colorbar\":{\"outlinewidth\":0,\"ticks\":\"\"}}],\"scatter\":[{\"marker\":{\"line\":{\"color\":\"#283442\"}},\"type\":\"scatter\"}],\"parcoords\":[{\"type\":\"parcoords\",\"line\":{\"colorbar\":{\"outlinewidth\":0,\"ticks\":\"\"}}}],\"scatterpolargl\":[{\"type\":\"scatterpolargl\",\"marker\":{\"colorbar\":{\"outlinewidth\":0,\"ticks\":\"\"}}}],\"bar\":[{\"error_x\":{\"color\":\"#f2f5fa\"},\"error_y\":{\"color\":\"#f2f5fa\"},\"marker\":{\"line\":{\"color\":\"rgb(17,17,17)\",\"width\":0.5},\"pattern\":{\"fillmode\":\"overlay\",\"size\":10,\"solidity\":0.2}},\"type\":\"bar\"}],\"scattergeo\":[{\"type\":\"scattergeo\",\"marker\":{\"colorbar\":{\"outlinewidth\":0,\"ticks\":\"\"}}}],\"scatterpolar\":[{\"type\":\"scatterpolar\",\"marker\":{\"colorbar\":{\"outlinewidth\":0,\"ticks\":\"\"}}}],\"histogram\":[{\"marker\":{\"pattern\":{\"fillmode\":\"overlay\",\"size\":10,\"solidity\":0.2}},\"type\":\"histogram\"}],\"scattergl\":[{\"marker\":{\"line\":{\"color\":\"#283442\"}},\"type\":\"scattergl\"}],\"scatter3d\":[{\"type\":\"scatter3d\",\"line\":{\"colorbar\":{\"outlinewidth\":0,\"ticks\":\"\"}},\"marker\":{\"colorbar\":{\"outlinewidth\":0,\"ticks\":\"\"}}}],\"scattermapbox\":[{\"type\":\"scattermapbox\",\"marker\":{\"colorbar\":{\"outlinewidth\":0,\"ticks\":\"\"}}}],\"scatterternary\":[{\"type\":\"scatterternary\",\"marker\":{\"colorbar\":{\"outlinewidth\":0,\"ticks\":\"\"}}}],\"scattercarpet\":[{\"type\":\"scattercarpet\",\"marker\":{\"colorbar\":{\"outlinewidth\":0,\"ticks\":\"\"}}}],\"carpet\":[{\"aaxis\":{\"endlinecolor\":\"#A2B1C6\",\"gridcolor\":\"#506784\",\"linecolor\":\"#506784\",\"minorgridcolor\":\"#506784\",\"startlinecolor\":\"#A2B1C6\"},\"baxis\":{\"endlinecolor\":\"#A2B1C6\",\"gridcolor\":\"#506784\",\"linecolor\":\"#506784\",\"minorgridcolor\":\"#506784\",\"startlinecolor\":\"#A2B1C6\"},\"type\":\"carpet\"}],\"table\":[{\"cells\":{\"fill\":{\"color\":\"#506784\"},\"line\":{\"color\":\"rgb(17,17,17)\"}},\"header\":{\"fill\":{\"color\":\"#2a3f5f\"},\"line\":{\"color\":\"rgb(17,17,17)\"}},\"type\":\"table\"}],\"barpolar\":[{\"marker\":{\"line\":{\"color\":\"rgb(17,17,17)\",\"width\":0.5},\"pattern\":{\"fillmode\":\"overlay\",\"size\":10,\"solidity\":0.2}},\"type\":\"barpolar\"}],\"pie\":[{\"automargin\":true,\"type\":\"pie\"}]},\"layout\":{\"autotypenumbers\":\"strict\",\"colorway\":[\"#636efa\",\"#EF553B\",\"#00cc96\",\"#ab63fa\",\"#FFA15A\",\"#19d3f3\",\"#FF6692\",\"#B6E880\",\"#FF97FF\",\"#FECB52\"],\"font\":{\"color\":\"#f2f5fa\"},\"hovermode\":\"closest\",\"hoverlabel\":{\"align\":\"left\"},\"paper_bgcolor\":\"rgb(17,17,17)\",\"plot_bgcolor\":\"rgb(17,17,17)\",\"polar\":{\"bgcolor\":\"rgb(17,17,17)\",\"angularaxis\":{\"gridcolor\":\"#506784\",\"linecolor\":\"#506784\",\"ticks\":\"\"},\"radialaxis\":{\"gridcolor\":\"#506784\",\"linecolor\":\"#506784\",\"ticks\":\"\"}},\"ternary\":{\"bgcolor\":\"rgb(17,17,17)\",\"aaxis\":{\"gridcolor\":\"#506784\",\"linecolor\":\"#506784\",\"ticks\":\"\"},\"baxis\":{\"gridcolor\":\"#506784\",\"linecolor\":\"#506784\",\"ticks\":\"\"},\"caxis\":{\"gridcolor\":\"#506784\",\"linecolor\":\"#506784\",\"ticks\":\"\"}},\"coloraxis\":{\"colorbar\":{\"outlinewidth\":0,\"ticks\":\"\"}},\"colorscale\":{\"sequential\":[[0.0,\"#0d0887\"],[0.1111111111111111,\"#46039f\"],[0.2222222222222222,\"#7201a8\"],[0.3333333333333333,\"#9c179e\"],[0.4444444444444444,\"#bd3786\"],[0.5555555555555556,\"#d8576b\"],[0.6666666666666666,\"#ed7953\"],[0.7777777777777778,\"#fb9f3a\"],[0.8888888888888888,\"#fdca26\"],[1.0,\"#f0f921\"]],\"sequentialminus\":[[0.0,\"#0d0887\"],[0.1111111111111111,\"#46039f\"],[0.2222222222222222,\"#7201a8\"],[0.3333333333333333,\"#9c179e\"],[0.4444444444444444,\"#bd3786\"],[0.5555555555555556,\"#d8576b\"],[0.6666666666666666,\"#ed7953\"],[0.7777777777777778,\"#fb9f3a\"],[0.8888888888888888,\"#fdca26\"],[1.0,\"#f0f921\"]],\"diverging\":[[0,\"#8e0152\"],[0.1,\"#c51b7d\"],[0.2,\"#de77ae\"],[0.3,\"#f1b6da\"],[0.4,\"#fde0ef\"],[0.5,\"#f7f7f7\"],[0.6,\"#e6f5d0\"],[0.7,\"#b8e186\"],[0.8,\"#7fbc41\"],[0.9,\"#4d9221\"],[1,\"#276419\"]]},\"xaxis\":{\"gridcolor\":\"#283442\",\"linecolor\":\"#506784\",\"ticks\":\"\",\"title\":{\"standoff\":15},\"zerolinecolor\":\"#283442\",\"automargin\":true,\"zerolinewidth\":2},\"yaxis\":{\"gridcolor\":\"#283442\",\"linecolor\":\"#506784\",\"ticks\":\"\",\"title\":{\"standoff\":15},\"zerolinecolor\":\"#283442\",\"automargin\":true,\"zerolinewidth\":2},\"scene\":{\"xaxis\":{\"backgroundcolor\":\"rgb(17,17,17)\",\"gridcolor\":\"#506784\",\"linecolor\":\"#506784\",\"showbackground\":true,\"ticks\":\"\",\"zerolinecolor\":\"#C8D4E3\",\"gridwidth\":2},\"yaxis\":{\"backgroundcolor\":\"rgb(17,17,17)\",\"gridcolor\":\"#506784\",\"linecolor\":\"#506784\",\"showbackground\":true,\"ticks\":\"\",\"zerolinecolor\":\"#C8D4E3\",\"gridwidth\":2},\"zaxis\":{\"backgroundcolor\":\"rgb(17,17,17)\",\"gridcolor\":\"#506784\",\"linecolor\":\"#506784\",\"showbackground\":true,\"ticks\":\"\",\"zerolinecolor\":\"#C8D4E3\",\"gridwidth\":2}},\"shapedefaults\":{\"line\":{\"color\":\"#f2f5fa\"}},\"annotationdefaults\":{\"arrowcolor\":\"#f2f5fa\",\"arrowhead\":0,\"arrowwidth\":1},\"geo\":{\"bgcolor\":\"rgb(17,17,17)\",\"landcolor\":\"rgb(17,17,17)\",\"subunitcolor\":\"#506784\",\"showland\":true,\"showlakes\":true,\"lakecolor\":\"rgb(17,17,17)\"},\"title\":{\"x\":0.05},\"updatemenudefaults\":{\"bgcolor\":\"#506784\",\"borderwidth\":0},\"sliderdefaults\":{\"bgcolor\":\"#C8D4E3\",\"borderwidth\":1,\"bordercolor\":\"rgb(17,17,17)\",\"tickwidth\":0},\"mapbox\":{\"style\":\"dark\"}}},\"xaxis\":{\"anchor\":\"y\",\"domain\":[0.0,1.0],\"title\":{\"text\":\"team\"}},\"yaxis\":{\"anchor\":\"x\",\"domain\":[0.0,1.0],\"title\":{\"text\":\"avg_wpa\"}},\"legend\":{\"tracegroupgap\":0},\"title\":{\"text\":\"Average WPA by Team (Offensive Plays)\"},\"barmode\":\"relative\",\"height\":400,\"width\":1200},                        {\"responsive\": true}                    ).then(function(){\n",
       "                            \n",
       "var gd = document.getElementById('38fa709f-5c12-43e9-b453-6017af6fb297');\n",
       "var x = new MutationObserver(function (mutations, observer) {{\n",
       "        var display = window.getComputedStyle(gd).display;\n",
       "        if (!display || display === 'none') {{\n",
       "            console.log([gd, 'removed!']);\n",
       "            Plotly.purge(gd);\n",
       "            observer.disconnect();\n",
       "        }}\n",
       "}});\n",
       "\n",
       "// Listen for the removal of the full notebook cells\n",
       "var notebookContainer = gd.closest('#notebook-container');\n",
       "if (notebookContainer) {{\n",
       "    x.observe(notebookContainer, {childList: true});\n",
       "}}\n",
       "\n",
       "// Listen for the clearing of the current output cell\n",
       "var outputEl = gd.closest('.output');\n",
       "if (outputEl) {{\n",
       "    x.observe(outputEl, {childList: true});\n",
       "}}\n",
       "\n",
       "                        })                };                });            </script>        </div>"
      ]
     },
     "metadata": {},
     "output_type": "display_data"
    }
   ],
   "execution_count": 44
  },
  {
   "metadata": {
    "ExecuteTime": {
     "end_time": "2024-11-02T02:28:09.919575Z",
     "start_time": "2024-11-02T02:28:09.817762Z"
    }
   },
   "cell_type": "code",
   "source": [
    "from collections import defaultdict\n",
    "\n",
    "# filter to touchdown plays\n",
    "touchdown_plays = df[df['touchdown'] == 1]\n",
    "\n",
    "passer_td_counts = defaultdict(lambda: 0)\n",
    "receiver_td_counts = defaultdict(lambda: 0)\n",
    "rusher_td_counts = defaultdict(lambda: 0)\n",
    "\n",
    "for row in touchdown_plays:\n",
    "    if row.play_type == \"pass\":\n",
    "        passer_td_counts[row.passer_player_name] += 1\n",
    "        receiver_td_counts[row.receiver_player_name] += 1\n",
    "    elif row.play_type == \"run\":\n",
    "        rusher_td_counts[row.rusher_player_name] += 1"
   ],
   "id": "581f6aeb3554e23c",
   "outputs": [
    {
     "name": "stdout",
     "output_type": "stream",
     "text": [
      "17333\n"
     ]
    }
   ],
   "execution_count": 49
  },
  {
   "metadata": {},
   "cell_type": "code",
   "outputs": [],
   "execution_count": null,
   "source": "",
   "id": "471070b8f90d88"
  }
 ],
 "metadata": {
  "kernelspec": {
   "display_name": "Python 3",
   "language": "python",
   "name": "python3"
  },
  "language_info": {
   "codemirror_mode": {
    "name": "ipython",
    "version": 2
   },
   "file_extension": ".py",
   "mimetype": "text/x-python",
   "name": "python",
   "nbconvert_exporter": "python",
   "pygments_lexer": "ipython2",
   "version": "2.7.6"
  }
 },
 "nbformat": 4,
 "nbformat_minor": 5
}
