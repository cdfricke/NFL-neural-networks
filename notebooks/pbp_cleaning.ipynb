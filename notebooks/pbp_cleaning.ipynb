{
 "cells": [
  {
   "cell_type": "code",
   "id": "initial_id",
   "metadata": {
    "collapsed": true,
    "ExecuteTime": {
     "end_time": "2024-11-01T02:52:56.360490Z",
     "start_time": "2024-11-01T02:52:55.826762Z"
    }
   },
   "source": [
    "import pandas as pd\n",
    "import numpy as np\n",
    "import plotly_express as px"
   ],
   "outputs": [],
   "execution_count": 1
  },
  {
   "metadata": {},
   "cell_type": "markdown",
   "source": "## Data Importing\n",
   "id": "8149800246676c9a"
  },
  {
   "metadata": {
    "ExecuteTime": {
     "end_time": "2024-11-01T02:53:17.067832Z",
     "start_time": "2024-11-01T02:52:56.361485Z"
    }
   },
   "cell_type": "code",
   "source": [
    "years = [year for year in range(2009,2020)]\n",
    "# Collect the play-by-play data from pre/reg/post season\n",
    "preseason_pbp = {}\n",
    "regseason_pbp = {}\n",
    "pstseason_pbp = {}\n",
    "\n",
    "for year in years:\n",
    "    preseason_pbp[year] = pd.read_csv(f\"../data/pbp_data/pre_season/pre_pbp_{year}.csv\", low_memory=False)\n",
    "    regseason_pbp[year] = pd.read_csv(f\"../data/pbp_data/regular_season/reg_pbp_{year}.csv\", low_memory=False)\n",
    "    pstseason_pbp[year] = pd.read_csv(f\"../data/pbp_data/post_season/post_pbp_{year}.csv\", low_memory=False)"
   ],
   "id": "79ddc6495cd2375e",
   "outputs": [],
   "execution_count": 2
  },
  {
   "metadata": {
    "ExecuteTime": {
     "end_time": "2024-11-01T02:53:18.125482Z",
     "start_time": "2024-11-01T02:53:17.069833Z"
    }
   },
   "cell_type": "code",
   "source": [
    "all_preseason = pd.concat(preseason_pbp)\n",
    "all_preseason['season_type'] = \"pre\"\n",
    "all_regseason = pd.concat(regseason_pbp)\n",
    "all_regseason['season_type'] = \"reg\"\n",
    "all_pstseason = pd.concat(pstseason_pbp)\n",
    "all_pstseason['season_type'] = \"post\"\n",
    "all_pbp = pd.concat([all_preseason, all_regseason, all_pstseason])\n",
    "\n",
    "initial_shape = all_pbp.shape\n",
    "print(initial_shape)"
   ],
   "id": "de4bb2cacceaf863",
   "outputs": [
    {
     "name": "stdout",
     "output_type": "stream",
     "text": [
      "(645303, 258)\n"
     ]
    }
   ],
   "execution_count": 3
  },
  {
   "metadata": {},
   "cell_type": "markdown",
   "source": "## Data Cleaning",
   "id": "7803bcbb7de7cb3"
  },
  {
   "metadata": {
    "ExecuteTime": {
     "end_time": "2024-11-01T02:53:18.164958Z",
     "start_time": "2024-11-01T02:53:18.126478Z"
    }
   },
   "cell_type": "code",
   "source": [
    "all_pbp.reset_index(names=['season','old_index'], inplace=True)\n",
    "all_pbp.head()"
   ],
   "id": "aa3b1841a519b40d",
   "outputs": [
    {
     "data": {
      "text/plain": [
       "   season  old_index  play_id     game_id home_team away_team posteam  \\\n",
       "0    2009          0       37  2009080950       TEN       BUF     TEN   \n",
       "1    2009          1       59  2009080950       TEN       BUF     TEN   \n",
       "2    2009          2       83  2009080950       TEN       BUF     TEN   \n",
       "3    2009          3      104  2009080950       TEN       BUF     TEN   \n",
       "4    2009          4      128  2009080950       TEN       BUF     TEN   \n",
       "\n",
       "  posteam_type defteam side_of_field  ...  penalty_yards replay_or_challenge  \\\n",
       "0         home     BUF           BUF  ...            NaN                   0   \n",
       "1         home     BUF           TEN  ...            NaN                   0   \n",
       "2         home     BUF           TEN  ...            NaN                   0   \n",
       "3         home     BUF           TEN  ...            NaN                   0   \n",
       "4         home     BUF           TEN  ...            NaN                   0   \n",
       "\n",
       "   replay_or_challenge_result  penalty_type  defensive_two_point_attempt  \\\n",
       "0                         NaN           NaN                          0.0   \n",
       "1                         NaN           NaN                          0.0   \n",
       "2                         NaN           NaN                          0.0   \n",
       "3                         NaN           NaN                          0.0   \n",
       "4                         NaN           NaN                          0.0   \n",
       "\n",
       "  defensive_two_point_conv  defensive_extra_point_attempt  \\\n",
       "0                      0.0                            0.0   \n",
       "1                      0.0                            0.0   \n",
       "2                      0.0                            0.0   \n",
       "3                      0.0                            0.0   \n",
       "4                      0.0                            0.0   \n",
       "\n",
       "   defensive_extra_point_conv  season_type  Unnamed: 0  \n",
       "0                         0.0          pre         NaN  \n",
       "1                         0.0          pre         NaN  \n",
       "2                         0.0          pre         NaN  \n",
       "3                         0.0          pre         NaN  \n",
       "4                         0.0          pre         NaN  \n",
       "\n",
       "[5 rows x 260 columns]"
      ],
      "text/html": [
       "<div>\n",
       "<style scoped>\n",
       "    .dataframe tbody tr th:only-of-type {\n",
       "        vertical-align: middle;\n",
       "    }\n",
       "\n",
       "    .dataframe tbody tr th {\n",
       "        vertical-align: top;\n",
       "    }\n",
       "\n",
       "    .dataframe thead th {\n",
       "        text-align: right;\n",
       "    }\n",
       "</style>\n",
       "<table border=\"1\" class=\"dataframe\">\n",
       "  <thead>\n",
       "    <tr style=\"text-align: right;\">\n",
       "      <th></th>\n",
       "      <th>season</th>\n",
       "      <th>old_index</th>\n",
       "      <th>play_id</th>\n",
       "      <th>game_id</th>\n",
       "      <th>home_team</th>\n",
       "      <th>away_team</th>\n",
       "      <th>posteam</th>\n",
       "      <th>posteam_type</th>\n",
       "      <th>defteam</th>\n",
       "      <th>side_of_field</th>\n",
       "      <th>...</th>\n",
       "      <th>penalty_yards</th>\n",
       "      <th>replay_or_challenge</th>\n",
       "      <th>replay_or_challenge_result</th>\n",
       "      <th>penalty_type</th>\n",
       "      <th>defensive_two_point_attempt</th>\n",
       "      <th>defensive_two_point_conv</th>\n",
       "      <th>defensive_extra_point_attempt</th>\n",
       "      <th>defensive_extra_point_conv</th>\n",
       "      <th>season_type</th>\n",
       "      <th>Unnamed: 0</th>\n",
       "    </tr>\n",
       "  </thead>\n",
       "  <tbody>\n",
       "    <tr>\n",
       "      <th>0</th>\n",
       "      <td>2009</td>\n",
       "      <td>0</td>\n",
       "      <td>37</td>\n",
       "      <td>2009080950</td>\n",
       "      <td>TEN</td>\n",
       "      <td>BUF</td>\n",
       "      <td>TEN</td>\n",
       "      <td>home</td>\n",
       "      <td>BUF</td>\n",
       "      <td>BUF</td>\n",
       "      <td>...</td>\n",
       "      <td>NaN</td>\n",
       "      <td>0</td>\n",
       "      <td>NaN</td>\n",
       "      <td>NaN</td>\n",
       "      <td>0.0</td>\n",
       "      <td>0.0</td>\n",
       "      <td>0.0</td>\n",
       "      <td>0.0</td>\n",
       "      <td>pre</td>\n",
       "      <td>NaN</td>\n",
       "    </tr>\n",
       "    <tr>\n",
       "      <th>1</th>\n",
       "      <td>2009</td>\n",
       "      <td>1</td>\n",
       "      <td>59</td>\n",
       "      <td>2009080950</td>\n",
       "      <td>TEN</td>\n",
       "      <td>BUF</td>\n",
       "      <td>TEN</td>\n",
       "      <td>home</td>\n",
       "      <td>BUF</td>\n",
       "      <td>TEN</td>\n",
       "      <td>...</td>\n",
       "      <td>NaN</td>\n",
       "      <td>0</td>\n",
       "      <td>NaN</td>\n",
       "      <td>NaN</td>\n",
       "      <td>0.0</td>\n",
       "      <td>0.0</td>\n",
       "      <td>0.0</td>\n",
       "      <td>0.0</td>\n",
       "      <td>pre</td>\n",
       "      <td>NaN</td>\n",
       "    </tr>\n",
       "    <tr>\n",
       "      <th>2</th>\n",
       "      <td>2009</td>\n",
       "      <td>2</td>\n",
       "      <td>83</td>\n",
       "      <td>2009080950</td>\n",
       "      <td>TEN</td>\n",
       "      <td>BUF</td>\n",
       "      <td>TEN</td>\n",
       "      <td>home</td>\n",
       "      <td>BUF</td>\n",
       "      <td>TEN</td>\n",
       "      <td>...</td>\n",
       "      <td>NaN</td>\n",
       "      <td>0</td>\n",
       "      <td>NaN</td>\n",
       "      <td>NaN</td>\n",
       "      <td>0.0</td>\n",
       "      <td>0.0</td>\n",
       "      <td>0.0</td>\n",
       "      <td>0.0</td>\n",
       "      <td>pre</td>\n",
       "      <td>NaN</td>\n",
       "    </tr>\n",
       "    <tr>\n",
       "      <th>3</th>\n",
       "      <td>2009</td>\n",
       "      <td>3</td>\n",
       "      <td>104</td>\n",
       "      <td>2009080950</td>\n",
       "      <td>TEN</td>\n",
       "      <td>BUF</td>\n",
       "      <td>TEN</td>\n",
       "      <td>home</td>\n",
       "      <td>BUF</td>\n",
       "      <td>TEN</td>\n",
       "      <td>...</td>\n",
       "      <td>NaN</td>\n",
       "      <td>0</td>\n",
       "      <td>NaN</td>\n",
       "      <td>NaN</td>\n",
       "      <td>0.0</td>\n",
       "      <td>0.0</td>\n",
       "      <td>0.0</td>\n",
       "      <td>0.0</td>\n",
       "      <td>pre</td>\n",
       "      <td>NaN</td>\n",
       "    </tr>\n",
       "    <tr>\n",
       "      <th>4</th>\n",
       "      <td>2009</td>\n",
       "      <td>4</td>\n",
       "      <td>128</td>\n",
       "      <td>2009080950</td>\n",
       "      <td>TEN</td>\n",
       "      <td>BUF</td>\n",
       "      <td>TEN</td>\n",
       "      <td>home</td>\n",
       "      <td>BUF</td>\n",
       "      <td>TEN</td>\n",
       "      <td>...</td>\n",
       "      <td>NaN</td>\n",
       "      <td>0</td>\n",
       "      <td>NaN</td>\n",
       "      <td>NaN</td>\n",
       "      <td>0.0</td>\n",
       "      <td>0.0</td>\n",
       "      <td>0.0</td>\n",
       "      <td>0.0</td>\n",
       "      <td>pre</td>\n",
       "      <td>NaN</td>\n",
       "    </tr>\n",
       "  </tbody>\n",
       "</table>\n",
       "<p>5 rows × 260 columns</p>\n",
       "</div>"
      ]
     },
     "execution_count": 4,
     "metadata": {},
     "output_type": "execute_result"
    }
   ],
   "execution_count": 4
  },
  {
   "metadata": {
    "ExecuteTime": {
     "end_time": "2024-11-01T02:53:19.078166Z",
     "start_time": "2024-11-01T02:53:18.165958Z"
    }
   },
   "cell_type": "code",
   "source": [
    "# drop some columns we don't need\n",
    "all_pbp.drop(['Unnamed: 0', 'old_index'], axis=1, inplace=True)"
   ],
   "id": "41f762c1b33d918d",
   "outputs": [],
   "execution_count": 5
  },
  {
   "metadata": {
    "ExecuteTime": {
     "end_time": "2024-11-01T02:53:19.088168Z",
     "start_time": "2024-11-01T02:53:19.080166Z"
    }
   },
   "cell_type": "code",
   "source": [
    "def nanalysis(df: pd.DataFrame, show=False):\n",
    "    \"\"\"\n",
    "    formatted output of numeric features and the number of NaNs detected in\n",
    "    the dataframe for each feature. Useful for deciding how to handle NaNs\n",
    "    for different features. NaN analysis = NaNalysis\n",
    "    \"\"\"\n",
    "    # get numeric columns as a subset\n",
    "    df_numeric = df.select_dtypes(include='number')\n",
    "    # let's find the NaN values in the numeric columns\n",
    "    output = {}\n",
    "    features_left = 0   # track features remaining with NaNs\n",
    "    if show:\n",
    "        print(\"Feature   --->   NaNs\")\n",
    "    for f in df_numeric.columns.tolist():\n",
    "        nan_count = np.sum(np.isnan(df[f]))\n",
    "        if show and nan_count > 0:\n",
    "            print(f\"{f}   --->   {nan_count}\")\n",
    "            features_left += 1\n",
    "        output[f] = nan_count\n",
    "    if not features_left:\n",
    "        print(\"No NaNs remaining in numeric data! Well Done!\")\n",
    "    return output"
   ],
   "id": "cb411800f541bb0b",
   "outputs": [],
   "execution_count": 6
  },
  {
   "metadata": {
    "ExecuteTime": {
     "end_time": "2024-11-01T02:53:20.140940Z",
     "start_time": "2024-11-01T02:53:19.089168Z"
    }
   },
   "cell_type": "code",
   "source": "nan_results = nanalysis(all_pbp, show=True)",
   "id": "30106f29fa575ba7",
   "outputs": [
    {
     "name": "stdout",
     "output_type": "stream",
     "text": [
      "Feature   --->   NaNs\n",
      "yardline_100   --->   19473\n",
      "quarter_seconds_remaining   --->   205\n",
      "half_seconds_remaining   --->   205\n",
      "game_seconds_remaining   --->   205\n",
      "down   --->   96510\n",
      "goal_to_go   --->   18967\n",
      "yards_gained   --->   213\n",
      "qb_dropback   --->   19195\n",
      "air_yards   --->   394125\n",
      "yards_after_catch   --->   490292\n",
      "kick_distance   --->   573057\n",
      "timeout   --->   19195\n",
      "posteam_timeouts_remaining   --->   19218\n",
      "defteam_timeouts_remaining   --->   19218\n",
      "posteam_score   --->   22875\n",
      "defteam_score   --->   22875\n",
      "score_differential   --->   22875\n",
      "posteam_score_post   --->   19218\n",
      "defteam_score_post   --->   19218\n",
      "score_differential_post   --->   19218\n",
      "no_score_prob   --->   1084\n",
      "opp_fg_prob   --->   1084\n",
      "opp_safety_prob   --->   1084\n",
      "opp_td_prob   --->   1084\n",
      "fg_prob   --->   1084\n",
      "safety_prob   --->   1084\n",
      "td_prob   --->   1084\n",
      "ep   --->   20288\n",
      "epa   --->   23538\n",
      "air_epa   --->   396364\n",
      "yac_epa   --->   396864\n",
      "comp_air_epa   --->   19475\n",
      "comp_yac_epa   --->   19693\n",
      "wp   --->   23882\n",
      "def_wp   --->   23882\n",
      "home_wp   --->   20796\n",
      "away_wp   --->   20796\n",
      "wpa   --->   7669\n",
      "home_wp_post   --->   23666\n",
      "away_wp_post   --->   23666\n",
      "air_wpa   --->   396559\n",
      "yac_wpa   --->   396858\n",
      "comp_air_wpa   --->   19670\n",
      "comp_yac_wpa   --->   19797\n",
      "punt_blocked   --->   19195\n",
      "first_down_rush   --->   19195\n",
      "first_down_pass   --->   19195\n",
      "first_down_penalty   --->   19195\n",
      "third_down_converted   --->   19195\n",
      "third_down_failed   --->   19195\n",
      "fourth_down_converted   --->   19195\n",
      "fourth_down_failed   --->   19195\n",
      "incomplete_pass   --->   19195\n",
      "interception   --->   19195\n",
      "punt_inside_twenty   --->   19195\n",
      "punt_in_endzone   --->   19195\n",
      "punt_out_of_bounds   --->   19195\n",
      "punt_downed   --->   19195\n",
      "punt_fair_catch   --->   19195\n",
      "kickoff_inside_twenty   --->   19195\n",
      "kickoff_in_endzone   --->   19195\n",
      "kickoff_out_of_bounds   --->   19195\n",
      "kickoff_downed   --->   19195\n",
      "kickoff_fair_catch   --->   19195\n",
      "fumble_forced   --->   19195\n",
      "fumble_not_forced   --->   19195\n",
      "fumble_out_of_bounds   --->   19195\n",
      "solo_tackle   --->   19195\n",
      "safety   --->   19195\n",
      "penalty   --->   19195\n",
      "tackled_for_loss   --->   19195\n",
      "fumble_lost   --->   19195\n",
      "own_kickoff_recovery   --->   19195\n",
      "own_kickoff_recovery_td   --->   19195\n",
      "qb_hit   --->   19195\n",
      "rush_attempt   --->   19195\n",
      "pass_attempt   --->   19195\n",
      "sack   --->   19195\n",
      "touchdown   --->   19195\n",
      "pass_touchdown   --->   19195\n",
      "rush_touchdown   --->   19195\n",
      "return_touchdown   --->   19195\n",
      "extra_point_attempt   --->   19195\n",
      "two_point_attempt   --->   19195\n",
      "field_goal_attempt   --->   19195\n",
      "kickoff_attempt   --->   19195\n",
      "punt_attempt   --->   19195\n",
      "fumble   --->   19195\n",
      "complete_pass   --->   19195\n",
      "assist_tackle   --->   19195\n",
      "lateral_reception   --->   19195\n",
      "lateral_rush   --->   19195\n",
      "lateral_return   --->   19195\n",
      "lateral_recovery   --->   19195\n",
      "lateral_sack_player_id   --->   645303\n",
      "lateral_sack_player_name   --->   645303\n",
      "fumble_recovery_1_yards   --->   636444\n",
      "fumble_recovery_2_yards   --->   645233\n",
      "return_yards   --->   21\n",
      "penalty_yards   --->   596996\n",
      "defensive_two_point_attempt   --->   19195\n",
      "defensive_two_point_conv   --->   19195\n",
      "defensive_extra_point_attempt   --->   19195\n",
      "defensive_extra_point_conv   --->   19195\n"
     ]
    }
   ],
   "execution_count": 7
  },
  {
   "metadata": {
    "ExecuteTime": {
     "end_time": "2024-11-01T02:53:21.380998Z",
     "start_time": "2024-11-01T02:53:20.142450Z"
    }
   },
   "cell_type": "code",
   "source": [
    "# For some reason, these two rows are read in as numeric data, though they shouldn't be\n",
    "# let's drop them. They are mostly NaNs anyway\n",
    "all_pbp = all_pbp.drop(columns=['lateral_sack_player_id','lateral_sack_player_name'])"
   ],
   "id": "f6ea291846961ff2",
   "outputs": [],
   "execution_count": 8
  },
  {
   "metadata": {
    "ExecuteTime": {
     "end_time": "2024-11-01T02:53:21.387994Z",
     "start_time": "2024-11-01T02:53:21.382995Z"
    }
   },
   "cell_type": "code",
   "source": [
    "# Let's start with the rows with the most NaNs\n",
    "big_NAN = ['air_yards', 'yards_after_catch', 'kick_distance', \n",
    "           'air_epa', 'yac_epa', 'air_wpa', 'yac_wpa', 'penalty_yards',\n",
    "           'fumble_recovery_1_yards', 'fumble_recovery_2_yards']\n",
    "for feature in big_NAN:\n",
    "    print(feature, \" --> \", nan_results[feature])"
   ],
   "id": "d696d22b63687916",
   "outputs": [
    {
     "name": "stdout",
     "output_type": "stream",
     "text": [
      "air_yards  -->  394125\n",
      "yards_after_catch  -->  490292\n",
      "kick_distance  -->  573057\n",
      "air_epa  -->  396364\n",
      "yac_epa  -->  396864\n",
      "air_wpa  -->  396559\n",
      "yac_wpa  -->  396858\n",
      "penalty_yards  -->  596996\n",
      "fumble_recovery_1_yards  -->  636444\n",
      "fumble_recovery_2_yards  -->  645233\n"
     ]
    }
   ],
   "execution_count": 9
  },
  {
   "metadata": {
    "ExecuteTime": {
     "end_time": "2024-11-01T02:53:21.459708Z",
     "start_time": "2024-11-01T02:53:21.389350Z"
    }
   },
   "cell_type": "code",
   "source": [
    "# For the sake of our machine learning model, we can probably do this\n",
    "for feature in big_NAN:\n",
    "    all_pbp[feature] = all_pbp[feature].fillna(value=0)"
   ],
   "id": "8ceeae8e3f05321",
   "outputs": [],
   "execution_count": 10
  },
  {
   "metadata": {
    "ExecuteTime": {
     "end_time": "2024-11-01T02:53:22.431239Z",
     "start_time": "2024-11-01T02:53:21.461704Z"
    }
   },
   "cell_type": "code",
   "source": "nan_results = nanalysis(all_pbp, show=True)",
   "id": "6170d6831cd329ed",
   "outputs": [
    {
     "name": "stdout",
     "output_type": "stream",
     "text": [
      "Feature   --->   NaNs\n",
      "yardline_100   --->   19473\n",
      "quarter_seconds_remaining   --->   205\n",
      "half_seconds_remaining   --->   205\n",
      "game_seconds_remaining   --->   205\n",
      "down   --->   96510\n",
      "goal_to_go   --->   18967\n",
      "yards_gained   --->   213\n",
      "qb_dropback   --->   19195\n",
      "timeout   --->   19195\n",
      "posteam_timeouts_remaining   --->   19218\n",
      "defteam_timeouts_remaining   --->   19218\n",
      "posteam_score   --->   22875\n",
      "defteam_score   --->   22875\n",
      "score_differential   --->   22875\n",
      "posteam_score_post   --->   19218\n",
      "defteam_score_post   --->   19218\n",
      "score_differential_post   --->   19218\n",
      "no_score_prob   --->   1084\n",
      "opp_fg_prob   --->   1084\n",
      "opp_safety_prob   --->   1084\n",
      "opp_td_prob   --->   1084\n",
      "fg_prob   --->   1084\n",
      "safety_prob   --->   1084\n",
      "td_prob   --->   1084\n",
      "ep   --->   20288\n",
      "epa   --->   23538\n",
      "comp_air_epa   --->   19475\n",
      "comp_yac_epa   --->   19693\n",
      "wp   --->   23882\n",
      "def_wp   --->   23882\n",
      "home_wp   --->   20796\n",
      "away_wp   --->   20796\n",
      "wpa   --->   7669\n",
      "home_wp_post   --->   23666\n",
      "away_wp_post   --->   23666\n",
      "comp_air_wpa   --->   19670\n",
      "comp_yac_wpa   --->   19797\n",
      "punt_blocked   --->   19195\n",
      "first_down_rush   --->   19195\n",
      "first_down_pass   --->   19195\n",
      "first_down_penalty   --->   19195\n",
      "third_down_converted   --->   19195\n",
      "third_down_failed   --->   19195\n",
      "fourth_down_converted   --->   19195\n",
      "fourth_down_failed   --->   19195\n",
      "incomplete_pass   --->   19195\n",
      "interception   --->   19195\n",
      "punt_inside_twenty   --->   19195\n",
      "punt_in_endzone   --->   19195\n",
      "punt_out_of_bounds   --->   19195\n",
      "punt_downed   --->   19195\n",
      "punt_fair_catch   --->   19195\n",
      "kickoff_inside_twenty   --->   19195\n",
      "kickoff_in_endzone   --->   19195\n",
      "kickoff_out_of_bounds   --->   19195\n",
      "kickoff_downed   --->   19195\n",
      "kickoff_fair_catch   --->   19195\n",
      "fumble_forced   --->   19195\n",
      "fumble_not_forced   --->   19195\n",
      "fumble_out_of_bounds   --->   19195\n",
      "solo_tackle   --->   19195\n",
      "safety   --->   19195\n",
      "penalty   --->   19195\n",
      "tackled_for_loss   --->   19195\n",
      "fumble_lost   --->   19195\n",
      "own_kickoff_recovery   --->   19195\n",
      "own_kickoff_recovery_td   --->   19195\n",
      "qb_hit   --->   19195\n",
      "rush_attempt   --->   19195\n",
      "pass_attempt   --->   19195\n",
      "sack   --->   19195\n",
      "touchdown   --->   19195\n",
      "pass_touchdown   --->   19195\n",
      "rush_touchdown   --->   19195\n",
      "return_touchdown   --->   19195\n",
      "extra_point_attempt   --->   19195\n",
      "two_point_attempt   --->   19195\n",
      "field_goal_attempt   --->   19195\n",
      "kickoff_attempt   --->   19195\n",
      "punt_attempt   --->   19195\n",
      "fumble   --->   19195\n",
      "complete_pass   --->   19195\n",
      "assist_tackle   --->   19195\n",
      "lateral_reception   --->   19195\n",
      "lateral_rush   --->   19195\n",
      "lateral_return   --->   19195\n",
      "lateral_recovery   --->   19195\n",
      "return_yards   --->   21\n",
      "defensive_two_point_attempt   --->   19195\n",
      "defensive_two_point_conv   --->   19195\n",
      "defensive_extra_point_attempt   --->   19195\n",
      "defensive_extra_point_conv   --->   19195\n"
     ]
    }
   ],
   "execution_count": 11
  },
  {
   "metadata": {
    "ExecuteTime": {
     "end_time": "2024-11-01T02:53:22.470726Z",
     "start_time": "2024-11-01T02:53:22.433190Z"
    }
   },
   "cell_type": "code",
   "source": [
    "# Let's look at what's going on with NaNs in the \"yardline_100\" column\n",
    "count = 0\n",
    "for row in all_pbp.itertuples():\n",
    "    if np.isnan(row.yardline_100):\n",
    "        count += 1\n",
    "        print(row.desc)\n",
    "    if count > 25:\n",
    "        break"
   ],
   "id": "ae1124aa7ca1ca0f",
   "outputs": [
    {
     "name": "stdout",
     "output_type": "stream",
     "text": [
      "Timeout #1 by TEN at 01:12.\n",
      "Timeout #1 by BUF at 00:17.\n",
      "Timeout #2 by BUF at 00:10.\n",
      "Timeout #1 by BUF at 07:17.\n",
      "END QUARTER 3\n",
      "Two-Minute Warning\n",
      "END QUARTER 3\n",
      "(13:12) (Shotgun) A.Walter pass incomplete to S.Morris (J.Babin). Penalty on PHI-M.Fokou, Illegal Use of Hands, offsetting, enforced at PHI 35 - No Play.\n",
      "Two-Minute Warning\n",
      "END GAME\n",
      "Timeout #1 by BAL at 07:48.\n",
      "Timeout #1 by WAS at 06:23.\n",
      "Timeout #2 by BAL at 11:27.\n",
      "Timeout #3 by BAL at 00:59.\n",
      "Timeout #1 by WAS at 13:31.\n",
      "Two-Minute Warning\n",
      "Timeout #1 by ARI at 13:24.\n",
      "Timeout #2 by ARI at 02:42.\n",
      "Timeout #3 by ARI at 00:53.\n",
      "Timeout #1 by PIT at 10:20.\n",
      "Two-Minute Warning\n",
      "END GAME\n",
      "Timeout #1 by DAL at 12:26.\n",
      "END QUARTER 1\n",
      "Two-Minute Warning\n",
      "END QUARTER 2\n"
     ]
    }
   ],
   "execution_count": 12
  },
  {
   "metadata": {
    "ExecuteTime": {
     "end_time": "2024-11-01T02:53:23.751324Z",
     "start_time": "2024-11-01T02:53:22.471240Z"
    }
   },
   "cell_type": "code",
   "source": [
    "# They seem to be almost all Non-play rows, so we can probably safely drop them\n",
    "all_pbp = all_pbp.dropna(subset='yardline_100')"
   ],
   "id": "23d6b188b7e4dd31",
   "outputs": [],
   "execution_count": 13
  },
  {
   "metadata": {
    "ExecuteTime": {
     "end_time": "2024-11-01T02:53:24.567017Z",
     "start_time": "2024-11-01T02:53:23.751847Z"
    }
   },
   "cell_type": "code",
   "source": "nan_results = nanalysis(all_pbp, show=True)",
   "id": "603bdb8fcf7c5c82",
   "outputs": [
    {
     "name": "stdout",
     "output_type": "stream",
     "text": [
      "Feature   --->   NaNs\n",
      "quarter_seconds_remaining   --->   6\n",
      "half_seconds_remaining   --->   6\n",
      "game_seconds_remaining   --->   6\n",
      "down   --->   77786\n",
      "yards_gained   --->   213\n",
      "qb_dropback   --->   251\n",
      "timeout   --->   251\n",
      "posteam_timeouts_remaining   --->   251\n",
      "defteam_timeouts_remaining   --->   251\n",
      "posteam_score   --->   3908\n",
      "defteam_score   --->   3908\n",
      "score_differential   --->   3908\n",
      "posteam_score_post   --->   251\n",
      "defteam_score_post   --->   251\n",
      "score_differential_post   --->   251\n",
      "no_score_prob   --->   1084\n",
      "opp_fg_prob   --->   1084\n",
      "opp_safety_prob   --->   1084\n",
      "opp_td_prob   --->   1084\n",
      "fg_prob   --->   1084\n",
      "safety_prob   --->   1084\n",
      "td_prob   --->   1084\n",
      "ep   --->   1343\n",
      "epa   --->   4594\n",
      "comp_air_epa   --->   531\n",
      "comp_yac_epa   --->   749\n",
      "wp   --->   4970\n",
      "def_wp   --->   4970\n",
      "home_wp   --->   4920\n",
      "away_wp   --->   4920\n",
      "wpa   --->   7580\n",
      "home_wp_post   --->   7790\n",
      "away_wp_post   --->   7790\n",
      "comp_air_wpa   --->   726\n",
      "comp_yac_wpa   --->   853\n",
      "punt_blocked   --->   251\n",
      "first_down_rush   --->   251\n",
      "first_down_pass   --->   251\n",
      "first_down_penalty   --->   251\n",
      "third_down_converted   --->   251\n",
      "third_down_failed   --->   251\n",
      "fourth_down_converted   --->   251\n",
      "fourth_down_failed   --->   251\n",
      "incomplete_pass   --->   251\n",
      "interception   --->   251\n",
      "punt_inside_twenty   --->   251\n",
      "punt_in_endzone   --->   251\n",
      "punt_out_of_bounds   --->   251\n",
      "punt_downed   --->   251\n",
      "punt_fair_catch   --->   251\n",
      "kickoff_inside_twenty   --->   251\n",
      "kickoff_in_endzone   --->   251\n",
      "kickoff_out_of_bounds   --->   251\n",
      "kickoff_downed   --->   251\n",
      "kickoff_fair_catch   --->   251\n",
      "fumble_forced   --->   251\n",
      "fumble_not_forced   --->   251\n",
      "fumble_out_of_bounds   --->   251\n",
      "solo_tackle   --->   251\n",
      "safety   --->   251\n",
      "penalty   --->   251\n",
      "tackled_for_loss   --->   251\n",
      "fumble_lost   --->   251\n",
      "own_kickoff_recovery   --->   251\n",
      "own_kickoff_recovery_td   --->   251\n",
      "qb_hit   --->   251\n",
      "rush_attempt   --->   251\n",
      "pass_attempt   --->   251\n",
      "sack   --->   251\n",
      "touchdown   --->   251\n",
      "pass_touchdown   --->   251\n",
      "rush_touchdown   --->   251\n",
      "return_touchdown   --->   251\n",
      "extra_point_attempt   --->   251\n",
      "two_point_attempt   --->   251\n",
      "field_goal_attempt   --->   251\n",
      "kickoff_attempt   --->   251\n",
      "punt_attempt   --->   251\n",
      "fumble   --->   251\n",
      "complete_pass   --->   251\n",
      "assist_tackle   --->   251\n",
      "lateral_reception   --->   251\n",
      "lateral_rush   --->   251\n",
      "lateral_return   --->   251\n",
      "lateral_recovery   --->   251\n",
      "return_yards   --->   21\n",
      "defensive_two_point_attempt   --->   251\n",
      "defensive_two_point_conv   --->   251\n",
      "defensive_extra_point_attempt   --->   251\n",
      "defensive_extra_point_conv   --->   251\n"
     ]
    }
   ],
   "execution_count": 14
  },
  {
   "metadata": {
    "ExecuteTime": {
     "end_time": "2024-11-01T02:53:25.999770Z",
     "start_time": "2024-11-01T02:53:24.568010Z"
    }
   },
   "cell_type": "code",
   "source": [
    "# What about all the columns with 248 NaNs left?\n",
    "count = 0\n",
    "for row in all_pbp.itertuples():\n",
    "    if np.isnan(row.timeout):\n",
    "        count += 1\n",
    "        print(row.desc)\n",
    "    if count > 25:\n",
    "        break"
   ],
   "id": "ab51cfcde078bd1f",
   "outputs": [
    {
     "name": "stdout",
     "output_type": "stream",
     "text": [
      "END QUARTER 3\n",
      "Two-Minute Warning\n",
      "END QUARTER 3\n",
      "END QUARTER 3\n",
      "Two-Minute Warning\n",
      "END GAME\n",
      "Two-Minute Warning\n",
      "END QUARTER 1\n",
      "END QUARTER 3\n",
      "END GAME\n",
      "Two-Minute Warning\n",
      "END QUARTER 1\n",
      "END GAME\n",
      "END QUARTER 1\n",
      "Two-Minute Warning\n",
      "Two-Minute Warning\n",
      "END GAME\n",
      "END GAME\n",
      "Two-Minute Warning\n",
      "END GAME\n",
      "END GAME\n",
      "The game has been suspended. Clock time was 742pm\n",
      "Two-Minute Warning\n",
      "Two-Minute Warning\n",
      "END GAME\n",
      "END QUARTER 3\n"
     ]
    }
   ],
   "execution_count": 15
  },
  {
   "metadata": {
    "ExecuteTime": {
     "end_time": "2024-11-01T02:53:27.144989Z",
     "start_time": "2024-11-01T02:53:26.000766Z"
    }
   },
   "cell_type": "code",
   "source": [
    "# They are all NONPLAYS, so remove these rows\n",
    "all_pbp = all_pbp.dropna(subset='timeout')"
   ],
   "id": "3be9c5902bbfab80",
   "outputs": [],
   "execution_count": 16
  },
  {
   "metadata": {
    "ExecuteTime": {
     "end_time": "2024-11-01T02:53:28.007740Z",
     "start_time": "2024-11-01T02:53:27.146042Z"
    }
   },
   "cell_type": "code",
   "source": "nan_results = nanalysis(all_pbp, show=True)",
   "id": "68fd9a7e2fca9dad",
   "outputs": [
    {
     "name": "stdout",
     "output_type": "stream",
     "text": [
      "Feature   --->   NaNs\n",
      "quarter_seconds_remaining   --->   3\n",
      "half_seconds_remaining   --->   3\n",
      "game_seconds_remaining   --->   3\n",
      "down   --->   77545\n",
      "yards_gained   --->   213\n",
      "posteam_score   --->   3657\n",
      "defteam_score   --->   3657\n",
      "score_differential   --->   3657\n",
      "no_score_prob   --->   1084\n",
      "opp_fg_prob   --->   1084\n",
      "opp_safety_prob   --->   1084\n",
      "opp_td_prob   --->   1084\n",
      "fg_prob   --->   1084\n",
      "safety_prob   --->   1084\n",
      "td_prob   --->   1084\n",
      "ep   --->   1092\n",
      "epa   --->   4343\n",
      "comp_air_epa   --->   280\n",
      "comp_yac_epa   --->   498\n",
      "wp   --->   4720\n",
      "def_wp   --->   4720\n",
      "home_wp   --->   4720\n",
      "away_wp   --->   4720\n",
      "wpa   --->   7579\n",
      "home_wp_post   --->   7590\n",
      "away_wp_post   --->   7590\n",
      "comp_air_wpa   --->   475\n",
      "comp_yac_wpa   --->   602\n",
      "return_yards   --->   21\n"
     ]
    }
   ],
   "execution_count": 17
  },
  {
   "metadata": {
    "ExecuteTime": {
     "end_time": "2024-11-01T02:53:28.030096Z",
     "start_time": "2024-11-01T02:53:28.008254Z"
    }
   },
   "cell_type": "code",
   "source": [
    "# Okay, what's going on with NaNs in 'down'?\n",
    "count = 0\n",
    "for row in all_pbp.itertuples():\n",
    "    if np.isnan(row.down):\n",
    "        count += 1\n",
    "        print(row.desc)\n",
    "    if count > 25:\n",
    "        break"
   ],
   "id": "86882cb882ca10db",
   "outputs": [
    {
     "name": "stdout",
     "output_type": "stream",
     "text": [
      "R.Lindell kicks 68 yards from BUF 30 to TEN 2. R.Mouton to TEN 26 for 24 yards (D.Fine).\n",
      "R.Bironas extra point is GOOD, Center-K.Amato, Holder-A.Trapasso.\n",
      "R.Bironas kicks 66 yards from TEN 30 to BUF 4. B.Hall to BUF 23 for 19 yards (C.Cramer).\n",
      "R.Bironas extra point is GOOD, Center-K.Amato, Holder-A.Trapasso.\n",
      "R.Bironas kicks 70 yards from TEN 30 to BUF 0. B.Hall to BUF 18 for 18 yards (C.Allred). PENALTY on BUF-D.Fine, Illegal Block Above the Waist, 9 yards, enforced at BUF 18.\n",
      "R.Lindell kicks 66 yards from BUF 30 to TEN 4. R.Mouton to TEN 28 for 24 yards (J.Wendling). PENALTY on TEN-M.Otto, Offensive Holding, 10 yards, enforced at TEN 22.\n",
      "R.Bironas extra point is GOOD, Center-K.Amato, Holder-A.Trapasso.\n",
      "A.Trapasso kicks 63 yards from TEN 30 to BUF 7. B.Hall to BUF 37 for 30 yards (A.Trapasso).\n",
      "A.Trapasso kicks 64 yards from TEN 30 to BUF 6. C.Hawthorne to BUF 24 for 18 yards (J.Ringer).\n",
      "R.Lindell kicks 64 yards from BUF 30 to TEN 6. J.McCourty to TEN 14 for 8 yards (A.Palmer).\n",
      "R.Lindell kicks 63 yards from BUF 30 to TEN 7. J.McCourty to TEN 28 for 21 yards (P.Thomas).\n",
      "Timeout #2 by BUF at 02:24.\n",
      "Timeout #3 by BUF at 01:40.\n",
      "Timeout #1 by TEN at 00:08.\n",
      "S.Gostkowski kicks 67 yards from NE 30 to PHI 3. J.Maclin to PHI 27 for 24 yards (J.Edelman).\n",
      "S.Gostkowski extra point is GOOD, Center-J.Ingram, Holder-C.Hanson.\n",
      "S.Gostkowski kicks 70 yards from NE 30 to end zone, Touchback.\n",
      "D.Akers kicks 66 yards from PHI 30 to NE 4. M.Slater to NE 30 for 26 yards (C.Gocong).\n",
      "S.Gostkowski kicks 67 yards from NE 30 to PHI 3. J.Maclin to PHI 25 for 22 yards (T.Wheatley). PENALTY on PHI-V.Harris, Offensive Holding, 10 yards, enforced at PHI 24.\n",
      "D.Akers kicks 69 yards from PHI 30 to NE 1. J.Edelman to NE 25 for 24 yards (K.Eckel).\n",
      "S.Gostkowski extra point is GOOD, Center-J.Ingram, Holder-C.Hanson.\n",
      "S.Gostkowski kicks 65 yards from NE 30 to PHI 5. J.Maclin to PHI 29 for 24 yards (B.McGowan).\n",
      "D.Akers kicks 71 yards from PHI 30 to NE -1. M.Slater to NE 20 for 21 yards (E.Buckley).\n",
      "S.Gostkowski kicks 70 yards from NE 30 to PHI 0. J.Maclin to PHI 31 for 31 yards (M.Richardson).\n",
      "D.Akers kicks 74 yards from PHI 30 to NE -4. T.Nunn to NE 18 for 22 yards (T.Williams).\n",
      "D.Akers extra point is GOOD, Center-J.Dorenbos, Holder-S.Rocca.\n"
     ]
    }
   ],
   "execution_count": 18
  },
  {
   "metadata": {
    "ExecuteTime": {
     "end_time": "2024-11-01T02:53:28.043131Z",
     "start_time": "2024-11-01T02:53:28.031092Z"
    }
   },
   "cell_type": "code",
   "source": [
    "# They're all kicks. Let's fill these as \"zeroth down\"\n",
    "all_pbp.loc[:,'down'] = all_pbp['down'].fillna(value=0)"
   ],
   "id": "791ecdcfe2b53468",
   "outputs": [],
   "execution_count": 19
  },
  {
   "metadata": {
    "ExecuteTime": {
     "end_time": "2024-11-01T02:53:28.848069Z",
     "start_time": "2024-11-01T02:53:28.044127Z"
    }
   },
   "cell_type": "code",
   "source": "nan_results = nanalysis(all_pbp, show=True)",
   "id": "416a3f19841946c",
   "outputs": [
    {
     "name": "stdout",
     "output_type": "stream",
     "text": [
      "Feature   --->   NaNs\n",
      "quarter_seconds_remaining   --->   3\n",
      "half_seconds_remaining   --->   3\n",
      "game_seconds_remaining   --->   3\n",
      "yards_gained   --->   213\n",
      "posteam_score   --->   3657\n",
      "defteam_score   --->   3657\n",
      "score_differential   --->   3657\n",
      "no_score_prob   --->   1084\n",
      "opp_fg_prob   --->   1084\n",
      "opp_safety_prob   --->   1084\n",
      "opp_td_prob   --->   1084\n",
      "fg_prob   --->   1084\n",
      "safety_prob   --->   1084\n",
      "td_prob   --->   1084\n",
      "ep   --->   1092\n",
      "epa   --->   4343\n",
      "comp_air_epa   --->   280\n",
      "comp_yac_epa   --->   498\n",
      "wp   --->   4720\n",
      "def_wp   --->   4720\n",
      "home_wp   --->   4720\n",
      "away_wp   --->   4720\n",
      "wpa   --->   7579\n",
      "home_wp_post   --->   7590\n",
      "away_wp_post   --->   7590\n",
      "comp_air_wpa   --->   475\n",
      "comp_yac_wpa   --->   602\n",
      "return_yards   --->   21\n"
     ]
    }
   ],
   "execution_count": 20
  },
  {
   "metadata": {
    "ExecuteTime": {
     "end_time": "2024-11-01T02:53:30.459467Z",
     "start_time": "2024-11-01T02:53:28.849062Z"
    }
   },
   "cell_type": "code",
   "source": [
    "# For the remaining NaNs, the best bet is probably just to drop everything\n",
    "# This shouldn't hurt our data too much\n",
    "pre_length = len(all_pbp)\n",
    "all_pbp = all_pbp.dropna(subset=nan_results.keys())\n",
    "print('Rows Dropped:', len(all_pbp) - pre_length)\n",
    "print('Remaining Plays:', len(all_pbp))"
   ],
   "id": "a2625df8017e27ef",
   "outputs": [
    {
     "name": "stdout",
     "output_type": "stream",
     "text": [
      "Rows Dropped: -11082\n",
      "Remaining Plays: 614497\n"
     ]
    }
   ],
   "execution_count": 21
  },
  {
   "metadata": {
    "ExecuteTime": {
     "end_time": "2024-11-01T02:53:30.464356Z",
     "start_time": "2024-11-01T02:53:30.460459Z"
    }
   },
   "cell_type": "code",
   "source": [
    "final_shape = all_pbp.shape\n",
    "print(initial_shape, \" --> \", final_shape)"
   ],
   "id": "f581366627530e60",
   "outputs": [
    {
     "name": "stdout",
     "output_type": "stream",
     "text": [
      "(645303, 258)  -->  (614497, 256)\n"
     ]
    }
   ],
   "execution_count": 22
  },
  {
   "metadata": {
    "ExecuteTime": {
     "end_time": "2024-11-01T02:53:31.360555Z",
     "start_time": "2024-11-01T02:53:30.466352Z"
    }
   },
   "cell_type": "code",
   "source": "nan_results = nanalysis(all_pbp, show=True)",
   "id": "fa25c2ae09a33e08",
   "outputs": [
    {
     "name": "stdout",
     "output_type": "stream",
     "text": [
      "Feature   --->   NaNs\n",
      "No NaNs remaining in numeric data! Well Done!\n"
     ]
    }
   ],
   "execution_count": 23
  },
  {
   "metadata": {
    "ExecuteTime": {
     "end_time": "2024-11-01T02:54:54.792236Z",
     "start_time": "2024-11-01T02:53:31.361556Z"
    }
   },
   "cell_type": "code",
   "source": [
    "# Send back to csv files\n",
    "for year in years:\n",
    "    print(\"Saving data for\", year)\n",
    "    # filter df for each year\n",
    "    year_df = all_pbp[all_pbp['season'] == year]\n",
    "    # filter each year df for pre/reg/post\n",
    "    pre_df = year_df[year_df['season_type'] == \"pre\"]\n",
    "    pst_df = year_df[year_df['season_type'] == \"post\"]\n",
    "    reg_df = year_df[year_df['season_type'] == \"reg\"]\n",
    "    # send to files\n",
    "    pre_df.to_csv(f\"../cleaned_data/pbp_data/pre_season/pre_pbp_{year}.csv\")\n",
    "    pst_df.to_csv(f\"../cleaned_data/pbp_data/post_season/post_pbp_{year}.csv\")\n",
    "    reg_df.to_csv(f\"../cleaned_data/pbp_data/regular_season/reg_pbp_{year}.csv\")"
   ],
   "id": "47b12985f0219955",
   "outputs": [
    {
     "name": "stdout",
     "output_type": "stream",
     "text": [
      "Saving data for 2009\n",
      "Saving data for 2010\n",
      "Saving data for 2011\n",
      "Saving data for 2012\n",
      "Saving data for 2013\n",
      "Saving data for 2014\n",
      "Saving data for 2015\n",
      "Saving data for 2016\n",
      "Saving data for 2017\n",
      "Saving data for 2018\n",
      "Saving data for 2019\n"
     ]
    }
   ],
   "execution_count": 24
  }
 ],
 "metadata": {
  "kernelspec": {
   "display_name": "Python 3",
   "language": "python",
   "name": "python3"
  },
  "language_info": {
   "codemirror_mode": {
    "name": "ipython",
    "version": 2
   },
   "file_extension": ".py",
   "mimetype": "text/x-python",
   "name": "python",
   "nbconvert_exporter": "python",
   "pygments_lexer": "ipython2",
   "version": "2.7.6"
  }
 },
 "nbformat": 4,
 "nbformat_minor": 5
}
